{
 "cells": [
  {
   "cell_type": "markdown",
   "id": "4cfcf810",
   "metadata": {},
   "source": [
    "# Titanic Dataset "
   ]
  },
  {
   "cell_type": "code",
   "execution_count": 284,
   "id": "c7623045",
   "metadata": {},
   "outputs": [],
   "source": [
    "import pandas as pd\n",
    "import numpy as np\n",
    "import matplotlib.pyplot as plt\n",
    "import seaborn as sns\n",
    "import re\n",
    "from sklearn.model_selection import train_test_split\n",
    "from sklearn.preprocessing import MinMaxScaler, LabelEncoder\n",
    "from sklearn.model_selection import GridSearchCV\n",
    "from imblearn.over_sampling import SMOTE, RandomOverSampler\n",
    "from sklearn.linear_model import LogisticRegression\n",
    "from sklearn.svm import SVC\n",
    "from sklearn.neighbors import KNeighborsClassifier\n",
    "from sklearn.naive_bayes import GaussianNB\n",
    "from sklearn.tree import DecisionTreeClassifier\n",
    "from sklearn.ensemble import RandomForestClassifier, GradientBoostingClassifier\n",
    "from xgboost import XGBClassifier\n",
    "from tensorflow.keras import Sequential\n",
    "from tensorflow.keras.layers import Dense, Dropout, Input\n",
    "from sklearn.model_selection import cross_val_score\n",
    "from sklearn.metrics import confusion_matrix, ConfusionMatrixDisplay, classification_report"
   ]
  },
  {
   "cell_type": "markdown",
   "id": "3aeb80d2",
   "metadata": {},
   "source": [
    "Loading datasets:"
   ]
  },
  {
   "cell_type": "code",
   "execution_count": 2,
   "id": "2564e26a",
   "metadata": {},
   "outputs": [],
   "source": [
    "train = pd.read_csv('train.csv')\n",
    "test = pd.read_csv('test.csv')\n",
    "sample = pd.read_csv('gender_submission.csv')"
   ]
  },
  {
   "cell_type": "markdown",
   "id": "a46ebcd6",
   "metadata": {},
   "source": [
    "Briefly looking at sample"
   ]
  },
  {
   "cell_type": "code",
   "execution_count": 3,
   "id": "cfcf9355",
   "metadata": {},
   "outputs": [
    {
     "name": "stdout",
     "output_type": "stream",
     "text": [
      "<class 'pandas.core.frame.DataFrame'>\n",
      "RangeIndex: 418 entries, 0 to 417\n",
      "Data columns (total 2 columns):\n",
      " #   Column       Non-Null Count  Dtype\n",
      "---  ------       --------------  -----\n",
      " 0   PassengerId  418 non-null    int64\n",
      " 1   Survived     418 non-null    int64\n",
      "dtypes: int64(2)\n",
      "memory usage: 6.7 KB\n"
     ]
    }
   ],
   "source": [
    "sample.info()"
   ]
  },
  {
   "cell_type": "code",
   "execution_count": 4,
   "id": "7eeb9875",
   "metadata": {},
   "outputs": [
    {
     "data": {
      "text/html": [
       "<div>\n",
       "<style scoped>\n",
       "    .dataframe tbody tr th:only-of-type {\n",
       "        vertical-align: middle;\n",
       "    }\n",
       "\n",
       "    .dataframe tbody tr th {\n",
       "        vertical-align: top;\n",
       "    }\n",
       "\n",
       "    .dataframe thead th {\n",
       "        text-align: right;\n",
       "    }\n",
       "</style>\n",
       "<table border=\"1\" class=\"dataframe\">\n",
       "  <thead>\n",
       "    <tr style=\"text-align: right;\">\n",
       "      <th></th>\n",
       "      <th>PassengerId</th>\n",
       "      <th>Survived</th>\n",
       "    </tr>\n",
       "  </thead>\n",
       "  <tbody>\n",
       "    <tr>\n",
       "      <th>0</th>\n",
       "      <td>892</td>\n",
       "      <td>0</td>\n",
       "    </tr>\n",
       "    <tr>\n",
       "      <th>1</th>\n",
       "      <td>893</td>\n",
       "      <td>1</td>\n",
       "    </tr>\n",
       "    <tr>\n",
       "      <th>2</th>\n",
       "      <td>894</td>\n",
       "      <td>0</td>\n",
       "    </tr>\n",
       "    <tr>\n",
       "      <th>3</th>\n",
       "      <td>895</td>\n",
       "      <td>0</td>\n",
       "    </tr>\n",
       "    <tr>\n",
       "      <th>4</th>\n",
       "      <td>896</td>\n",
       "      <td>1</td>\n",
       "    </tr>\n",
       "  </tbody>\n",
       "</table>\n",
       "</div>"
      ],
      "text/plain": [
       "   PassengerId  Survived\n",
       "0          892         0\n",
       "1          893         1\n",
       "2          894         0\n",
       "3          895         0\n",
       "4          896         1"
      ]
     },
     "execution_count": 4,
     "metadata": {},
     "output_type": "execute_result"
    }
   ],
   "source": [
    "sample.head()"
   ]
  },
  {
   "cell_type": "code",
   "execution_count": 5,
   "id": "135d0cc1",
   "metadata": {},
   "outputs": [],
   "source": [
    "del sample"
   ]
  },
  {
   "cell_type": "markdown",
   "id": "81b44702",
   "metadata": {},
   "source": [
    "Briefly looking at train:"
   ]
  },
  {
   "cell_type": "code",
   "execution_count": 6,
   "id": "34f3e6a8",
   "metadata": {},
   "outputs": [
    {
     "data": {
      "text/plain": [
       "(891, 12)"
      ]
     },
     "execution_count": 6,
     "metadata": {},
     "output_type": "execute_result"
    }
   ],
   "source": [
    "train.shape"
   ]
  },
  {
   "cell_type": "code",
   "execution_count": 7,
   "id": "04d2797a",
   "metadata": {},
   "outputs": [
    {
     "name": "stdout",
     "output_type": "stream",
     "text": [
      "<class 'pandas.core.frame.DataFrame'>\n",
      "RangeIndex: 891 entries, 0 to 890\n",
      "Data columns (total 12 columns):\n",
      " #   Column       Non-Null Count  Dtype  \n",
      "---  ------       --------------  -----  \n",
      " 0   PassengerId  891 non-null    int64  \n",
      " 1   Survived     891 non-null    int64  \n",
      " 2   Pclass       891 non-null    int64  \n",
      " 3   Name         891 non-null    object \n",
      " 4   Sex          891 non-null    object \n",
      " 5   Age          714 non-null    float64\n",
      " 6   SibSp        891 non-null    int64  \n",
      " 7   Parch        891 non-null    int64  \n",
      " 8   Ticket       891 non-null    object \n",
      " 9   Fare         891 non-null    float64\n",
      " 10  Cabin        204 non-null    object \n",
      " 11  Embarked     889 non-null    object \n",
      "dtypes: float64(2), int64(5), object(5)\n",
      "memory usage: 83.7+ KB\n"
     ]
    }
   ],
   "source": [
    "train.info()"
   ]
  },
  {
   "cell_type": "markdown",
   "id": "890f1f30",
   "metadata": {},
   "source": [
    "train dataset has 5 int type data columns, 5 object type data columns, and 2 float type data columns."
   ]
  },
  {
   "cell_type": "markdown",
   "id": "047f5a5e",
   "metadata": {},
   "source": [
    "'Age' and 'Cabin' columns have null or missing values."
   ]
  },
  {
   "cell_type": "code",
   "execution_count": 8,
   "id": "53020e94",
   "metadata": {},
   "outputs": [
    {
     "name": "stdout",
     "output_type": "stream",
     "text": [
      "Percent of rows of the dataset with missing age values: 19.865319865319865\n"
     ]
    }
   ],
   "source": [
    "print(\"Percent of rows of the dataset with missing age values:\",(train[train.Age.isna()].shape[0]/train.shape[0])*100)"
   ]
  },
  {
   "cell_type": "code",
   "execution_count": 9,
   "id": "f381c5f8",
   "metadata": {},
   "outputs": [
    {
     "name": "stdout",
     "output_type": "stream",
     "text": [
      "Percent of rows of the dataset with missing Cabin values: 77.10437710437711\n"
     ]
    }
   ],
   "source": [
    "print(\"Percent of rows of the dataset with missing Cabin values:\",(train[train.Cabin.isna()].shape[0]/train.shape[0])*100)"
   ]
  },
  {
   "cell_type": "markdown",
   "id": "e7c0e76a",
   "metadata": {},
   "source": [
    "This suggests that although age missing values may be imputed, Cabin missing values may not be imputable."
   ]
  },
  {
   "cell_type": "code",
   "execution_count": 10,
   "id": "3b073e11",
   "metadata": {},
   "outputs": [
    {
     "data": {
      "text/html": [
       "<div>\n",
       "<style scoped>\n",
       "    .dataframe tbody tr th:only-of-type {\n",
       "        vertical-align: middle;\n",
       "    }\n",
       "\n",
       "    .dataframe tbody tr th {\n",
       "        vertical-align: top;\n",
       "    }\n",
       "\n",
       "    .dataframe thead th {\n",
       "        text-align: right;\n",
       "    }\n",
       "</style>\n",
       "<table border=\"1\" class=\"dataframe\">\n",
       "  <thead>\n",
       "    <tr style=\"text-align: right;\">\n",
       "      <th></th>\n",
       "      <th>PassengerId</th>\n",
       "      <th>Survived</th>\n",
       "      <th>Pclass</th>\n",
       "      <th>Name</th>\n",
       "      <th>Sex</th>\n",
       "      <th>Age</th>\n",
       "      <th>SibSp</th>\n",
       "      <th>Parch</th>\n",
       "      <th>Ticket</th>\n",
       "      <th>Fare</th>\n",
       "      <th>Cabin</th>\n",
       "      <th>Embarked</th>\n",
       "    </tr>\n",
       "  </thead>\n",
       "  <tbody>\n",
       "    <tr>\n",
       "      <th>0</th>\n",
       "      <td>1</td>\n",
       "      <td>0</td>\n",
       "      <td>3</td>\n",
       "      <td>Braund, Mr. Owen Harris</td>\n",
       "      <td>male</td>\n",
       "      <td>22.0</td>\n",
       "      <td>1</td>\n",
       "      <td>0</td>\n",
       "      <td>A/5 21171</td>\n",
       "      <td>7.2500</td>\n",
       "      <td>NaN</td>\n",
       "      <td>S</td>\n",
       "    </tr>\n",
       "    <tr>\n",
       "      <th>1</th>\n",
       "      <td>2</td>\n",
       "      <td>1</td>\n",
       "      <td>1</td>\n",
       "      <td>Cumings, Mrs. John Bradley (Florence Briggs Th...</td>\n",
       "      <td>female</td>\n",
       "      <td>38.0</td>\n",
       "      <td>1</td>\n",
       "      <td>0</td>\n",
       "      <td>PC 17599</td>\n",
       "      <td>71.2833</td>\n",
       "      <td>C85</td>\n",
       "      <td>C</td>\n",
       "    </tr>\n",
       "    <tr>\n",
       "      <th>2</th>\n",
       "      <td>3</td>\n",
       "      <td>1</td>\n",
       "      <td>3</td>\n",
       "      <td>Heikkinen, Miss. Laina</td>\n",
       "      <td>female</td>\n",
       "      <td>26.0</td>\n",
       "      <td>0</td>\n",
       "      <td>0</td>\n",
       "      <td>STON/O2. 3101282</td>\n",
       "      <td>7.9250</td>\n",
       "      <td>NaN</td>\n",
       "      <td>S</td>\n",
       "    </tr>\n",
       "    <tr>\n",
       "      <th>3</th>\n",
       "      <td>4</td>\n",
       "      <td>1</td>\n",
       "      <td>1</td>\n",
       "      <td>Futrelle, Mrs. Jacques Heath (Lily May Peel)</td>\n",
       "      <td>female</td>\n",
       "      <td>35.0</td>\n",
       "      <td>1</td>\n",
       "      <td>0</td>\n",
       "      <td>113803</td>\n",
       "      <td>53.1000</td>\n",
       "      <td>C123</td>\n",
       "      <td>S</td>\n",
       "    </tr>\n",
       "    <tr>\n",
       "      <th>4</th>\n",
       "      <td>5</td>\n",
       "      <td>0</td>\n",
       "      <td>3</td>\n",
       "      <td>Allen, Mr. William Henry</td>\n",
       "      <td>male</td>\n",
       "      <td>35.0</td>\n",
       "      <td>0</td>\n",
       "      <td>0</td>\n",
       "      <td>373450</td>\n",
       "      <td>8.0500</td>\n",
       "      <td>NaN</td>\n",
       "      <td>S</td>\n",
       "    </tr>\n",
       "  </tbody>\n",
       "</table>\n",
       "</div>"
      ],
      "text/plain": [
       "   PassengerId  Survived  Pclass  \\\n",
       "0            1         0       3   \n",
       "1            2         1       1   \n",
       "2            3         1       3   \n",
       "3            4         1       1   \n",
       "4            5         0       3   \n",
       "\n",
       "                                                Name     Sex   Age  SibSp  \\\n",
       "0                            Braund, Mr. Owen Harris    male  22.0      1   \n",
       "1  Cumings, Mrs. John Bradley (Florence Briggs Th...  female  38.0      1   \n",
       "2                             Heikkinen, Miss. Laina  female  26.0      0   \n",
       "3       Futrelle, Mrs. Jacques Heath (Lily May Peel)  female  35.0      1   \n",
       "4                           Allen, Mr. William Henry    male  35.0      0   \n",
       "\n",
       "   Parch            Ticket     Fare Cabin Embarked  \n",
       "0      0         A/5 21171   7.2500   NaN        S  \n",
       "1      0          PC 17599  71.2833   C85        C  \n",
       "2      0  STON/O2. 3101282   7.9250   NaN        S  \n",
       "3      0            113803  53.1000  C123        S  \n",
       "4      0            373450   8.0500   NaN        S  "
      ]
     },
     "execution_count": 10,
     "metadata": {},
     "output_type": "execute_result"
    }
   ],
   "source": [
    "train.head()"
   ]
  },
  {
   "cell_type": "markdown",
   "id": "e07942f3",
   "metadata": {},
   "source": [
    "Briefly looking at test dataset:"
   ]
  },
  {
   "cell_type": "code",
   "execution_count": 11,
   "id": "0e7153db",
   "metadata": {},
   "outputs": [
    {
     "data": {
      "text/plain": [
       "(418, 11)"
      ]
     },
     "execution_count": 11,
     "metadata": {},
     "output_type": "execute_result"
    }
   ],
   "source": [
    "test.shape"
   ]
  },
  {
   "cell_type": "code",
   "execution_count": 12,
   "id": "68e82a2b",
   "metadata": {},
   "outputs": [
    {
     "name": "stdout",
     "output_type": "stream",
     "text": [
      "<class 'pandas.core.frame.DataFrame'>\n",
      "RangeIndex: 418 entries, 0 to 417\n",
      "Data columns (total 11 columns):\n",
      " #   Column       Non-Null Count  Dtype  \n",
      "---  ------       --------------  -----  \n",
      " 0   PassengerId  418 non-null    int64  \n",
      " 1   Pclass       418 non-null    int64  \n",
      " 2   Name         418 non-null    object \n",
      " 3   Sex          418 non-null    object \n",
      " 4   Age          332 non-null    float64\n",
      " 5   SibSp        418 non-null    int64  \n",
      " 6   Parch        418 non-null    int64  \n",
      " 7   Ticket       418 non-null    object \n",
      " 8   Fare         417 non-null    float64\n",
      " 9   Cabin        91 non-null     object \n",
      " 10  Embarked     418 non-null    object \n",
      "dtypes: float64(2), int64(4), object(5)\n",
      "memory usage: 36.0+ KB\n"
     ]
    }
   ],
   "source": [
    "test.info()"
   ]
  },
  {
   "cell_type": "markdown",
   "id": "17b350ae",
   "metadata": {},
   "source": [
    "test dataset has all columns of train dataset except 'Survived' column."
   ]
  },
  {
   "cell_type": "markdown",
   "id": "4034b111",
   "metadata": {},
   "source": [
    "'Age' and 'Cabin' columns have null or missing values."
   ]
  },
  {
   "cell_type": "code",
   "execution_count": 13,
   "id": "3c921b8a",
   "metadata": {},
   "outputs": [
    {
     "data": {
      "text/html": [
       "<div>\n",
       "<style scoped>\n",
       "    .dataframe tbody tr th:only-of-type {\n",
       "        vertical-align: middle;\n",
       "    }\n",
       "\n",
       "    .dataframe tbody tr th {\n",
       "        vertical-align: top;\n",
       "    }\n",
       "\n",
       "    .dataframe thead th {\n",
       "        text-align: right;\n",
       "    }\n",
       "</style>\n",
       "<table border=\"1\" class=\"dataframe\">\n",
       "  <thead>\n",
       "    <tr style=\"text-align: right;\">\n",
       "      <th></th>\n",
       "      <th>PassengerId</th>\n",
       "      <th>Pclass</th>\n",
       "      <th>Name</th>\n",
       "      <th>Sex</th>\n",
       "      <th>Age</th>\n",
       "      <th>SibSp</th>\n",
       "      <th>Parch</th>\n",
       "      <th>Ticket</th>\n",
       "      <th>Fare</th>\n",
       "      <th>Cabin</th>\n",
       "      <th>Embarked</th>\n",
       "    </tr>\n",
       "  </thead>\n",
       "  <tbody>\n",
       "    <tr>\n",
       "      <th>0</th>\n",
       "      <td>892</td>\n",
       "      <td>3</td>\n",
       "      <td>Kelly, Mr. James</td>\n",
       "      <td>male</td>\n",
       "      <td>34.5</td>\n",
       "      <td>0</td>\n",
       "      <td>0</td>\n",
       "      <td>330911</td>\n",
       "      <td>7.8292</td>\n",
       "      <td>NaN</td>\n",
       "      <td>Q</td>\n",
       "    </tr>\n",
       "    <tr>\n",
       "      <th>1</th>\n",
       "      <td>893</td>\n",
       "      <td>3</td>\n",
       "      <td>Wilkes, Mrs. James (Ellen Needs)</td>\n",
       "      <td>female</td>\n",
       "      <td>47.0</td>\n",
       "      <td>1</td>\n",
       "      <td>0</td>\n",
       "      <td>363272</td>\n",
       "      <td>7.0000</td>\n",
       "      <td>NaN</td>\n",
       "      <td>S</td>\n",
       "    </tr>\n",
       "    <tr>\n",
       "      <th>2</th>\n",
       "      <td>894</td>\n",
       "      <td>2</td>\n",
       "      <td>Myles, Mr. Thomas Francis</td>\n",
       "      <td>male</td>\n",
       "      <td>62.0</td>\n",
       "      <td>0</td>\n",
       "      <td>0</td>\n",
       "      <td>240276</td>\n",
       "      <td>9.6875</td>\n",
       "      <td>NaN</td>\n",
       "      <td>Q</td>\n",
       "    </tr>\n",
       "    <tr>\n",
       "      <th>3</th>\n",
       "      <td>895</td>\n",
       "      <td>3</td>\n",
       "      <td>Wirz, Mr. Albert</td>\n",
       "      <td>male</td>\n",
       "      <td>27.0</td>\n",
       "      <td>0</td>\n",
       "      <td>0</td>\n",
       "      <td>315154</td>\n",
       "      <td>8.6625</td>\n",
       "      <td>NaN</td>\n",
       "      <td>S</td>\n",
       "    </tr>\n",
       "    <tr>\n",
       "      <th>4</th>\n",
       "      <td>896</td>\n",
       "      <td>3</td>\n",
       "      <td>Hirvonen, Mrs. Alexander (Helga E Lindqvist)</td>\n",
       "      <td>female</td>\n",
       "      <td>22.0</td>\n",
       "      <td>1</td>\n",
       "      <td>1</td>\n",
       "      <td>3101298</td>\n",
       "      <td>12.2875</td>\n",
       "      <td>NaN</td>\n",
       "      <td>S</td>\n",
       "    </tr>\n",
       "  </tbody>\n",
       "</table>\n",
       "</div>"
      ],
      "text/plain": [
       "   PassengerId  Pclass                                          Name     Sex  \\\n",
       "0          892       3                              Kelly, Mr. James    male   \n",
       "1          893       3              Wilkes, Mrs. James (Ellen Needs)  female   \n",
       "2          894       2                     Myles, Mr. Thomas Francis    male   \n",
       "3          895       3                              Wirz, Mr. Albert    male   \n",
       "4          896       3  Hirvonen, Mrs. Alexander (Helga E Lindqvist)  female   \n",
       "\n",
       "    Age  SibSp  Parch   Ticket     Fare Cabin Embarked  \n",
       "0  34.5      0      0   330911   7.8292   NaN        Q  \n",
       "1  47.0      1      0   363272   7.0000   NaN        S  \n",
       "2  62.0      0      0   240276   9.6875   NaN        Q  \n",
       "3  27.0      0      0   315154   8.6625   NaN        S  \n",
       "4  22.0      1      1  3101298  12.2875   NaN        S  "
      ]
     },
     "execution_count": 13,
     "metadata": {},
     "output_type": "execute_result"
    }
   ],
   "source": [
    "test.head()"
   ]
  },
  {
   "cell_type": "markdown",
   "id": "5a1686c8",
   "metadata": {},
   "source": [
    "Exploring and analysing train dataset:"
   ]
  },
  {
   "cell_type": "code",
   "execution_count": 14,
   "id": "737f356a",
   "metadata": {},
   "outputs": [],
   "source": [
    "train.drop(['PassengerId'], axis = 1, inplace = True)"
   ]
  },
  {
   "cell_type": "markdown",
   "id": "5f1ce7bf",
   "metadata": {},
   "source": [
    "<b><u>Univariate Analysis</u></b>"
   ]
  },
  {
   "cell_type": "markdown",
   "id": "ebc40fe1",
   "metadata": {},
   "source": [
    "<b>Pclass</b> (ticket class)"
   ]
  },
  {
   "cell_type": "code",
   "execution_count": 15,
   "id": "3e2ed7a4",
   "metadata": {},
   "outputs": [
    {
     "data": {
      "text/plain": [
       "3    491\n",
       "1    216\n",
       "2    184\n",
       "Name: Pclass, dtype: int64"
      ]
     },
     "execution_count": 15,
     "metadata": {},
     "output_type": "execute_result"
    }
   ],
   "source": [
    "train.Pclass.value_counts()"
   ]
  },
  {
   "cell_type": "markdown",
   "id": "cab56b36",
   "metadata": {},
   "source": [
    "<b>Name</b>"
   ]
  },
  {
   "cell_type": "code",
   "execution_count": 16,
   "id": "55812aa0",
   "metadata": {},
   "outputs": [
    {
     "data": {
      "text/plain": [
       "0                                Braund, Mr. Owen Harris\n",
       "1      Cumings, Mrs. John Bradley (Florence Briggs Th...\n",
       "2                                 Heikkinen, Miss. Laina\n",
       "3           Futrelle, Mrs. Jacques Heath (Lily May Peel)\n",
       "4                               Allen, Mr. William Henry\n",
       "                             ...                        \n",
       "886                                Montvila, Rev. Juozas\n",
       "887                         Graham, Miss. Margaret Edith\n",
       "888             Johnston, Miss. Catherine Helen \"Carrie\"\n",
       "889                                Behr, Mr. Karl Howell\n",
       "890                                  Dooley, Mr. Patrick\n",
       "Name: Name, Length: 891, dtype: object"
      ]
     },
     "execution_count": 16,
     "metadata": {},
     "output_type": "execute_result"
    }
   ],
   "source": [
    "train.Name"
   ]
  },
  {
   "cell_type": "markdown",
   "id": "a554b732",
   "metadata": {},
   "source": [
    "<b>Sex</b>"
   ]
  },
  {
   "cell_type": "code",
   "execution_count": 17,
   "id": "fea03976",
   "metadata": {},
   "outputs": [
    {
     "data": {
      "text/plain": [
       "male      577\n",
       "female    314\n",
       "Name: Sex, dtype: int64"
      ]
     },
     "execution_count": 17,
     "metadata": {},
     "output_type": "execute_result"
    }
   ],
   "source": [
    "train.Sex.value_counts()"
   ]
  },
  {
   "cell_type": "code",
   "execution_count": 18,
   "id": "6d63a982",
   "metadata": {},
   "outputs": [
    {
     "data": {
      "image/png": "[encoded data removed]",
      "text/plain": [
       "<Figure size 432x288 with 1 Axes>"
      ]
     },
     "metadata": {
      "needs_background": "light"
     },
     "output_type": "display_data"
    }
   ],
   "source": [
    "sns.countplot(x = train.Sex);"
   ]
  },
  {
   "cell_type": "markdown",
   "id": "d8f379f8",
   "metadata": {},
   "source": [
    "<b>Age</b>"
   ]
  },
  {
   "cell_type": "code",
   "execution_count": 19,
   "id": "cb44dde4",
   "metadata": {},
   "outputs": [
    {
     "data": {
      "text/plain": [
       "count    714.000000\n",
       "mean      29.699118\n",
       "std       14.526497\n",
       "min        0.420000\n",
       "25%       20.125000\n",
       "50%       28.000000\n",
       "75%       38.000000\n",
       "max       80.000000\n",
       "Name: Age, dtype: float64"
      ]
     },
     "execution_count": 19,
     "metadata": {},
     "output_type": "execute_result"
    }
   ],
   "source": [
    "train.Age.describe()"
   ]
  },
  {
   "cell_type": "code",
   "execution_count": 20,
   "id": "db4b77e1",
   "metadata": {},
   "outputs": [
    {
     "data": {
      "image/png": "[encoded data removed]",
      "text/plain": [
       "<Figure size 360x360 with 1 Axes>"
      ]
     },
     "metadata": {
      "needs_background": "light"
     },
     "output_type": "display_data"
    }
   ],
   "source": [
    "sns.displot(x = train.Age);"
   ]
  },
  {
   "cell_type": "markdown",
   "id": "589d6b19",
   "metadata": {},
   "source": [
    "There are a lot of young children and middle aged people in the train dataset."
   ]
  },
  {
   "cell_type": "code",
   "execution_count": 21,
   "id": "2c1651b2",
   "metadata": {},
   "outputs": [
    {
     "data": {
      "image/png": "[encoded data removed]",
      "text/plain": [
       "<Figure size 432x288 with 1 Axes>"
      ]
     },
     "metadata": {
      "needs_background": "light"
     },
     "output_type": "display_data"
    }
   ],
   "source": [
    "sns.boxplot(x = train.Age);"
   ]
  },
  {
   "cell_type": "code",
   "execution_count": 22,
   "id": "5c59b17a",
   "metadata": {},
   "outputs": [
    {
     "name": "stdout",
     "output_type": "stream",
     "text": [
      "17.875 -6.6875 64.8125\n"
     ]
    }
   ],
   "source": [
    "iqr = train.Age.describe()['75%'] - train.Age.describe()['25%']\n",
    "upper = train.Age.describe()['75%'] + 1.5*iqr\n",
    "lower = train.Age.describe()['25%'] - 1.5*iqr\n",
    "print(iqr, lower, upper)"
   ]
  },
  {
   "cell_type": "code",
   "execution_count": 23,
   "id": "2b9d5723",
   "metadata": {},
   "outputs": [
    {
     "data": {
      "text/plain": [
       "(11, 11)"
      ]
     },
     "execution_count": 23,
     "metadata": {},
     "output_type": "execute_result"
    }
   ],
   "source": [
    "train[train.Age > upper].shape"
   ]
  },
  {
   "cell_type": "code",
   "execution_count": 24,
   "id": "1930ebde",
   "metadata": {},
   "outputs": [
    {
     "data": {
      "text/html": [
       "<div>\n",
       "<style scoped>\n",
       "    .dataframe tbody tr th:only-of-type {\n",
       "        vertical-align: middle;\n",
       "    }\n",
       "\n",
       "    .dataframe tbody tr th {\n",
       "        vertical-align: top;\n",
       "    }\n",
       "\n",
       "    .dataframe thead th {\n",
       "        text-align: right;\n",
       "    }\n",
       "</style>\n",
       "<table border=\"1\" class=\"dataframe\">\n",
       "  <thead>\n",
       "    <tr style=\"text-align: right;\">\n",
       "      <th></th>\n",
       "      <th>Survived</th>\n",
       "      <th>Pclass</th>\n",
       "      <th>Name</th>\n",
       "      <th>Sex</th>\n",
       "      <th>Age</th>\n",
       "      <th>SibSp</th>\n",
       "      <th>Parch</th>\n",
       "      <th>Ticket</th>\n",
       "      <th>Fare</th>\n",
       "      <th>Cabin</th>\n",
       "      <th>Embarked</th>\n",
       "    </tr>\n",
       "  </thead>\n",
       "  <tbody>\n",
       "    <tr>\n",
       "      <th>33</th>\n",
       "      <td>0</td>\n",
       "      <td>2</td>\n",
       "      <td>Wheadon, Mr. Edward H</td>\n",
       "      <td>male</td>\n",
       "      <td>66.0</td>\n",
       "      <td>0</td>\n",
       "      <td>0</td>\n",
       "      <td>C.A. 24579</td>\n",
       "      <td>10.5000</td>\n",
       "      <td>NaN</td>\n",
       "      <td>S</td>\n",
       "    </tr>\n",
       "    <tr>\n",
       "      <th>54</th>\n",
       "      <td>0</td>\n",
       "      <td>1</td>\n",
       "      <td>Ostby, Mr. Engelhart Cornelius</td>\n",
       "      <td>male</td>\n",
       "      <td>65.0</td>\n",
       "      <td>0</td>\n",
       "      <td>1</td>\n",
       "      <td>113509</td>\n",
       "      <td>61.9792</td>\n",
       "      <td>B30</td>\n",
       "      <td>C</td>\n",
       "    </tr>\n",
       "    <tr>\n",
       "      <th>96</th>\n",
       "      <td>0</td>\n",
       "      <td>1</td>\n",
       "      <td>Goldschmidt, Mr. George B</td>\n",
       "      <td>male</td>\n",
       "      <td>71.0</td>\n",
       "      <td>0</td>\n",
       "      <td>0</td>\n",
       "      <td>PC 17754</td>\n",
       "      <td>34.6542</td>\n",
       "      <td>A5</td>\n",
       "      <td>C</td>\n",
       "    </tr>\n",
       "    <tr>\n",
       "      <th>116</th>\n",
       "      <td>0</td>\n",
       "      <td>3</td>\n",
       "      <td>Connors, Mr. Patrick</td>\n",
       "      <td>male</td>\n",
       "      <td>70.5</td>\n",
       "      <td>0</td>\n",
       "      <td>0</td>\n",
       "      <td>370369</td>\n",
       "      <td>7.7500</td>\n",
       "      <td>NaN</td>\n",
       "      <td>Q</td>\n",
       "    </tr>\n",
       "    <tr>\n",
       "      <th>280</th>\n",
       "      <td>0</td>\n",
       "      <td>3</td>\n",
       "      <td>Duane, Mr. Frank</td>\n",
       "      <td>male</td>\n",
       "      <td>65.0</td>\n",
       "      <td>0</td>\n",
       "      <td>0</td>\n",
       "      <td>336439</td>\n",
       "      <td>7.7500</td>\n",
       "      <td>NaN</td>\n",
       "      <td>Q</td>\n",
       "    </tr>\n",
       "    <tr>\n",
       "      <th>456</th>\n",
       "      <td>0</td>\n",
       "      <td>1</td>\n",
       "      <td>Millet, Mr. Francis Davis</td>\n",
       "      <td>male</td>\n",
       "      <td>65.0</td>\n",
       "      <td>0</td>\n",
       "      <td>0</td>\n",
       "      <td>13509</td>\n",
       "      <td>26.5500</td>\n",
       "      <td>E38</td>\n",
       "      <td>S</td>\n",
       "    </tr>\n",
       "    <tr>\n",
       "      <th>493</th>\n",
       "      <td>0</td>\n",
       "      <td>1</td>\n",
       "      <td>Artagaveytia, Mr. Ramon</td>\n",
       "      <td>male</td>\n",
       "      <td>71.0</td>\n",
       "      <td>0</td>\n",
       "      <td>0</td>\n",
       "      <td>PC 17609</td>\n",
       "      <td>49.5042</td>\n",
       "      <td>NaN</td>\n",
       "      <td>C</td>\n",
       "    </tr>\n",
       "    <tr>\n",
       "      <th>630</th>\n",
       "      <td>1</td>\n",
       "      <td>1</td>\n",
       "      <td>Barkworth, Mr. Algernon Henry Wilson</td>\n",
       "      <td>male</td>\n",
       "      <td>80.0</td>\n",
       "      <td>0</td>\n",
       "      <td>0</td>\n",
       "      <td>27042</td>\n",
       "      <td>30.0000</td>\n",
       "      <td>A23</td>\n",
       "      <td>S</td>\n",
       "    </tr>\n",
       "    <tr>\n",
       "      <th>672</th>\n",
       "      <td>0</td>\n",
       "      <td>2</td>\n",
       "      <td>Mitchell, Mr. Henry Michael</td>\n",
       "      <td>male</td>\n",
       "      <td>70.0</td>\n",
       "      <td>0</td>\n",
       "      <td>0</td>\n",
       "      <td>C.A. 24580</td>\n",
       "      <td>10.5000</td>\n",
       "      <td>NaN</td>\n",
       "      <td>S</td>\n",
       "    </tr>\n",
       "    <tr>\n",
       "      <th>745</th>\n",
       "      <td>0</td>\n",
       "      <td>1</td>\n",
       "      <td>Crosby, Capt. Edward Gifford</td>\n",
       "      <td>male</td>\n",
       "      <td>70.0</td>\n",
       "      <td>1</td>\n",
       "      <td>1</td>\n",
       "      <td>WE/P 5735</td>\n",
       "      <td>71.0000</td>\n",
       "      <td>B22</td>\n",
       "      <td>S</td>\n",
       "    </tr>\n",
       "    <tr>\n",
       "      <th>851</th>\n",
       "      <td>0</td>\n",
       "      <td>3</td>\n",
       "      <td>Svensson, Mr. Johan</td>\n",
       "      <td>male</td>\n",
       "      <td>74.0</td>\n",
       "      <td>0</td>\n",
       "      <td>0</td>\n",
       "      <td>347060</td>\n",
       "      <td>7.7750</td>\n",
       "      <td>NaN</td>\n",
       "      <td>S</td>\n",
       "    </tr>\n",
       "  </tbody>\n",
       "</table>\n",
       "</div>"
      ],
      "text/plain": [
       "     Survived  Pclass                                  Name   Sex   Age  \\\n",
       "33          0       2                 Wheadon, Mr. Edward H  male  66.0   \n",
       "54          0       1        Ostby, Mr. Engelhart Cornelius  male  65.0   \n",
       "96          0       1             Goldschmidt, Mr. George B  male  71.0   \n",
       "116         0       3                  Connors, Mr. Patrick  male  70.5   \n",
       "280         0       3                      Duane, Mr. Frank  male  65.0   \n",
       "456         0       1             Millet, Mr. Francis Davis  male  65.0   \n",
       "493         0       1               Artagaveytia, Mr. Ramon  male  71.0   \n",
       "630         1       1  Barkworth, Mr. Algernon Henry Wilson  male  80.0   \n",
       "672         0       2           Mitchell, Mr. Henry Michael  male  70.0   \n",
       "745         0       1          Crosby, Capt. Edward Gifford  male  70.0   \n",
       "851         0       3                   Svensson, Mr. Johan  male  74.0   \n",
       "\n",
       "     SibSp  Parch      Ticket     Fare Cabin Embarked  \n",
       "33       0      0  C.A. 24579  10.5000   NaN        S  \n",
       "54       0      1      113509  61.9792   B30        C  \n",
       "96       0      0    PC 17754  34.6542    A5        C  \n",
       "116      0      0      370369   7.7500   NaN        Q  \n",
       "280      0      0      336439   7.7500   NaN        Q  \n",
       "456      0      0       13509  26.5500   E38        S  \n",
       "493      0      0    PC 17609  49.5042   NaN        C  \n",
       "630      0      0       27042  30.0000   A23        S  \n",
       "672      0      0  C.A. 24580  10.5000   NaN        S  \n",
       "745      1      1   WE/P 5735  71.0000   B22        S  \n",
       "851      0      0      347060   7.7750   NaN        S  "
      ]
     },
     "execution_count": 24,
     "metadata": {},
     "output_type": "execute_result"
    }
   ],
   "source": [
    "train[train.Age > upper]"
   ]
  },
  {
   "cell_type": "markdown",
   "id": "e0466413",
   "metadata": {},
   "source": [
    "Even though the ages above 64 are outliers, it just suggest that not many old people were on board the ship. (64-80 years of age is not really uncommon)"
   ]
  },
  {
   "cell_type": "code",
   "execution_count": 25,
   "id": "b95e9a71",
   "metadata": {},
   "outputs": [
    {
     "data": {
      "text/plain": [
       "0    0.909091\n",
       "1    0.090909\n",
       "Name: Survived, dtype: float64"
      ]
     },
     "execution_count": 25,
     "metadata": {},
     "output_type": "execute_result"
    }
   ],
   "source": [
    "train[train.Age > upper]['Survived'].value_counts(normalize = True)"
   ]
  },
  {
   "cell_type": "markdown",
   "id": "783c4e87",
   "metadata": {},
   "source": [
    "About 90% of the passengers who are outliers in terms of age do not survive."
   ]
  },
  {
   "cell_type": "markdown",
   "id": "2b33049e",
   "metadata": {},
   "source": [
    "<b>SibSp</b> (number of siblings or spouses)"
   ]
  },
  {
   "cell_type": "code",
   "execution_count": 26,
   "id": "d36c7252",
   "metadata": {},
   "outputs": [
    {
     "data": {
      "text/plain": [
       "0    0.682379\n",
       "1    0.234568\n",
       "2    0.031425\n",
       "4    0.020202\n",
       "3    0.017957\n",
       "8    0.007856\n",
       "5    0.005612\n",
       "Name: SibSp, dtype: float64"
      ]
     },
     "execution_count": 26,
     "metadata": {},
     "output_type": "execute_result"
    }
   ],
   "source": [
    "train.SibSp.value_counts(normalize = True)"
   ]
  },
  {
   "cell_type": "code",
   "execution_count": 27,
   "id": "c798691c",
   "metadata": {},
   "outputs": [
    {
     "data": {
      "image/png": "[encoded data removed]",
      "text/plain": [
       "<Figure size 432x288 with 1 Axes>"
      ]
     },
     "metadata": {
      "needs_background": "light"
     },
     "output_type": "display_data"
    }
   ],
   "source": [
    "sns.countplot(x = train.SibSp);"
   ]
  },
  {
   "cell_type": "markdown",
   "id": "c1da4f0b",
   "metadata": {},
   "source": [
    "The number of siblings or spouses for a passenger on board the ship was between 0 to 5 inclusive. Most passengers, about 68%, had no siblings or spouses. Only about 0.5% of the passengers had 5 siblings or spouses."
   ]
  },
  {
   "cell_type": "markdown",
   "id": "f0801f45",
   "metadata": {},
   "source": [
    "<b>Parch</b> (number of parents or children)"
   ]
  },
  {
   "cell_type": "code",
   "execution_count": 28,
   "id": "0264a564",
   "metadata": {},
   "outputs": [
    {
     "data": {
      "text/plain": [
       "0    0.760943\n",
       "1    0.132435\n",
       "2    0.089787\n",
       "3    0.005612\n",
       "5    0.005612\n",
       "4    0.004489\n",
       "6    0.001122\n",
       "Name: Parch, dtype: float64"
      ]
     },
     "execution_count": 28,
     "metadata": {},
     "output_type": "execute_result"
    }
   ],
   "source": [
    "train.Parch.value_counts(normalize = True)"
   ]
  },
  {
   "cell_type": "code",
   "execution_count": 29,
   "id": "7c579f24",
   "metadata": {},
   "outputs": [
    {
     "data": {
      "image/png": "[encoded data removed]",
      "text/plain": [
       "<Figure size 432x288 with 1 Axes>"
      ]
     },
     "metadata": {
      "needs_background": "light"
     },
     "output_type": "display_data"
    }
   ],
   "source": [
    "sns.countplot(x = train.Parch);"
   ]
  },
  {
   "cell_type": "markdown",
   "id": "933f17d9",
   "metadata": {},
   "source": [
    "The number of parents or children on board the ship for a passenger was between 0 to 6 inclusive. Most passengers, about 76%, had no parents or children. Only 0.1% of the passengers has 6 parents or children."
   ]
  },
  {
   "cell_type": "markdown",
   "id": "9313cb1a",
   "metadata": {},
   "source": [
    "<b>Ticket</b>"
   ]
  },
  {
   "cell_type": "code",
   "execution_count": 30,
   "id": "dd701355",
   "metadata": {},
   "outputs": [
    {
     "data": {
      "text/plain": [
       "1601         7\n",
       "CA. 2343     7\n",
       "347082       7\n",
       "CA 2144      6\n",
       "3101295      6\n",
       "            ..\n",
       "PC 17605     1\n",
       "S.P. 3464    1\n",
       "350035       1\n",
       "350046       1\n",
       "29104        1\n",
       "Name: Ticket, Length: 681, dtype: int64"
      ]
     },
     "execution_count": 30,
     "metadata": {},
     "output_type": "execute_result"
    }
   ],
   "source": [
    "#must be treated like a categorical variable\n",
    "train.Ticket.value_counts()"
   ]
  },
  {
   "cell_type": "code",
   "execution_count": 31,
   "id": "1f6187a0",
   "metadata": {},
   "outputs": [
    {
     "data": {
      "text/plain": [
       "681"
      ]
     },
     "execution_count": 31,
     "metadata": {},
     "output_type": "execute_result"
    }
   ],
   "source": [
    "len(train.Ticket.unique())"
   ]
  },
  {
   "cell_type": "markdown",
   "id": "32d44db9",
   "metadata": {},
   "source": [
    "Many tickets are assigned to multiple passengers. "
   ]
  },
  {
   "cell_type": "markdown",
   "id": "d5cf94e1",
   "metadata": {},
   "source": [
    "<b>Fare</b>"
   ]
  },
  {
   "cell_type": "code",
   "execution_count": 32,
   "id": "e6f1c4fa",
   "metadata": {},
   "outputs": [
    {
     "data": {
      "text/plain": [
       "248"
      ]
     },
     "execution_count": 32,
     "metadata": {},
     "output_type": "execute_result"
    }
   ],
   "source": [
    "len(train.Fare.value_counts())"
   ]
  },
  {
   "cell_type": "code",
   "execution_count": 33,
   "id": "0152c4ed",
   "metadata": {},
   "outputs": [
    {
     "data": {
      "image/png": "[encoded data removed]",
      "text/plain": [
       "<Figure size 360x360 with 1 Axes>"
      ]
     },
     "metadata": {
      "needs_background": "light"
     },
     "output_type": "display_data"
    }
   ],
   "source": [
    "sns.displot(x = train.Fare);"
   ]
  },
  {
   "cell_type": "markdown",
   "id": "42ad1c03",
   "metadata": {},
   "source": [
    "The distribution of Fare is strongly right skewed. This suggests that most passengers travelled on cheaper fare."
   ]
  },
  {
   "cell_type": "code",
   "execution_count": 34,
   "id": "acc62820",
   "metadata": {},
   "outputs": [
    {
     "data": {
      "image/png": "[encoded data removed]",
      "text/plain": [
       "<Figure size 432x288 with 1 Axes>"
      ]
     },
     "metadata": {
      "needs_background": "light"
     },
     "output_type": "display_data"
    }
   ],
   "source": [
    "sns.boxplot(x = train.Fare);"
   ]
  },
  {
   "cell_type": "code",
   "execution_count": 35,
   "id": "6a9fa983",
   "metadata": {},
   "outputs": [
    {
     "name": "stdout",
     "output_type": "stream",
     "text": [
      "23.0896 -26.724 65.6344\n"
     ]
    }
   ],
   "source": [
    "iqr = train.Fare.describe()['75%'] - train.Fare.describe()['25%']\n",
    "upper = train.Fare.describe()['75%'] + 1.5*iqr\n",
    "lower = train.Fare.describe()['25%'] - 1.5*iqr\n",
    "print(iqr, lower, upper)"
   ]
  },
  {
   "cell_type": "code",
   "execution_count": 36,
   "id": "8f944898",
   "metadata": {},
   "outputs": [
    {
     "data": {
      "text/plain": [
       "(116, 11)"
      ]
     },
     "execution_count": 36,
     "metadata": {},
     "output_type": "execute_result"
    }
   ],
   "source": [
    "train[train.Fare > upper].shape"
   ]
  },
  {
   "cell_type": "code",
   "execution_count": 37,
   "id": "4118a964",
   "metadata": {},
   "outputs": [
    {
     "data": {
      "text/html": [
       "<div>\n",
       "<style scoped>\n",
       "    .dataframe tbody tr th:only-of-type {\n",
       "        vertical-align: middle;\n",
       "    }\n",
       "\n",
       "    .dataframe tbody tr th {\n",
       "        vertical-align: top;\n",
       "    }\n",
       "\n",
       "    .dataframe thead th {\n",
       "        text-align: right;\n",
       "    }\n",
       "</style>\n",
       "<table border=\"1\" class=\"dataframe\">\n",
       "  <thead>\n",
       "    <tr style=\"text-align: right;\">\n",
       "      <th></th>\n",
       "      <th>Survived</th>\n",
       "      <th>Pclass</th>\n",
       "      <th>Name</th>\n",
       "      <th>Sex</th>\n",
       "      <th>Age</th>\n",
       "      <th>SibSp</th>\n",
       "      <th>Parch</th>\n",
       "      <th>Ticket</th>\n",
       "      <th>Fare</th>\n",
       "      <th>Cabin</th>\n",
       "      <th>Embarked</th>\n",
       "    </tr>\n",
       "  </thead>\n",
       "  <tbody>\n",
       "    <tr>\n",
       "      <th>1</th>\n",
       "      <td>1</td>\n",
       "      <td>1</td>\n",
       "      <td>Cumings, Mrs. John Bradley (Florence Briggs Th...</td>\n",
       "      <td>female</td>\n",
       "      <td>38.0</td>\n",
       "      <td>1</td>\n",
       "      <td>0</td>\n",
       "      <td>PC 17599</td>\n",
       "      <td>71.2833</td>\n",
       "      <td>C85</td>\n",
       "      <td>C</td>\n",
       "    </tr>\n",
       "    <tr>\n",
       "      <th>27</th>\n",
       "      <td>0</td>\n",
       "      <td>1</td>\n",
       "      <td>Fortune, Mr. Charles Alexander</td>\n",
       "      <td>male</td>\n",
       "      <td>19.0</td>\n",
       "      <td>3</td>\n",
       "      <td>2</td>\n",
       "      <td>19950</td>\n",
       "      <td>263.0000</td>\n",
       "      <td>C23 C25 C27</td>\n",
       "      <td>S</td>\n",
       "    </tr>\n",
       "    <tr>\n",
       "      <th>31</th>\n",
       "      <td>1</td>\n",
       "      <td>1</td>\n",
       "      <td>Spencer, Mrs. William Augustus (Marie Eugenie)</td>\n",
       "      <td>female</td>\n",
       "      <td>NaN</td>\n",
       "      <td>1</td>\n",
       "      <td>0</td>\n",
       "      <td>PC 17569</td>\n",
       "      <td>146.5208</td>\n",
       "      <td>B78</td>\n",
       "      <td>C</td>\n",
       "    </tr>\n",
       "    <tr>\n",
       "      <th>34</th>\n",
       "      <td>0</td>\n",
       "      <td>1</td>\n",
       "      <td>Meyer, Mr. Edgar Joseph</td>\n",
       "      <td>male</td>\n",
       "      <td>28.0</td>\n",
       "      <td>1</td>\n",
       "      <td>0</td>\n",
       "      <td>PC 17604</td>\n",
       "      <td>82.1708</td>\n",
       "      <td>NaN</td>\n",
       "      <td>C</td>\n",
       "    </tr>\n",
       "    <tr>\n",
       "      <th>52</th>\n",
       "      <td>1</td>\n",
       "      <td>1</td>\n",
       "      <td>Harper, Mrs. Henry Sleeper (Myna Haxtun)</td>\n",
       "      <td>female</td>\n",
       "      <td>49.0</td>\n",
       "      <td>1</td>\n",
       "      <td>0</td>\n",
       "      <td>PC 17572</td>\n",
       "      <td>76.7292</td>\n",
       "      <td>D33</td>\n",
       "      <td>C</td>\n",
       "    </tr>\n",
       "    <tr>\n",
       "      <th>...</th>\n",
       "      <td>...</td>\n",
       "      <td>...</td>\n",
       "      <td>...</td>\n",
       "      <td>...</td>\n",
       "      <td>...</td>\n",
       "      <td>...</td>\n",
       "      <td>...</td>\n",
       "      <td>...</td>\n",
       "      <td>...</td>\n",
       "      <td>...</td>\n",
       "      <td>...</td>\n",
       "    </tr>\n",
       "    <tr>\n",
       "      <th>846</th>\n",
       "      <td>0</td>\n",
       "      <td>3</td>\n",
       "      <td>Sage, Mr. Douglas Bullen</td>\n",
       "      <td>male</td>\n",
       "      <td>NaN</td>\n",
       "      <td>8</td>\n",
       "      <td>2</td>\n",
       "      <td>CA. 2343</td>\n",
       "      <td>69.5500</td>\n",
       "      <td>NaN</td>\n",
       "      <td>S</td>\n",
       "    </tr>\n",
       "    <tr>\n",
       "      <th>849</th>\n",
       "      <td>1</td>\n",
       "      <td>1</td>\n",
       "      <td>Goldenberg, Mrs. Samuel L (Edwiga Grabowska)</td>\n",
       "      <td>female</td>\n",
       "      <td>NaN</td>\n",
       "      <td>1</td>\n",
       "      <td>0</td>\n",
       "      <td>17453</td>\n",
       "      <td>89.1042</td>\n",
       "      <td>C92</td>\n",
       "      <td>C</td>\n",
       "    </tr>\n",
       "    <tr>\n",
       "      <th>856</th>\n",
       "      <td>1</td>\n",
       "      <td>1</td>\n",
       "      <td>Wick, Mrs. George Dennick (Mary Hitchcock)</td>\n",
       "      <td>female</td>\n",
       "      <td>45.0</td>\n",
       "      <td>1</td>\n",
       "      <td>1</td>\n",
       "      <td>36928</td>\n",
       "      <td>164.8667</td>\n",
       "      <td>NaN</td>\n",
       "      <td>S</td>\n",
       "    </tr>\n",
       "    <tr>\n",
       "      <th>863</th>\n",
       "      <td>0</td>\n",
       "      <td>3</td>\n",
       "      <td>Sage, Miss. Dorothy Edith \"Dolly\"</td>\n",
       "      <td>female</td>\n",
       "      <td>NaN</td>\n",
       "      <td>8</td>\n",
       "      <td>2</td>\n",
       "      <td>CA. 2343</td>\n",
       "      <td>69.5500</td>\n",
       "      <td>NaN</td>\n",
       "      <td>S</td>\n",
       "    </tr>\n",
       "    <tr>\n",
       "      <th>879</th>\n",
       "      <td>1</td>\n",
       "      <td>1</td>\n",
       "      <td>Potter, Mrs. Thomas Jr (Lily Alexenia Wilson)</td>\n",
       "      <td>female</td>\n",
       "      <td>56.0</td>\n",
       "      <td>0</td>\n",
       "      <td>1</td>\n",
       "      <td>11767</td>\n",
       "      <td>83.1583</td>\n",
       "      <td>C50</td>\n",
       "      <td>C</td>\n",
       "    </tr>\n",
       "  </tbody>\n",
       "</table>\n",
       "<p>116 rows × 11 columns</p>\n",
       "</div>"
      ],
      "text/plain": [
       "     Survived  Pclass                                               Name  \\\n",
       "1           1       1  Cumings, Mrs. John Bradley (Florence Briggs Th...   \n",
       "27          0       1                     Fortune, Mr. Charles Alexander   \n",
       "31          1       1     Spencer, Mrs. William Augustus (Marie Eugenie)   \n",
       "34          0       1                            Meyer, Mr. Edgar Joseph   \n",
       "52          1       1           Harper, Mrs. Henry Sleeper (Myna Haxtun)   \n",
       "..        ...     ...                                                ...   \n",
       "846         0       3                           Sage, Mr. Douglas Bullen   \n",
       "849         1       1       Goldenberg, Mrs. Samuel L (Edwiga Grabowska)   \n",
       "856         1       1         Wick, Mrs. George Dennick (Mary Hitchcock)   \n",
       "863         0       3                  Sage, Miss. Dorothy Edith \"Dolly\"   \n",
       "879         1       1      Potter, Mrs. Thomas Jr (Lily Alexenia Wilson)   \n",
       "\n",
       "        Sex   Age  SibSp  Parch    Ticket      Fare        Cabin Embarked  \n",
       "1    female  38.0      1      0  PC 17599   71.2833          C85        C  \n",
       "27     male  19.0      3      2     19950  263.0000  C23 C25 C27        S  \n",
       "31   female   NaN      1      0  PC 17569  146.5208          B78        C  \n",
       "34     male  28.0      1      0  PC 17604   82.1708          NaN        C  \n",
       "52   female  49.0      1      0  PC 17572   76.7292          D33        C  \n",
       "..      ...   ...    ...    ...       ...       ...          ...      ...  \n",
       "846    male   NaN      8      2  CA. 2343   69.5500          NaN        S  \n",
       "849  female   NaN      1      0     17453   89.1042          C92        C  \n",
       "856  female  45.0      1      1     36928  164.8667          NaN        S  \n",
       "863  female   NaN      8      2  CA. 2343   69.5500          NaN        S  \n",
       "879  female  56.0      0      1     11767   83.1583          C50        C  \n",
       "\n",
       "[116 rows x 11 columns]"
      ]
     },
     "execution_count": 37,
     "metadata": {},
     "output_type": "execute_result"
    }
   ],
   "source": [
    "train[train.Fare > upper]"
   ]
  },
  {
   "cell_type": "markdown",
   "id": "d39aeeff",
   "metadata": {},
   "source": [
    "Although there are 166 outliers in terms of fare payed, it must be expected since titanic was also ment to provide luxary for those who could afford it. "
   ]
  },
  {
   "cell_type": "code",
   "execution_count": 38,
   "id": "1037c67d",
   "metadata": {},
   "outputs": [
    {
     "data": {
      "text/plain": [
       "1    0.681034\n",
       "0    0.318966\n",
       "Name: Survived, dtype: float64"
      ]
     },
     "execution_count": 38,
     "metadata": {},
     "output_type": "execute_result"
    }
   ],
   "source": [
    "train[train.Fare > upper]['Survived'].value_counts(normalize = True)"
   ]
  },
  {
   "cell_type": "markdown",
   "id": "0bcffc90",
   "metadata": {},
   "source": [
    "Most passengers, about 68%, who payed higher fare survived. "
   ]
  },
  {
   "cell_type": "markdown",
   "id": "ac444a39",
   "metadata": {},
   "source": [
    "<b>Cabin</b>"
   ]
  },
  {
   "cell_type": "code",
   "execution_count": 39,
   "id": "05f3e511",
   "metadata": {},
   "outputs": [
    {
     "data": {
      "text/plain": [
       "G6             4\n",
       "C23 C25 C27    4\n",
       "B96 B98        4\n",
       "F33            3\n",
       "E101           3\n",
       "              ..\n",
       "C110           1\n",
       "B3             1\n",
       "D56            1\n",
       "D6             1\n",
       "C62 C64        1\n",
       "Name: Cabin, Length: 147, dtype: int64"
      ]
     },
     "execution_count": 39,
     "metadata": {},
     "output_type": "execute_result"
    }
   ],
   "source": [
    "train.Cabin.value_counts()"
   ]
  },
  {
   "cell_type": "markdown",
   "id": "8bf75da6",
   "metadata": {},
   "source": [
    "There are 4 passengers who are assigned 3 cabins."
   ]
  },
  {
   "cell_type": "code",
   "execution_count": 40,
   "id": "29b1d30c",
   "metadata": {},
   "outputs": [
    {
     "data": {
      "text/plain": [
       "147"
      ]
     },
     "execution_count": 40,
     "metadata": {},
     "output_type": "execute_result"
    }
   ],
   "source": [
    "len(train.Cabin.value_counts())"
   ]
  },
  {
   "cell_type": "markdown",
   "id": "f0123128",
   "metadata": {},
   "source": [
    "<b>Embarked</b> Port of Embarkation"
   ]
  },
  {
   "cell_type": "code",
   "execution_count": 41,
   "id": "0cc82639",
   "metadata": {},
   "outputs": [
    {
     "data": {
      "text/plain": [
       "S    644\n",
       "C    168\n",
       "Q     77\n",
       "Name: Embarked, dtype: int64"
      ]
     },
     "execution_count": 41,
     "metadata": {},
     "output_type": "execute_result"
    }
   ],
   "source": [
    "train.Embarked.value_counts()"
   ]
  },
  {
   "cell_type": "markdown",
   "id": "7d222872",
   "metadata": {},
   "source": [
    "C = Cherbourg, Q = Queenstown, S = Southampton"
   ]
  },
  {
   "cell_type": "markdown",
   "id": "1bd8d992",
   "metadata": {},
   "source": [
    "<b><u>Bivarite Analysis</u></b>"
   ]
  },
  {
   "cell_type": "markdown",
   "id": "cf3f21d9",
   "metadata": {},
   "source": [
    "<b>Survived and Pclass</b>"
   ]
  },
  {
   "cell_type": "code",
   "execution_count": 42,
   "id": "1ccff08b",
   "metadata": {},
   "outputs": [
    {
     "data": {
      "text/html": [
       "<div>\n",
       "<style scoped>\n",
       "    .dataframe tbody tr th:only-of-type {\n",
       "        vertical-align: middle;\n",
       "    }\n",
       "\n",
       "    .dataframe tbody tr th {\n",
       "        vertical-align: top;\n",
       "    }\n",
       "\n",
       "    .dataframe thead th {\n",
       "        text-align: right;\n",
       "    }\n",
       "</style>\n",
       "<table border=\"1\" class=\"dataframe\">\n",
       "  <thead>\n",
       "    <tr style=\"text-align: right;\">\n",
       "      <th>Pclass</th>\n",
       "      <th>1</th>\n",
       "      <th>2</th>\n",
       "      <th>3</th>\n",
       "      <th>All</th>\n",
       "    </tr>\n",
       "    <tr>\n",
       "      <th>Survived</th>\n",
       "      <th></th>\n",
       "      <th></th>\n",
       "      <th></th>\n",
       "      <th></th>\n",
       "    </tr>\n",
       "  </thead>\n",
       "  <tbody>\n",
       "    <tr>\n",
       "      <th>0</th>\n",
       "      <td>0.089787</td>\n",
       "      <td>0.108866</td>\n",
       "      <td>0.417508</td>\n",
       "      <td>0.616162</td>\n",
       "    </tr>\n",
       "    <tr>\n",
       "      <th>1</th>\n",
       "      <td>0.152637</td>\n",
       "      <td>0.097643</td>\n",
       "      <td>0.133558</td>\n",
       "      <td>0.383838</td>\n",
       "    </tr>\n",
       "    <tr>\n",
       "      <th>All</th>\n",
       "      <td>0.242424</td>\n",
       "      <td>0.206510</td>\n",
       "      <td>0.551066</td>\n",
       "      <td>1.000000</td>\n",
       "    </tr>\n",
       "  </tbody>\n",
       "</table>\n",
       "</div>"
      ],
      "text/plain": [
       "Pclass           1         2         3       All\n",
       "Survived                                        \n",
       "0         0.089787  0.108866  0.417508  0.616162\n",
       "1         0.152637  0.097643  0.133558  0.383838\n",
       "All       0.242424  0.206510  0.551066  1.000000"
      ]
     },
     "execution_count": 42,
     "metadata": {},
     "output_type": "execute_result"
    }
   ],
   "source": [
    "pd.crosstab(index = train.Survived, columns = train.Pclass, normalize = True, margins = True)"
   ]
  },
  {
   "cell_type": "code",
   "execution_count": 43,
   "id": "6965656a",
   "metadata": {},
   "outputs": [
    {
     "data": {
      "image/png": "[encoded data removed]",
      "text/plain": [
       "<Figure size 432x288 with 1 Axes>"
      ]
     },
     "metadata": {
      "needs_background": "light"
     },
     "output_type": "display_data"
    }
   ],
   "source": [
    "sns.countplot(x = train.Pclass, hue = train.Survived);"
   ]
  },
  {
   "cell_type": "markdown",
   "id": "2a572d51",
   "metadata": {},
   "source": [
    "Most passengers in Class 1 survived whereas most passengers in Class 3 did not survive. Ratio of passengers who survived and who did not survive is almost equal in class 2."
   ]
  },
  {
   "cell_type": "markdown",
   "id": "0b27b8e8",
   "metadata": {},
   "source": [
    "<b>Survived and Sex</b>"
   ]
  },
  {
   "cell_type": "code",
   "execution_count": 44,
   "id": "3a86b813",
   "metadata": {},
   "outputs": [
    {
     "data": {
      "text/html": [
       "<div>\n",
       "<style scoped>\n",
       "    .dataframe tbody tr th:only-of-type {\n",
       "        vertical-align: middle;\n",
       "    }\n",
       "\n",
       "    .dataframe tbody tr th {\n",
       "        vertical-align: top;\n",
       "    }\n",
       "\n",
       "    .dataframe thead th {\n",
       "        text-align: right;\n",
       "    }\n",
       "</style>\n",
       "<table border=\"1\" class=\"dataframe\">\n",
       "  <thead>\n",
       "    <tr style=\"text-align: right;\">\n",
       "      <th>Sex</th>\n",
       "      <th>female</th>\n",
       "      <th>male</th>\n",
       "      <th>All</th>\n",
       "    </tr>\n",
       "    <tr>\n",
       "      <th>Survived</th>\n",
       "      <th></th>\n",
       "      <th></th>\n",
       "      <th></th>\n",
       "    </tr>\n",
       "  </thead>\n",
       "  <tbody>\n",
       "    <tr>\n",
       "      <th>0</th>\n",
       "      <td>0.090909</td>\n",
       "      <td>0.525253</td>\n",
       "      <td>0.616162</td>\n",
       "    </tr>\n",
       "    <tr>\n",
       "      <th>1</th>\n",
       "      <td>0.261504</td>\n",
       "      <td>0.122334</td>\n",
       "      <td>0.383838</td>\n",
       "    </tr>\n",
       "    <tr>\n",
       "      <th>All</th>\n",
       "      <td>0.352413</td>\n",
       "      <td>0.647587</td>\n",
       "      <td>1.000000</td>\n",
       "    </tr>\n",
       "  </tbody>\n",
       "</table>\n",
       "</div>"
      ],
      "text/plain": [
       "Sex         female      male       All\n",
       "Survived                              \n",
       "0         0.090909  0.525253  0.616162\n",
       "1         0.261504  0.122334  0.383838\n",
       "All       0.352413  0.647587  1.000000"
      ]
     },
     "execution_count": 44,
     "metadata": {},
     "output_type": "execute_result"
    }
   ],
   "source": [
    "pd.crosstab(index = train.Survived, columns = train.Sex, normalize = True, margins = True)"
   ]
  },
  {
   "cell_type": "markdown",
   "id": "b50478cb",
   "metadata": {},
   "source": [
    "This shows that more females survived than males."
   ]
  },
  {
   "cell_type": "code",
   "execution_count": 45,
   "id": "130abe78",
   "metadata": {},
   "outputs": [
    {
     "data": {
      "image/png": "[encoded data removed]",
      "text/plain": [
       "<Figure size 432x288 with 1 Axes>"
      ]
     },
     "metadata": {
      "needs_background": "light"
     },
     "output_type": "display_data"
    }
   ],
   "source": [
    "sns.countplot(x = train.Sex, hue = train.Survived);"
   ]
  },
  {
   "cell_type": "markdown",
   "id": "d835348d",
   "metadata": {},
   "source": [
    "<b>Survived and Age</b>"
   ]
  },
  {
   "cell_type": "code",
   "execution_count": 46,
   "id": "72d70696",
   "metadata": {},
   "outputs": [
    {
     "data": {
      "image/png": "[encoded data removed]",
      "text/plain": [
       "<Figure size 411.875x360 with 1 Axes>"
      ]
     },
     "metadata": {
      "needs_background": "light"
     },
     "output_type": "display_data"
    }
   ],
   "source": [
    "sns.displot(x = train.Age, hue = train.Survived, kind = 'kde');"
   ]
  },
  {
   "cell_type": "markdown",
   "id": "7989b952",
   "metadata": {},
   "source": [
    "The density plot for those who survived is above that of those who did not survive till the age of approximately 17. This suggests that younger passengers were more likely to survive."
   ]
  },
  {
   "cell_type": "markdown",
   "id": "51ef9a74",
   "metadata": {},
   "source": [
    "<b>Survived and SibSp</b>"
   ]
  },
  {
   "cell_type": "code",
   "execution_count": 47,
   "id": "f82e5c94",
   "metadata": {},
   "outputs": [
    {
     "data": {
      "text/html": [
       "<div>\n",
       "<style scoped>\n",
       "    .dataframe tbody tr th:only-of-type {\n",
       "        vertical-align: middle;\n",
       "    }\n",
       "\n",
       "    .dataframe tbody tr th {\n",
       "        vertical-align: top;\n",
       "    }\n",
       "\n",
       "    .dataframe thead th {\n",
       "        text-align: right;\n",
       "    }\n",
       "</style>\n",
       "<table border=\"1\" class=\"dataframe\">\n",
       "  <thead>\n",
       "    <tr style=\"text-align: right;\">\n",
       "      <th>SibSp</th>\n",
       "      <th>0</th>\n",
       "      <th>1</th>\n",
       "      <th>2</th>\n",
       "      <th>3</th>\n",
       "      <th>4</th>\n",
       "      <th>5</th>\n",
       "      <th>8</th>\n",
       "      <th>All</th>\n",
       "    </tr>\n",
       "    <tr>\n",
       "      <th>Survived</th>\n",
       "      <th></th>\n",
       "      <th></th>\n",
       "      <th></th>\n",
       "      <th></th>\n",
       "      <th></th>\n",
       "      <th></th>\n",
       "      <th></th>\n",
       "      <th></th>\n",
       "    </tr>\n",
       "  </thead>\n",
       "  <tbody>\n",
       "    <tr>\n",
       "      <th>0</th>\n",
       "      <td>0.446689</td>\n",
       "      <td>0.108866</td>\n",
       "      <td>0.016835</td>\n",
       "      <td>0.013468</td>\n",
       "      <td>0.016835</td>\n",
       "      <td>0.005612</td>\n",
       "      <td>0.007856</td>\n",
       "      <td>0.616162</td>\n",
       "    </tr>\n",
       "    <tr>\n",
       "      <th>1</th>\n",
       "      <td>0.235690</td>\n",
       "      <td>0.125701</td>\n",
       "      <td>0.014590</td>\n",
       "      <td>0.004489</td>\n",
       "      <td>0.003367</td>\n",
       "      <td>0.000000</td>\n",
       "      <td>0.000000</td>\n",
       "      <td>0.383838</td>\n",
       "    </tr>\n",
       "    <tr>\n",
       "      <th>All</th>\n",
       "      <td>0.682379</td>\n",
       "      <td>0.234568</td>\n",
       "      <td>0.031425</td>\n",
       "      <td>0.017957</td>\n",
       "      <td>0.020202</td>\n",
       "      <td>0.005612</td>\n",
       "      <td>0.007856</td>\n",
       "      <td>1.000000</td>\n",
       "    </tr>\n",
       "  </tbody>\n",
       "</table>\n",
       "</div>"
      ],
      "text/plain": [
       "SibSp            0         1         2         3         4         5  \\\n",
       "Survived                                                               \n",
       "0         0.446689  0.108866  0.016835  0.013468  0.016835  0.005612   \n",
       "1         0.235690  0.125701  0.014590  0.004489  0.003367  0.000000   \n",
       "All       0.682379  0.234568  0.031425  0.017957  0.020202  0.005612   \n",
       "\n",
       "SibSp            8       All  \n",
       "Survived                      \n",
       "0         0.007856  0.616162  \n",
       "1         0.000000  0.383838  \n",
       "All       0.007856  1.000000  "
      ]
     },
     "execution_count": 47,
     "metadata": {},
     "output_type": "execute_result"
    }
   ],
   "source": [
    "pd.crosstab(index = train.Survived, columns = train.SibSp, margins = True, normalize = True)"
   ]
  },
  {
   "cell_type": "code",
   "execution_count": 48,
   "id": "4057ff83",
   "metadata": {},
   "outputs": [
    {
     "data": {
      "image/png": "[encoded data removed]",
      "text/plain": [
       "<Figure size 432x288 with 1 Axes>"
      ]
     },
     "metadata": {
      "needs_background": "light"
     },
     "output_type": "display_data"
    }
   ],
   "source": [
    "sns.countplot(x = train.SibSp, hue = train.Survived);"
   ]
  },
  {
   "cell_type": "markdown",
   "id": "3ea085ad",
   "metadata": {},
   "source": [
    "Most people with no siblings or spouses did not survive. Those who had 1 sibling or spouse mostly survided. Passengers with more than 1 sibling or spouses were more likely to not survive."
   ]
  },
  {
   "cell_type": "markdown",
   "id": "450d371d",
   "metadata": {},
   "source": [
    "<b>Survived and Parch</b>"
   ]
  },
  {
   "cell_type": "code",
   "execution_count": 49,
   "id": "becc48f3",
   "metadata": {},
   "outputs": [
    {
     "data": {
      "text/html": [
       "<div>\n",
       "<style scoped>\n",
       "    .dataframe tbody tr th:only-of-type {\n",
       "        vertical-align: middle;\n",
       "    }\n",
       "\n",
       "    .dataframe tbody tr th {\n",
       "        vertical-align: top;\n",
       "    }\n",
       "\n",
       "    .dataframe thead th {\n",
       "        text-align: right;\n",
       "    }\n",
       "</style>\n",
       "<table border=\"1\" class=\"dataframe\">\n",
       "  <thead>\n",
       "    <tr style=\"text-align: right;\">\n",
       "      <th>Parch</th>\n",
       "      <th>0</th>\n",
       "      <th>1</th>\n",
       "      <th>2</th>\n",
       "      <th>3</th>\n",
       "      <th>4</th>\n",
       "      <th>5</th>\n",
       "      <th>6</th>\n",
       "      <th>All</th>\n",
       "    </tr>\n",
       "    <tr>\n",
       "      <th>Survived</th>\n",
       "      <th></th>\n",
       "      <th></th>\n",
       "      <th></th>\n",
       "      <th></th>\n",
       "      <th></th>\n",
       "      <th></th>\n",
       "      <th></th>\n",
       "      <th></th>\n",
       "    </tr>\n",
       "  </thead>\n",
       "  <tbody>\n",
       "    <tr>\n",
       "      <th>0</th>\n",
       "      <td>0.499439</td>\n",
       "      <td>0.059484</td>\n",
       "      <td>0.044893</td>\n",
       "      <td>0.002245</td>\n",
       "      <td>0.004489</td>\n",
       "      <td>0.004489</td>\n",
       "      <td>0.001122</td>\n",
       "      <td>0.616162</td>\n",
       "    </tr>\n",
       "    <tr>\n",
       "      <th>1</th>\n",
       "      <td>0.261504</td>\n",
       "      <td>0.072952</td>\n",
       "      <td>0.044893</td>\n",
       "      <td>0.003367</td>\n",
       "      <td>0.000000</td>\n",
       "      <td>0.001122</td>\n",
       "      <td>0.000000</td>\n",
       "      <td>0.383838</td>\n",
       "    </tr>\n",
       "    <tr>\n",
       "      <th>All</th>\n",
       "      <td>0.760943</td>\n",
       "      <td>0.132435</td>\n",
       "      <td>0.089787</td>\n",
       "      <td>0.005612</td>\n",
       "      <td>0.004489</td>\n",
       "      <td>0.005612</td>\n",
       "      <td>0.001122</td>\n",
       "      <td>1.000000</td>\n",
       "    </tr>\n",
       "  </tbody>\n",
       "</table>\n",
       "</div>"
      ],
      "text/plain": [
       "Parch            0         1         2         3         4         5  \\\n",
       "Survived                                                               \n",
       "0         0.499439  0.059484  0.044893  0.002245  0.004489  0.004489   \n",
       "1         0.261504  0.072952  0.044893  0.003367  0.000000  0.001122   \n",
       "All       0.760943  0.132435  0.089787  0.005612  0.004489  0.005612   \n",
       "\n",
       "Parch            6       All  \n",
       "Survived                      \n",
       "0         0.001122  0.616162  \n",
       "1         0.000000  0.383838  \n",
       "All       0.001122  1.000000  "
      ]
     },
     "execution_count": 49,
     "metadata": {},
     "output_type": "execute_result"
    }
   ],
   "source": [
    "pd.crosstab(index = train.Survived, columns = train.Parch, margins = True, normalize = True)"
   ]
  },
  {
   "cell_type": "code",
   "execution_count": 50,
   "id": "fe958925",
   "metadata": {},
   "outputs": [
    {
     "data": {
      "image/png": "[encoded data removed]",
      "text/plain": [
       "<Figure size 432x288 with 1 Axes>"
      ]
     },
     "metadata": {
      "needs_background": "light"
     },
     "output_type": "display_data"
    }
   ],
   "source": [
    "sns.countplot(x = train.Parch, hue = train.Survived);"
   ]
  },
  {
   "cell_type": "markdown",
   "id": "841372b2",
   "metadata": {},
   "source": [
    "Most people with no parents or children did not survive. Those having 1 or 2 parents or chidren were more likely to survive. Passengers with 3 or more than 3 parents or children were less likely to survive."
   ]
  },
  {
   "cell_type": "markdown",
   "id": "8421ac1e",
   "metadata": {},
   "source": [
    "<b>Survived and Fare</b>"
   ]
  },
  {
   "cell_type": "code",
   "execution_count": 51,
   "id": "fcd4cf81",
   "metadata": {},
   "outputs": [
    {
     "data": {
      "image/png": "[encoded data removed]",
      "text/plain": [
       "<Figure size 411.875x360 with 1 Axes>"
      ]
     },
     "metadata": {
      "needs_background": "light"
     },
     "output_type": "display_data"
    }
   ],
   "source": [
    "sns.displot(x = train.Fare, hue = train.Survived, kind = 'kde');"
   ]
  },
  {
   "cell_type": "markdown",
   "id": "3590014f",
   "metadata": {},
   "source": [
    "Passengers who paid higher fair were more likely to survive."
   ]
  },
  {
   "cell_type": "markdown",
   "id": "9d3d0096",
   "metadata": {},
   "source": [
    "<b>Survived and Embarked</b>"
   ]
  },
  {
   "cell_type": "code",
   "execution_count": 52,
   "id": "9ffbaa2b",
   "metadata": {},
   "outputs": [
    {
     "data": {
      "text/html": [
       "<div>\n",
       "<style scoped>\n",
       "    .dataframe tbody tr th:only-of-type {\n",
       "        vertical-align: middle;\n",
       "    }\n",
       "\n",
       "    .dataframe tbody tr th {\n",
       "        vertical-align: top;\n",
       "    }\n",
       "\n",
       "    .dataframe thead th {\n",
       "        text-align: right;\n",
       "    }\n",
       "</style>\n",
       "<table border=\"1\" class=\"dataframe\">\n",
       "  <thead>\n",
       "    <tr style=\"text-align: right;\">\n",
       "      <th>Embarked</th>\n",
       "      <th>C</th>\n",
       "      <th>Q</th>\n",
       "      <th>S</th>\n",
       "      <th>All</th>\n",
       "    </tr>\n",
       "    <tr>\n",
       "      <th>Survived</th>\n",
       "      <th></th>\n",
       "      <th></th>\n",
       "      <th></th>\n",
       "      <th></th>\n",
       "    </tr>\n",
       "  </thead>\n",
       "  <tbody>\n",
       "    <tr>\n",
       "      <th>0</th>\n",
       "      <td>0.084364</td>\n",
       "      <td>0.052868</td>\n",
       "      <td>0.480315</td>\n",
       "      <td>0.617548</td>\n",
       "    </tr>\n",
       "    <tr>\n",
       "      <th>1</th>\n",
       "      <td>0.104612</td>\n",
       "      <td>0.033746</td>\n",
       "      <td>0.244094</td>\n",
       "      <td>0.382452</td>\n",
       "    </tr>\n",
       "    <tr>\n",
       "      <th>All</th>\n",
       "      <td>0.188976</td>\n",
       "      <td>0.086614</td>\n",
       "      <td>0.724409</td>\n",
       "      <td>1.000000</td>\n",
       "    </tr>\n",
       "  </tbody>\n",
       "</table>\n",
       "</div>"
      ],
      "text/plain": [
       "Embarked         C         Q         S       All\n",
       "Survived                                        \n",
       "0         0.084364  0.052868  0.480315  0.617548\n",
       "1         0.104612  0.033746  0.244094  0.382452\n",
       "All       0.188976  0.086614  0.724409  1.000000"
      ]
     },
     "execution_count": 52,
     "metadata": {},
     "output_type": "execute_result"
    }
   ],
   "source": [
    "pd.crosstab(index = train.Survived, columns = train.Embarked, margins = True, normalize = True)"
   ]
  },
  {
   "cell_type": "code",
   "execution_count": 53,
   "id": "ffad9ff7",
   "metadata": {},
   "outputs": [
    {
     "data": {
      "image/png": "[encoded data removed]",
      "text/plain": [
       "<Figure size 432x288 with 1 Axes>"
      ]
     },
     "metadata": {
      "needs_background": "light"
     },
     "output_type": "display_data"
    }
   ],
   "source": [
    "sns.countplot(x = train.Embarked, hue = train.Survived);"
   ]
  },
  {
   "cell_type": "markdown",
   "id": "1cd9ad93",
   "metadata": {},
   "source": [
    "Passengers who embarked from S and Q were more likey to not survive."
   ]
  },
  {
   "cell_type": "markdown",
   "id": "1f6354f3",
   "metadata": {},
   "source": [
    "### Missing value treatement"
   ]
  },
  {
   "cell_type": "markdown",
   "id": "b97518b2",
   "metadata": {},
   "source": [
    "Dealing with Age:"
   ]
  },
  {
   "cell_type": "code",
   "execution_count": 54,
   "id": "a13724ee",
   "metadata": {
    "scrolled": true
   },
   "outputs": [
    {
     "data": {
      "text/html": [
       "<div>\n",
       "<style scoped>\n",
       "    .dataframe tbody tr th:only-of-type {\n",
       "        vertical-align: middle;\n",
       "    }\n",
       "\n",
       "    .dataframe tbody tr th {\n",
       "        vertical-align: top;\n",
       "    }\n",
       "\n",
       "    .dataframe thead th {\n",
       "        text-align: right;\n",
       "    }\n",
       "</style>\n",
       "<table border=\"1\" class=\"dataframe\">\n",
       "  <thead>\n",
       "    <tr style=\"text-align: right;\">\n",
       "      <th></th>\n",
       "      <th>Survived</th>\n",
       "      <th>Pclass</th>\n",
       "      <th>Name</th>\n",
       "      <th>Sex</th>\n",
       "      <th>Age</th>\n",
       "      <th>SibSp</th>\n",
       "      <th>Parch</th>\n",
       "      <th>Ticket</th>\n",
       "      <th>Fare</th>\n",
       "      <th>Cabin</th>\n",
       "      <th>Embarked</th>\n",
       "    </tr>\n",
       "  </thead>\n",
       "  <tbody>\n",
       "    <tr>\n",
       "      <th>5</th>\n",
       "      <td>0</td>\n",
       "      <td>3</td>\n",
       "      <td>Moran, Mr. James</td>\n",
       "      <td>male</td>\n",
       "      <td>NaN</td>\n",
       "      <td>0</td>\n",
       "      <td>0</td>\n",
       "      <td>330877</td>\n",
       "      <td>8.4583</td>\n",
       "      <td>NaN</td>\n",
       "      <td>Q</td>\n",
       "    </tr>\n",
       "    <tr>\n",
       "      <th>17</th>\n",
       "      <td>1</td>\n",
       "      <td>2</td>\n",
       "      <td>Williams, Mr. Charles Eugene</td>\n",
       "      <td>male</td>\n",
       "      <td>NaN</td>\n",
       "      <td>0</td>\n",
       "      <td>0</td>\n",
       "      <td>244373</td>\n",
       "      <td>13.0000</td>\n",
       "      <td>NaN</td>\n",
       "      <td>S</td>\n",
       "    </tr>\n",
       "    <tr>\n",
       "      <th>19</th>\n",
       "      <td>1</td>\n",
       "      <td>3</td>\n",
       "      <td>Masselmani, Mrs. Fatima</td>\n",
       "      <td>female</td>\n",
       "      <td>NaN</td>\n",
       "      <td>0</td>\n",
       "      <td>0</td>\n",
       "      <td>2649</td>\n",
       "      <td>7.2250</td>\n",
       "      <td>NaN</td>\n",
       "      <td>C</td>\n",
       "    </tr>\n",
       "    <tr>\n",
       "      <th>26</th>\n",
       "      <td>0</td>\n",
       "      <td>3</td>\n",
       "      <td>Emir, Mr. Farred Chehab</td>\n",
       "      <td>male</td>\n",
       "      <td>NaN</td>\n",
       "      <td>0</td>\n",
       "      <td>0</td>\n",
       "      <td>2631</td>\n",
       "      <td>7.2250</td>\n",
       "      <td>NaN</td>\n",
       "      <td>C</td>\n",
       "    </tr>\n",
       "    <tr>\n",
       "      <th>28</th>\n",
       "      <td>1</td>\n",
       "      <td>3</td>\n",
       "      <td>O'Dwyer, Miss. Ellen \"Nellie\"</td>\n",
       "      <td>female</td>\n",
       "      <td>NaN</td>\n",
       "      <td>0</td>\n",
       "      <td>0</td>\n",
       "      <td>330959</td>\n",
       "      <td>7.8792</td>\n",
       "      <td>NaN</td>\n",
       "      <td>Q</td>\n",
       "    </tr>\n",
       "    <tr>\n",
       "      <th>...</th>\n",
       "      <td>...</td>\n",
       "      <td>...</td>\n",
       "      <td>...</td>\n",
       "      <td>...</td>\n",
       "      <td>...</td>\n",
       "      <td>...</td>\n",
       "      <td>...</td>\n",
       "      <td>...</td>\n",
       "      <td>...</td>\n",
       "      <td>...</td>\n",
       "      <td>...</td>\n",
       "    </tr>\n",
       "    <tr>\n",
       "      <th>859</th>\n",
       "      <td>0</td>\n",
       "      <td>3</td>\n",
       "      <td>Razi, Mr. Raihed</td>\n",
       "      <td>male</td>\n",
       "      <td>NaN</td>\n",
       "      <td>0</td>\n",
       "      <td>0</td>\n",
       "      <td>2629</td>\n",
       "      <td>7.2292</td>\n",
       "      <td>NaN</td>\n",
       "      <td>C</td>\n",
       "    </tr>\n",
       "    <tr>\n",
       "      <th>863</th>\n",
       "      <td>0</td>\n",
       "      <td>3</td>\n",
       "      <td>Sage, Miss. Dorothy Edith \"Dolly\"</td>\n",
       "      <td>female</td>\n",
       "      <td>NaN</td>\n",
       "      <td>8</td>\n",
       "      <td>2</td>\n",
       "      <td>CA. 2343</td>\n",
       "      <td>69.5500</td>\n",
       "      <td>NaN</td>\n",
       "      <td>S</td>\n",
       "    </tr>\n",
       "    <tr>\n",
       "      <th>868</th>\n",
       "      <td>0</td>\n",
       "      <td>3</td>\n",
       "      <td>van Melkebeke, Mr. Philemon</td>\n",
       "      <td>male</td>\n",
       "      <td>NaN</td>\n",
       "      <td>0</td>\n",
       "      <td>0</td>\n",
       "      <td>345777</td>\n",
       "      <td>9.5000</td>\n",
       "      <td>NaN</td>\n",
       "      <td>S</td>\n",
       "    </tr>\n",
       "    <tr>\n",
       "      <th>878</th>\n",
       "      <td>0</td>\n",
       "      <td>3</td>\n",
       "      <td>Laleff, Mr. Kristo</td>\n",
       "      <td>male</td>\n",
       "      <td>NaN</td>\n",
       "      <td>0</td>\n",
       "      <td>0</td>\n",
       "      <td>349217</td>\n",
       "      <td>7.8958</td>\n",
       "      <td>NaN</td>\n",
       "      <td>S</td>\n",
       "    </tr>\n",
       "    <tr>\n",
       "      <th>888</th>\n",
       "      <td>0</td>\n",
       "      <td>3</td>\n",
       "      <td>Johnston, Miss. Catherine Helen \"Carrie\"</td>\n",
       "      <td>female</td>\n",
       "      <td>NaN</td>\n",
       "      <td>1</td>\n",
       "      <td>2</td>\n",
       "      <td>W./C. 6607</td>\n",
       "      <td>23.4500</td>\n",
       "      <td>NaN</td>\n",
       "      <td>S</td>\n",
       "    </tr>\n",
       "  </tbody>\n",
       "</table>\n",
       "<p>177 rows × 11 columns</p>\n",
       "</div>"
      ],
      "text/plain": [
       "     Survived  Pclass                                      Name     Sex  Age  \\\n",
       "5           0       3                          Moran, Mr. James    male  NaN   \n",
       "17          1       2              Williams, Mr. Charles Eugene    male  NaN   \n",
       "19          1       3                   Masselmani, Mrs. Fatima  female  NaN   \n",
       "26          0       3                   Emir, Mr. Farred Chehab    male  NaN   \n",
       "28          1       3             O'Dwyer, Miss. Ellen \"Nellie\"  female  NaN   \n",
       "..        ...     ...                                       ...     ...  ...   \n",
       "859         0       3                          Razi, Mr. Raihed    male  NaN   \n",
       "863         0       3         Sage, Miss. Dorothy Edith \"Dolly\"  female  NaN   \n",
       "868         0       3               van Melkebeke, Mr. Philemon    male  NaN   \n",
       "878         0       3                        Laleff, Mr. Kristo    male  NaN   \n",
       "888         0       3  Johnston, Miss. Catherine Helen \"Carrie\"  female  NaN   \n",
       "\n",
       "     SibSp  Parch      Ticket     Fare Cabin Embarked  \n",
       "5        0      0      330877   8.4583   NaN        Q  \n",
       "17       0      0      244373  13.0000   NaN        S  \n",
       "19       0      0        2649   7.2250   NaN        C  \n",
       "26       0      0        2631   7.2250   NaN        C  \n",
       "28       0      0      330959   7.8792   NaN        Q  \n",
       "..     ...    ...         ...      ...   ...      ...  \n",
       "859      0      0        2629   7.2292   NaN        C  \n",
       "863      8      2    CA. 2343  69.5500   NaN        S  \n",
       "868      0      0      345777   9.5000   NaN        S  \n",
       "878      0      0      349217   7.8958   NaN        S  \n",
       "888      1      2  W./C. 6607  23.4500   NaN        S  \n",
       "\n",
       "[177 rows x 11 columns]"
      ]
     },
     "execution_count": 54,
     "metadata": {},
     "output_type": "execute_result"
    }
   ],
   "source": [
    "no_age = train[train.Age.isnull()] #passengers with no age adata\n",
    "no_age"
   ]
  },
  {
   "cell_type": "code",
   "execution_count": 55,
   "id": "2fe736b8",
   "metadata": {},
   "outputs": [
    {
     "data": {
      "text/plain": [
       "male      124\n",
       "female     53\n",
       "Name: Sex, dtype: int64"
      ]
     },
     "execution_count": 55,
     "metadata": {},
     "output_type": "execute_result"
    }
   ],
   "source": [
    "no_age.Sex.value_counts()"
   ]
  },
  {
   "cell_type": "code",
   "execution_count": 56,
   "id": "a2790456",
   "metadata": {},
   "outputs": [
    {
     "data": {
      "text/plain": [
       "0    125\n",
       "1     52\n",
       "Name: Survived, dtype: int64"
      ]
     },
     "execution_count": 56,
     "metadata": {},
     "output_type": "execute_result"
    }
   ],
   "source": [
    "no_age.Survived.value_counts()"
   ]
  },
  {
   "cell_type": "code",
   "execution_count": 57,
   "id": "9d5aae4d",
   "metadata": {},
   "outputs": [
    {
     "data": {
      "text/plain": [
       "0    137\n",
       "1     26\n",
       "8      7\n",
       "3      4\n",
       "2      3\n",
       "Name: SibSp, dtype: int64"
      ]
     },
     "execution_count": 57,
     "metadata": {},
     "output_type": "execute_result"
    }
   ],
   "source": [
    "no_age.SibSp.value_counts()"
   ]
  },
  {
   "cell_type": "markdown",
   "id": "53c374bc",
   "metadata": {},
   "source": [
    "Among those whose age is missing, passengers with less co-passengers seem less likely to survive."
   ]
  },
  {
   "cell_type": "code",
   "execution_count": 58,
   "id": "27500d51",
   "metadata": {},
   "outputs": [
    {
     "data": {
      "text/plain": [
       "0    157\n",
       "2     12\n",
       "1      8\n",
       "Name: Parch, dtype: int64"
      ]
     },
     "execution_count": 58,
     "metadata": {},
     "output_type": "execute_result"
    }
   ],
   "source": [
    "no_age.Parch.value_counts()"
   ]
  },
  {
   "cell_type": "code",
   "execution_count": 59,
   "id": "e2b401f8",
   "metadata": {},
   "outputs": [
    {
     "data": {
      "text/html": [
       "<div>\n",
       "<style scoped>\n",
       "    .dataframe tbody tr th:only-of-type {\n",
       "        vertical-align: middle;\n",
       "    }\n",
       "\n",
       "    .dataframe tbody tr th {\n",
       "        vertical-align: top;\n",
       "    }\n",
       "\n",
       "    .dataframe thead th {\n",
       "        text-align: right;\n",
       "    }\n",
       "</style>\n",
       "<table border=\"1\" class=\"dataframe\">\n",
       "  <thead>\n",
       "    <tr style=\"text-align: right;\">\n",
       "      <th>Parch</th>\n",
       "      <th>0</th>\n",
       "      <th>1</th>\n",
       "      <th>2</th>\n",
       "      <th>All</th>\n",
       "    </tr>\n",
       "    <tr>\n",
       "      <th>Survived</th>\n",
       "      <th></th>\n",
       "      <th></th>\n",
       "      <th></th>\n",
       "      <th></th>\n",
       "    </tr>\n",
       "  </thead>\n",
       "  <tbody>\n",
       "    <tr>\n",
       "      <th>0</th>\n",
       "      <td>0.621469</td>\n",
       "      <td>0.022599</td>\n",
       "      <td>0.062147</td>\n",
       "      <td>0.706215</td>\n",
       "    </tr>\n",
       "    <tr>\n",
       "      <th>1</th>\n",
       "      <td>0.265537</td>\n",
       "      <td>0.022599</td>\n",
       "      <td>0.005650</td>\n",
       "      <td>0.293785</td>\n",
       "    </tr>\n",
       "    <tr>\n",
       "      <th>All</th>\n",
       "      <td>0.887006</td>\n",
       "      <td>0.045198</td>\n",
       "      <td>0.067797</td>\n",
       "      <td>1.000000</td>\n",
       "    </tr>\n",
       "  </tbody>\n",
       "</table>\n",
       "</div>"
      ],
      "text/plain": [
       "Parch            0         1         2       All\n",
       "Survived                                        \n",
       "0         0.621469  0.022599  0.062147  0.706215\n",
       "1         0.265537  0.022599  0.005650  0.293785\n",
       "All       0.887006  0.045198  0.067797  1.000000"
      ]
     },
     "execution_count": 59,
     "metadata": {},
     "output_type": "execute_result"
    }
   ],
   "source": [
    "pd.crosstab(index = no_age.Survived, columns = no_age.Parch, margins = True, normalize = True)"
   ]
  },
  {
   "cell_type": "markdown",
   "id": "8def17d9",
   "metadata": {},
   "source": [
    "Among those whose age is missing, passengers with less parents/children seem less likely to survive."
   ]
  },
  {
   "cell_type": "markdown",
   "id": "be597c78",
   "metadata": {},
   "source": [
    "Missing age values can be replaced by the median of all age values."
   ]
  },
  {
   "cell_type": "markdown",
   "id": "3c07329d",
   "metadata": {},
   "source": [
    "Dealing with Ticket:"
   ]
  },
  {
   "cell_type": "code",
   "execution_count": 60,
   "id": "a39f9c6c",
   "metadata": {},
   "outputs": [
    {
     "data": {
      "text/plain": [
       "(681,)"
      ]
     },
     "execution_count": 60,
     "metadata": {},
     "output_type": "execute_result"
    }
   ],
   "source": [
    "train.Ticket.value_counts().shape"
   ]
  },
  {
   "cell_type": "code",
   "execution_count": 61,
   "id": "9b556347",
   "metadata": {},
   "outputs": [],
   "source": [
    "count = 0\n",
    "for i in train.Ticket.value_counts():\n",
    "    if i > 1:\n",
    "        count = count + 1"
   ]
  },
  {
   "cell_type": "code",
   "execution_count": 62,
   "id": "c7d693e0",
   "metadata": {},
   "outputs": [
    {
     "name": "stdout",
     "output_type": "stream",
     "text": [
      "In 681 unique tickets 134 tickets are repeated.\n"
     ]
    }
   ],
   "source": [
    "print(\"In\", train.Ticket.value_counts().shape[0], \"unique tickets\", count, \"tickets are repeated.\")"
   ]
  },
  {
   "cell_type": "code",
   "execution_count": 63,
   "id": "1d3fccb8",
   "metadata": {},
   "outputs": [
    {
     "name": "stdout",
     "output_type": "stream",
     "text": [
      "19.676945668135097 % tickets are repeated.\n"
     ]
    }
   ],
   "source": [
    "print((count/train.Ticket.value_counts().shape[0])*100, \"% tickets are repeated.\")"
   ]
  },
  {
   "cell_type": "code",
   "execution_count": 64,
   "id": "c5f7a1d7",
   "metadata": {},
   "outputs": [],
   "source": [
    "just_numbers = [] #stores all ticket numbers that are totally numeric\n",
    "alpha_numeric = [] #stores all ticket numbers that are alpha numeric\n",
    "for i in train.Ticket.values:\n",
    "    if i.isnumeric():\n",
    "        just_numbers.append(i)\n",
    "    else:\n",
    "        alpha_numeric.append(i) "
   ]
  },
  {
   "cell_type": "code",
   "execution_count": 65,
   "id": "abf22783",
   "metadata": {},
   "outputs": [
    {
     "data": {
      "text/plain": [
       "(661, 230)"
      ]
     },
     "execution_count": 65,
     "metadata": {},
     "output_type": "execute_result"
    }
   ],
   "source": [
    "len(just_numbers), len(alpha_numeric)"
   ]
  },
  {
   "cell_type": "code",
   "execution_count": 66,
   "id": "bec3770e",
   "metadata": {},
   "outputs": [
    {
     "data": {
      "text/plain": [
       "(514, 167)"
      ]
     },
     "execution_count": 66,
     "metadata": {},
     "output_type": "execute_result"
    }
   ],
   "source": [
    "len(set(just_numbers)), len(set(alpha_numeric))"
   ]
  },
  {
   "cell_type": "code",
   "execution_count": 67,
   "id": "7eaafdb2",
   "metadata": {},
   "outputs": [],
   "source": [
    "just_numbers = np.array(just_numbers, dtype = 'int32')"
   ]
  },
  {
   "cell_type": "code",
   "execution_count": 68,
   "id": "b33d1efb",
   "metadata": {},
   "outputs": [
    {
     "data": {
      "text/plain": [
       "array([    693,     695,    1601,    1601,    1601,    1601,    1601,\n",
       "          1601,    1601,    2003,    2223,    2620,    2623,    2624,\n",
       "          2625,    2626,    2627,    2627,    2628,    2629,    2631,\n",
       "          2641,    2647,    2648,    2649,    2650,    2651,    2651,\n",
       "          2653,    2653,    2659,    2659,    2661,    2661,    2662,\n",
       "          2663,    2664,    2665,    2665,    2666,    2666,    2666,\n",
       "          2666,    2667,    2668,    2668,    2669,    2671,    2672,\n",
       "          2674,    2677,    2678,    2678,    2680,    2683,    2685,\n",
       "          2686,    2687,    2689,    2690,    2691,    2691,    2693,\n",
       "          2694,    2695,    2697,    2699,    2699,    2700,    2908,\n",
       "          2908,    2926,    3411,    3460,    3474,    4133,    4133,\n",
       "          4133,    4133,    4134,    4135,    4136,    4137,    4138,\n",
       "          4579,    5727,    6563,    7267,    7534,    7534,    7540,\n",
       "          7545,    7546,    7552,    7553,    7598,    8471,    8475,\n",
       "          9234,   11668,   11668,   11751,   11751,   11752,   11753,\n",
       "         11755,   11765,   11767,   11767,   11769,   11771,   11774,\n",
       "         11813,   11967,   11967,   12233,   12460,   12749,   12749,\n",
       "         13049,   13213,   13214,   13502,   13502,   13502,   13507,\n",
       "         13507,   13509,   13567,   13568,   14311,   14312,   14313,\n",
       "         14973,   16966,   16966,   16988,   17421,   17421,   17421,\n",
       "         17421,   17453,   17453,   17463,   17464,   17465,   17466,\n",
       "         17474,   17474,   17764,   19877,   19877,   19928,   19928,\n",
       "         19943,   19943,   19947,   19950,   19950,   19950,   19950,\n",
       "         19952,   19972,   19988,   19996,   19996,   21440,   24160,\n",
       "         24160,   24160,   26360,   26360,   26707,   27042,   27267,\n",
       "         27849,   28134,   28206,   28213,   28220,   28228,   28403,\n",
       "         28403,   28424,   28425,   28551,   28664,   28665,   29011,\n",
       "         29103,   29104,   29105,   29106,   29106,   29106,   29108,\n",
       "         29750,   29750,   29751,   31027,   31027,   31028,   31418,\n",
       "         33638,   34218,   35273,   35273,   35273,   35281,   35281,\n",
       "         35851,   35852,   36209,   36568,   36864,   36865,   36866,\n",
       "         36928,   36928,   36947,   36947,   36963,   36967,   36973,\n",
       "         36973,   54636,   54636,   65303,   65304,   65306,  110152,\n",
       "        110152,  110152,  110413,  110413,  110413,  110465,  110465,\n",
       "        110564,  110813,  111240,  111320,  111361,  111361,  111369,\n",
       "        111426,  111427,  111428,  112050,  112052,  112053,  112058,\n",
       "        112059,  112277,  112379,  113028,  113043,  113050,  113051,\n",
       "        113055,  113056,  113059,  113501,  113503,  113505,  113505,\n",
       "        113509,  113510,  113514,  113572,  113572,  113760,  113760,\n",
       "        113760,  113760,  113767,  113773,  113776,  113776,  113781,\n",
       "        113781,  113781,  113781,  113783,  113784,  113786,  113787,\n",
       "        113788,  113789,  113789,  113792,  113794,  113796,  113798,\n",
       "        113798,  113800,  113803,  113803,  113804,  113806,  113806,\n",
       "        113807,  211536,  218629,  219533,  220367,  220845,  220845,\n",
       "        223596,  226593,  226875,  228414,  229236,  230080,  230080,\n",
       "        230080,  230136,  230136,  230433,  230433,  230434,  231919,\n",
       "        231919,  231945,  233639,  233866,  234360,  234604,  234686,\n",
       "        234818,  236171,  236852,  236853,  237442,  237565,  237668,\n",
       "        237671,  237736,  237736,  237789,  237798,  239853,  239853,\n",
       "        239853,  239854,  239855,  239856,  239865,  239865,  240929,\n",
       "        243847,  243847,  243880,  244252,  244252,  244270,  244278,\n",
       "        244310,  244358,  244361,  244367,  244367,  244373,  248698,\n",
       "        248706,  248723,  248727,  248727,  248727,  248731,  248733,\n",
       "        248738,  248738,  248740,  248747,  250643,  250644,  250644,\n",
       "        250646,  250647,  250647,  250648,  250649,  250649,  250651,\n",
       "        250652,  250653,  250655,  250655,  312991,  312992,  312993,\n",
       "        315037,  315082,  315084,  315086,  315088,  315089,  315090,\n",
       "        315093,  315094,  315096,  315097,  315098,  315151,  315153,\n",
       "        323592,  323951,  324669,  330877,  330909,  330919,  330923,\n",
       "        330931,  330932,  330935,  330958,  330959,  330979,  330980,\n",
       "        334912,  335097,  335677,  336439,  341826,  342826,  343095,\n",
       "        343120,  343275,  343276,  345364,  345572,  345763,  345764,\n",
       "        345764,  345765,  345767,  345769,  345770,  345773,  345773,\n",
       "        345773,  345774,  345777,  345778,  345779,  345780,  345781,\n",
       "        345783,  347054,  347054,  347060,  347061,  347062,  347063,\n",
       "        347064,  347067,  347068,  347069,  347071,  347073,  347074,\n",
       "        347076,  347077,  347077,  347077,  347077,  347078,  347080,\n",
       "        347080,  347081,  347082,  347082,  347082,  347082,  347082,\n",
       "        347082,  347082,  347083,  347085,  347087,  347088,  347088,\n",
       "        347088,  347088,  347088,  347088,  347089,  347464,  347466,\n",
       "        347468,  347470,  347742,  347742,  347742,  347743,  348121,\n",
       "        348123,  348124,  349201,  349203,  349204,  349205,  349206,\n",
       "        349207,  349208,  349209,  349210,  349212,  349213,  349214,\n",
       "        349215,  349216,  349217,  349218,  349219,  349221,  349222,\n",
       "        349223,  349224,  349225,  349227,  349228,  349231,  349233,\n",
       "        349234,  349236,  349237,  349237,  349239,  349240,  349241,\n",
       "        349242,  349243,  349244,  349245,  349246,  349247,  349248,\n",
       "        349249,  349251,  349252,  349253,  349254,  349256,  349257,\n",
       "        349909,  349909,  349909,  349909,  349910,  349912,  350025,\n",
       "        350026,  350029,  350034,  350035,  350036,  350042,  350043,\n",
       "        350046,  350047,  350048,  350050,  350052,  350060,  350404,\n",
       "        350406,  350407,  350417,  358585,  358585,  362316,  363291,\n",
       "        363291,  363291,  363294,  363592,  364498,  364499,  364500,\n",
       "        364506,  364511,  364512,  364516,  364516,  364846,  364848,\n",
       "        364849,  364849,  364850,  364851,  365222,  365226,  367226,\n",
       "        367226,  367228,  367229,  367230,  367230,  367231,  367232,\n",
       "        367655,  368323,  368703,  370129,  370129,  370365,  370365,\n",
       "        370369,  370370,  370371,  370372,  370373,  370375,  370376,\n",
       "        370377,  371060,  371110,  371110,  371110,  371362,  372622,\n",
       "        373450,  374746,  374887,  374910,  376564,  376564,  376566,\n",
       "        382649,  382651,  382652,  382652,  382652,  382652,  382652,\n",
       "        383121,  384461,  386525,  392091,  392092,  392096,  392096,\n",
       "        394140, 3101264, 3101265, 3101267, 3101276, 3101277, 3101278,\n",
       "       3101278, 3101281, 3101295, 3101295, 3101295, 3101295, 3101295,\n",
       "       3101295, 3101296, 3101298])"
      ]
     },
     "execution_count": 68,
     "metadata": {},
     "output_type": "execute_result"
    }
   ],
   "source": [
    "np.sort(just_numbers)"
   ]
  },
  {
   "cell_type": "markdown",
   "id": "5e1fb464",
   "metadata": {},
   "source": [
    "The allocated numbers are not at all consistent."
   ]
  },
  {
   "cell_type": "code",
   "execution_count": 69,
   "id": "b40b9e2f",
   "metadata": {},
   "outputs": [
    {
     "data": {
      "text/plain": [
       "['A/5 21171',\n",
       " 'PC 17599',\n",
       " 'STON/O2. 3101282',\n",
       " 'PP 9549',\n",
       " 'A/5. 2151',\n",
       " 'PC 17601',\n",
       " 'PC 17569',\n",
       " 'C.A. 24579',\n",
       " 'PC 17604',\n",
       " 'A./5. 2152',\n",
       " 'SC/Paris 2123',\n",
       " 'S.C./A.4. 23567',\n",
       " 'A/4. 39886',\n",
       " 'PC 17572',\n",
       " 'C.A. 31026',\n",
       " 'C.A. 34651',\n",
       " 'CA 2144',\n",
       " 'PC 17605',\n",
       " 'C.A. 29395',\n",
       " 'S.P. 3464']"
      ]
     },
     "execution_count": 69,
     "metadata": {},
     "output_type": "execute_result"
    }
   ],
   "source": [
    "alpha_numeric[0:20]"
   ]
  },
  {
   "cell_type": "markdown",
   "id": "534ce80f",
   "metadata": {},
   "source": [
    "There is a possibility that the only numeric tickets have missing alpha part. Usually ticket number are boarding specific."
   ]
  },
  {
   "cell_type": "code",
   "execution_count": 70,
   "id": "c906ba37",
   "metadata": {},
   "outputs": [
    {
     "name": "stdout",
     "output_type": "stream",
     "text": [
      "LINE\n",
      "LINE\n",
      "LINE\n",
      "LINE\n"
     ]
    }
   ],
   "source": [
    "#looking more closely are alpha-numeric tickets\n",
    "number_part = []\n",
    "other_part = []\n",
    "for i in alpha_numeric:\n",
    "    a = re.findall(r'\\b[0-9]+$', i)\n",
    "    if len(a) == 1:\n",
    "        a = int(a[0])\n",
    "        number_part.append(a)\n",
    "        b = re.split(r'\\b[0-9]+$', i)[0]\n",
    "        other_part.append(b)\n",
    "    else:\n",
    "        print(re.split(r'\\b[0-9]+$', i)[0])"
   ]
  },
  {
   "cell_type": "code",
   "execution_count": 71,
   "id": "3828aedc",
   "metadata": {},
   "outputs": [
    {
     "data": {
      "text/plain": [
       "['A/5 ', 'PC ', 'STON/O2. ', 'PP ', 'A/5. ', 'PC ']"
      ]
     },
     "execution_count": 71,
     "metadata": {},
     "output_type": "execute_result"
    }
   ],
   "source": [
    "other_part[0:6]"
   ]
  },
  {
   "cell_type": "code",
   "execution_count": 72,
   "id": "2f249099",
   "metadata": {},
   "outputs": [
    {
     "data": {
      "text/html": [
       "<div>\n",
       "<style scoped>\n",
       "    .dataframe tbody tr th:only-of-type {\n",
       "        vertical-align: middle;\n",
       "    }\n",
       "\n",
       "    .dataframe tbody tr th {\n",
       "        vertical-align: top;\n",
       "    }\n",
       "\n",
       "    .dataframe thead th {\n",
       "        text-align: right;\n",
       "    }\n",
       "</style>\n",
       "<table border=\"1\" class=\"dataframe\">\n",
       "  <thead>\n",
       "    <tr style=\"text-align: right;\">\n",
       "      <th></th>\n",
       "      <th>Survived</th>\n",
       "      <th>Pclass</th>\n",
       "      <th>Name</th>\n",
       "      <th>Sex</th>\n",
       "      <th>Age</th>\n",
       "      <th>SibSp</th>\n",
       "      <th>Parch</th>\n",
       "      <th>Ticket</th>\n",
       "      <th>Fare</th>\n",
       "      <th>Cabin</th>\n",
       "      <th>Embarked</th>\n",
       "    </tr>\n",
       "  </thead>\n",
       "  <tbody>\n",
       "    <tr>\n",
       "      <th>179</th>\n",
       "      <td>0</td>\n",
       "      <td>3</td>\n",
       "      <td>Leonard, Mr. Lionel</td>\n",
       "      <td>male</td>\n",
       "      <td>36.0</td>\n",
       "      <td>0</td>\n",
       "      <td>0</td>\n",
       "      <td>LINE</td>\n",
       "      <td>0.0</td>\n",
       "      <td>NaN</td>\n",
       "      <td>S</td>\n",
       "    </tr>\n",
       "    <tr>\n",
       "      <th>271</th>\n",
       "      <td>1</td>\n",
       "      <td>3</td>\n",
       "      <td>Tornquist, Mr. William Henry</td>\n",
       "      <td>male</td>\n",
       "      <td>25.0</td>\n",
       "      <td>0</td>\n",
       "      <td>0</td>\n",
       "      <td>LINE</td>\n",
       "      <td>0.0</td>\n",
       "      <td>NaN</td>\n",
       "      <td>S</td>\n",
       "    </tr>\n",
       "    <tr>\n",
       "      <th>302</th>\n",
       "      <td>0</td>\n",
       "      <td>3</td>\n",
       "      <td>Johnson, Mr. William Cahoone Jr</td>\n",
       "      <td>male</td>\n",
       "      <td>19.0</td>\n",
       "      <td>0</td>\n",
       "      <td>0</td>\n",
       "      <td>LINE</td>\n",
       "      <td>0.0</td>\n",
       "      <td>NaN</td>\n",
       "      <td>S</td>\n",
       "    </tr>\n",
       "    <tr>\n",
       "      <th>597</th>\n",
       "      <td>0</td>\n",
       "      <td>3</td>\n",
       "      <td>Johnson, Mr. Alfred</td>\n",
       "      <td>male</td>\n",
       "      <td>49.0</td>\n",
       "      <td>0</td>\n",
       "      <td>0</td>\n",
       "      <td>LINE</td>\n",
       "      <td>0.0</td>\n",
       "      <td>NaN</td>\n",
       "      <td>S</td>\n",
       "    </tr>\n",
       "  </tbody>\n",
       "</table>\n",
       "</div>"
      ],
      "text/plain": [
       "     Survived  Pclass                             Name   Sex   Age  SibSp  \\\n",
       "179         0       3              Leonard, Mr. Lionel  male  36.0      0   \n",
       "271         1       3     Tornquist, Mr. William Henry  male  25.0      0   \n",
       "302         0       3  Johnson, Mr. William Cahoone Jr  male  19.0      0   \n",
       "597         0       3              Johnson, Mr. Alfred  male  49.0      0   \n",
       "\n",
       "     Parch Ticket  Fare Cabin Embarked  \n",
       "179      0   LINE   0.0   NaN        S  \n",
       "271      0   LINE   0.0   NaN        S  \n",
       "302      0   LINE   0.0   NaN        S  \n",
       "597      0   LINE   0.0   NaN        S  "
      ]
     },
     "execution_count": 72,
     "metadata": {},
     "output_type": "execute_result"
    }
   ],
   "source": [
    "train[train.Ticket == 'LINE']"
   ]
  },
  {
   "cell_type": "markdown",
   "id": "454b1028",
   "metadata": {},
   "source": [
    "There are 4 tickets with LINE written. All 4 of these tickets have been issued at S, all passengers here are males, theirs ages are atmost middle-age. Only 1 of these survived."
   ]
  },
  {
   "cell_type": "code",
   "execution_count": 73,
   "id": "62176d9f",
   "metadata": {},
   "outputs": [
    {
     "data": {
      "text/plain": [
       "array(['A./5. ', 'A.5. ', 'A/4 ', 'A/4. ', 'A/5 ', 'A/5. ', 'A/S ',\n",
       "       'A4. ', 'C ', 'C.A. ', 'C.A./SOTON ', 'CA ', 'CA. ', 'F.C. ',\n",
       "       'F.C.C. ', 'Fa ', 'P/PP ', 'PC ', 'PP ', 'S.C./A.4. ',\n",
       "       'S.C./PARIS ', 'S.O./P.P. ', 'S.O.C. ', 'S.O.P. ', 'S.P. ',\n",
       "       'S.W./PP ', 'SC ', 'SC/AH ', 'SC/AH Basle ', 'SC/PARIS ',\n",
       "       'SC/Paris ', 'SCO/W ', 'SO/C ', 'SOTON/O.Q. ', 'SOTON/O2 ',\n",
       "       'SOTON/OQ ', 'STON/O 2. ', 'STON/O2. ', 'SW/PP ', 'W./C. ',\n",
       "       'W.E.P. ', 'W/C ', 'WE/P '], dtype='<U12')"
      ]
     },
     "execution_count": 73,
     "metadata": {},
     "output_type": "execute_result"
    }
   ],
   "source": [
    "np.unique(other_part)"
   ]
  },
  {
   "cell_type": "markdown",
   "id": "9b347dd7",
   "metadata": {},
   "source": [
    "A lot of these differ only by the '.' or '/' symbols or white spaces. "
   ]
  },
  {
   "cell_type": "code",
   "execution_count": 74,
   "id": "1f2dcd8f",
   "metadata": {},
   "outputs": [
    {
     "data": {
      "text/plain": [
       "PC              60\n",
       "C.A.            27\n",
       "STON/O 2.       12\n",
       "A/5             10\n",
       "W./C.            9\n",
       "CA.              8\n",
       "SOTON/O.Q.       8\n",
       "SOTON/OQ         7\n",
       "A/5.             7\n",
       "STON/O2.         6\n",
       "CA               6\n",
       "SC/PARIS         5\n",
       "S.O.C.           5\n",
       "F.C.C.           5\n",
       "C                5\n",
       "SC/Paris         4\n",
       "A/4              3\n",
       "A/4.             3\n",
       "S.O./P.P.        3\n",
       "PP               3\n",
       "WE/P             2\n",
       "SOTON/O2         2\n",
       "A.5.             2\n",
       "S.C./PARIS       2\n",
       "P/PP             2\n",
       "A./5.            2\n",
       "SC/AH            2\n",
       "W.E.P.           1\n",
       "S.W./PP          1\n",
       "A/S              1\n",
       "SC               1\n",
       "F.C.             1\n",
       "C.A./SOTON       1\n",
       "SW/PP            1\n",
       "W/C              1\n",
       "SCO/W            1\n",
       "S.C./A.4.        1\n",
       "SO/C             1\n",
       "Fa               1\n",
       "S.P.             1\n",
       "S.O.P.           1\n",
       "A4.              1\n",
       "SC/AH Basle      1\n",
       "dtype: int64"
      ]
     },
     "execution_count": 74,
     "metadata": {},
     "output_type": "execute_result"
    }
   ],
   "source": [
    "pd.Series(np.array(other_part)).value_counts()"
   ]
  },
  {
   "cell_type": "markdown",
   "id": "f0f3b232",
   "metadata": {},
   "source": [
    "Among the the tickets with letters and numbers, there are comparitively many tickets that have letters 'PC' in them. "
   ]
  },
  {
   "cell_type": "code",
   "execution_count": 75,
   "id": "54160c86",
   "metadata": {},
   "outputs": [],
   "source": [
    "#getting a list of all ticket starting with PC\n",
    "pc_tickets = []\n",
    "for i, j in enumerate(train.Ticket.values):\n",
    "    if j.startswith('PC'):\n",
    "        pc_tickets.append(i)\n",
    "    "
   ]
  },
  {
   "cell_type": "code",
   "execution_count": 76,
   "id": "aa4cac18",
   "metadata": {},
   "outputs": [
    {
     "data": {
      "text/plain": [
       "1    39\n",
       "0    21\n",
       "Name: Survived, dtype: int64"
      ]
     },
     "execution_count": 76,
     "metadata": {},
     "output_type": "execute_result"
    }
   ],
   "source": [
    "train.iloc[pc_tickets, ]['Survived'].value_counts()"
   ]
  },
  {
   "cell_type": "markdown",
   "id": "8b57b890",
   "metadata": {},
   "source": [
    "Most of the passengers with letters 'PC' on their ticket survived."
   ]
  },
  {
   "cell_type": "code",
   "execution_count": 77,
   "id": "9a3d2d1c",
   "metadata": {},
   "outputs": [],
   "source": [
    "#getting a list of all ticket starting with C.A.\n",
    "ca_tickets = []\n",
    "for i, j in enumerate(train.Ticket.values):\n",
    "    if j.startswith('C.A.'):\n",
    "        ca_tickets.append(i)\n",
    "    "
   ]
  },
  {
   "cell_type": "code",
   "execution_count": 78,
   "id": "589684a0",
   "metadata": {},
   "outputs": [
    {
     "data": {
      "text/plain": [
       "0    15\n",
       "1    13\n",
       "Name: Survived, dtype: int64"
      ]
     },
     "execution_count": 78,
     "metadata": {},
     "output_type": "execute_result"
    }
   ],
   "source": [
    "train.iloc[ca_tickets, ]['Survived'].value_counts()"
   ]
  },
  {
   "cell_type": "markdown",
   "id": "6b4cce41",
   "metadata": {},
   "source": [
    "For passengers with letters 'C.A.' on their ticket, there is a fair split on the ratio of passenger who survived and who did not survive "
   ]
  },
  {
   "cell_type": "code",
   "execution_count": 79,
   "id": "1dcaa8e8",
   "metadata": {},
   "outputs": [],
   "source": [
    "#getting a list of all ticket starting with CA.\n",
    "ca_tickets = []\n",
    "for i, j in enumerate(train.Ticket.values):\n",
    "    if j.startswith('CA'):\n",
    "        ca_tickets.append(i)"
   ]
  },
  {
   "cell_type": "code",
   "execution_count": 80,
   "id": "4977adfb",
   "metadata": {},
   "outputs": [
    {
     "data": {
      "text/plain": [
       "0    13\n",
       "1     1\n",
       "Name: Survived, dtype: int64"
      ]
     },
     "execution_count": 80,
     "metadata": {},
     "output_type": "execute_result"
    }
   ],
   "source": [
    "train.iloc[ca_tickets, ]['Survived'].value_counts()"
   ]
  },
  {
   "cell_type": "markdown",
   "id": "8b50dee7",
   "metadata": {},
   "source": [
    "For passengers with letters 'CA.' on their ticket, only 1 survived in 14."
   ]
  },
  {
   "cell_type": "code",
   "execution_count": 81,
   "id": "e23243bb",
   "metadata": {},
   "outputs": [
    {
     "data": {
      "text/html": [
       "<div>\n",
       "<style scoped>\n",
       "    .dataframe tbody tr th:only-of-type {\n",
       "        vertical-align: middle;\n",
       "    }\n",
       "\n",
       "    .dataframe tbody tr th {\n",
       "        vertical-align: top;\n",
       "    }\n",
       "\n",
       "    .dataframe thead th {\n",
       "        text-align: right;\n",
       "    }\n",
       "</style>\n",
       "<table border=\"1\" class=\"dataframe\">\n",
       "  <thead>\n",
       "    <tr style=\"text-align: right;\">\n",
       "      <th></th>\n",
       "      <th>Survived</th>\n",
       "      <th>Pclass</th>\n",
       "      <th>Name</th>\n",
       "      <th>Sex</th>\n",
       "      <th>Age</th>\n",
       "      <th>SibSp</th>\n",
       "      <th>Parch</th>\n",
       "      <th>Ticket</th>\n",
       "      <th>Fare</th>\n",
       "      <th>Cabin</th>\n",
       "      <th>Embarked</th>\n",
       "    </tr>\n",
       "  </thead>\n",
       "  <tbody>\n",
       "    <tr>\n",
       "      <th>59</th>\n",
       "      <td>0</td>\n",
       "      <td>3</td>\n",
       "      <td>Goodwin, Master. William Frederick</td>\n",
       "      <td>male</td>\n",
       "      <td>11.0</td>\n",
       "      <td>5</td>\n",
       "      <td>2</td>\n",
       "      <td>CA 2144</td>\n",
       "      <td>46.90</td>\n",
       "      <td>NaN</td>\n",
       "      <td>S</td>\n",
       "    </tr>\n",
       "    <tr>\n",
       "      <th>71</th>\n",
       "      <td>0</td>\n",
       "      <td>3</td>\n",
       "      <td>Goodwin, Miss. Lillian Amy</td>\n",
       "      <td>female</td>\n",
       "      <td>16.0</td>\n",
       "      <td>5</td>\n",
       "      <td>2</td>\n",
       "      <td>CA 2144</td>\n",
       "      <td>46.90</td>\n",
       "      <td>NaN</td>\n",
       "      <td>S</td>\n",
       "    </tr>\n",
       "    <tr>\n",
       "      <th>159</th>\n",
       "      <td>0</td>\n",
       "      <td>3</td>\n",
       "      <td>Sage, Master. Thomas Henry</td>\n",
       "      <td>male</td>\n",
       "      <td>NaN</td>\n",
       "      <td>8</td>\n",
       "      <td>2</td>\n",
       "      <td>CA. 2343</td>\n",
       "      <td>69.55</td>\n",
       "      <td>NaN</td>\n",
       "      <td>S</td>\n",
       "    </tr>\n",
       "    <tr>\n",
       "      <th>180</th>\n",
       "      <td>0</td>\n",
       "      <td>3</td>\n",
       "      <td>Sage, Miss. Constance Gladys</td>\n",
       "      <td>female</td>\n",
       "      <td>NaN</td>\n",
       "      <td>8</td>\n",
       "      <td>2</td>\n",
       "      <td>CA. 2343</td>\n",
       "      <td>69.55</td>\n",
       "      <td>NaN</td>\n",
       "      <td>S</td>\n",
       "    </tr>\n",
       "    <tr>\n",
       "      <th>201</th>\n",
       "      <td>0</td>\n",
       "      <td>3</td>\n",
       "      <td>Sage, Mr. Frederick</td>\n",
       "      <td>male</td>\n",
       "      <td>NaN</td>\n",
       "      <td>8</td>\n",
       "      <td>2</td>\n",
       "      <td>CA. 2343</td>\n",
       "      <td>69.55</td>\n",
       "      <td>NaN</td>\n",
       "      <td>S</td>\n",
       "    </tr>\n",
       "    <tr>\n",
       "      <th>324</th>\n",
       "      <td>0</td>\n",
       "      <td>3</td>\n",
       "      <td>Sage, Mr. George John Jr</td>\n",
       "      <td>male</td>\n",
       "      <td>NaN</td>\n",
       "      <td>8</td>\n",
       "      <td>2</td>\n",
       "      <td>CA. 2343</td>\n",
       "      <td>69.55</td>\n",
       "      <td>NaN</td>\n",
       "      <td>S</td>\n",
       "    </tr>\n",
       "    <tr>\n",
       "      <th>386</th>\n",
       "      <td>0</td>\n",
       "      <td>3</td>\n",
       "      <td>Goodwin, Master. Sidney Leonard</td>\n",
       "      <td>male</td>\n",
       "      <td>1.0</td>\n",
       "      <td>5</td>\n",
       "      <td>2</td>\n",
       "      <td>CA 2144</td>\n",
       "      <td>46.90</td>\n",
       "      <td>NaN</td>\n",
       "      <td>S</td>\n",
       "    </tr>\n",
       "    <tr>\n",
       "      <th>480</th>\n",
       "      <td>0</td>\n",
       "      <td>3</td>\n",
       "      <td>Goodwin, Master. Harold Victor</td>\n",
       "      <td>male</td>\n",
       "      <td>9.0</td>\n",
       "      <td>5</td>\n",
       "      <td>2</td>\n",
       "      <td>CA 2144</td>\n",
       "      <td>46.90</td>\n",
       "      <td>NaN</td>\n",
       "      <td>S</td>\n",
       "    </tr>\n",
       "    <tr>\n",
       "      <th>649</th>\n",
       "      <td>1</td>\n",
       "      <td>3</td>\n",
       "      <td>Stanley, Miss. Amy Zillah Elsie</td>\n",
       "      <td>female</td>\n",
       "      <td>23.0</td>\n",
       "      <td>0</td>\n",
       "      <td>0</td>\n",
       "      <td>CA. 2314</td>\n",
       "      <td>7.55</td>\n",
       "      <td>NaN</td>\n",
       "      <td>S</td>\n",
       "    </tr>\n",
       "    <tr>\n",
       "      <th>678</th>\n",
       "      <td>0</td>\n",
       "      <td>3</td>\n",
       "      <td>Goodwin, Mrs. Frederick (Augusta Tyler)</td>\n",
       "      <td>female</td>\n",
       "      <td>43.0</td>\n",
       "      <td>1</td>\n",
       "      <td>6</td>\n",
       "      <td>CA 2144</td>\n",
       "      <td>46.90</td>\n",
       "      <td>NaN</td>\n",
       "      <td>S</td>\n",
       "    </tr>\n",
       "    <tr>\n",
       "      <th>683</th>\n",
       "      <td>0</td>\n",
       "      <td>3</td>\n",
       "      <td>Goodwin, Mr. Charles Edward</td>\n",
       "      <td>male</td>\n",
       "      <td>14.0</td>\n",
       "      <td>5</td>\n",
       "      <td>2</td>\n",
       "      <td>CA 2144</td>\n",
       "      <td>46.90</td>\n",
       "      <td>NaN</td>\n",
       "      <td>S</td>\n",
       "    </tr>\n",
       "    <tr>\n",
       "      <th>792</th>\n",
       "      <td>0</td>\n",
       "      <td>3</td>\n",
       "      <td>Sage, Miss. Stella Anna</td>\n",
       "      <td>female</td>\n",
       "      <td>NaN</td>\n",
       "      <td>8</td>\n",
       "      <td>2</td>\n",
       "      <td>CA. 2343</td>\n",
       "      <td>69.55</td>\n",
       "      <td>NaN</td>\n",
       "      <td>S</td>\n",
       "    </tr>\n",
       "    <tr>\n",
       "      <th>846</th>\n",
       "      <td>0</td>\n",
       "      <td>3</td>\n",
       "      <td>Sage, Mr. Douglas Bullen</td>\n",
       "      <td>male</td>\n",
       "      <td>NaN</td>\n",
       "      <td>8</td>\n",
       "      <td>2</td>\n",
       "      <td>CA. 2343</td>\n",
       "      <td>69.55</td>\n",
       "      <td>NaN</td>\n",
       "      <td>S</td>\n",
       "    </tr>\n",
       "    <tr>\n",
       "      <th>863</th>\n",
       "      <td>0</td>\n",
       "      <td>3</td>\n",
       "      <td>Sage, Miss. Dorothy Edith \"Dolly\"</td>\n",
       "      <td>female</td>\n",
       "      <td>NaN</td>\n",
       "      <td>8</td>\n",
       "      <td>2</td>\n",
       "      <td>CA. 2343</td>\n",
       "      <td>69.55</td>\n",
       "      <td>NaN</td>\n",
       "      <td>S</td>\n",
       "    </tr>\n",
       "  </tbody>\n",
       "</table>\n",
       "</div>"
      ],
      "text/plain": [
       "     Survived  Pclass                                     Name     Sex   Age  \\\n",
       "59          0       3       Goodwin, Master. William Frederick    male  11.0   \n",
       "71          0       3               Goodwin, Miss. Lillian Amy  female  16.0   \n",
       "159         0       3               Sage, Master. Thomas Henry    male   NaN   \n",
       "180         0       3             Sage, Miss. Constance Gladys  female   NaN   \n",
       "201         0       3                      Sage, Mr. Frederick    male   NaN   \n",
       "324         0       3                 Sage, Mr. George John Jr    male   NaN   \n",
       "386         0       3          Goodwin, Master. Sidney Leonard    male   1.0   \n",
       "480         0       3           Goodwin, Master. Harold Victor    male   9.0   \n",
       "649         1       3          Stanley, Miss. Amy Zillah Elsie  female  23.0   \n",
       "678         0       3  Goodwin, Mrs. Frederick (Augusta Tyler)  female  43.0   \n",
       "683         0       3              Goodwin, Mr. Charles Edward    male  14.0   \n",
       "792         0       3                  Sage, Miss. Stella Anna  female   NaN   \n",
       "846         0       3                 Sage, Mr. Douglas Bullen    male   NaN   \n",
       "863         0       3        Sage, Miss. Dorothy Edith \"Dolly\"  female   NaN   \n",
       "\n",
       "     SibSp  Parch    Ticket   Fare Cabin Embarked  \n",
       "59       5      2   CA 2144  46.90   NaN        S  \n",
       "71       5      2   CA 2144  46.90   NaN        S  \n",
       "159      8      2  CA. 2343  69.55   NaN        S  \n",
       "180      8      2  CA. 2343  69.55   NaN        S  \n",
       "201      8      2  CA. 2343  69.55   NaN        S  \n",
       "324      8      2  CA. 2343  69.55   NaN        S  \n",
       "386      5      2   CA 2144  46.90   NaN        S  \n",
       "480      5      2   CA 2144  46.90   NaN        S  \n",
       "649      0      0  CA. 2314   7.55   NaN        S  \n",
       "678      1      6   CA 2144  46.90   NaN        S  \n",
       "683      5      2   CA 2144  46.90   NaN        S  \n",
       "792      8      2  CA. 2343  69.55   NaN        S  \n",
       "846      8      2  CA. 2343  69.55   NaN        S  \n",
       "863      8      2  CA. 2343  69.55   NaN        S  "
      ]
     },
     "execution_count": 81,
     "metadata": {},
     "output_type": "execute_result"
    }
   ],
   "source": [
    "train.iloc[ca_tickets, ]"
   ]
  },
  {
   "cell_type": "code",
   "execution_count": 82,
   "id": "51efea15",
   "metadata": {},
   "outputs": [
    {
     "data": {
      "text/html": [
       "<div>\n",
       "<style scoped>\n",
       "    .dataframe tbody tr th:only-of-type {\n",
       "        vertical-align: middle;\n",
       "    }\n",
       "\n",
       "    .dataframe tbody tr th {\n",
       "        vertical-align: top;\n",
       "    }\n",
       "\n",
       "    .dataframe thead th {\n",
       "        text-align: right;\n",
       "    }\n",
       "</style>\n",
       "<table border=\"1\" class=\"dataframe\">\n",
       "  <thead>\n",
       "    <tr style=\"text-align: right;\">\n",
       "      <th></th>\n",
       "      <th>Survived</th>\n",
       "      <th>Pclass</th>\n",
       "      <th>Name</th>\n",
       "      <th>Sex</th>\n",
       "      <th>Age</th>\n",
       "      <th>SibSp</th>\n",
       "      <th>Parch</th>\n",
       "      <th>Ticket</th>\n",
       "      <th>Fare</th>\n",
       "      <th>Cabin</th>\n",
       "      <th>Embarked</th>\n",
       "    </tr>\n",
       "  </thead>\n",
       "  <tbody>\n",
       "    <tr>\n",
       "      <th>159</th>\n",
       "      <td>0</td>\n",
       "      <td>3</td>\n",
       "      <td>Sage, Master. Thomas Henry</td>\n",
       "      <td>male</td>\n",
       "      <td>NaN</td>\n",
       "      <td>8</td>\n",
       "      <td>2</td>\n",
       "      <td>CA. 2343</td>\n",
       "      <td>69.55</td>\n",
       "      <td>NaN</td>\n",
       "      <td>S</td>\n",
       "    </tr>\n",
       "    <tr>\n",
       "      <th>180</th>\n",
       "      <td>0</td>\n",
       "      <td>3</td>\n",
       "      <td>Sage, Miss. Constance Gladys</td>\n",
       "      <td>female</td>\n",
       "      <td>NaN</td>\n",
       "      <td>8</td>\n",
       "      <td>2</td>\n",
       "      <td>CA. 2343</td>\n",
       "      <td>69.55</td>\n",
       "      <td>NaN</td>\n",
       "      <td>S</td>\n",
       "    </tr>\n",
       "    <tr>\n",
       "      <th>201</th>\n",
       "      <td>0</td>\n",
       "      <td>3</td>\n",
       "      <td>Sage, Mr. Frederick</td>\n",
       "      <td>male</td>\n",
       "      <td>NaN</td>\n",
       "      <td>8</td>\n",
       "      <td>2</td>\n",
       "      <td>CA. 2343</td>\n",
       "      <td>69.55</td>\n",
       "      <td>NaN</td>\n",
       "      <td>S</td>\n",
       "    </tr>\n",
       "    <tr>\n",
       "      <th>324</th>\n",
       "      <td>0</td>\n",
       "      <td>3</td>\n",
       "      <td>Sage, Mr. George John Jr</td>\n",
       "      <td>male</td>\n",
       "      <td>NaN</td>\n",
       "      <td>8</td>\n",
       "      <td>2</td>\n",
       "      <td>CA. 2343</td>\n",
       "      <td>69.55</td>\n",
       "      <td>NaN</td>\n",
       "      <td>S</td>\n",
       "    </tr>\n",
       "    <tr>\n",
       "      <th>792</th>\n",
       "      <td>0</td>\n",
       "      <td>3</td>\n",
       "      <td>Sage, Miss. Stella Anna</td>\n",
       "      <td>female</td>\n",
       "      <td>NaN</td>\n",
       "      <td>8</td>\n",
       "      <td>2</td>\n",
       "      <td>CA. 2343</td>\n",
       "      <td>69.55</td>\n",
       "      <td>NaN</td>\n",
       "      <td>S</td>\n",
       "    </tr>\n",
       "    <tr>\n",
       "      <th>846</th>\n",
       "      <td>0</td>\n",
       "      <td>3</td>\n",
       "      <td>Sage, Mr. Douglas Bullen</td>\n",
       "      <td>male</td>\n",
       "      <td>NaN</td>\n",
       "      <td>8</td>\n",
       "      <td>2</td>\n",
       "      <td>CA. 2343</td>\n",
       "      <td>69.55</td>\n",
       "      <td>NaN</td>\n",
       "      <td>S</td>\n",
       "    </tr>\n",
       "    <tr>\n",
       "      <th>863</th>\n",
       "      <td>0</td>\n",
       "      <td>3</td>\n",
       "      <td>Sage, Miss. Dorothy Edith \"Dolly\"</td>\n",
       "      <td>female</td>\n",
       "      <td>NaN</td>\n",
       "      <td>8</td>\n",
       "      <td>2</td>\n",
       "      <td>CA. 2343</td>\n",
       "      <td>69.55</td>\n",
       "      <td>NaN</td>\n",
       "      <td>S</td>\n",
       "    </tr>\n",
       "  </tbody>\n",
       "</table>\n",
       "</div>"
      ],
      "text/plain": [
       "     Survived  Pclass                               Name     Sex  Age  SibSp  \\\n",
       "159         0       3         Sage, Master. Thomas Henry    male  NaN      8   \n",
       "180         0       3       Sage, Miss. Constance Gladys  female  NaN      8   \n",
       "201         0       3                Sage, Mr. Frederick    male  NaN      8   \n",
       "324         0       3           Sage, Mr. George John Jr    male  NaN      8   \n",
       "792         0       3            Sage, Miss. Stella Anna  female  NaN      8   \n",
       "846         0       3           Sage, Mr. Douglas Bullen    male  NaN      8   \n",
       "863         0       3  Sage, Miss. Dorothy Edith \"Dolly\"  female  NaN      8   \n",
       "\n",
       "     Parch    Ticket   Fare Cabin Embarked  \n",
       "159      2  CA. 2343  69.55   NaN        S  \n",
       "180      2  CA. 2343  69.55   NaN        S  \n",
       "201      2  CA. 2343  69.55   NaN        S  \n",
       "324      2  CA. 2343  69.55   NaN        S  \n",
       "792      2  CA. 2343  69.55   NaN        S  \n",
       "846      2  CA. 2343  69.55   NaN        S  \n",
       "863      2  CA. 2343  69.55   NaN        S  "
      ]
     },
     "execution_count": 82,
     "metadata": {},
     "output_type": "execute_result"
    }
   ],
   "source": [
    "train[train.Ticket == 'CA. 2343']"
   ]
  },
  {
   "cell_type": "code",
   "execution_count": 83,
   "id": "2d80c75d",
   "metadata": {},
   "outputs": [
    {
     "data": {
      "text/html": [
       "<div>\n",
       "<style scoped>\n",
       "    .dataframe tbody tr th:only-of-type {\n",
       "        vertical-align: middle;\n",
       "    }\n",
       "\n",
       "    .dataframe tbody tr th {\n",
       "        vertical-align: top;\n",
       "    }\n",
       "\n",
       "    .dataframe thead th {\n",
       "        text-align: right;\n",
       "    }\n",
       "</style>\n",
       "<table border=\"1\" class=\"dataframe\">\n",
       "  <thead>\n",
       "    <tr style=\"text-align: right;\">\n",
       "      <th></th>\n",
       "      <th>Survived</th>\n",
       "      <th>Pclass</th>\n",
       "      <th>Name</th>\n",
       "      <th>Sex</th>\n",
       "      <th>Age</th>\n",
       "      <th>SibSp</th>\n",
       "      <th>Parch</th>\n",
       "      <th>Ticket</th>\n",
       "      <th>Fare</th>\n",
       "      <th>Cabin</th>\n",
       "      <th>Embarked</th>\n",
       "    </tr>\n",
       "  </thead>\n",
       "  <tbody>\n",
       "    <tr>\n",
       "      <th>13</th>\n",
       "      <td>0</td>\n",
       "      <td>3</td>\n",
       "      <td>Andersson, Mr. Anders Johan</td>\n",
       "      <td>male</td>\n",
       "      <td>39.0</td>\n",
       "      <td>1</td>\n",
       "      <td>5</td>\n",
       "      <td>347082</td>\n",
       "      <td>31.275</td>\n",
       "      <td>NaN</td>\n",
       "      <td>S</td>\n",
       "    </tr>\n",
       "    <tr>\n",
       "      <th>119</th>\n",
       "      <td>0</td>\n",
       "      <td>3</td>\n",
       "      <td>Andersson, Miss. Ellis Anna Maria</td>\n",
       "      <td>female</td>\n",
       "      <td>2.0</td>\n",
       "      <td>4</td>\n",
       "      <td>2</td>\n",
       "      <td>347082</td>\n",
       "      <td>31.275</td>\n",
       "      <td>NaN</td>\n",
       "      <td>S</td>\n",
       "    </tr>\n",
       "    <tr>\n",
       "      <th>541</th>\n",
       "      <td>0</td>\n",
       "      <td>3</td>\n",
       "      <td>Andersson, Miss. Ingeborg Constanzia</td>\n",
       "      <td>female</td>\n",
       "      <td>9.0</td>\n",
       "      <td>4</td>\n",
       "      <td>2</td>\n",
       "      <td>347082</td>\n",
       "      <td>31.275</td>\n",
       "      <td>NaN</td>\n",
       "      <td>S</td>\n",
       "    </tr>\n",
       "    <tr>\n",
       "      <th>542</th>\n",
       "      <td>0</td>\n",
       "      <td>3</td>\n",
       "      <td>Andersson, Miss. Sigrid Elisabeth</td>\n",
       "      <td>female</td>\n",
       "      <td>11.0</td>\n",
       "      <td>4</td>\n",
       "      <td>2</td>\n",
       "      <td>347082</td>\n",
       "      <td>31.275</td>\n",
       "      <td>NaN</td>\n",
       "      <td>S</td>\n",
       "    </tr>\n",
       "    <tr>\n",
       "      <th>610</th>\n",
       "      <td>0</td>\n",
       "      <td>3</td>\n",
       "      <td>Andersson, Mrs. Anders Johan (Alfrida Konstant...</td>\n",
       "      <td>female</td>\n",
       "      <td>39.0</td>\n",
       "      <td>1</td>\n",
       "      <td>5</td>\n",
       "      <td>347082</td>\n",
       "      <td>31.275</td>\n",
       "      <td>NaN</td>\n",
       "      <td>S</td>\n",
       "    </tr>\n",
       "    <tr>\n",
       "      <th>813</th>\n",
       "      <td>0</td>\n",
       "      <td>3</td>\n",
       "      <td>Andersson, Miss. Ebba Iris Alfrida</td>\n",
       "      <td>female</td>\n",
       "      <td>6.0</td>\n",
       "      <td>4</td>\n",
       "      <td>2</td>\n",
       "      <td>347082</td>\n",
       "      <td>31.275</td>\n",
       "      <td>NaN</td>\n",
       "      <td>S</td>\n",
       "    </tr>\n",
       "    <tr>\n",
       "      <th>850</th>\n",
       "      <td>0</td>\n",
       "      <td>3</td>\n",
       "      <td>Andersson, Master. Sigvard Harald Elias</td>\n",
       "      <td>male</td>\n",
       "      <td>4.0</td>\n",
       "      <td>4</td>\n",
       "      <td>2</td>\n",
       "      <td>347082</td>\n",
       "      <td>31.275</td>\n",
       "      <td>NaN</td>\n",
       "      <td>S</td>\n",
       "    </tr>\n",
       "  </tbody>\n",
       "</table>\n",
       "</div>"
      ],
      "text/plain": [
       "     Survived  Pclass                                               Name  \\\n",
       "13          0       3                        Andersson, Mr. Anders Johan   \n",
       "119         0       3                  Andersson, Miss. Ellis Anna Maria   \n",
       "541         0       3               Andersson, Miss. Ingeborg Constanzia   \n",
       "542         0       3                  Andersson, Miss. Sigrid Elisabeth   \n",
       "610         0       3  Andersson, Mrs. Anders Johan (Alfrida Konstant...   \n",
       "813         0       3                 Andersson, Miss. Ebba Iris Alfrida   \n",
       "850         0       3            Andersson, Master. Sigvard Harald Elias   \n",
       "\n",
       "        Sex   Age  SibSp  Parch  Ticket    Fare Cabin Embarked  \n",
       "13     male  39.0      1      5  347082  31.275   NaN        S  \n",
       "119  female   2.0      4      2  347082  31.275   NaN        S  \n",
       "541  female   9.0      4      2  347082  31.275   NaN        S  \n",
       "542  female  11.0      4      2  347082  31.275   NaN        S  \n",
       "610  female  39.0      1      5  347082  31.275   NaN        S  \n",
       "813  female   6.0      4      2  347082  31.275   NaN        S  \n",
       "850    male   4.0      4      2  347082  31.275   NaN        S  "
      ]
     },
     "execution_count": 83,
     "metadata": {},
     "output_type": "execute_result"
    }
   ],
   "source": [
    "train[train.Ticket == '347082']"
   ]
  },
  {
   "cell_type": "code",
   "execution_count": 84,
   "id": "d2f91ce8",
   "metadata": {},
   "outputs": [
    {
     "data": {
      "text/html": [
       "<div>\n",
       "<style scoped>\n",
       "    .dataframe tbody tr th:only-of-type {\n",
       "        vertical-align: middle;\n",
       "    }\n",
       "\n",
       "    .dataframe tbody tr th {\n",
       "        vertical-align: top;\n",
       "    }\n",
       "\n",
       "    .dataframe thead th {\n",
       "        text-align: right;\n",
       "    }\n",
       "</style>\n",
       "<table border=\"1\" class=\"dataframe\">\n",
       "  <thead>\n",
       "    <tr style=\"text-align: right;\">\n",
       "      <th></th>\n",
       "      <th>Survived</th>\n",
       "      <th>Pclass</th>\n",
       "      <th>Name</th>\n",
       "      <th>Sex</th>\n",
       "      <th>Age</th>\n",
       "      <th>SibSp</th>\n",
       "      <th>Parch</th>\n",
       "      <th>Ticket</th>\n",
       "      <th>Fare</th>\n",
       "      <th>Cabin</th>\n",
       "      <th>Embarked</th>\n",
       "    </tr>\n",
       "  </thead>\n",
       "  <tbody>\n",
       "    <tr>\n",
       "      <th>74</th>\n",
       "      <td>1</td>\n",
       "      <td>3</td>\n",
       "      <td>Bing, Mr. Lee</td>\n",
       "      <td>male</td>\n",
       "      <td>32.0</td>\n",
       "      <td>0</td>\n",
       "      <td>0</td>\n",
       "      <td>1601</td>\n",
       "      <td>56.4958</td>\n",
       "      <td>NaN</td>\n",
       "      <td>S</td>\n",
       "    </tr>\n",
       "    <tr>\n",
       "      <th>169</th>\n",
       "      <td>0</td>\n",
       "      <td>3</td>\n",
       "      <td>Ling, Mr. Lee</td>\n",
       "      <td>male</td>\n",
       "      <td>28.0</td>\n",
       "      <td>0</td>\n",
       "      <td>0</td>\n",
       "      <td>1601</td>\n",
       "      <td>56.4958</td>\n",
       "      <td>NaN</td>\n",
       "      <td>S</td>\n",
       "    </tr>\n",
       "    <tr>\n",
       "      <th>509</th>\n",
       "      <td>1</td>\n",
       "      <td>3</td>\n",
       "      <td>Lang, Mr. Fang</td>\n",
       "      <td>male</td>\n",
       "      <td>26.0</td>\n",
       "      <td>0</td>\n",
       "      <td>0</td>\n",
       "      <td>1601</td>\n",
       "      <td>56.4958</td>\n",
       "      <td>NaN</td>\n",
       "      <td>S</td>\n",
       "    </tr>\n",
       "    <tr>\n",
       "      <th>643</th>\n",
       "      <td>1</td>\n",
       "      <td>3</td>\n",
       "      <td>Foo, Mr. Choong</td>\n",
       "      <td>male</td>\n",
       "      <td>NaN</td>\n",
       "      <td>0</td>\n",
       "      <td>0</td>\n",
       "      <td>1601</td>\n",
       "      <td>56.4958</td>\n",
       "      <td>NaN</td>\n",
       "      <td>S</td>\n",
       "    </tr>\n",
       "    <tr>\n",
       "      <th>692</th>\n",
       "      <td>1</td>\n",
       "      <td>3</td>\n",
       "      <td>Lam, Mr. Ali</td>\n",
       "      <td>male</td>\n",
       "      <td>NaN</td>\n",
       "      <td>0</td>\n",
       "      <td>0</td>\n",
       "      <td>1601</td>\n",
       "      <td>56.4958</td>\n",
       "      <td>NaN</td>\n",
       "      <td>S</td>\n",
       "    </tr>\n",
       "    <tr>\n",
       "      <th>826</th>\n",
       "      <td>0</td>\n",
       "      <td>3</td>\n",
       "      <td>Lam, Mr. Len</td>\n",
       "      <td>male</td>\n",
       "      <td>NaN</td>\n",
       "      <td>0</td>\n",
       "      <td>0</td>\n",
       "      <td>1601</td>\n",
       "      <td>56.4958</td>\n",
       "      <td>NaN</td>\n",
       "      <td>S</td>\n",
       "    </tr>\n",
       "    <tr>\n",
       "      <th>838</th>\n",
       "      <td>1</td>\n",
       "      <td>3</td>\n",
       "      <td>Chip, Mr. Chang</td>\n",
       "      <td>male</td>\n",
       "      <td>32.0</td>\n",
       "      <td>0</td>\n",
       "      <td>0</td>\n",
       "      <td>1601</td>\n",
       "      <td>56.4958</td>\n",
       "      <td>NaN</td>\n",
       "      <td>S</td>\n",
       "    </tr>\n",
       "  </tbody>\n",
       "</table>\n",
       "</div>"
      ],
      "text/plain": [
       "     Survived  Pclass             Name   Sex   Age  SibSp  Parch Ticket  \\\n",
       "74          1       3    Bing, Mr. Lee  male  32.0      0      0   1601   \n",
       "169         0       3    Ling, Mr. Lee  male  28.0      0      0   1601   \n",
       "509         1       3   Lang, Mr. Fang  male  26.0      0      0   1601   \n",
       "643         1       3  Foo, Mr. Choong  male   NaN      0      0   1601   \n",
       "692         1       3     Lam, Mr. Ali  male   NaN      0      0   1601   \n",
       "826         0       3     Lam, Mr. Len  male   NaN      0      0   1601   \n",
       "838         1       3  Chip, Mr. Chang  male  32.0      0      0   1601   \n",
       "\n",
       "        Fare Cabin Embarked  \n",
       "74   56.4958   NaN        S  \n",
       "169  56.4958   NaN        S  \n",
       "509  56.4958   NaN        S  \n",
       "643  56.4958   NaN        S  \n",
       "692  56.4958   NaN        S  \n",
       "826  56.4958   NaN        S  \n",
       "838  56.4958   NaN        S  "
      ]
     },
     "execution_count": 84,
     "metadata": {},
     "output_type": "execute_result"
    }
   ],
   "source": [
    "train[train.Ticket == '1601']"
   ]
  },
  {
   "cell_type": "code",
   "execution_count": 85,
   "id": "459d298f",
   "metadata": {},
   "outputs": [
    {
     "data": {
      "text/html": [
       "<div>\n",
       "<style scoped>\n",
       "    .dataframe tbody tr th:only-of-type {\n",
       "        vertical-align: middle;\n",
       "    }\n",
       "\n",
       "    .dataframe tbody tr th {\n",
       "        vertical-align: top;\n",
       "    }\n",
       "\n",
       "    .dataframe thead th {\n",
       "        text-align: right;\n",
       "    }\n",
       "</style>\n",
       "<table border=\"1\" class=\"dataframe\">\n",
       "  <thead>\n",
       "    <tr style=\"text-align: right;\">\n",
       "      <th></th>\n",
       "      <th>Survived</th>\n",
       "      <th>Pclass</th>\n",
       "      <th>Name</th>\n",
       "      <th>Sex</th>\n",
       "      <th>Age</th>\n",
       "      <th>SibSp</th>\n",
       "      <th>Parch</th>\n",
       "      <th>Ticket</th>\n",
       "      <th>Fare</th>\n",
       "      <th>Cabin</th>\n",
       "      <th>Embarked</th>\n",
       "    </tr>\n",
       "  </thead>\n",
       "  <tbody>\n",
       "    <tr>\n",
       "      <th>50</th>\n",
       "      <td>0</td>\n",
       "      <td>3</td>\n",
       "      <td>Panula, Master. Juha Niilo</td>\n",
       "      <td>male</td>\n",
       "      <td>7.0</td>\n",
       "      <td>4</td>\n",
       "      <td>1</td>\n",
       "      <td>3101295</td>\n",
       "      <td>39.6875</td>\n",
       "      <td>NaN</td>\n",
       "      <td>S</td>\n",
       "    </tr>\n",
       "    <tr>\n",
       "      <th>164</th>\n",
       "      <td>0</td>\n",
       "      <td>3</td>\n",
       "      <td>Panula, Master. Eino Viljami</td>\n",
       "      <td>male</td>\n",
       "      <td>1.0</td>\n",
       "      <td>4</td>\n",
       "      <td>1</td>\n",
       "      <td>3101295</td>\n",
       "      <td>39.6875</td>\n",
       "      <td>NaN</td>\n",
       "      <td>S</td>\n",
       "    </tr>\n",
       "    <tr>\n",
       "      <th>266</th>\n",
       "      <td>0</td>\n",
       "      <td>3</td>\n",
       "      <td>Panula, Mr. Ernesti Arvid</td>\n",
       "      <td>male</td>\n",
       "      <td>16.0</td>\n",
       "      <td>4</td>\n",
       "      <td>1</td>\n",
       "      <td>3101295</td>\n",
       "      <td>39.6875</td>\n",
       "      <td>NaN</td>\n",
       "      <td>S</td>\n",
       "    </tr>\n",
       "    <tr>\n",
       "      <th>638</th>\n",
       "      <td>0</td>\n",
       "      <td>3</td>\n",
       "      <td>Panula, Mrs. Juha (Maria Emilia Ojala)</td>\n",
       "      <td>female</td>\n",
       "      <td>41.0</td>\n",
       "      <td>0</td>\n",
       "      <td>5</td>\n",
       "      <td>3101295</td>\n",
       "      <td>39.6875</td>\n",
       "      <td>NaN</td>\n",
       "      <td>S</td>\n",
       "    </tr>\n",
       "    <tr>\n",
       "      <th>686</th>\n",
       "      <td>0</td>\n",
       "      <td>3</td>\n",
       "      <td>Panula, Mr. Jaako Arnold</td>\n",
       "      <td>male</td>\n",
       "      <td>14.0</td>\n",
       "      <td>4</td>\n",
       "      <td>1</td>\n",
       "      <td>3101295</td>\n",
       "      <td>39.6875</td>\n",
       "      <td>NaN</td>\n",
       "      <td>S</td>\n",
       "    </tr>\n",
       "    <tr>\n",
       "      <th>824</th>\n",
       "      <td>0</td>\n",
       "      <td>3</td>\n",
       "      <td>Panula, Master. Urho Abraham</td>\n",
       "      <td>male</td>\n",
       "      <td>2.0</td>\n",
       "      <td>4</td>\n",
       "      <td>1</td>\n",
       "      <td>3101295</td>\n",
       "      <td>39.6875</td>\n",
       "      <td>NaN</td>\n",
       "      <td>S</td>\n",
       "    </tr>\n",
       "  </tbody>\n",
       "</table>\n",
       "</div>"
      ],
      "text/plain": [
       "     Survived  Pclass                                    Name     Sex   Age  \\\n",
       "50          0       3              Panula, Master. Juha Niilo    male   7.0   \n",
       "164         0       3            Panula, Master. Eino Viljami    male   1.0   \n",
       "266         0       3               Panula, Mr. Ernesti Arvid    male  16.0   \n",
       "638         0       3  Panula, Mrs. Juha (Maria Emilia Ojala)  female  41.0   \n",
       "686         0       3                Panula, Mr. Jaako Arnold    male  14.0   \n",
       "824         0       3            Panula, Master. Urho Abraham    male   2.0   \n",
       "\n",
       "     SibSp  Parch   Ticket     Fare Cabin Embarked  \n",
       "50       4      1  3101295  39.6875   NaN        S  \n",
       "164      4      1  3101295  39.6875   NaN        S  \n",
       "266      4      1  3101295  39.6875   NaN        S  \n",
       "638      0      5  3101295  39.6875   NaN        S  \n",
       "686      4      1  3101295  39.6875   NaN        S  \n",
       "824      4      1  3101295  39.6875   NaN        S  "
      ]
     },
     "execution_count": 85,
     "metadata": {},
     "output_type": "execute_result"
    }
   ],
   "source": [
    "train[train.Ticket == '3101295']"
   ]
  },
  {
   "cell_type": "code",
   "execution_count": 86,
   "id": "c5cb9ff5",
   "metadata": {},
   "outputs": [
    {
     "data": {
      "text/html": [
       "<div>\n",
       "<style scoped>\n",
       "    .dataframe tbody tr th:only-of-type {\n",
       "        vertical-align: middle;\n",
       "    }\n",
       "\n",
       "    .dataframe tbody tr th {\n",
       "        vertical-align: top;\n",
       "    }\n",
       "\n",
       "    .dataframe thead th {\n",
       "        text-align: right;\n",
       "    }\n",
       "</style>\n",
       "<table border=\"1\" class=\"dataframe\">\n",
       "  <thead>\n",
       "    <tr style=\"text-align: right;\">\n",
       "      <th></th>\n",
       "      <th>Survived</th>\n",
       "      <th>Pclass</th>\n",
       "      <th>Name</th>\n",
       "      <th>Sex</th>\n",
       "      <th>Age</th>\n",
       "      <th>SibSp</th>\n",
       "      <th>Parch</th>\n",
       "      <th>Ticket</th>\n",
       "      <th>Fare</th>\n",
       "      <th>Cabin</th>\n",
       "      <th>Embarked</th>\n",
       "    </tr>\n",
       "  </thead>\n",
       "  <tbody>\n",
       "    <tr>\n",
       "      <th>63</th>\n",
       "      <td>0</td>\n",
       "      <td>3</td>\n",
       "      <td>Skoog, Master. Harald</td>\n",
       "      <td>male</td>\n",
       "      <td>4.0</td>\n",
       "      <td>3</td>\n",
       "      <td>2</td>\n",
       "      <td>347088</td>\n",
       "      <td>27.9</td>\n",
       "      <td>NaN</td>\n",
       "      <td>S</td>\n",
       "    </tr>\n",
       "    <tr>\n",
       "      <th>167</th>\n",
       "      <td>0</td>\n",
       "      <td>3</td>\n",
       "      <td>Skoog, Mrs. William (Anna Bernhardina Karlsson)</td>\n",
       "      <td>female</td>\n",
       "      <td>45.0</td>\n",
       "      <td>1</td>\n",
       "      <td>4</td>\n",
       "      <td>347088</td>\n",
       "      <td>27.9</td>\n",
       "      <td>NaN</td>\n",
       "      <td>S</td>\n",
       "    </tr>\n",
       "    <tr>\n",
       "      <th>360</th>\n",
       "      <td>0</td>\n",
       "      <td>3</td>\n",
       "      <td>Skoog, Mr. Wilhelm</td>\n",
       "      <td>male</td>\n",
       "      <td>40.0</td>\n",
       "      <td>1</td>\n",
       "      <td>4</td>\n",
       "      <td>347088</td>\n",
       "      <td>27.9</td>\n",
       "      <td>NaN</td>\n",
       "      <td>S</td>\n",
       "    </tr>\n",
       "    <tr>\n",
       "      <th>634</th>\n",
       "      <td>0</td>\n",
       "      <td>3</td>\n",
       "      <td>Skoog, Miss. Mabel</td>\n",
       "      <td>female</td>\n",
       "      <td>9.0</td>\n",
       "      <td>3</td>\n",
       "      <td>2</td>\n",
       "      <td>347088</td>\n",
       "      <td>27.9</td>\n",
       "      <td>NaN</td>\n",
       "      <td>S</td>\n",
       "    </tr>\n",
       "    <tr>\n",
       "      <th>642</th>\n",
       "      <td>0</td>\n",
       "      <td>3</td>\n",
       "      <td>Skoog, Miss. Margit Elizabeth</td>\n",
       "      <td>female</td>\n",
       "      <td>2.0</td>\n",
       "      <td>3</td>\n",
       "      <td>2</td>\n",
       "      <td>347088</td>\n",
       "      <td>27.9</td>\n",
       "      <td>NaN</td>\n",
       "      <td>S</td>\n",
       "    </tr>\n",
       "    <tr>\n",
       "      <th>819</th>\n",
       "      <td>0</td>\n",
       "      <td>3</td>\n",
       "      <td>Skoog, Master. Karl Thorsten</td>\n",
       "      <td>male</td>\n",
       "      <td>10.0</td>\n",
       "      <td>3</td>\n",
       "      <td>2</td>\n",
       "      <td>347088</td>\n",
       "      <td>27.9</td>\n",
       "      <td>NaN</td>\n",
       "      <td>S</td>\n",
       "    </tr>\n",
       "  </tbody>\n",
       "</table>\n",
       "</div>"
      ],
      "text/plain": [
       "     Survived  Pclass                                             Name  \\\n",
       "63          0       3                            Skoog, Master. Harald   \n",
       "167         0       3  Skoog, Mrs. William (Anna Bernhardina Karlsson)   \n",
       "360         0       3                               Skoog, Mr. Wilhelm   \n",
       "634         0       3                               Skoog, Miss. Mabel   \n",
       "642         0       3                    Skoog, Miss. Margit Elizabeth   \n",
       "819         0       3                     Skoog, Master. Karl Thorsten   \n",
       "\n",
       "        Sex   Age  SibSp  Parch  Ticket  Fare Cabin Embarked  \n",
       "63     male   4.0      3      2  347088  27.9   NaN        S  \n",
       "167  female  45.0      1      4  347088  27.9   NaN        S  \n",
       "360    male  40.0      1      4  347088  27.9   NaN        S  \n",
       "634  female   9.0      3      2  347088  27.9   NaN        S  \n",
       "642  female   2.0      3      2  347088  27.9   NaN        S  \n",
       "819    male  10.0      3      2  347088  27.9   NaN        S  "
      ]
     },
     "execution_count": 86,
     "metadata": {},
     "output_type": "execute_result"
    }
   ],
   "source": [
    "train[train.Ticket == '347088']"
   ]
  },
  {
   "cell_type": "markdown",
   "id": "9eae85aa",
   "metadata": {},
   "source": [
    "Ticket values do seem to be related to Survial somehow. The Ticket data needs to be cleaned for proper use."
   ]
  },
  {
   "cell_type": "code",
   "execution_count": 87,
   "id": "260af993",
   "metadata": {},
   "outputs": [],
   "source": [
    "ticket_code = []\n",
    "ticket_num = []\n",
    "for i in train.Ticket.values:\n",
    "    num = re.findall(r'\\b[0-9]+$', i)\n",
    "    code = re.split(r'\\b[0-9]+$', i)[0]\n",
    "    ticket_code.append(code)\n",
    "    if(len(num) == 0):\n",
    "        ticket_num.append(np.nan)\n",
    "    else:\n",
    "        ticket_num.append(int(num[0]))\n",
    "        "
   ]
  },
  {
   "cell_type": "code",
   "execution_count": 88,
   "id": "a6b40af2",
   "metadata": {},
   "outputs": [],
   "source": [
    "train['ticket_code'] = pd.Series(np.array(ticket_code))\n",
    "train['ticket_num'] = pd.Series(np.array(ticket_num))"
   ]
  },
  {
   "cell_type": "code",
   "execution_count": 89,
   "id": "3856e932",
   "metadata": {},
   "outputs": [
    {
     "data": {
      "text/html": [
       "<div>\n",
       "<style scoped>\n",
       "    .dataframe tbody tr th:only-of-type {\n",
       "        vertical-align: middle;\n",
       "    }\n",
       "\n",
       "    .dataframe tbody tr th {\n",
       "        vertical-align: top;\n",
       "    }\n",
       "\n",
       "    .dataframe thead th {\n",
       "        text-align: right;\n",
       "    }\n",
       "</style>\n",
       "<table border=\"1\" class=\"dataframe\">\n",
       "  <thead>\n",
       "    <tr style=\"text-align: right;\">\n",
       "      <th></th>\n",
       "      <th>Survived</th>\n",
       "      <th>Pclass</th>\n",
       "      <th>Name</th>\n",
       "      <th>Sex</th>\n",
       "      <th>Age</th>\n",
       "      <th>SibSp</th>\n",
       "      <th>Parch</th>\n",
       "      <th>Ticket</th>\n",
       "      <th>Fare</th>\n",
       "      <th>Cabin</th>\n",
       "      <th>Embarked</th>\n",
       "      <th>ticket_code</th>\n",
       "      <th>ticket_num</th>\n",
       "    </tr>\n",
       "  </thead>\n",
       "  <tbody>\n",
       "    <tr>\n",
       "      <th>0</th>\n",
       "      <td>0</td>\n",
       "      <td>3</td>\n",
       "      <td>Braund, Mr. Owen Harris</td>\n",
       "      <td>male</td>\n",
       "      <td>22.0</td>\n",
       "      <td>1</td>\n",
       "      <td>0</td>\n",
       "      <td>A/5 21171</td>\n",
       "      <td>7.2500</td>\n",
       "      <td>NaN</td>\n",
       "      <td>S</td>\n",
       "      <td>A/5</td>\n",
       "      <td>21171.0</td>\n",
       "    </tr>\n",
       "    <tr>\n",
       "      <th>1</th>\n",
       "      <td>1</td>\n",
       "      <td>1</td>\n",
       "      <td>Cumings, Mrs. John Bradley (Florence Briggs Th...</td>\n",
       "      <td>female</td>\n",
       "      <td>38.0</td>\n",
       "      <td>1</td>\n",
       "      <td>0</td>\n",
       "      <td>PC 17599</td>\n",
       "      <td>71.2833</td>\n",
       "      <td>C85</td>\n",
       "      <td>C</td>\n",
       "      <td>PC</td>\n",
       "      <td>17599.0</td>\n",
       "    </tr>\n",
       "    <tr>\n",
       "      <th>2</th>\n",
       "      <td>1</td>\n",
       "      <td>3</td>\n",
       "      <td>Heikkinen, Miss. Laina</td>\n",
       "      <td>female</td>\n",
       "      <td>26.0</td>\n",
       "      <td>0</td>\n",
       "      <td>0</td>\n",
       "      <td>STON/O2. 3101282</td>\n",
       "      <td>7.9250</td>\n",
       "      <td>NaN</td>\n",
       "      <td>S</td>\n",
       "      <td>STON/O2.</td>\n",
       "      <td>3101282.0</td>\n",
       "    </tr>\n",
       "    <tr>\n",
       "      <th>3</th>\n",
       "      <td>1</td>\n",
       "      <td>1</td>\n",
       "      <td>Futrelle, Mrs. Jacques Heath (Lily May Peel)</td>\n",
       "      <td>female</td>\n",
       "      <td>35.0</td>\n",
       "      <td>1</td>\n",
       "      <td>0</td>\n",
       "      <td>113803</td>\n",
       "      <td>53.1000</td>\n",
       "      <td>C123</td>\n",
       "      <td>S</td>\n",
       "      <td></td>\n",
       "      <td>113803.0</td>\n",
       "    </tr>\n",
       "    <tr>\n",
       "      <th>4</th>\n",
       "      <td>0</td>\n",
       "      <td>3</td>\n",
       "      <td>Allen, Mr. William Henry</td>\n",
       "      <td>male</td>\n",
       "      <td>35.0</td>\n",
       "      <td>0</td>\n",
       "      <td>0</td>\n",
       "      <td>373450</td>\n",
       "      <td>8.0500</td>\n",
       "      <td>NaN</td>\n",
       "      <td>S</td>\n",
       "      <td></td>\n",
       "      <td>373450.0</td>\n",
       "    </tr>\n",
       "  </tbody>\n",
       "</table>\n",
       "</div>"
      ],
      "text/plain": [
       "   Survived  Pclass                                               Name  \\\n",
       "0         0       3                            Braund, Mr. Owen Harris   \n",
       "1         1       1  Cumings, Mrs. John Bradley (Florence Briggs Th...   \n",
       "2         1       3                             Heikkinen, Miss. Laina   \n",
       "3         1       1       Futrelle, Mrs. Jacques Heath (Lily May Peel)   \n",
       "4         0       3                           Allen, Mr. William Henry   \n",
       "\n",
       "      Sex   Age  SibSp  Parch            Ticket     Fare Cabin Embarked  \\\n",
       "0    male  22.0      1      0         A/5 21171   7.2500   NaN        S   \n",
       "1  female  38.0      1      0          PC 17599  71.2833   C85        C   \n",
       "2  female  26.0      0      0  STON/O2. 3101282   7.9250   NaN        S   \n",
       "3  female  35.0      1      0            113803  53.1000  C123        S   \n",
       "4    male  35.0      0      0            373450   8.0500   NaN        S   \n",
       "\n",
       "  ticket_code  ticket_num  \n",
       "0        A/5      21171.0  \n",
       "1         PC      17599.0  \n",
       "2   STON/O2.    3101282.0  \n",
       "3                113803.0  \n",
       "4                373450.0  "
      ]
     },
     "execution_count": 89,
     "metadata": {},
     "output_type": "execute_result"
    }
   ],
   "source": [
    "train.head()"
   ]
  },
  {
   "cell_type": "code",
   "execution_count": 90,
   "id": "b3cfabee",
   "metadata": {},
   "outputs": [
    {
     "name": "stdout",
     "output_type": "stream",
     "text": [
      "<class 'pandas.core.frame.DataFrame'>\n",
      "RangeIndex: 891 entries, 0 to 890\n",
      "Data columns (total 13 columns):\n",
      " #   Column       Non-Null Count  Dtype  \n",
      "---  ------       --------------  -----  \n",
      " 0   Survived     891 non-null    int64  \n",
      " 1   Pclass       891 non-null    int64  \n",
      " 2   Name         891 non-null    object \n",
      " 3   Sex          891 non-null    object \n",
      " 4   Age          714 non-null    float64\n",
      " 5   SibSp        891 non-null    int64  \n",
      " 6   Parch        891 non-null    int64  \n",
      " 7   Ticket       891 non-null    object \n",
      " 8   Fare         891 non-null    float64\n",
      " 9   Cabin        204 non-null    object \n",
      " 10  Embarked     889 non-null    object \n",
      " 11  ticket_code  891 non-null    object \n",
      " 12  ticket_num   887 non-null    float64\n",
      "dtypes: float64(3), int64(4), object(6)\n",
      "memory usage: 90.6+ KB\n"
     ]
    }
   ],
   "source": [
    "train.info()"
   ]
  },
  {
   "cell_type": "code",
   "execution_count": 91,
   "id": "0cb8fdbe",
   "metadata": {},
   "outputs": [],
   "source": [
    "train.drop(['Ticket'], axis = 1, inplace = True)"
   ]
  },
  {
   "cell_type": "markdown",
   "id": "b6a62d85",
   "metadata": {},
   "source": [
    "There still are rows where ticket_num is missing."
   ]
  },
  {
   "cell_type": "code",
   "execution_count": 92,
   "id": "b43b6773",
   "metadata": {},
   "outputs": [
    {
     "data": {
      "text/html": [
       "<div>\n",
       "<style scoped>\n",
       "    .dataframe tbody tr th:only-of-type {\n",
       "        vertical-align: middle;\n",
       "    }\n",
       "\n",
       "    .dataframe tbody tr th {\n",
       "        vertical-align: top;\n",
       "    }\n",
       "\n",
       "    .dataframe thead th {\n",
       "        text-align: right;\n",
       "    }\n",
       "</style>\n",
       "<table border=\"1\" class=\"dataframe\">\n",
       "  <thead>\n",
       "    <tr style=\"text-align: right;\">\n",
       "      <th></th>\n",
       "      <th>Survived</th>\n",
       "      <th>Pclass</th>\n",
       "      <th>Name</th>\n",
       "      <th>Sex</th>\n",
       "      <th>Age</th>\n",
       "      <th>SibSp</th>\n",
       "      <th>Parch</th>\n",
       "      <th>Fare</th>\n",
       "      <th>Cabin</th>\n",
       "      <th>Embarked</th>\n",
       "      <th>ticket_code</th>\n",
       "      <th>ticket_num</th>\n",
       "    </tr>\n",
       "  </thead>\n",
       "  <tbody>\n",
       "    <tr>\n",
       "      <th>179</th>\n",
       "      <td>0</td>\n",
       "      <td>3</td>\n",
       "      <td>Leonard, Mr. Lionel</td>\n",
       "      <td>male</td>\n",
       "      <td>36.0</td>\n",
       "      <td>0</td>\n",
       "      <td>0</td>\n",
       "      <td>0.0</td>\n",
       "      <td>NaN</td>\n",
       "      <td>S</td>\n",
       "      <td>LINE</td>\n",
       "      <td>NaN</td>\n",
       "    </tr>\n",
       "    <tr>\n",
       "      <th>271</th>\n",
       "      <td>1</td>\n",
       "      <td>3</td>\n",
       "      <td>Tornquist, Mr. William Henry</td>\n",
       "      <td>male</td>\n",
       "      <td>25.0</td>\n",
       "      <td>0</td>\n",
       "      <td>0</td>\n",
       "      <td>0.0</td>\n",
       "      <td>NaN</td>\n",
       "      <td>S</td>\n",
       "      <td>LINE</td>\n",
       "      <td>NaN</td>\n",
       "    </tr>\n",
       "    <tr>\n",
       "      <th>302</th>\n",
       "      <td>0</td>\n",
       "      <td>3</td>\n",
       "      <td>Johnson, Mr. William Cahoone Jr</td>\n",
       "      <td>male</td>\n",
       "      <td>19.0</td>\n",
       "      <td>0</td>\n",
       "      <td>0</td>\n",
       "      <td>0.0</td>\n",
       "      <td>NaN</td>\n",
       "      <td>S</td>\n",
       "      <td>LINE</td>\n",
       "      <td>NaN</td>\n",
       "    </tr>\n",
       "    <tr>\n",
       "      <th>597</th>\n",
       "      <td>0</td>\n",
       "      <td>3</td>\n",
       "      <td>Johnson, Mr. Alfred</td>\n",
       "      <td>male</td>\n",
       "      <td>49.0</td>\n",
       "      <td>0</td>\n",
       "      <td>0</td>\n",
       "      <td>0.0</td>\n",
       "      <td>NaN</td>\n",
       "      <td>S</td>\n",
       "      <td>LINE</td>\n",
       "      <td>NaN</td>\n",
       "    </tr>\n",
       "  </tbody>\n",
       "</table>\n",
       "</div>"
      ],
      "text/plain": [
       "     Survived  Pclass                             Name   Sex   Age  SibSp  \\\n",
       "179         0       3              Leonard, Mr. Lionel  male  36.0      0   \n",
       "271         1       3     Tornquist, Mr. William Henry  male  25.0      0   \n",
       "302         0       3  Johnson, Mr. William Cahoone Jr  male  19.0      0   \n",
       "597         0       3              Johnson, Mr. Alfred  male  49.0      0   \n",
       "\n",
       "     Parch  Fare Cabin Embarked ticket_code  ticket_num  \n",
       "179      0   0.0   NaN        S        LINE         NaN  \n",
       "271      0   0.0   NaN        S        LINE         NaN  \n",
       "302      0   0.0   NaN        S        LINE         NaN  \n",
       "597      0   0.0   NaN        S        LINE         NaN  "
      ]
     },
     "execution_count": 92,
     "metadata": {},
     "output_type": "execute_result"
    }
   ],
   "source": [
    "train[train['ticket_num'].isna()]"
   ]
  },
  {
   "cell_type": "code",
   "execution_count": 93,
   "id": "01c0a981",
   "metadata": {},
   "outputs": [
    {
     "data": {
      "text/html": [
       "<div>\n",
       "<style scoped>\n",
       "    .dataframe tbody tr th:only-of-type {\n",
       "        vertical-align: middle;\n",
       "    }\n",
       "\n",
       "    .dataframe tbody tr th {\n",
       "        vertical-align: top;\n",
       "    }\n",
       "\n",
       "    .dataframe thead th {\n",
       "        text-align: right;\n",
       "    }\n",
       "</style>\n",
       "<table border=\"1\" class=\"dataframe\">\n",
       "  <thead>\n",
       "    <tr style=\"text-align: right;\">\n",
       "      <th></th>\n",
       "      <th>Survived</th>\n",
       "      <th>Pclass</th>\n",
       "      <th>Name</th>\n",
       "      <th>Sex</th>\n",
       "      <th>Age</th>\n",
       "      <th>SibSp</th>\n",
       "      <th>Parch</th>\n",
       "      <th>Fare</th>\n",
       "      <th>Cabin</th>\n",
       "      <th>Embarked</th>\n",
       "      <th>ticket_code</th>\n",
       "      <th>ticket_num</th>\n",
       "    </tr>\n",
       "  </thead>\n",
       "  <tbody>\n",
       "    <tr>\n",
       "      <th>0</th>\n",
       "      <td>0</td>\n",
       "      <td>3</td>\n",
       "      <td>Braund, Mr. Owen Harris</td>\n",
       "      <td>male</td>\n",
       "      <td>22.0</td>\n",
       "      <td>1</td>\n",
       "      <td>0</td>\n",
       "      <td>7.2500</td>\n",
       "      <td>NaN</td>\n",
       "      <td>S</td>\n",
       "      <td>A/5</td>\n",
       "      <td>21171.0</td>\n",
       "    </tr>\n",
       "    <tr>\n",
       "      <th>1</th>\n",
       "      <td>1</td>\n",
       "      <td>1</td>\n",
       "      <td>Cumings, Mrs. John Bradley (Florence Briggs Th...</td>\n",
       "      <td>female</td>\n",
       "      <td>38.0</td>\n",
       "      <td>1</td>\n",
       "      <td>0</td>\n",
       "      <td>71.2833</td>\n",
       "      <td>C85</td>\n",
       "      <td>C</td>\n",
       "      <td>PC</td>\n",
       "      <td>17599.0</td>\n",
       "    </tr>\n",
       "    <tr>\n",
       "      <th>2</th>\n",
       "      <td>1</td>\n",
       "      <td>3</td>\n",
       "      <td>Heikkinen, Miss. Laina</td>\n",
       "      <td>female</td>\n",
       "      <td>26.0</td>\n",
       "      <td>0</td>\n",
       "      <td>0</td>\n",
       "      <td>7.9250</td>\n",
       "      <td>NaN</td>\n",
       "      <td>S</td>\n",
       "      <td>STON/O2.</td>\n",
       "      <td>3101282.0</td>\n",
       "    </tr>\n",
       "    <tr>\n",
       "      <th>3</th>\n",
       "      <td>1</td>\n",
       "      <td>1</td>\n",
       "      <td>Futrelle, Mrs. Jacques Heath (Lily May Peel)</td>\n",
       "      <td>female</td>\n",
       "      <td>35.0</td>\n",
       "      <td>1</td>\n",
       "      <td>0</td>\n",
       "      <td>53.1000</td>\n",
       "      <td>C123</td>\n",
       "      <td>S</td>\n",
       "      <td></td>\n",
       "      <td>113803.0</td>\n",
       "    </tr>\n",
       "    <tr>\n",
       "      <th>4</th>\n",
       "      <td>0</td>\n",
       "      <td>3</td>\n",
       "      <td>Allen, Mr. William Henry</td>\n",
       "      <td>male</td>\n",
       "      <td>35.0</td>\n",
       "      <td>0</td>\n",
       "      <td>0</td>\n",
       "      <td>8.0500</td>\n",
       "      <td>NaN</td>\n",
       "      <td>S</td>\n",
       "      <td></td>\n",
       "      <td>373450.0</td>\n",
       "    </tr>\n",
       "  </tbody>\n",
       "</table>\n",
       "</div>"
      ],
      "text/plain": [
       "   Survived  Pclass                                               Name  \\\n",
       "0         0       3                            Braund, Mr. Owen Harris   \n",
       "1         1       1  Cumings, Mrs. John Bradley (Florence Briggs Th...   \n",
       "2         1       3                             Heikkinen, Miss. Laina   \n",
       "3         1       1       Futrelle, Mrs. Jacques Heath (Lily May Peel)   \n",
       "4         0       3                           Allen, Mr. William Henry   \n",
       "\n",
       "      Sex   Age  SibSp  Parch     Fare Cabin Embarked ticket_code  ticket_num  \n",
       "0    male  22.0      1      0   7.2500   NaN        S        A/5      21171.0  \n",
       "1  female  38.0      1      0  71.2833   C85        C         PC      17599.0  \n",
       "2  female  26.0      0      0   7.9250   NaN        S   STON/O2.    3101282.0  \n",
       "3  female  35.0      1      0  53.1000  C123        S                113803.0  \n",
       "4    male  35.0      0      0   8.0500   NaN        S                373450.0  "
      ]
     },
     "execution_count": 93,
     "metadata": {},
     "output_type": "execute_result"
    }
   ],
   "source": [
    "train.head()"
   ]
  },
  {
   "cell_type": "code",
   "execution_count": 94,
   "id": "0d6cd564",
   "metadata": {},
   "outputs": [],
   "source": [
    "def clean_ticket(s):\n",
    "    s = s.lower()\n",
    "    s = ''.join(w.strip() for w in s.split())\n",
    "    s = re.sub(r'[^a-zA-Z0-9]', '', s)\n",
    "    return s"
   ]
  },
  {
   "cell_type": "code",
   "execution_count": 95,
   "id": "6658844e",
   "metadata": {},
   "outputs": [],
   "source": [
    "train.ticket_code = train.ticket_code.apply(clean_ticket)"
   ]
  },
  {
   "cell_type": "code",
   "execution_count": 96,
   "id": "5f7d0430",
   "metadata": {},
   "outputs": [
    {
     "data": {
      "text/html": [
       "<div>\n",
       "<style scoped>\n",
       "    .dataframe tbody tr th:only-of-type {\n",
       "        vertical-align: middle;\n",
       "    }\n",
       "\n",
       "    .dataframe tbody tr th {\n",
       "        vertical-align: top;\n",
       "    }\n",
       "\n",
       "    .dataframe thead th {\n",
       "        text-align: right;\n",
       "    }\n",
       "</style>\n",
       "<table border=\"1\" class=\"dataframe\">\n",
       "  <thead>\n",
       "    <tr style=\"text-align: right;\">\n",
       "      <th></th>\n",
       "      <th>Survived</th>\n",
       "      <th>Pclass</th>\n",
       "      <th>Name</th>\n",
       "      <th>Sex</th>\n",
       "      <th>Age</th>\n",
       "      <th>SibSp</th>\n",
       "      <th>Parch</th>\n",
       "      <th>Fare</th>\n",
       "      <th>Cabin</th>\n",
       "      <th>Embarked</th>\n",
       "      <th>ticket_code</th>\n",
       "      <th>ticket_num</th>\n",
       "    </tr>\n",
       "  </thead>\n",
       "  <tbody>\n",
       "    <tr>\n",
       "      <th>0</th>\n",
       "      <td>0</td>\n",
       "      <td>3</td>\n",
       "      <td>Braund, Mr. Owen Harris</td>\n",
       "      <td>male</td>\n",
       "      <td>22.0</td>\n",
       "      <td>1</td>\n",
       "      <td>0</td>\n",
       "      <td>7.2500</td>\n",
       "      <td>NaN</td>\n",
       "      <td>S</td>\n",
       "      <td>a5</td>\n",
       "      <td>21171.0</td>\n",
       "    </tr>\n",
       "    <tr>\n",
       "      <th>1</th>\n",
       "      <td>1</td>\n",
       "      <td>1</td>\n",
       "      <td>Cumings, Mrs. John Bradley (Florence Briggs Th...</td>\n",
       "      <td>female</td>\n",
       "      <td>38.0</td>\n",
       "      <td>1</td>\n",
       "      <td>0</td>\n",
       "      <td>71.2833</td>\n",
       "      <td>C85</td>\n",
       "      <td>C</td>\n",
       "      <td>pc</td>\n",
       "      <td>17599.0</td>\n",
       "    </tr>\n",
       "    <tr>\n",
       "      <th>2</th>\n",
       "      <td>1</td>\n",
       "      <td>3</td>\n",
       "      <td>Heikkinen, Miss. Laina</td>\n",
       "      <td>female</td>\n",
       "      <td>26.0</td>\n",
       "      <td>0</td>\n",
       "      <td>0</td>\n",
       "      <td>7.9250</td>\n",
       "      <td>NaN</td>\n",
       "      <td>S</td>\n",
       "      <td>stono2</td>\n",
       "      <td>3101282.0</td>\n",
       "    </tr>\n",
       "    <tr>\n",
       "      <th>3</th>\n",
       "      <td>1</td>\n",
       "      <td>1</td>\n",
       "      <td>Futrelle, Mrs. Jacques Heath (Lily May Peel)</td>\n",
       "      <td>female</td>\n",
       "      <td>35.0</td>\n",
       "      <td>1</td>\n",
       "      <td>0</td>\n",
       "      <td>53.1000</td>\n",
       "      <td>C123</td>\n",
       "      <td>S</td>\n",
       "      <td></td>\n",
       "      <td>113803.0</td>\n",
       "    </tr>\n",
       "    <tr>\n",
       "      <th>4</th>\n",
       "      <td>0</td>\n",
       "      <td>3</td>\n",
       "      <td>Allen, Mr. William Henry</td>\n",
       "      <td>male</td>\n",
       "      <td>35.0</td>\n",
       "      <td>0</td>\n",
       "      <td>0</td>\n",
       "      <td>8.0500</td>\n",
       "      <td>NaN</td>\n",
       "      <td>S</td>\n",
       "      <td></td>\n",
       "      <td>373450.0</td>\n",
       "    </tr>\n",
       "  </tbody>\n",
       "</table>\n",
       "</div>"
      ],
      "text/plain": [
       "   Survived  Pclass                                               Name  \\\n",
       "0         0       3                            Braund, Mr. Owen Harris   \n",
       "1         1       1  Cumings, Mrs. John Bradley (Florence Briggs Th...   \n",
       "2         1       3                             Heikkinen, Miss. Laina   \n",
       "3         1       1       Futrelle, Mrs. Jacques Heath (Lily May Peel)   \n",
       "4         0       3                           Allen, Mr. William Henry   \n",
       "\n",
       "      Sex   Age  SibSp  Parch     Fare Cabin Embarked ticket_code  ticket_num  \n",
       "0    male  22.0      1      0   7.2500   NaN        S          a5     21171.0  \n",
       "1  female  38.0      1      0  71.2833   C85        C          pc     17599.0  \n",
       "2  female  26.0      0      0   7.9250   NaN        S      stono2   3101282.0  \n",
       "3  female  35.0      1      0  53.1000  C123        S                113803.0  \n",
       "4    male  35.0      0      0   8.0500   NaN        S                373450.0  "
      ]
     },
     "execution_count": 96,
     "metadata": {},
     "output_type": "execute_result"
    }
   ],
   "source": [
    "train.head()"
   ]
  },
  {
   "cell_type": "markdown",
   "id": "646d801d",
   "metadata": {},
   "source": [
    "Dealing with Name:"
   ]
  },
  {
   "cell_type": "markdown",
   "id": "f0f1b047",
   "metadata": {},
   "source": [
    "Since survival of passengers has nothing to do with their name, it can be ignored."
   ]
  },
  {
   "cell_type": "code",
   "execution_count": 97,
   "id": "710ffdf7",
   "metadata": {},
   "outputs": [],
   "source": [
    "train.drop(['Name'], axis = 1, inplace = True)"
   ]
  },
  {
   "cell_type": "code",
   "execution_count": 98,
   "id": "7a965fc8",
   "metadata": {},
   "outputs": [
    {
     "data": {
      "text/html": [
       "<div>\n",
       "<style scoped>\n",
       "    .dataframe tbody tr th:only-of-type {\n",
       "        vertical-align: middle;\n",
       "    }\n",
       "\n",
       "    .dataframe tbody tr th {\n",
       "        vertical-align: top;\n",
       "    }\n",
       "\n",
       "    .dataframe thead th {\n",
       "        text-align: right;\n",
       "    }\n",
       "</style>\n",
       "<table border=\"1\" class=\"dataframe\">\n",
       "  <thead>\n",
       "    <tr style=\"text-align: right;\">\n",
       "      <th></th>\n",
       "      <th>Survived</th>\n",
       "      <th>Pclass</th>\n",
       "      <th>Sex</th>\n",
       "      <th>Age</th>\n",
       "      <th>SibSp</th>\n",
       "      <th>Parch</th>\n",
       "      <th>Fare</th>\n",
       "      <th>Cabin</th>\n",
       "      <th>Embarked</th>\n",
       "      <th>ticket_code</th>\n",
       "      <th>ticket_num</th>\n",
       "    </tr>\n",
       "  </thead>\n",
       "  <tbody>\n",
       "    <tr>\n",
       "      <th>0</th>\n",
       "      <td>0</td>\n",
       "      <td>3</td>\n",
       "      <td>male</td>\n",
       "      <td>22.0</td>\n",
       "      <td>1</td>\n",
       "      <td>0</td>\n",
       "      <td>7.2500</td>\n",
       "      <td>NaN</td>\n",
       "      <td>S</td>\n",
       "      <td>a5</td>\n",
       "      <td>21171.0</td>\n",
       "    </tr>\n",
       "    <tr>\n",
       "      <th>1</th>\n",
       "      <td>1</td>\n",
       "      <td>1</td>\n",
       "      <td>female</td>\n",
       "      <td>38.0</td>\n",
       "      <td>1</td>\n",
       "      <td>0</td>\n",
       "      <td>71.2833</td>\n",
       "      <td>C85</td>\n",
       "      <td>C</td>\n",
       "      <td>pc</td>\n",
       "      <td>17599.0</td>\n",
       "    </tr>\n",
       "    <tr>\n",
       "      <th>2</th>\n",
       "      <td>1</td>\n",
       "      <td>3</td>\n",
       "      <td>female</td>\n",
       "      <td>26.0</td>\n",
       "      <td>0</td>\n",
       "      <td>0</td>\n",
       "      <td>7.9250</td>\n",
       "      <td>NaN</td>\n",
       "      <td>S</td>\n",
       "      <td>stono2</td>\n",
       "      <td>3101282.0</td>\n",
       "    </tr>\n",
       "    <tr>\n",
       "      <th>3</th>\n",
       "      <td>1</td>\n",
       "      <td>1</td>\n",
       "      <td>female</td>\n",
       "      <td>35.0</td>\n",
       "      <td>1</td>\n",
       "      <td>0</td>\n",
       "      <td>53.1000</td>\n",
       "      <td>C123</td>\n",
       "      <td>S</td>\n",
       "      <td></td>\n",
       "      <td>113803.0</td>\n",
       "    </tr>\n",
       "    <tr>\n",
       "      <th>4</th>\n",
       "      <td>0</td>\n",
       "      <td>3</td>\n",
       "      <td>male</td>\n",
       "      <td>35.0</td>\n",
       "      <td>0</td>\n",
       "      <td>0</td>\n",
       "      <td>8.0500</td>\n",
       "      <td>NaN</td>\n",
       "      <td>S</td>\n",
       "      <td></td>\n",
       "      <td>373450.0</td>\n",
       "    </tr>\n",
       "  </tbody>\n",
       "</table>\n",
       "</div>"
      ],
      "text/plain": [
       "   Survived  Pclass     Sex   Age  SibSp  Parch     Fare Cabin Embarked  \\\n",
       "0         0       3    male  22.0      1      0   7.2500   NaN        S   \n",
       "1         1       1  female  38.0      1      0  71.2833   C85        C   \n",
       "2         1       3  female  26.0      0      0   7.9250   NaN        S   \n",
       "3         1       1  female  35.0      1      0  53.1000  C123        S   \n",
       "4         0       3    male  35.0      0      0   8.0500   NaN        S   \n",
       "\n",
       "  ticket_code  ticket_num  \n",
       "0          a5     21171.0  \n",
       "1          pc     17599.0  \n",
       "2      stono2   3101282.0  \n",
       "3                113803.0  \n",
       "4                373450.0  "
      ]
     },
     "execution_count": 98,
     "metadata": {},
     "output_type": "execute_result"
    }
   ],
   "source": [
    "train.head()"
   ]
  },
  {
   "cell_type": "markdown",
   "id": "314d8d6c",
   "metadata": {},
   "source": [
    "Dealing with Cabin:"
   ]
  },
  {
   "cell_type": "code",
   "execution_count": 99,
   "id": "9574be2a",
   "metadata": {},
   "outputs": [],
   "source": [
    "temp = train.Cabin.value_counts()"
   ]
  },
  {
   "cell_type": "code",
   "execution_count": 100,
   "id": "fdcbb7a6",
   "metadata": {},
   "outputs": [
    {
     "data": {
      "text/plain": [
       "46"
      ]
     },
     "execution_count": 100,
     "metadata": {},
     "output_type": "execute_result"
    }
   ],
   "source": [
    "len(temp[temp > 1])"
   ]
  },
  {
   "cell_type": "code",
   "execution_count": 101,
   "id": "8afdd0b5",
   "metadata": {},
   "outputs": [
    {
     "data": {
      "text/plain": [
       "101"
      ]
     },
     "execution_count": 101,
     "metadata": {},
     "output_type": "execute_result"
    }
   ],
   "source": [
    "len(temp[temp == 1])"
   ]
  },
  {
   "cell_type": "code",
   "execution_count": 102,
   "id": "347c953e",
   "metadata": {},
   "outputs": [
    {
     "data": {
      "text/plain": [
       "array([nan, 'C85', 'C123', 'E46', 'G6', 'C103', 'D56', 'A6',\n",
       "       'C23 C25 C27', 'B78', 'D33', 'B30', 'C52', 'B28', 'C83', 'F33',\n",
       "       'F G73', 'E31', 'A5', 'D10 D12', 'D26', 'C110', 'B58 B60', 'E101',\n",
       "       'F E69', 'D47', 'B86', 'F2', 'C2', 'E33', 'B19', 'A7', 'C49', 'F4',\n",
       "       'A32', 'B4', 'B80', 'A31', 'D36', 'D15', 'C93', 'C78', 'D35',\n",
       "       'C87', 'B77', 'E67', 'B94', 'C125', 'C99', 'C118', 'D7', 'A19',\n",
       "       'B49', 'D', 'C22 C26', 'C106', 'C65', 'E36', 'C54',\n",
       "       'B57 B59 B63 B66', 'C7', 'E34', 'C32', 'B18', 'C124', 'C91', 'E40',\n",
       "       'T', 'C128', 'D37', 'B35', 'E50', 'C82', 'B96 B98', 'E10', 'E44',\n",
       "       'A34', 'C104', 'C111', 'C92', 'E38', 'D21', 'E12', 'E63', 'A14',\n",
       "       'B37', 'C30', 'D20', 'B79', 'E25', 'D46', 'B73', 'C95', 'B38',\n",
       "       'B39', 'B22', 'C86', 'C70', 'A16', 'C101', 'C68', 'A10', 'E68',\n",
       "       'B41', 'A20', 'D19', 'D50', 'D9', 'A23', 'B50', 'A26', 'D48',\n",
       "       'E58', 'C126', 'B71', 'B51 B53 B55', 'D49', 'B5', 'B20', 'F G63',\n",
       "       'C62 C64', 'E24', 'C90', 'C45', 'E8', 'B101', 'D45', 'C46', 'D30',\n",
       "       'E121', 'D11', 'E77', 'F38', 'B3', 'D6', 'B82 B84', 'D17', 'A36',\n",
       "       'B102', 'B69', 'E49', 'C47', 'D28', 'E17', 'A24', 'C50', 'B42',\n",
       "       'C148'], dtype=object)"
      ]
     },
     "execution_count": 102,
     "metadata": {},
     "output_type": "execute_result"
    }
   ],
   "source": [
    "train.Cabin.unique()"
   ]
  },
  {
   "cell_type": "markdown",
   "id": "e12bd3e7",
   "metadata": {},
   "source": [
    "Cabin does not provide enough data. It is best to remove the cabin data."
   ]
  },
  {
   "cell_type": "code",
   "execution_count": 103,
   "id": "f6dd68a1",
   "metadata": {},
   "outputs": [],
   "source": [
    "train.drop(['Cabin'], axis = 1, inplace = True)"
   ]
  },
  {
   "cell_type": "code",
   "execution_count": 104,
   "id": "57136f1e",
   "metadata": {},
   "outputs": [
    {
     "data": {
      "text/html": [
       "<div>\n",
       "<style scoped>\n",
       "    .dataframe tbody tr th:only-of-type {\n",
       "        vertical-align: middle;\n",
       "    }\n",
       "\n",
       "    .dataframe tbody tr th {\n",
       "        vertical-align: top;\n",
       "    }\n",
       "\n",
       "    .dataframe thead th {\n",
       "        text-align: right;\n",
       "    }\n",
       "</style>\n",
       "<table border=\"1\" class=\"dataframe\">\n",
       "  <thead>\n",
       "    <tr style=\"text-align: right;\">\n",
       "      <th></th>\n",
       "      <th>Survived</th>\n",
       "      <th>Pclass</th>\n",
       "      <th>Sex</th>\n",
       "      <th>Age</th>\n",
       "      <th>SibSp</th>\n",
       "      <th>Parch</th>\n",
       "      <th>Fare</th>\n",
       "      <th>Embarked</th>\n",
       "      <th>ticket_code</th>\n",
       "      <th>ticket_num</th>\n",
       "    </tr>\n",
       "  </thead>\n",
       "  <tbody>\n",
       "    <tr>\n",
       "      <th>0</th>\n",
       "      <td>0</td>\n",
       "      <td>3</td>\n",
       "      <td>male</td>\n",
       "      <td>22.0</td>\n",
       "      <td>1</td>\n",
       "      <td>0</td>\n",
       "      <td>7.2500</td>\n",
       "      <td>S</td>\n",
       "      <td>a5</td>\n",
       "      <td>21171.0</td>\n",
       "    </tr>\n",
       "    <tr>\n",
       "      <th>1</th>\n",
       "      <td>1</td>\n",
       "      <td>1</td>\n",
       "      <td>female</td>\n",
       "      <td>38.0</td>\n",
       "      <td>1</td>\n",
       "      <td>0</td>\n",
       "      <td>71.2833</td>\n",
       "      <td>C</td>\n",
       "      <td>pc</td>\n",
       "      <td>17599.0</td>\n",
       "    </tr>\n",
       "    <tr>\n",
       "      <th>2</th>\n",
       "      <td>1</td>\n",
       "      <td>3</td>\n",
       "      <td>female</td>\n",
       "      <td>26.0</td>\n",
       "      <td>0</td>\n",
       "      <td>0</td>\n",
       "      <td>7.9250</td>\n",
       "      <td>S</td>\n",
       "      <td>stono2</td>\n",
       "      <td>3101282.0</td>\n",
       "    </tr>\n",
       "    <tr>\n",
       "      <th>3</th>\n",
       "      <td>1</td>\n",
       "      <td>1</td>\n",
       "      <td>female</td>\n",
       "      <td>35.0</td>\n",
       "      <td>1</td>\n",
       "      <td>0</td>\n",
       "      <td>53.1000</td>\n",
       "      <td>S</td>\n",
       "      <td></td>\n",
       "      <td>113803.0</td>\n",
       "    </tr>\n",
       "    <tr>\n",
       "      <th>4</th>\n",
       "      <td>0</td>\n",
       "      <td>3</td>\n",
       "      <td>male</td>\n",
       "      <td>35.0</td>\n",
       "      <td>0</td>\n",
       "      <td>0</td>\n",
       "      <td>8.0500</td>\n",
       "      <td>S</td>\n",
       "      <td></td>\n",
       "      <td>373450.0</td>\n",
       "    </tr>\n",
       "  </tbody>\n",
       "</table>\n",
       "</div>"
      ],
      "text/plain": [
       "   Survived  Pclass     Sex   Age  SibSp  Parch     Fare Embarked ticket_code  \\\n",
       "0         0       3    male  22.0      1      0   7.2500        S          a5   \n",
       "1         1       1  female  38.0      1      0  71.2833        C          pc   \n",
       "2         1       3  female  26.0      0      0   7.9250        S      stono2   \n",
       "3         1       1  female  35.0      1      0  53.1000        S               \n",
       "4         0       3    male  35.0      0      0   8.0500        S               \n",
       "\n",
       "   ticket_num  \n",
       "0     21171.0  \n",
       "1     17599.0  \n",
       "2   3101282.0  \n",
       "3    113803.0  \n",
       "4    373450.0  "
      ]
     },
     "execution_count": 104,
     "metadata": {},
     "output_type": "execute_result"
    }
   ],
   "source": [
    "train.head()"
   ]
  },
  {
   "cell_type": "markdown",
   "id": "2edc1418",
   "metadata": {},
   "source": [
    "#### Strategy to deal with missing values"
   ]
  },
  {
   "cell_type": "markdown",
   "id": "578d91a0",
   "metadata": {},
   "source": [
    "Option 1: Remove all missing values and remove ticket data.<br>\n",
    "Option 2: All missing values are in columns Age, ticket_code and ticket_num.<br>\n",
    "-----Sub-option 1: Replace missing age values by meidan value of age. Remove ticket data. <br>\n",
    "-----Sub-option 2: Replace missing age values by median value of age. Replace missing ticket_num by -1. Replace missing ticket_code i.e. '' by 'no_code' (This can then be replaced by numerical labels.) <br>\n",
    "Option3: Keep all missing values and use algorithms that support missing values"
   ]
  },
  {
   "cell_type": "markdown",
   "id": "a838dbcb",
   "metadata": {},
   "source": [
    "### Model building with Option 1"
   ]
  },
  {
   "cell_type": "code",
   "execution_count": 105,
   "id": "52b5320c",
   "metadata": {},
   "outputs": [],
   "source": [
    "train1 = train.drop(['ticket_code', 'ticket_num'], axis = 1)"
   ]
  },
  {
   "cell_type": "code",
   "execution_count": 106,
   "id": "ccd86d16",
   "metadata": {},
   "outputs": [],
   "source": [
    "train1.dropna(inplace = True)"
   ]
  },
  {
   "cell_type": "code",
   "execution_count": 107,
   "id": "07a9c636",
   "metadata": {},
   "outputs": [
    {
     "name": "stdout",
     "output_type": "stream",
     "text": [
      "<class 'pandas.core.frame.DataFrame'>\n",
      "Int64Index: 712 entries, 0 to 890\n",
      "Data columns (total 8 columns):\n",
      " #   Column    Non-Null Count  Dtype  \n",
      "---  ------    --------------  -----  \n",
      " 0   Survived  712 non-null    int64  \n",
      " 1   Pclass    712 non-null    int64  \n",
      " 2   Sex       712 non-null    object \n",
      " 3   Age       712 non-null    float64\n",
      " 4   SibSp     712 non-null    int64  \n",
      " 5   Parch     712 non-null    int64  \n",
      " 6   Fare      712 non-null    float64\n",
      " 7   Embarked  712 non-null    object \n",
      "dtypes: float64(2), int64(4), object(2)\n",
      "memory usage: 50.1+ KB\n"
     ]
    }
   ],
   "source": [
    "train1.info()"
   ]
  },
  {
   "cell_type": "markdown",
   "id": "e1c2b42f",
   "metadata": {},
   "source": [
    "Convert 'Sex' and 'Embarked' columns to type category"
   ]
  },
  {
   "cell_type": "code",
   "execution_count": 108,
   "id": "b12f2435",
   "metadata": {},
   "outputs": [],
   "source": [
    "train1['Sex'] = train1['Sex'].astype('category')\n",
    "train1['Embarked'] = train1['Embarked'].astype('category')"
   ]
  },
  {
   "cell_type": "code",
   "execution_count": 109,
   "id": "0bbd1d66",
   "metadata": {},
   "outputs": [],
   "source": [
    "train1['Age'] = train1['Age'].astype('int64')"
   ]
  },
  {
   "cell_type": "code",
   "execution_count": 110,
   "id": "97240c2a",
   "metadata": {},
   "outputs": [
    {
     "name": "stdout",
     "output_type": "stream",
     "text": [
      "<class 'pandas.core.frame.DataFrame'>\n",
      "Int64Index: 712 entries, 0 to 890\n",
      "Data columns (total 8 columns):\n",
      " #   Column    Non-Null Count  Dtype   \n",
      "---  ------    --------------  -----   \n",
      " 0   Survived  712 non-null    int64   \n",
      " 1   Pclass    712 non-null    int64   \n",
      " 2   Sex       712 non-null    category\n",
      " 3   Age       712 non-null    int64   \n",
      " 4   SibSp     712 non-null    int64   \n",
      " 5   Parch     712 non-null    int64   \n",
      " 6   Fare      712 non-null    float64 \n",
      " 7   Embarked  712 non-null    category\n",
      "dtypes: category(2), float64(1), int64(5)\n",
      "memory usage: 40.6 KB\n"
     ]
    }
   ],
   "source": [
    "train1.info()"
   ]
  },
  {
   "cell_type": "code",
   "execution_count": 111,
   "id": "bd4f452b",
   "metadata": {},
   "outputs": [],
   "source": [
    "train1 = pd.get_dummies(train1, columns = ['Sex', 'Embarked'])"
   ]
  },
  {
   "cell_type": "code",
   "execution_count": 112,
   "id": "edb8939b",
   "metadata": {},
   "outputs": [],
   "source": [
    "train1.drop(['Sex_male'], axis = 1, inplace = True) #Do not need this column as it adds no new information"
   ]
  },
  {
   "cell_type": "code",
   "execution_count": 113,
   "id": "f6a3602d",
   "metadata": {},
   "outputs": [
    {
     "data": {
      "text/html": [
       "<div>\n",
       "<style scoped>\n",
       "    .dataframe tbody tr th:only-of-type {\n",
       "        vertical-align: middle;\n",
       "    }\n",
       "\n",
       "    .dataframe tbody tr th {\n",
       "        vertical-align: top;\n",
       "    }\n",
       "\n",
       "    .dataframe thead th {\n",
       "        text-align: right;\n",
       "    }\n",
       "</style>\n",
       "<table border=\"1\" class=\"dataframe\">\n",
       "  <thead>\n",
       "    <tr style=\"text-align: right;\">\n",
       "      <th></th>\n",
       "      <th>Survived</th>\n",
       "      <th>Pclass</th>\n",
       "      <th>Age</th>\n",
       "      <th>SibSp</th>\n",
       "      <th>Parch</th>\n",
       "      <th>Fare</th>\n",
       "      <th>Sex_female</th>\n",
       "      <th>Embarked_C</th>\n",
       "      <th>Embarked_Q</th>\n",
       "      <th>Embarked_S</th>\n",
       "    </tr>\n",
       "  </thead>\n",
       "  <tbody>\n",
       "    <tr>\n",
       "      <th>0</th>\n",
       "      <td>0</td>\n",
       "      <td>3</td>\n",
       "      <td>22</td>\n",
       "      <td>1</td>\n",
       "      <td>0</td>\n",
       "      <td>7.2500</td>\n",
       "      <td>0</td>\n",
       "      <td>0</td>\n",
       "      <td>0</td>\n",
       "      <td>1</td>\n",
       "    </tr>\n",
       "    <tr>\n",
       "      <th>1</th>\n",
       "      <td>1</td>\n",
       "      <td>1</td>\n",
       "      <td>38</td>\n",
       "      <td>1</td>\n",
       "      <td>0</td>\n",
       "      <td>71.2833</td>\n",
       "      <td>1</td>\n",
       "      <td>1</td>\n",
       "      <td>0</td>\n",
       "      <td>0</td>\n",
       "    </tr>\n",
       "    <tr>\n",
       "      <th>2</th>\n",
       "      <td>1</td>\n",
       "      <td>3</td>\n",
       "      <td>26</td>\n",
       "      <td>0</td>\n",
       "      <td>0</td>\n",
       "      <td>7.9250</td>\n",
       "      <td>1</td>\n",
       "      <td>0</td>\n",
       "      <td>0</td>\n",
       "      <td>1</td>\n",
       "    </tr>\n",
       "    <tr>\n",
       "      <th>3</th>\n",
       "      <td>1</td>\n",
       "      <td>1</td>\n",
       "      <td>35</td>\n",
       "      <td>1</td>\n",
       "      <td>0</td>\n",
       "      <td>53.1000</td>\n",
       "      <td>1</td>\n",
       "      <td>0</td>\n",
       "      <td>0</td>\n",
       "      <td>1</td>\n",
       "    </tr>\n",
       "    <tr>\n",
       "      <th>4</th>\n",
       "      <td>0</td>\n",
       "      <td>3</td>\n",
       "      <td>35</td>\n",
       "      <td>0</td>\n",
       "      <td>0</td>\n",
       "      <td>8.0500</td>\n",
       "      <td>0</td>\n",
       "      <td>0</td>\n",
       "      <td>0</td>\n",
       "      <td>1</td>\n",
       "    </tr>\n",
       "  </tbody>\n",
       "</table>\n",
       "</div>"
      ],
      "text/plain": [
       "   Survived  Pclass  Age  SibSp  Parch     Fare  Sex_female  Embarked_C  \\\n",
       "0         0       3   22      1      0   7.2500           0           0   \n",
       "1         1       1   38      1      0  71.2833           1           1   \n",
       "2         1       3   26      0      0   7.9250           1           0   \n",
       "3         1       1   35      1      0  53.1000           1           0   \n",
       "4         0       3   35      0      0   8.0500           0           0   \n",
       "\n",
       "   Embarked_Q  Embarked_S  \n",
       "0           0           1  \n",
       "1           0           0  \n",
       "2           0           1  \n",
       "3           0           1  \n",
       "4           0           1  "
      ]
     },
     "execution_count": 113,
     "metadata": {},
     "output_type": "execute_result"
    }
   ],
   "source": [
    "train1.head()"
   ]
  },
  {
   "cell_type": "markdown",
   "id": "bc907e94",
   "metadata": {},
   "source": [
    "Setting up train and test data:"
   ]
  },
  {
   "cell_type": "code",
   "execution_count": 114,
   "id": "31692e54",
   "metadata": {},
   "outputs": [],
   "source": [
    "X = train1.drop(['Survived'], axis = 1)\n",
    "y = train1['Survived']"
   ]
  },
  {
   "cell_type": "code",
   "execution_count": 115,
   "id": "80f6bc3b",
   "metadata": {},
   "outputs": [
    {
     "data": {
      "text/plain": [
       "0    424\n",
       "1    288\n",
       "Name: Survived, dtype: int64"
      ]
     },
     "execution_count": 115,
     "metadata": {},
     "output_type": "execute_result"
    }
   ],
   "source": [
    "y.value_counts()"
   ]
  },
  {
   "cell_type": "markdown",
   "id": "8e65d719",
   "metadata": {},
   "source": [
    "Undersampling will wipe off almost half of the data. Oversampling must be used. "
   ]
  },
  {
   "cell_type": "code",
   "execution_count": 116,
   "id": "780f6cd0",
   "metadata": {},
   "outputs": [],
   "source": [
    "#trying SMOTE oversampling\n",
    "over_sampler = SMOTE(random_state = 1)\n",
    "X_resampled, y_resampled  = over_sampler.fit_resample(X, y)"
   ]
  },
  {
   "cell_type": "code",
   "execution_count": 117,
   "id": "fac61fdf",
   "metadata": {},
   "outputs": [
    {
     "data": {
      "text/plain": [
       "((848, 9), (848,))"
      ]
     },
     "execution_count": 117,
     "metadata": {},
     "output_type": "execute_result"
    }
   ],
   "source": [
    "X_resampled.shape, y_resampled.shape"
   ]
  },
  {
   "cell_type": "code",
   "execution_count": 118,
   "id": "abacd61f",
   "metadata": {},
   "outputs": [],
   "source": [
    "scaler = MinMaxScaler()\n",
    "X_resampled = scaler.fit_transform(X_resampled)"
   ]
  },
  {
   "cell_type": "code",
   "execution_count": 119,
   "id": "81f11731",
   "metadata": {},
   "outputs": [
    {
     "data": {
      "text/plain": [
       "array([1.        , 0.275     , 0.2       , 0.        , 0.01415106,\n",
       "       0.        , 0.        , 0.        , 1.        ])"
      ]
     },
     "execution_count": 119,
     "metadata": {},
     "output_type": "execute_result"
    }
   ],
   "source": [
    "X_resampled[0]"
   ]
  },
  {
   "cell_type": "code",
   "execution_count": 120,
   "id": "ee7c65ba",
   "metadata": {},
   "outputs": [
    {
     "data": {
      "text/plain": [
       "0    424\n",
       "1    424\n",
       "Name: Survived, dtype: int64"
      ]
     },
     "execution_count": 120,
     "metadata": {},
     "output_type": "execute_result"
    }
   ],
   "source": [
    "y_resampled.value_counts()"
   ]
  },
  {
   "cell_type": "code",
   "execution_count": 121,
   "id": "6dd2fecc",
   "metadata": {},
   "outputs": [],
   "source": [
    "X_train, X_test, y_train, y_test = train_test_split(X_resampled, y_resampled, test_size = 0.2, random_state = 1, stratify = y_resampled)"
   ]
  },
  {
   "cell_type": "code",
   "execution_count": 122,
   "id": "8490b37a",
   "metadata": {},
   "outputs": [
    {
     "data": {
      "text/plain": [
       "((678, 9), (170, 9), (678,), (170,))"
      ]
     },
     "execution_count": 122,
     "metadata": {},
     "output_type": "execute_result"
    }
   ],
   "source": [
    "X_train.shape, X_test.shape, y_train.shape, y_test.shape"
   ]
  },
  {
   "cell_type": "markdown",
   "id": "28acd95f",
   "metadata": {},
   "source": [
    "Algorithms to try:<br>\n",
    "-Logistic Regression <br>\n",
    "-SVM <br>\n",
    "-KNN <br>\n",
    "-Naive-Bayes<br>\n",
    "-Decision Tree Classifier <br>\n",
    "-Random Forest Classifier <br>\n",
    "-Gradient Boost classifier <br>\n",
    "-XGBoost<br>\n",
    "-NN\n"
   ]
  },
  {
   "cell_type": "markdown",
   "id": "14dca523",
   "metadata": {},
   "source": [
    "<i>Logistic Regression:</i>"
   ]
  },
  {
   "cell_type": "code",
   "execution_count": 123,
   "id": "d6be49b9",
   "metadata": {},
   "outputs": [],
   "source": [
    "lr = LogisticRegression(random_state = 1, solver = 'liblinear') \n",
    "lr_scores = cross_val_score(lr, X_train, y_train, cv = 3)"
   ]
  },
  {
   "cell_type": "code",
   "execution_count": 124,
   "id": "beade94f",
   "metadata": {},
   "outputs": [
    {
     "data": {
      "text/plain": [
       "array([0.80973451, 0.73451327, 0.76106195])"
      ]
     },
     "execution_count": 124,
     "metadata": {},
     "output_type": "execute_result"
    }
   ],
   "source": [
    "lr_scores"
   ]
  },
  {
   "cell_type": "code",
   "execution_count": 125,
   "id": "3304210d",
   "metadata": {},
   "outputs": [
    {
     "data": {
      "text/plain": [
       "0.7684365781710915"
      ]
     },
     "execution_count": 125,
     "metadata": {},
     "output_type": "execute_result"
    }
   ],
   "source": [
    "lr_scores.mean()"
   ]
  },
  {
   "cell_type": "markdown",
   "id": "c11cf476",
   "metadata": {},
   "source": [
    "The logistic regression model has an average accuracy of about 76%."
   ]
  },
  {
   "cell_type": "code",
   "execution_count": 126,
   "id": "b4ee07d7",
   "metadata": {},
   "outputs": [],
   "source": [
    "lr.fit(X_train, y_train) \n",
    "pred_test = lr.predict(X_test)"
   ]
  },
  {
   "cell_type": "code",
   "execution_count": 127,
   "id": "d0b020eb",
   "metadata": {},
   "outputs": [
    {
     "data": {
      "text/plain": [
       "array([0, 1, 1, 1, 1, 1, 0, 1, 0, 1, 0, 0, 0, 1, 1, 0, 0, 0, 1, 0, 0, 0,\n",
       "       0, 0, 1, 1, 0, 1, 1, 0, 1, 1, 1, 0, 0, 0, 1, 1, 1, 1, 0, 0, 0, 0,\n",
       "       0, 0, 1, 1, 0, 1, 1, 0, 0, 0, 1, 1, 1, 0, 0, 0, 1, 1, 0, 1, 1, 0,\n",
       "       1, 1, 0, 0, 0, 0, 1, 0, 1, 0, 1, 1, 0, 0, 0, 1, 0, 0, 0, 1, 1, 0,\n",
       "       1, 0, 0, 1, 1, 1, 1, 0, 1, 1, 1, 1, 0, 0, 1, 0, 1, 0, 1, 0, 0, 1,\n",
       "       0, 0, 1, 1, 0, 0, 1, 0, 1, 0, 1, 1, 1, 0, 1, 1, 1, 0, 0, 0, 0, 0,\n",
       "       1, 1, 0, 0, 0, 1, 1, 0, 0, 0, 1, 0, 0, 0, 0, 0, 0, 0, 0, 1, 1, 0,\n",
       "       1, 1, 1, 0, 0, 1, 0, 0, 0, 0, 1, 0, 0, 1, 1, 1], dtype=int64)"
      ]
     },
     "execution_count": 127,
     "metadata": {},
     "output_type": "execute_result"
    }
   ],
   "source": [
    "pred_test"
   ]
  },
  {
   "cell_type": "code",
   "execution_count": 128,
   "id": "11bffbe2",
   "metadata": {},
   "outputs": [
    {
     "data": {
      "text/plain": [
       "<AxesSubplot:>"
      ]
     },
     "execution_count": 128,
     "metadata": {},
     "output_type": "execute_result"
    },
    {
     "data": {
      "image/png": "[encoded data removed]",
      "text/plain": [
       "<Figure size 432x288 with 2 Axes>"
      ]
     },
     "metadata": {
      "needs_background": "light"
     },
     "output_type": "display_data"
    }
   ],
   "source": [
    "cm = confusion_matrix(y_true = y_test, y_pred = pred_test, labels = [0, 1])\n",
    "df_cm = pd.DataFrame(cm, index = [i for i in ['True 0', 'True 1']], columns = [i for i in ['Pred 0', 'Pred 1']])\n",
    "sns.heatmap(df_cm, annot = True)"
   ]
  },
  {
   "cell_type": "code",
   "execution_count": 129,
   "id": "9823e636",
   "metadata": {},
   "outputs": [
    {
     "name": "stdout",
     "output_type": "stream",
     "text": [
      "              precision    recall  f1-score   support\n",
      "\n",
      "           0       0.74      0.79      0.76        85\n",
      "           1       0.77      0.72      0.74        85\n",
      "\n",
      "    accuracy                           0.75       170\n",
      "   macro avg       0.75      0.75      0.75       170\n",
      "weighted avg       0.75      0.75      0.75       170\n",
      "\n"
     ]
    }
   ],
   "source": [
    "print(classification_report(y_true = y_test, y_pred = pred_test, labels = lr.classes_))"
   ]
  },
  {
   "cell_type": "markdown",
   "id": "f96a60d0",
   "metadata": {},
   "source": [
    "According to the classification report, the model has an average f1-score of about 0.75."
   ]
  },
  {
   "cell_type": "code",
   "execution_count": 130,
   "id": "e5f905f8",
   "metadata": {},
   "outputs": [
    {
     "name": "stdout",
     "output_type": "stream",
     "text": [
      "Training accuracy: 0.7817109144542773\n"
     ]
    }
   ],
   "source": [
    "print('Training accuracy:',lr.score(X_train, y_train))"
   ]
  },
  {
   "cell_type": "code",
   "execution_count": 131,
   "id": "825dad77",
   "metadata": {},
   "outputs": [
    {
     "name": "stdout",
     "output_type": "stream",
     "text": [
      "Testing accuracy: 0.7529411764705882\n"
     ]
    }
   ],
   "source": [
    "print('Testing accuracy:',lr.score(X_test, y_test))"
   ]
  },
  {
   "cell_type": "markdown",
   "id": "34c724a2",
   "metadata": {},
   "source": [
    "The model is slightly overfit."
   ]
  },
  {
   "cell_type": "code",
   "execution_count": 224,
   "id": "3340bb00",
   "metadata": {},
   "outputs": [],
   "source": [
    "o1_summary = {'lr' : [lr.score(X_train, y_train), lr.score(X_test, y_test), 0.75]}"
   ]
  },
  {
   "cell_type": "code",
   "execution_count": 225,
   "id": "542d7cf2",
   "metadata": {},
   "outputs": [
    {
     "data": {
      "text/plain": [
       "{'lr': [0.7817109144542773, 0.7529411764705882, 0.75]}"
      ]
     },
     "execution_count": 225,
     "metadata": {},
     "output_type": "execute_result"
    }
   ],
   "source": [
    "o1_summary"
   ]
  },
  {
   "cell_type": "markdown",
   "id": "aa39be71",
   "metadata": {},
   "source": [
    "<i>SVM</i>"
   ]
  },
  {
   "cell_type": "code",
   "execution_count": 132,
   "id": "3e3eeae8",
   "metadata": {},
   "outputs": [],
   "source": [
    "svc = SVC(random_state = 1)\n",
    "svc_scores = cross_val_score(svc, X_train, y_train, cv = 3)"
   ]
  },
  {
   "cell_type": "code",
   "execution_count": 133,
   "id": "70574e56",
   "metadata": {},
   "outputs": [
    {
     "data": {
      "text/plain": [
       "array([0.76106195, 0.72566372, 0.7920354 ])"
      ]
     },
     "execution_count": 133,
     "metadata": {},
     "output_type": "execute_result"
    }
   ],
   "source": [
    "svc_scores"
   ]
  },
  {
   "cell_type": "code",
   "execution_count": 134,
   "id": "e8e04999",
   "metadata": {},
   "outputs": [
    {
     "data": {
      "text/plain": [
       "0.7595870206489677"
      ]
     },
     "execution_count": 134,
     "metadata": {},
     "output_type": "execute_result"
    }
   ],
   "source": [
    "svc_scores.mean()"
   ]
  },
  {
   "cell_type": "markdown",
   "id": "c34ea086",
   "metadata": {},
   "source": [
    "Average svc accuracy is about 76%."
   ]
  },
  {
   "cell_type": "code",
   "execution_count": 135,
   "id": "66e3c606",
   "metadata": {},
   "outputs": [
    {
     "data": {
      "text/plain": [
       "GridSearchCV(cv=3, estimator=SVC(random_state=1),\n",
       "             param_grid={'C': [0.8, 1, 1.2, 1.4], 'degree': [3, 4],\n",
       "                         'kernel': ['linear', 'rbf', 'poly']})"
      ]
     },
     "execution_count": 135,
     "metadata": {},
     "output_type": "execute_result"
    }
   ],
   "source": [
    "params = {'C' : [0.8, 1, 1.2, 1.4], 'kernel' : ['linear', 'rbf', 'poly'], 'degree':[3,4]}\n",
    "grid = GridSearchCV(SVC(random_state = 1), params, cv = 3)\n",
    "grid.fit(X_train, y_train)"
   ]
  },
  {
   "cell_type": "code",
   "execution_count": 136,
   "id": "4fe7649e",
   "metadata": {},
   "outputs": [
    {
     "data": {
      "text/plain": [
       "{'C': 1.4, 'degree': 4, 'kernel': 'poly'}"
      ]
     },
     "execution_count": 136,
     "metadata": {},
     "output_type": "execute_result"
    }
   ],
   "source": [
    "grid.best_params_"
   ]
  },
  {
   "cell_type": "code",
   "execution_count": 137,
   "id": "4570830a",
   "metadata": {},
   "outputs": [],
   "source": [
    "svc_scores = cross_val_score(SVC(C = 1.2, kernel = 'linear'), X_train, y_train, cv = 3)"
   ]
  },
  {
   "cell_type": "code",
   "execution_count": 138,
   "id": "d9889cce",
   "metadata": {},
   "outputs": [
    {
     "data": {
      "text/plain": [
       "array([0.78318584, 0.74778761, 0.79646018])"
      ]
     },
     "execution_count": 138,
     "metadata": {},
     "output_type": "execute_result"
    }
   ],
   "source": [
    "svc_scores"
   ]
  },
  {
   "cell_type": "code",
   "execution_count": 139,
   "id": "2e52959f",
   "metadata": {},
   "outputs": [
    {
     "data": {
      "text/plain": [
       "0.775811209439528"
      ]
     },
     "execution_count": 139,
     "metadata": {},
     "output_type": "execute_result"
    }
   ],
   "source": [
    "svc_scores.mean()"
   ]
  },
  {
   "cell_type": "markdown",
   "id": "b0087001",
   "metadata": {},
   "source": [
    "This is almost 1% increase in accuracy."
   ]
  },
  {
   "cell_type": "code",
   "execution_count": 140,
   "id": "01007c4b",
   "metadata": {},
   "outputs": [
    {
     "data": {
      "text/plain": [
       "SVC(C=1.2, kernel='linear')"
      ]
     },
     "execution_count": 140,
     "metadata": {},
     "output_type": "execute_result"
    }
   ],
   "source": [
    "svc = SVC(C = 1.2, kernel = 'linear')\n",
    "svc.fit(X_train, y_train)"
   ]
  },
  {
   "cell_type": "code",
   "execution_count": 141,
   "id": "809f968e",
   "metadata": {},
   "outputs": [],
   "source": [
    "pred_test = svc.predict(X_test)"
   ]
  },
  {
   "cell_type": "code",
   "execution_count": 142,
   "id": "7ed7d454",
   "metadata": {},
   "outputs": [
    {
     "data": {
      "text/plain": [
       "<AxesSubplot:>"
      ]
     },
     "execution_count": 142,
     "metadata": {},
     "output_type": "execute_result"
    },
    {
     "data": {
      "image/png": "[encoded data removed]",
      "text/plain": [
       "<Figure size 432x288 with 2 Axes>"
      ]
     },
     "metadata": {
      "needs_background": "light"
     },
     "output_type": "display_data"
    }
   ],
   "source": [
    "cm = confusion_matrix(y_true = y_test, y_pred = pred_test, labels = [0, 1])\n",
    "df_cm = pd.DataFrame(cm, index = [i for i in ['True 0', 'True 1']], columns = [i for i in ['Pred 0', 'Pred 1']])\n",
    "sns.heatmap(df_cm, annot = True)"
   ]
  },
  {
   "cell_type": "code",
   "execution_count": 143,
   "id": "3f7edb6c",
   "metadata": {},
   "outputs": [
    {
     "name": "stdout",
     "output_type": "stream",
     "text": [
      "              precision    recall  f1-score   support\n",
      "\n",
      "           0       0.67      0.85      0.75        85\n",
      "           1       0.79      0.59      0.68        85\n",
      "\n",
      "    accuracy                           0.72       170\n",
      "   macro avg       0.73      0.72      0.71       170\n",
      "weighted avg       0.73      0.72      0.71       170\n",
      "\n"
     ]
    }
   ],
   "source": [
    "print(classification_report(y_true = y_test, y_pred = pred_test, labels = svc.classes_))"
   ]
  },
  {
   "cell_type": "markdown",
   "id": "f1fd1f4e",
   "metadata": {},
   "source": [
    "The average f1 score of the svc model is about 72%."
   ]
  },
  {
   "cell_type": "code",
   "execution_count": 144,
   "id": "5f7aade9",
   "metadata": {},
   "outputs": [
    {
     "name": "stdout",
     "output_type": "stream",
     "text": [
      "Training accuracy: 0.7728613569321534\n"
     ]
    }
   ],
   "source": [
    "print('Training accuracy:',svc.score(X_train, y_train))"
   ]
  },
  {
   "cell_type": "code",
   "execution_count": 145,
   "id": "60ed449e",
   "metadata": {},
   "outputs": [
    {
     "name": "stdout",
     "output_type": "stream",
     "text": [
      "Testing accuracy: 0.7176470588235294\n"
     ]
    }
   ],
   "source": [
    "print('Testing accuracy:',svc.score(X_test, y_test))"
   ]
  },
  {
   "cell_type": "markdown",
   "id": "0937cd80",
   "metadata": {},
   "source": [
    "The model is slightly overfit"
   ]
  },
  {
   "cell_type": "code",
   "execution_count": 226,
   "id": "667ec585",
   "metadata": {},
   "outputs": [],
   "source": [
    "o1_summary.update({'svm' : [svc.score(X_train, y_train), svc.score(X_test, y_test), 0.72]})"
   ]
  },
  {
   "cell_type": "code",
   "execution_count": 227,
   "id": "2f0874ba",
   "metadata": {},
   "outputs": [
    {
     "data": {
      "text/plain": [
       "{'lr': [0.7817109144542773, 0.7529411764705882, 0.75],\n",
       " 'svm': [0.7728613569321534, 0.7176470588235294, 0.72]}"
      ]
     },
     "execution_count": 227,
     "metadata": {},
     "output_type": "execute_result"
    }
   ],
   "source": [
    "o1_summary"
   ]
  },
  {
   "cell_type": "markdown",
   "id": "3d4db0f1",
   "metadata": {},
   "source": [
    "<i>KNN</i>"
   ]
  },
  {
   "cell_type": "code",
   "execution_count": 146,
   "id": "9680a637",
   "metadata": {},
   "outputs": [],
   "source": [
    "knn = KNeighborsClassifier()"
   ]
  },
  {
   "cell_type": "code",
   "execution_count": 147,
   "id": "5375f7a7",
   "metadata": {},
   "outputs": [],
   "source": [
    "knn_scores = cross_val_score(knn, X_train, y_train, cv = 3)"
   ]
  },
  {
   "cell_type": "code",
   "execution_count": 148,
   "id": "dd9826c7",
   "metadata": {},
   "outputs": [
    {
     "data": {
      "text/plain": [
       "array([0.78318584, 0.77876106, 0.78761062])"
      ]
     },
     "execution_count": 148,
     "metadata": {},
     "output_type": "execute_result"
    }
   ],
   "source": [
    "knn_scores"
   ]
  },
  {
   "cell_type": "code",
   "execution_count": 149,
   "id": "96ae2f2b",
   "metadata": {},
   "outputs": [
    {
     "data": {
      "text/plain": [
       "0.7831858407079646"
      ]
     },
     "execution_count": 149,
     "metadata": {},
     "output_type": "execute_result"
    }
   ],
   "source": [
    "knn_scores.mean()"
   ]
  },
  {
   "cell_type": "markdown",
   "id": "86a4ce65",
   "metadata": {},
   "source": [
    "The mean accuracy of the knn model is about 78%."
   ]
  },
  {
   "cell_type": "code",
   "execution_count": 150,
   "id": "08457609",
   "metadata": {},
   "outputs": [
    {
     "data": {
      "text/plain": [
       "GridSearchCV(cv=3, estimator=KNeighborsClassifier(),\n",
       "             param_grid={'n_neighbors': [1, 2, 3, 4, 5, 6], 'p': [2, 3],\n",
       "                         'weights': ['uniform', 'distance']})"
      ]
     },
     "execution_count": 150,
     "metadata": {},
     "output_type": "execute_result"
    }
   ],
   "source": [
    "params = {'n_neighbors': [1,2,3,4,5,6], 'weights' : ['uniform', 'distance'], 'p' :[2,3]}\n",
    "grid = GridSearchCV(KNeighborsClassifier(), params, cv = 3)\n",
    "grid.fit(X_train, y_train)"
   ]
  },
  {
   "cell_type": "code",
   "execution_count": 151,
   "id": "8691f1c3",
   "metadata": {},
   "outputs": [
    {
     "data": {
      "text/plain": [
       "{'n_neighbors': 6, 'p': 3, 'weights': 'distance'}"
      ]
     },
     "execution_count": 151,
     "metadata": {},
     "output_type": "execute_result"
    }
   ],
   "source": [
    "grid.best_params_"
   ]
  },
  {
   "cell_type": "code",
   "execution_count": 152,
   "id": "088070a6",
   "metadata": {},
   "outputs": [],
   "source": [
    "knn = KNeighborsClassifier(n_neighbors = 2, p = 2, weights = 'distance')"
   ]
  },
  {
   "cell_type": "code",
   "execution_count": 153,
   "id": "de8c3998",
   "metadata": {},
   "outputs": [],
   "source": [
    "knn_scores = cross_val_score(knn, X_train, y_train, cv = 3)"
   ]
  },
  {
   "cell_type": "code",
   "execution_count": 154,
   "id": "65fdd02f",
   "metadata": {},
   "outputs": [
    {
     "data": {
      "text/plain": [
       "array([0.75663717, 0.74336283, 0.78318584])"
      ]
     },
     "execution_count": 154,
     "metadata": {},
     "output_type": "execute_result"
    }
   ],
   "source": [
    "knn_scores"
   ]
  },
  {
   "cell_type": "code",
   "execution_count": 155,
   "id": "83fa682c",
   "metadata": {},
   "outputs": [
    {
     "data": {
      "text/plain": [
       "0.7610619469026548"
      ]
     },
     "execution_count": 155,
     "metadata": {},
     "output_type": "execute_result"
    }
   ],
   "source": [
    "knn_scores.mean()"
   ]
  },
  {
   "cell_type": "markdown",
   "id": "8b62b6ca",
   "metadata": {},
   "source": [
    "The mean accuracy of knn model is about 76%."
   ]
  },
  {
   "cell_type": "code",
   "execution_count": 156,
   "id": "64a80cb4",
   "metadata": {},
   "outputs": [
    {
     "data": {
      "text/plain": [
       "KNeighborsClassifier(n_neighbors=2, weights='distance')"
      ]
     },
     "execution_count": 156,
     "metadata": {},
     "output_type": "execute_result"
    }
   ],
   "source": [
    "knn.fit(X_train, y_train)"
   ]
  },
  {
   "cell_type": "code",
   "execution_count": 157,
   "id": "1486468c",
   "metadata": {},
   "outputs": [
    {
     "data": {
      "text/plain": [
       "array([0, 1, 1, 1, 1, 1, 0, 1, 0, 1, 0, 0, 1, 1, 1, 0, 0, 0, 1, 0, 0, 0,\n",
       "       0, 0, 1, 1, 0, 0, 1, 0, 1, 1, 1, 0, 1, 1, 1, 1, 1, 0, 1, 1, 0, 1,\n",
       "       1, 1, 1, 1, 0, 1, 1, 0, 0, 1, 0, 1, 0, 0, 0, 1, 1, 1, 0, 1, 1, 0,\n",
       "       0, 1, 0, 0, 0, 0, 1, 1, 1, 1, 0, 0, 0, 0, 1, 1, 0, 1, 0, 1, 1, 0,\n",
       "       1, 0, 1, 1, 1, 1, 1, 0, 1, 1, 1, 1, 1, 0, 1, 0, 1, 0, 1, 0, 1, 1,\n",
       "       0, 0, 0, 1, 0, 1, 1, 0, 1, 1, 1, 1, 1, 0, 1, 1, 1, 0, 0, 0, 1, 0,\n",
       "       1, 1, 0, 1, 0, 0, 1, 0, 0, 0, 1, 1, 0, 0, 1, 0, 0, 0, 0, 1, 1, 1,\n",
       "       1, 1, 1, 0, 1, 1, 1, 0, 0, 0, 1, 0, 0, 0, 1, 0], dtype=int64)"
      ]
     },
     "execution_count": 157,
     "metadata": {},
     "output_type": "execute_result"
    }
   ],
   "source": [
    "pred_test = knn.predict(X_test)\n",
    "pred_test"
   ]
  },
  {
   "cell_type": "code",
   "execution_count": 158,
   "id": "c5abb5dc",
   "metadata": {},
   "outputs": [
    {
     "data": {
      "text/plain": [
       "<AxesSubplot:>"
      ]
     },
     "execution_count": 158,
     "metadata": {},
     "output_type": "execute_result"
    },
    {
     "data": {
      "image/png": "[encoded data removed]",
      "text/plain": [
       "<Figure size 432x288 with 2 Axes>"
      ]
     },
     "metadata": {
      "needs_background": "light"
     },
     "output_type": "display_data"
    }
   ],
   "source": [
    "cm = confusion_matrix(y_true = y_test, y_pred = pred_test, labels = [0, 1])\n",
    "df_cm = pd.DataFrame(cm, index = [i for i in ['True 0', 'True 1']], columns = [i for i in ['Pred 0', 'Pred 1']])\n",
    "sns.heatmap(df_cm, annot = True)"
   ]
  },
  {
   "cell_type": "code",
   "execution_count": 159,
   "id": "bf4f167f",
   "metadata": {},
   "outputs": [
    {
     "name": "stdout",
     "output_type": "stream",
     "text": [
      "              precision    recall  f1-score   support\n",
      "\n",
      "           0       0.80      0.72      0.76        85\n",
      "           1       0.74      0.82      0.78        85\n",
      "\n",
      "    accuracy                           0.77       170\n",
      "   macro avg       0.77      0.77      0.77       170\n",
      "weighted avg       0.77      0.77      0.77       170\n",
      "\n"
     ]
    }
   ],
   "source": [
    "print(classification_report(y_true = y_test, y_pred = pred_test, labels = [0, 1]))"
   ]
  },
  {
   "cell_type": "markdown",
   "id": "e66840f8",
   "metadata": {},
   "source": [
    "The average f1 score of knn model is about 77%."
   ]
  },
  {
   "cell_type": "code",
   "execution_count": 160,
   "id": "e16be02d",
   "metadata": {},
   "outputs": [
    {
     "name": "stdout",
     "output_type": "stream",
     "text": [
      "Training accuracy: 0.9911504424778761\n"
     ]
    }
   ],
   "source": [
    "print('Training accuracy:',knn.score(X_train, y_train))"
   ]
  },
  {
   "cell_type": "code",
   "execution_count": 161,
   "id": "888c236e",
   "metadata": {},
   "outputs": [
    {
     "name": "stdout",
     "output_type": "stream",
     "text": [
      "Testing accuracy: 0.7705882352941177\n"
     ]
    }
   ],
   "source": [
    "print('Testing accuracy:',knn.score(X_test, y_test))"
   ]
  },
  {
   "cell_type": "markdown",
   "id": "7beb168e",
   "metadata": {},
   "source": [
    "This model is much more overfit compared to other models."
   ]
  },
  {
   "cell_type": "code",
   "execution_count": 228,
   "id": "943f38c1",
   "metadata": {},
   "outputs": [],
   "source": [
    "o1_summary.update({'knn' : [knn.score(X_train, y_train), knn.score(X_test, y_test), 0.77]})"
   ]
  },
  {
   "cell_type": "code",
   "execution_count": 229,
   "id": "152c6312",
   "metadata": {},
   "outputs": [
    {
     "data": {
      "text/plain": [
       "{'lr': [0.7817109144542773, 0.7529411764705882, 0.75],\n",
       " 'svm': [0.7728613569321534, 0.7176470588235294, 0.72],\n",
       " 'knn': [0.9911504424778761, 0.7705882352941177, 0.77]}"
      ]
     },
     "execution_count": 229,
     "metadata": {},
     "output_type": "execute_result"
    }
   ],
   "source": [
    "o1_summary"
   ]
  },
  {
   "cell_type": "markdown",
   "id": "f3a9c4f1",
   "metadata": {},
   "source": [
    "<i>GausianNB</i>"
   ]
  },
  {
   "cell_type": "code",
   "execution_count": 162,
   "id": "dbd6747e",
   "metadata": {},
   "outputs": [],
   "source": [
    "nb_scores = cross_val_score(GaussianNB(), X_train, y_train, cv = 3)"
   ]
  },
  {
   "cell_type": "code",
   "execution_count": 163,
   "id": "396772c0",
   "metadata": {},
   "outputs": [
    {
     "data": {
      "text/plain": [
       "array([0.80530973, 0.71238938, 0.75663717])"
      ]
     },
     "execution_count": 163,
     "metadata": {},
     "output_type": "execute_result"
    }
   ],
   "source": [
    "nb_scores"
   ]
  },
  {
   "cell_type": "code",
   "execution_count": 164,
   "id": "9b33d37d",
   "metadata": {},
   "outputs": [
    {
     "data": {
      "text/plain": [
       "0.7581120943952803"
      ]
     },
     "execution_count": 164,
     "metadata": {},
     "output_type": "execute_result"
    }
   ],
   "source": [
    "nb_scores.mean()"
   ]
  },
  {
   "cell_type": "markdown",
   "id": "967336f1",
   "metadata": {},
   "source": [
    "Naive-Bayes model has a mean accuracy score of 76%."
   ]
  },
  {
   "cell_type": "code",
   "execution_count": 165,
   "id": "fffc08ff",
   "metadata": {},
   "outputs": [
    {
     "data": {
      "text/plain": [
       "GaussianNB()"
      ]
     },
     "execution_count": 165,
     "metadata": {},
     "output_type": "execute_result"
    }
   ],
   "source": [
    "nb = GaussianNB()\n",
    "nb.fit(X_train, y_train)"
   ]
  },
  {
   "cell_type": "code",
   "execution_count": 166,
   "id": "33d2e236",
   "metadata": {},
   "outputs": [
    {
     "data": {
      "text/plain": [
       "array([0, 1, 1, 1, 1, 1, 0, 1, 0, 0, 0, 0, 0, 0, 1, 0, 0, 0, 1, 0, 0, 0,\n",
       "       0, 0, 1, 1, 0, 0, 1, 0, 1, 0, 1, 0, 0, 0, 1, 1, 1, 1, 0, 0, 0, 0,\n",
       "       0, 1, 1, 0, 0, 1, 1, 0, 0, 0, 1, 1, 1, 0, 0, 1, 1, 1, 0, 1, 1, 0,\n",
       "       0, 1, 0, 0, 0, 0, 1, 0, 1, 1, 1, 0, 0, 0, 0, 1, 0, 0, 1, 1, 1, 1,\n",
       "       1, 0, 0, 1, 1, 1, 0, 0, 1, 1, 1, 0, 0, 0, 1, 0, 1, 0, 1, 0, 0, 1,\n",
       "       0, 0, 1, 1, 1, 0, 1, 0, 1, 0, 1, 1, 1, 1, 1, 1, 1, 0, 0, 1, 0, 0,\n",
       "       1, 1, 0, 1, 0, 1, 0, 0, 1, 0, 1, 0, 0, 1, 0, 0, 0, 1, 1, 1, 1, 0,\n",
       "       0, 1, 1, 0, 0, 1, 0, 0, 0, 0, 0, 0, 0, 1, 0, 1], dtype=int64)"
      ]
     },
     "execution_count": 166,
     "metadata": {},
     "output_type": "execute_result"
    }
   ],
   "source": [
    "pred_test = nb.predict(X_test)\n",
    "pred_test"
   ]
  },
  {
   "cell_type": "code",
   "execution_count": 167,
   "id": "19bb6353",
   "metadata": {},
   "outputs": [
    {
     "data": {
      "text/plain": [
       "<AxesSubplot:>"
      ]
     },
     "execution_count": 167,
     "metadata": {},
     "output_type": "execute_result"
    },
    {
     "data": {
      "image/png": "[encoded data removed]",
      "text/plain": [
       "<Figure size 432x288 with 2 Axes>"
      ]
     },
     "metadata": {
      "needs_background": "light"
     },
     "output_type": "display_data"
    }
   ],
   "source": [
    "cm = confusion_matrix(y_true = y_test, y_pred = pred_test, labels = [0, 1])\n",
    "df_cm = pd.DataFrame(cm, index = [i for i in ['True 0', 'True 1']], columns = [i for i in ['Pred 0', 'Pred 1']])\n",
    "sns.heatmap(df_cm, annot = True)"
   ]
  },
  {
   "cell_type": "code",
   "execution_count": 168,
   "id": "b718b959",
   "metadata": {},
   "outputs": [
    {
     "name": "stdout",
     "output_type": "stream",
     "text": [
      "              precision    recall  f1-score   support\n",
      "\n",
      "           0       0.69      0.74      0.72        85\n",
      "           1       0.72      0.67      0.70        85\n",
      "\n",
      "    accuracy                           0.71       170\n",
      "   macro avg       0.71      0.71      0.71       170\n",
      "weighted avg       0.71      0.71      0.71       170\n",
      "\n"
     ]
    }
   ],
   "source": [
    "print(classification_report(y_true = y_test, y_pred = pred_test, labels = [0, 1]))"
   ]
  },
  {
   "cell_type": "markdown",
   "id": "9a08e2a3",
   "metadata": {},
   "source": [
    "The average f1 score of Naive Bayes model is about 71%."
   ]
  },
  {
   "cell_type": "code",
   "execution_count": 169,
   "id": "59046332",
   "metadata": {},
   "outputs": [
    {
     "name": "stdout",
     "output_type": "stream",
     "text": [
      "Training accuracy: 0.7625368731563422\n"
     ]
    }
   ],
   "source": [
    "print('Training accuracy:',nb.score(X_train, y_train))"
   ]
  },
  {
   "cell_type": "code",
   "execution_count": 170,
   "id": "6d5e2a2f",
   "metadata": {},
   "outputs": [
    {
     "name": "stdout",
     "output_type": "stream",
     "text": [
      "Testing accuracy: 0.7058823529411765\n"
     ]
    }
   ],
   "source": [
    "print('Testing accuracy:',nb.score(X_test, y_test))"
   ]
  },
  {
   "cell_type": "markdown",
   "id": "636f6e8d",
   "metadata": {},
   "source": [
    "This model is slightly overfit."
   ]
  },
  {
   "cell_type": "code",
   "execution_count": 230,
   "id": "75324cbc",
   "metadata": {},
   "outputs": [],
   "source": [
    "o1_summary.update({'nb' : [nb.score(X_train, y_train), nb.score(X_test, y_test), 0.71]})"
   ]
  },
  {
   "cell_type": "code",
   "execution_count": 231,
   "id": "4b9112bd",
   "metadata": {},
   "outputs": [
    {
     "data": {
      "text/plain": [
       "{'lr': [0.7817109144542773, 0.7529411764705882, 0.75],\n",
       " 'svm': [0.7728613569321534, 0.7176470588235294, 0.72],\n",
       " 'knn': [0.9911504424778761, 0.7705882352941177, 0.77],\n",
       " 'nb': [0.7625368731563422, 0.7058823529411765, 0.71]}"
      ]
     },
     "execution_count": 231,
     "metadata": {},
     "output_type": "execute_result"
    }
   ],
   "source": [
    "o1_summary"
   ]
  },
  {
   "cell_type": "markdown",
   "id": "cb035c05",
   "metadata": {},
   "source": [
    "<i>Decision Tree Classifier</i>"
   ]
  },
  {
   "cell_type": "code",
   "execution_count": 171,
   "id": "2e1a241a",
   "metadata": {},
   "outputs": [],
   "source": [
    "dt_score = cross_val_score(DecisionTreeClassifier(random_state = 1), X_train, y_train, cv = 3)"
   ]
  },
  {
   "cell_type": "code",
   "execution_count": 172,
   "id": "0c67eefa",
   "metadata": {},
   "outputs": [
    {
     "data": {
      "text/plain": [
       "array([0.76106195, 0.73451327, 0.78318584])"
      ]
     },
     "execution_count": 172,
     "metadata": {},
     "output_type": "execute_result"
    }
   ],
   "source": [
    "dt_score"
   ]
  },
  {
   "cell_type": "code",
   "execution_count": 173,
   "id": "648968f6",
   "metadata": {},
   "outputs": [
    {
     "data": {
      "text/plain": [
       "0.7595870206489675"
      ]
     },
     "execution_count": 173,
     "metadata": {},
     "output_type": "execute_result"
    }
   ],
   "source": [
    "dt_score.mean()"
   ]
  },
  {
   "cell_type": "markdown",
   "id": "52dc50ca",
   "metadata": {},
   "source": [
    "The average accuracy is about 76%."
   ]
  },
  {
   "cell_type": "code",
   "execution_count": 174,
   "id": "b5294234",
   "metadata": {},
   "outputs": [
    {
     "data": {
      "text/plain": [
       "GridSearchCV(cv=3, estimator=DecisionTreeClassifier(random_state=1),\n",
       "             param_grid={'ccp_alpha': [0, 0.05, 0.1],\n",
       "                         'max_features': ['auto', 'sqrt', 'log2'],\n",
       "                         'min_samples_split': [2, 3]})"
      ]
     },
     "execution_count": 174,
     "metadata": {},
     "output_type": "execute_result"
    }
   ],
   "source": [
    "params = {'max_features' : ['auto', 'sqrt', 'log2'], 'ccp_alpha' : [0, 0.05, 0.1], 'min_samples_split' : [2,3]}\n",
    "grid = GridSearchCV(DecisionTreeClassifier(random_state = 1), params, cv = 3)\n",
    "grid.fit(X_train, y_train)"
   ]
  },
  {
   "cell_type": "code",
   "execution_count": 175,
   "id": "5274c164",
   "metadata": {},
   "outputs": [
    {
     "data": {
      "text/plain": [
       "{'ccp_alpha': 0, 'max_features': 'auto', 'min_samples_split': 2}"
      ]
     },
     "execution_count": 175,
     "metadata": {},
     "output_type": "execute_result"
    }
   ],
   "source": [
    "grid.best_params_"
   ]
  },
  {
   "cell_type": "code",
   "execution_count": 176,
   "id": "b0db8f69",
   "metadata": {},
   "outputs": [
    {
     "data": {
      "text/plain": [
       "DecisionTreeClassifier(max_features='auto', random_state=1)"
      ]
     },
     "execution_count": 176,
     "metadata": {},
     "output_type": "execute_result"
    }
   ],
   "source": [
    "dt = DecisionTreeClassifier(random_state = 1, max_features = 'auto')\n",
    "dt.fit(X_train, y_train)"
   ]
  },
  {
   "cell_type": "code",
   "execution_count": 177,
   "id": "cef58dd3",
   "metadata": {},
   "outputs": [
    {
     "data": {
      "text/plain": [
       "array([1, 1, 1, 1, 1, 1, 1, 1, 0, 1, 0, 0, 1, 0, 1, 0, 0, 0, 1, 1, 0, 0,\n",
       "       0, 0, 1, 1, 0, 1, 1, 0, 1, 1, 1, 0, 1, 1, 1, 1, 1, 0, 1, 1, 0, 0,\n",
       "       0, 1, 1, 1, 0, 1, 1, 0, 0, 1, 1, 0, 0, 0, 0, 1, 1, 1, 0, 1, 1, 0,\n",
       "       1, 1, 0, 0, 0, 0, 1, 1, 1, 1, 0, 0, 0, 0, 1, 1, 0, 1, 0, 1, 1, 0,\n",
       "       1, 0, 1, 1, 1, 1, 1, 0, 1, 1, 1, 1, 1, 1, 1, 0, 1, 0, 1, 0, 0, 1,\n",
       "       0, 0, 0, 1, 1, 1, 1, 0, 1, 1, 1, 1, 1, 0, 0, 1, 1, 0, 0, 0, 1, 0,\n",
       "       1, 1, 0, 0, 0, 0, 1, 0, 1, 0, 0, 1, 0, 0, 0, 0, 0, 0, 1, 0, 1, 1,\n",
       "       0, 1, 1, 0, 0, 1, 1, 0, 0, 0, 0, 0, 0, 1, 0, 1], dtype=int64)"
      ]
     },
     "execution_count": 177,
     "metadata": {},
     "output_type": "execute_result"
    }
   ],
   "source": [
    "pred_test = dt.predict(X_test)\n",
    "pred_test"
   ]
  },
  {
   "cell_type": "code",
   "execution_count": 178,
   "id": "a6204572",
   "metadata": {},
   "outputs": [
    {
     "data": {
      "text/plain": [
       "<AxesSubplot:>"
      ]
     },
     "execution_count": 178,
     "metadata": {},
     "output_type": "execute_result"
    },
    {
     "data": {
      "image/png": "[encoded data removed]",
      "text/plain": [
       "<Figure size 432x288 with 2 Axes>"
      ]
     },
     "metadata": {
      "needs_background": "light"
     },
     "output_type": "display_data"
    }
   ],
   "source": [
    "cm = confusion_matrix(y_true = y_test, y_pred = pred_test, labels = [0, 1])\n",
    "df_cm = pd.DataFrame(cm, index = [i for i in ['True 0', 'True 1']], columns = [i for i in ['Pred 0', 'Pred 1']])\n",
    "sns.heatmap(df_cm, annot = True)"
   ]
  },
  {
   "cell_type": "code",
   "execution_count": 179,
   "id": "275618b7",
   "metadata": {},
   "outputs": [
    {
     "name": "stdout",
     "output_type": "stream",
     "text": [
      "              precision    recall  f1-score   support\n",
      "\n",
      "           0       0.77      0.71      0.74        85\n",
      "           1       0.73      0.79      0.76        85\n",
      "\n",
      "    accuracy                           0.75       170\n",
      "   macro avg       0.75      0.75      0.75       170\n",
      "weighted avg       0.75      0.75      0.75       170\n",
      "\n"
     ]
    }
   ],
   "source": [
    "print(classification_report(y_true = y_test, y_pred = pred_test, labels = [0, 1]))"
   ]
  },
  {
   "cell_type": "markdown",
   "id": "95760110",
   "metadata": {},
   "source": [
    "The average f1 score is about 75%."
   ]
  },
  {
   "cell_type": "code",
   "execution_count": 180,
   "id": "52def26e",
   "metadata": {},
   "outputs": [
    {
     "name": "stdout",
     "output_type": "stream",
     "text": [
      "Training accuracy: 0.9911504424778761\n"
     ]
    }
   ],
   "source": [
    "print('Training accuracy:',dt.score(X_train, y_train))"
   ]
  },
  {
   "cell_type": "code",
   "execution_count": 181,
   "id": "771351c7",
   "metadata": {},
   "outputs": [
    {
     "name": "stdout",
     "output_type": "stream",
     "text": [
      "Testing accuracy: 0.7470588235294118\n"
     ]
    }
   ],
   "source": [
    "print('Testing accuracy:',dt.score(X_test, y_test))"
   ]
  },
  {
   "cell_type": "markdown",
   "id": "6080b577",
   "metadata": {},
   "source": [
    "This model is overfit."
   ]
  },
  {
   "cell_type": "code",
   "execution_count": 232,
   "id": "76ac3179",
   "metadata": {},
   "outputs": [],
   "source": [
    "o1_summary.update({'dt' : [dt.score(X_train, y_train), dt.score(X_test, y_test), 0.75]})"
   ]
  },
  {
   "cell_type": "code",
   "execution_count": 233,
   "id": "603a6e21",
   "metadata": {},
   "outputs": [
    {
     "data": {
      "text/plain": [
       "{'lr': [0.7817109144542773, 0.7529411764705882, 0.75],\n",
       " 'svm': [0.7728613569321534, 0.7176470588235294, 0.72],\n",
       " 'knn': [0.9911504424778761, 0.7705882352941177, 0.77],\n",
       " 'nb': [0.7625368731563422, 0.7058823529411765, 0.71],\n",
       " 'dt': [0.9911504424778761, 0.7470588235294118, 0.75]}"
      ]
     },
     "execution_count": 233,
     "metadata": {},
     "output_type": "execute_result"
    }
   ],
   "source": [
    "o1_summary"
   ]
  },
  {
   "cell_type": "markdown",
   "id": "b5c26b38",
   "metadata": {},
   "source": [
    "<i>Random Forest</i>"
   ]
  },
  {
   "cell_type": "code",
   "execution_count": 182,
   "id": "82e1ef92",
   "metadata": {},
   "outputs": [],
   "source": [
    "rf_scores = cross_val_score(RandomForestClassifier(), X_train, y_train, cv = 3)"
   ]
  },
  {
   "cell_type": "code",
   "execution_count": 183,
   "id": "672a0b0a",
   "metadata": {},
   "outputs": [
    {
     "data": {
      "text/plain": [
       "array([0.84955752, 0.74778761, 0.80530973])"
      ]
     },
     "execution_count": 183,
     "metadata": {},
     "output_type": "execute_result"
    }
   ],
   "source": [
    "rf_scores"
   ]
  },
  {
   "cell_type": "code",
   "execution_count": 184,
   "id": "9ad992f0",
   "metadata": {},
   "outputs": [
    {
     "data": {
      "text/plain": [
       "0.8008849557522124"
      ]
     },
     "execution_count": 184,
     "metadata": {},
     "output_type": "execute_result"
    }
   ],
   "source": [
    "rf_scores.mean()"
   ]
  },
  {
   "cell_type": "markdown",
   "id": "9c8dd1d8",
   "metadata": {},
   "source": [
    "Random Forest model has an average accuracy of about 80%. "
   ]
  },
  {
   "cell_type": "code",
   "execution_count": 185,
   "id": "1905facf",
   "metadata": {},
   "outputs": [
    {
     "data": {
      "text/plain": [
       "GridSearchCV(cv=3,\n",
       "             estimator=RandomForestClassifier(oob_score=True, random_state=1),\n",
       "             param_grid={'max_features': ['auto', 'sqrt', 'log2'],\n",
       "                         'n_estimators': [100, 250, 500]})"
      ]
     },
     "execution_count": 185,
     "metadata": {},
     "output_type": "execute_result"
    }
   ],
   "source": [
    "params = {'n_estimators' : [100, 250, 500], 'max_features' : ['auto', 'sqrt', 'log2']}\n",
    "grid = GridSearchCV(RandomForestClassifier(random_state = 1, oob_score = True), params, cv = 3)\n",
    "grid.fit(X_train, y_train)"
   ]
  },
  {
   "cell_type": "code",
   "execution_count": 186,
   "id": "98065e28",
   "metadata": {},
   "outputs": [
    {
     "data": {
      "text/plain": [
       "{'max_features': 'auto', 'n_estimators': 100}"
      ]
     },
     "execution_count": 186,
     "metadata": {},
     "output_type": "execute_result"
    }
   ],
   "source": [
    "grid.best_params_"
   ]
  },
  {
   "cell_type": "code",
   "execution_count": 187,
   "id": "114d949b",
   "metadata": {},
   "outputs": [
    {
     "data": {
      "text/plain": [
       "RandomForestClassifier(oob_score=True, random_state=1)"
      ]
     },
     "execution_count": 187,
     "metadata": {},
     "output_type": "execute_result"
    }
   ],
   "source": [
    "rf = RandomForestClassifier(random_state = 1, oob_score = True)\n",
    "rf.fit(X_train, y_train)"
   ]
  },
  {
   "cell_type": "code",
   "execution_count": 188,
   "id": "fce5f91f",
   "metadata": {},
   "outputs": [
    {
     "data": {
      "text/plain": [
       "array([0, 1, 1, 1, 1, 1, 0, 1, 0, 1, 0, 0, 0, 1, 1, 0, 0, 0, 1, 0, 0, 0,\n",
       "       0, 0, 1, 1, 0, 1, 1, 0, 1, 0, 1, 0, 0, 1, 1, 1, 1, 0, 1, 1, 0, 0,\n",
       "       0, 1, 1, 1, 0, 1, 1, 0, 0, 0, 1, 1, 0, 0, 0, 1, 1, 1, 0, 1, 1, 0,\n",
       "       1, 1, 0, 0, 0, 0, 1, 1, 1, 1, 0, 0, 0, 0, 0, 1, 0, 1, 0, 1, 1, 0,\n",
       "       1, 0, 1, 1, 1, 1, 1, 0, 1, 1, 1, 1, 1, 0, 1, 0, 1, 0, 1, 0, 1, 1,\n",
       "       0, 0, 0, 1, 0, 1, 1, 0, 1, 0, 1, 1, 1, 0, 1, 1, 1, 0, 0, 0, 1, 0,\n",
       "       1, 1, 0, 0, 0, 1, 1, 0, 1, 0, 1, 1, 0, 0, 1, 0, 0, 0, 1, 1, 1, 1,\n",
       "       0, 1, 1, 0, 0, 1, 1, 0, 0, 0, 1, 0, 0, 1, 1, 0], dtype=int64)"
      ]
     },
     "execution_count": 188,
     "metadata": {},
     "output_type": "execute_result"
    }
   ],
   "source": [
    "pred_test = rf.predict(X_test)\n",
    "pred_test"
   ]
  },
  {
   "cell_type": "code",
   "execution_count": 189,
   "id": "ba834082",
   "metadata": {},
   "outputs": [
    {
     "data": {
      "text/plain": [
       "<AxesSubplot:>"
      ]
     },
     "execution_count": 189,
     "metadata": {},
     "output_type": "execute_result"
    },
    {
     "data": {
      "image/png": "[encoded data removed]",
      "text/plain": [
       "<Figure size 432x288 with 2 Axes>"
      ]
     },
     "metadata": {
      "needs_background": "light"
     },
     "output_type": "display_data"
    }
   ],
   "source": [
    "cm = confusion_matrix(y_true = y_test, y_pred = pred_test, labels = [0, 1])\n",
    "df_cm = pd.DataFrame(cm, index = [i for i in ['True 0', 'True 1']], columns = [i for i in ['Pred 0', 'Pred 1']])\n",
    "sns.heatmap(df_cm, annot = True)"
   ]
  },
  {
   "cell_type": "code",
   "execution_count": 190,
   "id": "d71a2860",
   "metadata": {},
   "outputs": [
    {
     "name": "stdout",
     "output_type": "stream",
     "text": [
      "              precision    recall  f1-score   support\n",
      "\n",
      "           0       0.82      0.78      0.80        85\n",
      "           1       0.79      0.84      0.81        85\n",
      "\n",
      "    accuracy                           0.81       170\n",
      "   macro avg       0.81      0.81      0.81       170\n",
      "weighted avg       0.81      0.81      0.81       170\n",
      "\n"
     ]
    }
   ],
   "source": [
    "print(classification_report(y_true = y_test, y_pred = pred_test, labels = [0, 1]))"
   ]
  },
  {
   "cell_type": "markdown",
   "id": "8afeeeea",
   "metadata": {},
   "source": [
    "This model has an average f1 score of 81%. "
   ]
  },
  {
   "cell_type": "code",
   "execution_count": 191,
   "id": "cab90e69",
   "metadata": {},
   "outputs": [
    {
     "name": "stdout",
     "output_type": "stream",
     "text": [
      "Training accuracy: 0.9911504424778761\n"
     ]
    }
   ],
   "source": [
    "print('Training accuracy:',rf.score(X_train, y_train))"
   ]
  },
  {
   "cell_type": "code",
   "execution_count": 192,
   "id": "99861261",
   "metadata": {},
   "outputs": [
    {
     "name": "stdout",
     "output_type": "stream",
     "text": [
      "Testing accuracy: 0.8058823529411765\n"
     ]
    }
   ],
   "source": [
    "print('Testing accuracy:',rf.score(X_test, y_test))"
   ]
  },
  {
   "cell_type": "markdown",
   "id": "ef676eb5",
   "metadata": {},
   "source": [
    "The model is overfit."
   ]
  },
  {
   "cell_type": "code",
   "execution_count": 193,
   "id": "9bafca94",
   "metadata": {},
   "outputs": [
    {
     "data": {
      "text/plain": [
       "RandomForestClassifier(ccp_alpha=0.00559, oob_score=True, random_state=1)"
      ]
     },
     "execution_count": 193,
     "metadata": {},
     "output_type": "execute_result"
    }
   ],
   "source": [
    "rf = rf = RandomForestClassifier(random_state = 1, oob_score = True, ccp_alpha = 0.00559)\n",
    "rf.fit(X_train, y_train)"
   ]
  },
  {
   "cell_type": "code",
   "execution_count": 194,
   "id": "7a175b8e",
   "metadata": {},
   "outputs": [
    {
     "name": "stdout",
     "output_type": "stream",
     "text": [
      "Training accuracy: 0.8525073746312685\n"
     ]
    }
   ],
   "source": [
    "print('Training accuracy:',rf.score(X_train, y_train))"
   ]
  },
  {
   "cell_type": "code",
   "execution_count": 195,
   "id": "02912f03",
   "metadata": {},
   "outputs": [
    {
     "name": "stdout",
     "output_type": "stream",
     "text": [
      "Testing accuracy: 0.8058823529411765\n"
     ]
    }
   ],
   "source": [
    "print('Testing accuracy:',rf.score(X_test, y_test))"
   ]
  },
  {
   "cell_type": "code",
   "execution_count": 196,
   "id": "e70ca7b9",
   "metadata": {},
   "outputs": [],
   "source": [
    "pred_test = rf.predict(X_test)"
   ]
  },
  {
   "cell_type": "code",
   "execution_count": 197,
   "id": "2ea9b3ec",
   "metadata": {},
   "outputs": [
    {
     "name": "stdout",
     "output_type": "stream",
     "text": [
      "              precision    recall  f1-score   support\n",
      "\n",
      "           0       0.79      0.84      0.81        85\n",
      "           1       0.82      0.78      0.80        85\n",
      "\n",
      "    accuracy                           0.81       170\n",
      "   macro avg       0.81      0.81      0.81       170\n",
      "weighted avg       0.81      0.81      0.81       170\n",
      "\n"
     ]
    }
   ],
   "source": [
    "print(classification_report(y_true = y_test, y_pred = pred_test, labels = [0, 1]))"
   ]
  },
  {
   "cell_type": "markdown",
   "id": "5520f214",
   "metadata": {},
   "source": [
    "The model after pruning is less overfit."
   ]
  },
  {
   "cell_type": "code",
   "execution_count": 234,
   "id": "0eee4126",
   "metadata": {},
   "outputs": [],
   "source": [
    "o1_summary.update({'rf' : [rf.score(X_train, y_train), rf.score(X_test, y_test), 0.81]})"
   ]
  },
  {
   "cell_type": "code",
   "execution_count": 235,
   "id": "d9a87947",
   "metadata": {},
   "outputs": [
    {
     "data": {
      "text/plain": [
       "{'lr': [0.7817109144542773, 0.7529411764705882, 0.75],\n",
       " 'svm': [0.7728613569321534, 0.7176470588235294, 0.72],\n",
       " 'knn': [0.9911504424778761, 0.7705882352941177, 0.77],\n",
       " 'nb': [0.7625368731563422, 0.7058823529411765, 0.71],\n",
       " 'dt': [0.9911504424778761, 0.7470588235294118, 0.75],\n",
       " 'rf': [0.8525073746312685, 0.8058823529411765, 0.81]}"
      ]
     },
     "execution_count": 235,
     "metadata": {},
     "output_type": "execute_result"
    }
   ],
   "source": [
    "o1_summary"
   ]
  },
  {
   "cell_type": "markdown",
   "id": "612ac396",
   "metadata": {},
   "source": [
    "<i>Gradient Boost<i>"
   ]
  },
  {
   "cell_type": "code",
   "execution_count": 198,
   "id": "1d8d6fe2",
   "metadata": {},
   "outputs": [],
   "source": [
    "gb_score = cross_val_score(GradientBoostingClassifier(random_state = 1), X_train, y_train, cv = 3)"
   ]
  },
  {
   "cell_type": "code",
   "execution_count": 199,
   "id": "77b69ffe",
   "metadata": {},
   "outputs": [
    {
     "data": {
      "text/plain": [
       "array([0.83628319, 0.78318584, 0.81415929])"
      ]
     },
     "execution_count": 199,
     "metadata": {},
     "output_type": "execute_result"
    }
   ],
   "source": [
    "gb_score"
   ]
  },
  {
   "cell_type": "code",
   "execution_count": 200,
   "id": "1d4db43b",
   "metadata": {},
   "outputs": [
    {
     "data": {
      "text/plain": [
       "0.8112094395280236"
      ]
     },
     "execution_count": 200,
     "metadata": {},
     "output_type": "execute_result"
    }
   ],
   "source": [
    "gb_score.mean()"
   ]
  },
  {
   "cell_type": "markdown",
   "id": "ec8199db",
   "metadata": {},
   "source": [
    "Average accuracy of the Gradient Boosting model is about 81%."
   ]
  },
  {
   "cell_type": "code",
   "execution_count": 201,
   "id": "5a90e283",
   "metadata": {},
   "outputs": [
    {
     "data": {
      "text/plain": [
       "GridSearchCV(cv=3, estimator=GradientBoostingClassifier(random_state=1),\n",
       "             param_grid={'learning_rate': [0.1, 0.15, 0.2],\n",
       "                         'n_estimators': [100, 200, 500]})"
      ]
     },
     "execution_count": 201,
     "metadata": {},
     "output_type": "execute_result"
    }
   ],
   "source": [
    "params = {'learning_rate': [0.1, 0.15, 0.2], 'n_estimators' : [100, 200, 500]}\n",
    "grid = GridSearchCV(GradientBoostingClassifier(random_state = 1), params, cv = 3)\n",
    "grid.fit(X_train, y_train)"
   ]
  },
  {
   "cell_type": "code",
   "execution_count": 202,
   "id": "64cf3099",
   "metadata": {},
   "outputs": [
    {
     "data": {
      "text/plain": [
       "{'learning_rate': 0.1, 'n_estimators': 200}"
      ]
     },
     "execution_count": 202,
     "metadata": {},
     "output_type": "execute_result"
    }
   ],
   "source": [
    "grid.best_params_"
   ]
  },
  {
   "cell_type": "code",
   "execution_count": 203,
   "id": "60afb010",
   "metadata": {},
   "outputs": [
    {
     "data": {
      "text/plain": [
       "GradientBoostingClassifier(n_estimators=200, random_state=1)"
      ]
     },
     "execution_count": 203,
     "metadata": {},
     "output_type": "execute_result"
    }
   ],
   "source": [
    "gb = GradientBoostingClassifier(random_state = 1, n_estimators = 200)\n",
    "gb.fit(X_train, y_train)"
   ]
  },
  {
   "cell_type": "code",
   "execution_count": 204,
   "id": "18be5c7f",
   "metadata": {},
   "outputs": [
    {
     "data": {
      "text/plain": [
       "array([0, 1, 1, 1, 1, 1, 0, 1, 0, 1, 0, 0, 0, 1, 1, 0, 0, 0, 1, 0, 0, 0,\n",
       "       0, 0, 1, 1, 0, 1, 1, 0, 1, 0, 1, 0, 0, 1, 1, 1, 1, 1, 1, 1, 0, 1,\n",
       "       0, 1, 1, 1, 0, 1, 1, 0, 0, 0, 1, 1, 0, 0, 0, 1, 0, 1, 0, 1, 1, 0,\n",
       "       1, 1, 0, 0, 0, 0, 1, 0, 1, 0, 1, 0, 0, 0, 0, 1, 0, 1, 0, 1, 1, 1,\n",
       "       1, 0, 1, 1, 1, 1, 1, 0, 1, 1, 1, 1, 0, 0, 1, 0, 1, 0, 1, 0, 0, 1,\n",
       "       0, 0, 1, 1, 1, 0, 1, 0, 1, 0, 1, 1, 1, 0, 1, 1, 1, 0, 0, 0, 1, 0,\n",
       "       1, 1, 0, 0, 0, 1, 0, 0, 1, 0, 1, 0, 0, 0, 0, 0, 0, 0, 0, 1, 1, 0,\n",
       "       0, 1, 1, 0, 0, 1, 0, 0, 0, 0, 1, 0, 0, 1, 1, 1], dtype=int64)"
      ]
     },
     "execution_count": 204,
     "metadata": {},
     "output_type": "execute_result"
    }
   ],
   "source": [
    "pred_test = gb.predict(X_test)\n",
    "pred_test"
   ]
  },
  {
   "cell_type": "code",
   "execution_count": 205,
   "id": "1d5ef73d",
   "metadata": {},
   "outputs": [
    {
     "data": {
      "text/plain": [
       "<AxesSubplot:>"
      ]
     },
     "execution_count": 205,
     "metadata": {},
     "output_type": "execute_result"
    },
    {
     "data": {
      "image/png": "[encoded data removed]",
      "text/plain": [
       "<Figure size 432x288 with 2 Axes>"
      ]
     },
     "metadata": {
      "needs_background": "light"
     },
     "output_type": "display_data"
    }
   ],
   "source": [
    "cm = confusion_matrix(y_true = y_test, y_pred = pred_test, labels = [0, 1])\n",
    "df_cm = pd.DataFrame(cm, index = [i for i in ['True 0', 'True 1']], columns = [i for i in ['Pred 0', 'Pred 1']])\n",
    "sns.heatmap(df_cm, annot = True)"
   ]
  },
  {
   "cell_type": "code",
   "execution_count": 206,
   "id": "d8795eba",
   "metadata": {},
   "outputs": [
    {
     "name": "stdout",
     "output_type": "stream",
     "text": [
      "              precision    recall  f1-score   support\n",
      "\n",
      "           0       0.80      0.80      0.80        85\n",
      "           1       0.80      0.80      0.80        85\n",
      "\n",
      "    accuracy                           0.80       170\n",
      "   macro avg       0.80      0.80      0.80       170\n",
      "weighted avg       0.80      0.80      0.80       170\n",
      "\n"
     ]
    }
   ],
   "source": [
    "print(classification_report(y_true = y_test, y_pred = pred_test, labels = [0, 1]))"
   ]
  },
  {
   "cell_type": "markdown",
   "id": "eff4e919",
   "metadata": {},
   "source": [
    "The gradient boosting model has an average f1 score of 80%."
   ]
  },
  {
   "cell_type": "code",
   "execution_count": 207,
   "id": "471a9968",
   "metadata": {},
   "outputs": [
    {
     "name": "stdout",
     "output_type": "stream",
     "text": [
      "Training accuracy: 0.9380530973451328\n"
     ]
    }
   ],
   "source": [
    "print('Training accuracy:',gb.score(X_train, y_train))"
   ]
  },
  {
   "cell_type": "code",
   "execution_count": 208,
   "id": "ba026007",
   "metadata": {},
   "outputs": [
    {
     "name": "stdout",
     "output_type": "stream",
     "text": [
      "Testing accuracy: 0.8\n"
     ]
    }
   ],
   "source": [
    "print('Testing accuracy:',gb.score(X_test, y_test))"
   ]
  },
  {
   "cell_type": "markdown",
   "id": "b2990439",
   "metadata": {},
   "source": [
    "Model is overfit but has a good accuracy and f1 score."
   ]
  },
  {
   "cell_type": "code",
   "execution_count": 236,
   "id": "b97204ff",
   "metadata": {},
   "outputs": [],
   "source": [
    "o1_summary.update({'gb' : [gb.score(X_train, y_train), gb.score(X_test, y_test), 0.80]})"
   ]
  },
  {
   "cell_type": "code",
   "execution_count": 237,
   "id": "60dc601b",
   "metadata": {},
   "outputs": [
    {
     "data": {
      "text/plain": [
       "{'lr': [0.7817109144542773, 0.7529411764705882, 0.75],\n",
       " 'svm': [0.7728613569321534, 0.7176470588235294, 0.72],\n",
       " 'knn': [0.9911504424778761, 0.7705882352941177, 0.77],\n",
       " 'nb': [0.7625368731563422, 0.7058823529411765, 0.71],\n",
       " 'dt': [0.9911504424778761, 0.7470588235294118, 0.75],\n",
       " 'rf': [0.8525073746312685, 0.8058823529411765, 0.81],\n",
       " 'gb': [0.9380530973451328, 0.8, 0.8]}"
      ]
     },
     "execution_count": 237,
     "metadata": {},
     "output_type": "execute_result"
    }
   ],
   "source": [
    "o1_summary"
   ]
  },
  {
   "cell_type": "markdown",
   "id": "3246f5bd",
   "metadata": {},
   "source": [
    "<i>XGBoost Classifier</i>"
   ]
  },
  {
   "cell_type": "code",
   "execution_count": 209,
   "id": "2269c6bf",
   "metadata": {},
   "outputs": [
    {
     "data": {
      "text/plain": [
       "XGBClassifier(base_score=0.5, booster='gbtree', colsample_bylevel=1,\n",
       "              colsample_bynode=1, colsample_bytree=1, enable_categorical=False,\n",
       "              eval_metric='logloss', gamma=0, gpu_id=-1, importance_type=None,\n",
       "              interaction_constraints='', learning_rate=0.300000012,\n",
       "              max_delta_step=0, max_depth=6, min_child_weight=1, missing=nan,\n",
       "              monotone_constraints='()', n_estimators=100, n_jobs=12,\n",
       "              num_parallel_tree=1, predictor='auto', random_state=0,\n",
       "              reg_alpha=0, reg_lambda=1, scale_pos_weight=1, subsample=1,\n",
       "              tree_method='exact', use_label_encoder=False,\n",
       "              validate_parameters=1, verbosity=None)"
      ]
     },
     "execution_count": 209,
     "metadata": {},
     "output_type": "execute_result"
    }
   ],
   "source": [
    "xgb = XGBClassifier(use_label_encoder = False, eval_metric = 'logloss')\n",
    "xgb.fit(X_train, y_train)"
   ]
  },
  {
   "cell_type": "code",
   "execution_count": 210,
   "id": "aea7114b",
   "metadata": {},
   "outputs": [
    {
     "data": {
      "text/plain": [
       "array([0, 1, 1, 1, 1, 1, 0, 1, 0, 1, 0, 0, 0, 1, 1, 0, 0, 0, 1, 0, 0, 0,\n",
       "       0, 1, 1, 1, 0, 1, 1, 0, 1, 0, 1, 0, 0, 1, 1, 1, 1, 1, 1, 1, 0, 1,\n",
       "       0, 1, 1, 1, 0, 1, 1, 1, 0, 0, 1, 1, 0, 0, 0, 1, 0, 1, 0, 1, 1, 0,\n",
       "       0, 1, 0, 0, 0, 0, 1, 1, 1, 0, 1, 0, 0, 0, 0, 1, 0, 1, 0, 1, 1, 0,\n",
       "       1, 0, 1, 1, 1, 1, 1, 0, 0, 1, 1, 1, 0, 1, 1, 0, 1, 0, 1, 0, 1, 1,\n",
       "       0, 0, 1, 1, 1, 0, 1, 0, 1, 0, 1, 0, 1, 0, 0, 1, 1, 0, 0, 0, 1, 0,\n",
       "       1, 1, 0, 0, 0, 1, 1, 0, 1, 0, 1, 1, 0, 0, 1, 0, 0, 0, 0, 1, 1, 1,\n",
       "       0, 1, 1, 0, 0, 1, 0, 0, 1, 0, 1, 0, 0, 1, 1, 0])"
      ]
     },
     "execution_count": 210,
     "metadata": {},
     "output_type": "execute_result"
    }
   ],
   "source": [
    "pred_test = xgb.predict(X_test)\n",
    "pred_test"
   ]
  },
  {
   "cell_type": "code",
   "execution_count": 211,
   "id": "e9d7dc6b",
   "metadata": {},
   "outputs": [
    {
     "data": {
      "text/plain": [
       "<AxesSubplot:>"
      ]
     },
     "execution_count": 211,
     "metadata": {},
     "output_type": "execute_result"
    },
    {
     "data": {
      "image/png": "[encoded data removed]",
      "text/plain": [
       "<Figure size 432x288 with 2 Axes>"
      ]
     },
     "metadata": {
      "needs_background": "light"
     },
     "output_type": "display_data"
    }
   ],
   "source": [
    "cm = confusion_matrix(y_true = y_test, y_pred = pred_test, labels = [0, 1])\n",
    "df_cm = pd.DataFrame(cm, index = [i for i in ['True 0', 'True 1']], columns = [i for i in ['Pred 0', 'Pred 1']])\n",
    "sns.heatmap(df_cm, annot = True)"
   ]
  },
  {
   "cell_type": "code",
   "execution_count": 212,
   "id": "eca64e10",
   "metadata": {},
   "outputs": [
    {
     "name": "stdout",
     "output_type": "stream",
     "text": [
      "              precision    recall  f1-score   support\n",
      "\n",
      "           0       0.79      0.75      0.77        85\n",
      "           1       0.76      0.80      0.78        85\n",
      "\n",
      "    accuracy                           0.78       170\n",
      "   macro avg       0.78      0.78      0.78       170\n",
      "weighted avg       0.78      0.78      0.78       170\n",
      "\n"
     ]
    }
   ],
   "source": [
    "print(classification_report(y_true = y_test, y_pred = pred_test, labels = [0, 1]))"
   ]
  },
  {
   "cell_type": "markdown",
   "id": "310a71eb",
   "metadata": {},
   "source": [
    "The gradient boost algorith has an average f1-score of about 78%."
   ]
  },
  {
   "cell_type": "code",
   "execution_count": 213,
   "id": "750a6c59",
   "metadata": {},
   "outputs": [
    {
     "name": "stdout",
     "output_type": "stream",
     "text": [
      "Training accuracy: 0.9823008849557522\n"
     ]
    }
   ],
   "source": [
    "print('Training accuracy:',xgb.score(X_train, y_train))"
   ]
  },
  {
   "cell_type": "code",
   "execution_count": 214,
   "id": "0d635ff5",
   "metadata": {},
   "outputs": [
    {
     "name": "stdout",
     "output_type": "stream",
     "text": [
      "Testing accuracy: 0.7764705882352941\n"
     ]
    }
   ],
   "source": [
    "print('Testing accuracy:',xgb.score(X_test, y_test))"
   ]
  },
  {
   "cell_type": "markdown",
   "id": "b10942d4",
   "metadata": {},
   "source": [
    "This model is overfit."
   ]
  },
  {
   "cell_type": "code",
   "execution_count": 238,
   "id": "c9aa6c93",
   "metadata": {},
   "outputs": [],
   "source": [
    "o1_summary.update({'xgb' : [xgb.score(X_train, y_train), xgb.score(X_test, y_test), 0.78]})"
   ]
  },
  {
   "cell_type": "code",
   "execution_count": 239,
   "id": "bfa18492",
   "metadata": {},
   "outputs": [
    {
     "data": {
      "text/plain": [
       "{'lr': [0.7817109144542773, 0.7529411764705882, 0.75],\n",
       " 'svm': [0.7728613569321534, 0.7176470588235294, 0.72],\n",
       " 'knn': [0.9911504424778761, 0.7705882352941177, 0.77],\n",
       " 'nb': [0.7625368731563422, 0.7058823529411765, 0.71],\n",
       " 'dt': [0.9911504424778761, 0.7470588235294118, 0.75],\n",
       " 'rf': [0.8525073746312685, 0.8058823529411765, 0.81],\n",
       " 'gb': [0.9380530973451328, 0.8, 0.8],\n",
       " 'xgb': [0.9823008849557522, 0.7764705882352941, 0.78]}"
      ]
     },
     "execution_count": 239,
     "metadata": {},
     "output_type": "execute_result"
    }
   ],
   "source": [
    "o1_summary"
   ]
  },
  {
   "cell_type": "markdown",
   "id": "493987ef",
   "metadata": {},
   "source": [
    "<i>Neural Network</i>"
   ]
  },
  {
   "cell_type": "code",
   "execution_count": 215,
   "id": "ed058b9b",
   "metadata": {},
   "outputs": [],
   "source": [
    "from tensorflow.keras import Sequential\n",
    "from tensorflow.keras.layers import Dense, Dropout, Input"
   ]
  },
  {
   "cell_type": "code",
   "execution_count": 216,
   "id": "77c2cd4a",
   "metadata": {},
   "outputs": [
    {
     "data": {
      "text/plain": [
       "(678, 9)"
      ]
     },
     "execution_count": 216,
     "metadata": {},
     "output_type": "execute_result"
    }
   ],
   "source": [
    "X_train.shape"
   ]
  },
  {
   "cell_type": "code",
   "execution_count": 217,
   "id": "71c6cba5",
   "metadata": {},
   "outputs": [],
   "source": [
    "nn = Sequential()\n",
    "nn.add(Input(shape = (X_train.shape[1],)))\n",
    "nn.add(Dense(units = 200, activation = 'relu', ))\n",
    "nn.add(Dropout(0.4))\n",
    "nn.add(Dense(units = 200, activation = 'relu'))\n",
    "nn.add(Dropout(0.4))\n",
    "nn.add(Dense(units = 100, activation = 'relu'))\n",
    "nn.add(Dropout(0.4))\n",
    "nn.add(Dense(units = 100, activation = 'relu'))\n",
    "nn.add(Dropout(0.4))\n",
    "nn.add(Dense(units = 10, activation = 'relu'))\n",
    "nn.add(Dropout(0.4))\n",
    "nn.add(Dense(units = 1, activation = 'sigmoid'))\n",
    "nn.compile(optimizer = 'adam', loss = 'binary_crossentropy', metrics = ['accuracy'])"
   ]
  },
  {
   "cell_type": "code",
   "execution_count": 218,
   "id": "64541de7",
   "metadata": {},
   "outputs": [
    {
     "name": "stdout",
     "output_type": "stream",
     "text": [
      "Model: \"sequential\"\n",
      "_________________________________________________________________\n",
      "Layer (type)                 Output Shape              Param #   \n",
      "=================================================================\n",
      "dense (Dense)                (None, 200)               2000      \n",
      "_________________________________________________________________\n",
      "dropout (Dropout)            (None, 200)               0         \n",
      "_________________________________________________________________\n",
      "dense_1 (Dense)              (None, 200)               40200     \n",
      "_________________________________________________________________\n",
      "dropout_1 (Dropout)          (None, 200)               0         \n",
      "_________________________________________________________________\n",
      "dense_2 (Dense)              (None, 100)               20100     \n",
      "_________________________________________________________________\n",
      "dropout_2 (Dropout)          (None, 100)               0         \n",
      "_________________________________________________________________\n",
      "dense_3 (Dense)              (None, 100)               10100     \n",
      "_________________________________________________________________\n",
      "dropout_3 (Dropout)          (None, 100)               0         \n",
      "_________________________________________________________________\n",
      "dense_4 (Dense)              (None, 10)                1010      \n",
      "_________________________________________________________________\n",
      "dropout_4 (Dropout)          (None, 10)                0         \n",
      "_________________________________________________________________\n",
      "dense_5 (Dense)              (None, 1)                 11        \n",
      "=================================================================\n",
      "Total params: 73,421\n",
      "Trainable params: 73,421\n",
      "Non-trainable params: 0\n",
      "_________________________________________________________________\n"
     ]
    }
   ],
   "source": [
    "nn.summary()"
   ]
  },
  {
   "cell_type": "code",
   "execution_count": 219,
   "id": "90769c68",
   "metadata": {},
   "outputs": [
    {
     "name": "stdout",
     "output_type": "stream",
     "text": [
      "Epoch 1/20\n",
      "17/17 [==============================] - 2s 13ms/step - loss: 0.6820 - accuracy: 0.5148 - val_loss: 0.6796 - val_accuracy: 0.4265\n",
      "Epoch 2/20\n",
      "17/17 [==============================] - 0s 4ms/step - loss: 0.6526 - accuracy: 0.5849 - val_loss: 0.6381 - val_accuracy: 0.7132\n",
      "Epoch 3/20\n",
      "17/17 [==============================] - 0s 4ms/step - loss: 0.6075 - accuracy: 0.6642 - val_loss: 0.5877 - val_accuracy: 0.7353\n",
      "Epoch 4/20\n",
      "17/17 [==============================] - 0s 4ms/step - loss: 0.5429 - accuracy: 0.7306 - val_loss: 0.5419 - val_accuracy: 0.7279\n",
      "Epoch 5/20\n",
      "17/17 [==============================] - 0s 4ms/step - loss: 0.5444 - accuracy: 0.7546 - val_loss: 0.5111 - val_accuracy: 0.7500\n",
      "Epoch 6/20\n",
      "17/17 [==============================] - 0s 4ms/step - loss: 0.5379 - accuracy: 0.7601 - val_loss: 0.5427 - val_accuracy: 0.7279\n",
      "Epoch 7/20\n",
      "17/17 [==============================] - 0s 4ms/step - loss: 0.5175 - accuracy: 0.7546 - val_loss: 0.4788 - val_accuracy: 0.7721\n",
      "Epoch 8/20\n",
      "17/17 [==============================] - 0s 4ms/step - loss: 0.5159 - accuracy: 0.7546 - val_loss: 0.5056 - val_accuracy: 0.7647\n",
      "Epoch 9/20\n",
      "17/17 [==============================] - 0s 4ms/step - loss: 0.4795 - accuracy: 0.7786 - val_loss: 0.5257 - val_accuracy: 0.7574\n",
      "Epoch 10/20\n",
      "17/17 [==============================] - 0s 4ms/step - loss: 0.5039 - accuracy: 0.7768 - val_loss: 0.4806 - val_accuracy: 0.8015\n",
      "Epoch 11/20\n",
      "17/17 [==============================] - 0s 4ms/step - loss: 0.4946 - accuracy: 0.7528 - val_loss: 0.5167 - val_accuracy: 0.7868\n",
      "Epoch 12/20\n",
      "17/17 [==============================] - 0s 4ms/step - loss: 0.4940 - accuracy: 0.7768 - val_loss: 0.5093 - val_accuracy: 0.7941\n",
      "Epoch 13/20\n",
      "17/17 [==============================] - 0s 4ms/step - loss: 0.4675 - accuracy: 0.7897 - val_loss: 0.5017 - val_accuracy: 0.7868\n",
      "Epoch 14/20\n",
      "17/17 [==============================] - 0s 4ms/step - loss: 0.4899 - accuracy: 0.7694 - val_loss: 0.5188 - val_accuracy: 0.7794\n",
      "Epoch 15/20\n",
      "17/17 [==============================] - 0s 4ms/step - loss: 0.4772 - accuracy: 0.7675 - val_loss: 0.5176 - val_accuracy: 0.8088\n",
      "Epoch 16/20\n",
      "17/17 [==============================] - 0s 4ms/step - loss: 0.4740 - accuracy: 0.7804 - val_loss: 0.5401 - val_accuracy: 0.8015\n",
      "Epoch 17/20\n",
      "17/17 [==============================] - 0s 4ms/step - loss: 0.4789 - accuracy: 0.7712 - val_loss: 0.5475 - val_accuracy: 0.8015\n",
      "Epoch 18/20\n",
      "17/17 [==============================] - 0s 5ms/step - loss: 0.4655 - accuracy: 0.7804 - val_loss: 0.5133 - val_accuracy: 0.8088\n",
      "Epoch 19/20\n",
      "17/17 [==============================] - 0s 4ms/step - loss: 0.4790 - accuracy: 0.7786 - val_loss: 0.5182 - val_accuracy: 0.8088\n",
      "Epoch 20/20\n",
      "17/17 [==============================] - 0s 4ms/step - loss: 0.4645 - accuracy: 0.8026 - val_loss: 0.5320 - val_accuracy: 0.8088\n"
     ]
    }
   ],
   "source": [
    "history = nn.fit(X_train, y_train, validation_split = 0.2, batch_size = 32, epochs = 20)"
   ]
  },
  {
   "cell_type": "code",
   "execution_count": 220,
   "id": "9bd1335e",
   "metadata": {},
   "outputs": [],
   "source": [
    "pred_test = nn.predict(X_test)"
   ]
  },
  {
   "cell_type": "code",
   "execution_count": 221,
   "id": "780a4caf",
   "metadata": {},
   "outputs": [],
   "source": [
    "pred_test = [1 if (val > 0.5) else 0 for val in pred_test]"
   ]
  },
  {
   "cell_type": "code",
   "execution_count": 222,
   "id": "4cd24bcb",
   "metadata": {},
   "outputs": [
    {
     "data": {
      "text/plain": [
       "<AxesSubplot:>"
      ]
     },
     "execution_count": 222,
     "metadata": {},
     "output_type": "execute_result"
    },
    {
     "data": {
      "image/png": "[encoded data removed]",
      "text/plain": [
       "<Figure size 432x288 with 2 Axes>"
      ]
     },
     "metadata": {
      "needs_background": "light"
     },
     "output_type": "display_data"
    }
   ],
   "source": [
    "cm = confusion_matrix(y_true = y_test, y_pred = pred_test, labels = [0, 1])\n",
    "df_cm = pd.DataFrame(cm, index = [i for i in ['True 0', 'True 1']], columns = [i for i in ['Pred 0', 'Pred 1']])\n",
    "sns.heatmap(df_cm, annot = True)"
   ]
  },
  {
   "cell_type": "code",
   "execution_count": 223,
   "id": "f4deacb6",
   "metadata": {},
   "outputs": [
    {
     "name": "stdout",
     "output_type": "stream",
     "text": [
      "              precision    recall  f1-score   support\n",
      "\n",
      "           0       0.73      0.88      0.80        85\n",
      "           1       0.85      0.67      0.75        85\n",
      "\n",
      "    accuracy                           0.78       170\n",
      "   macro avg       0.79      0.78      0.77       170\n",
      "weighted avg       0.79      0.78      0.77       170\n",
      "\n"
     ]
    }
   ],
   "source": [
    "print(classification_report(y_true = y_test, y_pred = pred_test, labels = [0, 1]))"
   ]
  },
  {
   "cell_type": "markdown",
   "id": "9520412a",
   "metadata": {},
   "source": [
    "The neural network model has an average f1-score of 78%."
   ]
  },
  {
   "cell_type": "markdown",
   "id": "c9659ad9",
   "metadata": {},
   "source": [
    "Its training accuracy is 80% and validation accuracy is about 80%. Hence the model is well balanced."
   ]
  },
  {
   "cell_type": "code",
   "execution_count": 240,
   "id": "aaa727f2",
   "metadata": {},
   "outputs": [],
   "source": [
    "o1_summary.update({'nn' : [0.80, 0.80, 0.78]})"
   ]
  },
  {
   "cell_type": "code",
   "execution_count": 241,
   "id": "8ea76381",
   "metadata": {},
   "outputs": [
    {
     "data": {
      "text/plain": [
       "{'lr': [0.7817109144542773, 0.7529411764705882, 0.75],\n",
       " 'svm': [0.7728613569321534, 0.7176470588235294, 0.72],\n",
       " 'knn': [0.9911504424778761, 0.7705882352941177, 0.77],\n",
       " 'nb': [0.7625368731563422, 0.7058823529411765, 0.71],\n",
       " 'dt': [0.9911504424778761, 0.7470588235294118, 0.75],\n",
       " 'rf': [0.8525073746312685, 0.8058823529411765, 0.81],\n",
       " 'gb': [0.9380530973451328, 0.8, 0.8],\n",
       " 'xgb': [0.9823008849557522, 0.7764705882352941, 0.78],\n",
       " 'nn': [0.8, 0.8, 0.78]}"
      ]
     },
     "execution_count": 241,
     "metadata": {},
     "output_type": "execute_result"
    }
   ],
   "source": [
    "o1_summary"
   ]
  },
  {
   "cell_type": "markdown",
   "id": "ec2ab6ef",
   "metadata": {},
   "source": [
    "#### Conclusion for option 1"
   ]
  },
  {
   "cell_type": "code",
   "execution_count": 246,
   "id": "f9d6b809",
   "metadata": {},
   "outputs": [],
   "source": [
    "o1_df = pd.DataFrame.from_dict(o1_summary, orient = 'index', columns = ['Training accuracy', 'Testing accuracy', 'f1-score'])"
   ]
  },
  {
   "cell_type": "code",
   "execution_count": 251,
   "id": "5262d130",
   "metadata": {},
   "outputs": [
    {
     "data": {
      "text/html": [
       "<div>\n",
       "<style scoped>\n",
       "    .dataframe tbody tr th:only-of-type {\n",
       "        vertical-align: middle;\n",
       "    }\n",
       "\n",
       "    .dataframe tbody tr th {\n",
       "        vertical-align: top;\n",
       "    }\n",
       "\n",
       "    .dataframe thead th {\n",
       "        text-align: right;\n",
       "    }\n",
       "</style>\n",
       "<table border=\"1\" class=\"dataframe\">\n",
       "  <thead>\n",
       "    <tr style=\"text-align: right;\">\n",
       "      <th></th>\n",
       "      <th>Training accuracy</th>\n",
       "      <th>Testing accuracy</th>\n",
       "      <th>f1-score</th>\n",
       "    </tr>\n",
       "  </thead>\n",
       "  <tbody>\n",
       "    <tr>\n",
       "      <th>lr</th>\n",
       "      <td>0.78</td>\n",
       "      <td>0.75</td>\n",
       "      <td>0.75</td>\n",
       "    </tr>\n",
       "    <tr>\n",
       "      <th>svm</th>\n",
       "      <td>0.77</td>\n",
       "      <td>0.72</td>\n",
       "      <td>0.72</td>\n",
       "    </tr>\n",
       "    <tr>\n",
       "      <th>knn</th>\n",
       "      <td>0.99</td>\n",
       "      <td>0.77</td>\n",
       "      <td>0.77</td>\n",
       "    </tr>\n",
       "    <tr>\n",
       "      <th>nb</th>\n",
       "      <td>0.76</td>\n",
       "      <td>0.71</td>\n",
       "      <td>0.71</td>\n",
       "    </tr>\n",
       "    <tr>\n",
       "      <th>dt</th>\n",
       "      <td>0.99</td>\n",
       "      <td>0.75</td>\n",
       "      <td>0.75</td>\n",
       "    </tr>\n",
       "    <tr>\n",
       "      <th>rf</th>\n",
       "      <td>0.85</td>\n",
       "      <td>0.81</td>\n",
       "      <td>0.81</td>\n",
       "    </tr>\n",
       "    <tr>\n",
       "      <th>gb</th>\n",
       "      <td>0.94</td>\n",
       "      <td>0.80</td>\n",
       "      <td>0.80</td>\n",
       "    </tr>\n",
       "    <tr>\n",
       "      <th>xgb</th>\n",
       "      <td>0.98</td>\n",
       "      <td>0.78</td>\n",
       "      <td>0.78</td>\n",
       "    </tr>\n",
       "    <tr>\n",
       "      <th>nn</th>\n",
       "      <td>0.80</td>\n",
       "      <td>0.80</td>\n",
       "      <td>0.78</td>\n",
       "    </tr>\n",
       "  </tbody>\n",
       "</table>\n",
       "</div>"
      ],
      "text/plain": [
       "     Training accuracy  Testing accuracy  f1-score\n",
       "lr                0.78              0.75      0.75\n",
       "svm               0.77              0.72      0.72\n",
       "knn               0.99              0.77      0.77\n",
       "nb                0.76              0.71      0.71\n",
       "dt                0.99              0.75      0.75\n",
       "rf                0.85              0.81      0.81\n",
       "gb                0.94              0.80      0.80\n",
       "xgb               0.98              0.78      0.78\n",
       "nn                0.80              0.80      0.78"
      ]
     },
     "execution_count": 251,
     "metadata": {},
     "output_type": "execute_result"
    }
   ],
   "source": [
    "o1_df.apply(lambda x : np.round(x, 2))"
   ]
  },
  {
   "cell_type": "markdown",
   "id": "87a1c9b7",
   "metadata": {},
   "source": [
    "The random forest model has the highest average f1 score of about 81%. It is also well balanced in terms of training and testing accuracies. Hence, in scenario of option 1, random forest model is the prefered model."
   ]
  },
  {
   "cell_type": "markdown",
   "id": "963e80f3",
   "metadata": {},
   "source": [
    "### Model building with Option 2 Sub 1"
   ]
  },
  {
   "cell_type": "code",
   "execution_count": 253,
   "id": "bd0c15ee",
   "metadata": {},
   "outputs": [],
   "source": [
    "train2 = train.drop(['ticket_code', 'ticket_num'], axis = 1)"
   ]
  },
  {
   "cell_type": "code",
   "execution_count": 254,
   "id": "5cab4266",
   "metadata": {},
   "outputs": [
    {
     "name": "stdout",
     "output_type": "stream",
     "text": [
      "<class 'pandas.core.frame.DataFrame'>\n",
      "RangeIndex: 891 entries, 0 to 890\n",
      "Data columns (total 8 columns):\n",
      " #   Column    Non-Null Count  Dtype  \n",
      "---  ------    --------------  -----  \n",
      " 0   Survived  891 non-null    int64  \n",
      " 1   Pclass    891 non-null    int64  \n",
      " 2   Sex       891 non-null    object \n",
      " 3   Age       714 non-null    float64\n",
      " 4   SibSp     891 non-null    int64  \n",
      " 5   Parch     891 non-null    int64  \n",
      " 6   Fare      891 non-null    float64\n",
      " 7   Embarked  889 non-null    object \n",
      "dtypes: float64(2), int64(4), object(2)\n",
      "memory usage: 55.8+ KB\n"
     ]
    }
   ],
   "source": [
    "train2.info()"
   ]
  },
  {
   "cell_type": "code",
   "execution_count": 255,
   "id": "1d6f141b",
   "metadata": {},
   "outputs": [
    {
     "data": {
      "text/html": [
       "<div>\n",
       "<style scoped>\n",
       "    .dataframe tbody tr th:only-of-type {\n",
       "        vertical-align: middle;\n",
       "    }\n",
       "\n",
       "    .dataframe tbody tr th {\n",
       "        vertical-align: top;\n",
       "    }\n",
       "\n",
       "    .dataframe thead th {\n",
       "        text-align: right;\n",
       "    }\n",
       "</style>\n",
       "<table border=\"1\" class=\"dataframe\">\n",
       "  <thead>\n",
       "    <tr style=\"text-align: right;\">\n",
       "      <th></th>\n",
       "      <th>Survived</th>\n",
       "      <th>Pclass</th>\n",
       "      <th>Sex</th>\n",
       "      <th>Age</th>\n",
       "      <th>SibSp</th>\n",
       "      <th>Parch</th>\n",
       "      <th>Fare</th>\n",
       "      <th>Embarked</th>\n",
       "    </tr>\n",
       "  </thead>\n",
       "  <tbody>\n",
       "    <tr>\n",
       "      <th>61</th>\n",
       "      <td>1</td>\n",
       "      <td>1</td>\n",
       "      <td>female</td>\n",
       "      <td>38.0</td>\n",
       "      <td>0</td>\n",
       "      <td>0</td>\n",
       "      <td>80.0</td>\n",
       "      <td>NaN</td>\n",
       "    </tr>\n",
       "    <tr>\n",
       "      <th>829</th>\n",
       "      <td>1</td>\n",
       "      <td>1</td>\n",
       "      <td>female</td>\n",
       "      <td>62.0</td>\n",
       "      <td>0</td>\n",
       "      <td>0</td>\n",
       "      <td>80.0</td>\n",
       "      <td>NaN</td>\n",
       "    </tr>\n",
       "  </tbody>\n",
       "</table>\n",
       "</div>"
      ],
      "text/plain": [
       "     Survived  Pclass     Sex   Age  SibSp  Parch  Fare Embarked\n",
       "61          1       1  female  38.0      0      0  80.0      NaN\n",
       "829         1       1  female  62.0      0      0  80.0      NaN"
      ]
     },
     "execution_count": 255,
     "metadata": {},
     "output_type": "execute_result"
    }
   ],
   "source": [
    "train2[train2['Embarked'].isna()]"
   ]
  },
  {
   "cell_type": "code",
   "execution_count": 256,
   "id": "6d6e6c03",
   "metadata": {},
   "outputs": [],
   "source": [
    "train2.drop([61, 829], axis = 0, inplace = True)"
   ]
  },
  {
   "cell_type": "code",
   "execution_count": 257,
   "id": "5736c707",
   "metadata": {},
   "outputs": [
    {
     "name": "stdout",
     "output_type": "stream",
     "text": [
      "<class 'pandas.core.frame.DataFrame'>\n",
      "Int64Index: 889 entries, 0 to 890\n",
      "Data columns (total 8 columns):\n",
      " #   Column    Non-Null Count  Dtype  \n",
      "---  ------    --------------  -----  \n",
      " 0   Survived  889 non-null    int64  \n",
      " 1   Pclass    889 non-null    int64  \n",
      " 2   Sex       889 non-null    object \n",
      " 3   Age       712 non-null    float64\n",
      " 4   SibSp     889 non-null    int64  \n",
      " 5   Parch     889 non-null    int64  \n",
      " 6   Fare      889 non-null    float64\n",
      " 7   Embarked  889 non-null    object \n",
      "dtypes: float64(2), int64(4), object(2)\n",
      "memory usage: 62.5+ KB\n"
     ]
    }
   ],
   "source": [
    "train2.info()"
   ]
  },
  {
   "cell_type": "code",
   "execution_count": 258,
   "id": "ddd3f9e7",
   "metadata": {},
   "outputs": [],
   "source": [
    "train2['Age'].fillna(train2['Age'].median(), inplace = True)"
   ]
  },
  {
   "cell_type": "code",
   "execution_count": 259,
   "id": "45b7d0de",
   "metadata": {},
   "outputs": [
    {
     "name": "stdout",
     "output_type": "stream",
     "text": [
      "<class 'pandas.core.frame.DataFrame'>\n",
      "Int64Index: 889 entries, 0 to 890\n",
      "Data columns (total 8 columns):\n",
      " #   Column    Non-Null Count  Dtype  \n",
      "---  ------    --------------  -----  \n",
      " 0   Survived  889 non-null    int64  \n",
      " 1   Pclass    889 non-null    int64  \n",
      " 2   Sex       889 non-null    object \n",
      " 3   Age       889 non-null    float64\n",
      " 4   SibSp     889 non-null    int64  \n",
      " 5   Parch     889 non-null    int64  \n",
      " 6   Fare      889 non-null    float64\n",
      " 7   Embarked  889 non-null    object \n",
      "dtypes: float64(2), int64(4), object(2)\n",
      "memory usage: 62.5+ KB\n"
     ]
    }
   ],
   "source": [
    "train2.info()"
   ]
  },
  {
   "cell_type": "markdown",
   "id": "52713254",
   "metadata": {},
   "source": [
    "Convert 'Sex' and 'Embarked' columns to type category"
   ]
  },
  {
   "cell_type": "code",
   "execution_count": 260,
   "id": "47001194",
   "metadata": {},
   "outputs": [],
   "source": [
    "train2['Sex'] = train2['Sex'].astype('category')\n",
    "train2['Embarked'] = train2['Embarked'].astype('category')"
   ]
  },
  {
   "cell_type": "code",
   "execution_count": 261,
   "id": "c2e2e890",
   "metadata": {},
   "outputs": [],
   "source": [
    "train2['Age'] = train2['Age'].astype('int64')"
   ]
  },
  {
   "cell_type": "code",
   "execution_count": 262,
   "id": "b8c37feb",
   "metadata": {},
   "outputs": [
    {
     "name": "stdout",
     "output_type": "stream",
     "text": [
      "<class 'pandas.core.frame.DataFrame'>\n",
      "Int64Index: 889 entries, 0 to 890\n",
      "Data columns (total 8 columns):\n",
      " #   Column    Non-Null Count  Dtype   \n",
      "---  ------    --------------  -----   \n",
      " 0   Survived  889 non-null    int64   \n",
      " 1   Pclass    889 non-null    int64   \n",
      " 2   Sex       889 non-null    category\n",
      " 3   Age       889 non-null    int64   \n",
      " 4   SibSp     889 non-null    int64   \n",
      " 5   Parch     889 non-null    int64   \n",
      " 6   Fare      889 non-null    float64 \n",
      " 7   Embarked  889 non-null    category\n",
      "dtypes: category(2), float64(1), int64(5)\n",
      "memory usage: 50.6 KB\n"
     ]
    }
   ],
   "source": [
    "train2.info()"
   ]
  },
  {
   "cell_type": "code",
   "execution_count": 263,
   "id": "e89f200f",
   "metadata": {},
   "outputs": [],
   "source": [
    "train2 = pd.get_dummies(train2, columns = ['Sex', 'Embarked'])"
   ]
  },
  {
   "cell_type": "code",
   "execution_count": 264,
   "id": "4a044af7",
   "metadata": {},
   "outputs": [],
   "source": [
    "train2.drop(['Sex_male'], axis = 1, inplace = True) #Do not need this column as it adds no new information"
   ]
  },
  {
   "cell_type": "code",
   "execution_count": 265,
   "id": "8eb6fe20",
   "metadata": {},
   "outputs": [
    {
     "data": {
      "text/html": [
       "<div>\n",
       "<style scoped>\n",
       "    .dataframe tbody tr th:only-of-type {\n",
       "        vertical-align: middle;\n",
       "    }\n",
       "\n",
       "    .dataframe tbody tr th {\n",
       "        vertical-align: top;\n",
       "    }\n",
       "\n",
       "    .dataframe thead th {\n",
       "        text-align: right;\n",
       "    }\n",
       "</style>\n",
       "<table border=\"1\" class=\"dataframe\">\n",
       "  <thead>\n",
       "    <tr style=\"text-align: right;\">\n",
       "      <th></th>\n",
       "      <th>Survived</th>\n",
       "      <th>Pclass</th>\n",
       "      <th>Age</th>\n",
       "      <th>SibSp</th>\n",
       "      <th>Parch</th>\n",
       "      <th>Fare</th>\n",
       "      <th>Sex_female</th>\n",
       "      <th>Embarked_C</th>\n",
       "      <th>Embarked_Q</th>\n",
       "      <th>Embarked_S</th>\n",
       "    </tr>\n",
       "  </thead>\n",
       "  <tbody>\n",
       "    <tr>\n",
       "      <th>0</th>\n",
       "      <td>0</td>\n",
       "      <td>3</td>\n",
       "      <td>22</td>\n",
       "      <td>1</td>\n",
       "      <td>0</td>\n",
       "      <td>7.2500</td>\n",
       "      <td>0</td>\n",
       "      <td>0</td>\n",
       "      <td>0</td>\n",
       "      <td>1</td>\n",
       "    </tr>\n",
       "    <tr>\n",
       "      <th>1</th>\n",
       "      <td>1</td>\n",
       "      <td>1</td>\n",
       "      <td>38</td>\n",
       "      <td>1</td>\n",
       "      <td>0</td>\n",
       "      <td>71.2833</td>\n",
       "      <td>1</td>\n",
       "      <td>1</td>\n",
       "      <td>0</td>\n",
       "      <td>0</td>\n",
       "    </tr>\n",
       "    <tr>\n",
       "      <th>2</th>\n",
       "      <td>1</td>\n",
       "      <td>3</td>\n",
       "      <td>26</td>\n",
       "      <td>0</td>\n",
       "      <td>0</td>\n",
       "      <td>7.9250</td>\n",
       "      <td>1</td>\n",
       "      <td>0</td>\n",
       "      <td>0</td>\n",
       "      <td>1</td>\n",
       "    </tr>\n",
       "    <tr>\n",
       "      <th>3</th>\n",
       "      <td>1</td>\n",
       "      <td>1</td>\n",
       "      <td>35</td>\n",
       "      <td>1</td>\n",
       "      <td>0</td>\n",
       "      <td>53.1000</td>\n",
       "      <td>1</td>\n",
       "      <td>0</td>\n",
       "      <td>0</td>\n",
       "      <td>1</td>\n",
       "    </tr>\n",
       "    <tr>\n",
       "      <th>4</th>\n",
       "      <td>0</td>\n",
       "      <td>3</td>\n",
       "      <td>35</td>\n",
       "      <td>0</td>\n",
       "      <td>0</td>\n",
       "      <td>8.0500</td>\n",
       "      <td>0</td>\n",
       "      <td>0</td>\n",
       "      <td>0</td>\n",
       "      <td>1</td>\n",
       "    </tr>\n",
       "  </tbody>\n",
       "</table>\n",
       "</div>"
      ],
      "text/plain": [
       "   Survived  Pclass  Age  SibSp  Parch     Fare  Sex_female  Embarked_C  \\\n",
       "0         0       3   22      1      0   7.2500           0           0   \n",
       "1         1       1   38      1      0  71.2833           1           1   \n",
       "2         1       3   26      0      0   7.9250           1           0   \n",
       "3         1       1   35      1      0  53.1000           1           0   \n",
       "4         0       3   35      0      0   8.0500           0           0   \n",
       "\n",
       "   Embarked_Q  Embarked_S  \n",
       "0           0           1  \n",
       "1           0           0  \n",
       "2           0           1  \n",
       "3           0           1  \n",
       "4           0           1  "
      ]
     },
     "execution_count": 265,
     "metadata": {},
     "output_type": "execute_result"
    }
   ],
   "source": [
    "train2.head()"
   ]
  },
  {
   "cell_type": "code",
   "execution_count": 266,
   "id": "1b2a4ff8",
   "metadata": {},
   "outputs": [
    {
     "name": "stdout",
     "output_type": "stream",
     "text": [
      "<class 'pandas.core.frame.DataFrame'>\n",
      "Int64Index: 889 entries, 0 to 890\n",
      "Data columns (total 10 columns):\n",
      " #   Column      Non-Null Count  Dtype  \n",
      "---  ------      --------------  -----  \n",
      " 0   Survived    889 non-null    int64  \n",
      " 1   Pclass      889 non-null    int64  \n",
      " 2   Age         889 non-null    int64  \n",
      " 3   SibSp       889 non-null    int64  \n",
      " 4   Parch       889 non-null    int64  \n",
      " 5   Fare        889 non-null    float64\n",
      " 6   Sex_female  889 non-null    uint8  \n",
      " 7   Embarked_C  889 non-null    uint8  \n",
      " 8   Embarked_Q  889 non-null    uint8  \n",
      " 9   Embarked_S  889 non-null    uint8  \n",
      "dtypes: float64(1), int64(5), uint8(4)\n",
      "memory usage: 52.1 KB\n"
     ]
    }
   ],
   "source": [
    "train2.info()"
   ]
  },
  {
   "cell_type": "markdown",
   "id": "74e93d75",
   "metadata": {},
   "source": [
    "Setting up train and test data:"
   ]
  },
  {
   "cell_type": "code",
   "execution_count": 267,
   "id": "37bb4f3c",
   "metadata": {},
   "outputs": [],
   "source": [
    "X = train2.drop(['Survived'], axis = 1)\n",
    "y = train2['Survived']"
   ]
  },
  {
   "cell_type": "code",
   "execution_count": 268,
   "id": "954ae1f3",
   "metadata": {},
   "outputs": [
    {
     "data": {
      "text/plain": [
       "0    549\n",
       "1    340\n",
       "Name: Survived, dtype: int64"
      ]
     },
     "execution_count": 268,
     "metadata": {},
     "output_type": "execute_result"
    }
   ],
   "source": [
    "y.value_counts()"
   ]
  },
  {
   "cell_type": "markdown",
   "id": "53520a4d",
   "metadata": {},
   "source": [
    "Undersampling will wipe off almost half of the data. Oversampling must be used. "
   ]
  },
  {
   "cell_type": "code",
   "execution_count": 269,
   "id": "7a59d1ad",
   "metadata": {},
   "outputs": [],
   "source": [
    "#trying SMOTE oversampling\n",
    "over_sampler = SMOTE(random_state = 1)\n",
    "X_resampled, y_resampled  = over_sampler.fit_resample(X, y)"
   ]
  },
  {
   "cell_type": "code",
   "execution_count": 270,
   "id": "de14800c",
   "metadata": {},
   "outputs": [
    {
     "data": {
      "text/plain": [
       "((1098, 9), (1098,))"
      ]
     },
     "execution_count": 270,
     "metadata": {},
     "output_type": "execute_result"
    }
   ],
   "source": [
    "X_resampled.shape, y_resampled.shape"
   ]
  },
  {
   "cell_type": "code",
   "execution_count": 271,
   "id": "b9b5f164",
   "metadata": {},
   "outputs": [
    {
     "data": {
      "text/plain": [
       "0    549\n",
       "1    549\n",
       "Name: Survived, dtype: int64"
      ]
     },
     "execution_count": 271,
     "metadata": {},
     "output_type": "execute_result"
    }
   ],
   "source": [
    "y_resampled.value_counts()"
   ]
  },
  {
   "cell_type": "code",
   "execution_count": 272,
   "id": "4675ab97",
   "metadata": {},
   "outputs": [],
   "source": [
    "scaler = MinMaxScaler()\n",
    "X_resampled = scaler.fit_transform(X_resampled)"
   ]
  },
  {
   "cell_type": "code",
   "execution_count": 273,
   "id": "d6e540a5",
   "metadata": {},
   "outputs": [
    {
     "data": {
      "text/plain": [
       "array([1.        , 0.275     , 0.125     , 0.        , 0.01415106,\n",
       "       0.        , 0.        , 0.        , 1.        ])"
      ]
     },
     "execution_count": 273,
     "metadata": {},
     "output_type": "execute_result"
    }
   ],
   "source": [
    "X_resampled[0]"
   ]
  },
  {
   "cell_type": "code",
   "execution_count": 274,
   "id": "70e98661",
   "metadata": {},
   "outputs": [],
   "source": [
    "X_train, X_test, y_train, y_test = train_test_split(X_resampled, y_resampled, test_size = 0.2, random_state = 1, stratify = y_resampled)"
   ]
  },
  {
   "cell_type": "code",
   "execution_count": 275,
   "id": "bf30e31c",
   "metadata": {},
   "outputs": [
    {
     "data": {
      "text/plain": [
       "((878, 9), (220, 9), (878,), (220,))"
      ]
     },
     "execution_count": 275,
     "metadata": {},
     "output_type": "execute_result"
    }
   ],
   "source": [
    "X_train.shape, X_test.shape, y_train.shape, y_test.shape"
   ]
  },
  {
   "cell_type": "markdown",
   "id": "6a0e1a81",
   "metadata": {},
   "source": [
    "Algorithms to try:<br>\n",
    "-Logistic Regression <br>\n",
    "-SVM <br>\n",
    "-KNN <br>\n",
    "-Naive-Bayes<br>\n",
    "-Decision Tree Classifier <br>\n",
    "-Random Forest Classifier <br>\n",
    "-Gradient Boost classifier <br>\n",
    "-XGBoost<br>\n",
    "-NN\n"
   ]
  },
  {
   "cell_type": "markdown",
   "id": "6a9b737e",
   "metadata": {},
   "source": [
    "<i>Logistic Regression:</i>"
   ]
  },
  {
   "cell_type": "code",
   "execution_count": 276,
   "id": "45d0af16",
   "metadata": {},
   "outputs": [],
   "source": [
    "lr = LogisticRegression(random_state = 1, solver = 'liblinear') \n",
    "lr_scores = cross_val_score(lr, X_train, y_train, cv = 3)"
   ]
  },
  {
   "cell_type": "code",
   "execution_count": 277,
   "id": "4ffe300b",
   "metadata": {},
   "outputs": [
    {
     "data": {
      "text/plain": [
       "array([0.75426621, 0.78156997, 0.80821918])"
      ]
     },
     "execution_count": 277,
     "metadata": {},
     "output_type": "execute_result"
    }
   ],
   "source": [
    "lr_scores"
   ]
  },
  {
   "cell_type": "code",
   "execution_count": 278,
   "id": "377dfad8",
   "metadata": {},
   "outputs": [
    {
     "data": {
      "text/plain": [
       "0.7813517851855315"
      ]
     },
     "execution_count": 278,
     "metadata": {},
     "output_type": "execute_result"
    }
   ],
   "source": [
    "lr_scores.mean()"
   ]
  },
  {
   "cell_type": "markdown",
   "id": "85aea01e",
   "metadata": {},
   "source": [
    "The logistic regression model has an average accuracy of about 78%."
   ]
  },
  {
   "cell_type": "code",
   "execution_count": 279,
   "id": "1e19da1e",
   "metadata": {},
   "outputs": [],
   "source": [
    "lr.fit(X_train, y_train) \n",
    "pred_test = lr.predict(X_test)"
   ]
  },
  {
   "cell_type": "code",
   "execution_count": 280,
   "id": "32d5ae76",
   "metadata": {},
   "outputs": [
    {
     "data": {
      "text/plain": [
       "array([1, 1, 1, 1, 1, 0, 0, 0, 0, 1, 0, 0, 0, 0, 0, 1, 0, 1, 0, 0, 0, 1,\n",
       "       0, 0, 0, 0, 0, 0, 1, 1, 0, 1, 1, 1, 0, 0, 0, 1, 0, 1, 1, 1, 0, 0,\n",
       "       0, 0, 1, 0, 1, 1, 1, 0, 0, 1, 0, 0, 1, 1, 1, 0, 1, 0, 0, 1, 1, 1,\n",
       "       0, 0, 0, 0, 0, 0, 1, 0, 0, 1, 0, 1, 0, 0, 0, 0, 0, 0, 0, 0, 1, 0,\n",
       "       1, 1, 0, 1, 0, 0, 0, 0, 0, 0, 1, 1, 0, 0, 1, 0, 1, 1, 1, 1, 1, 0,\n",
       "       1, 0, 1, 0, 1, 1, 1, 1, 0, 0, 1, 1, 0, 1, 1, 0, 1, 1, 0, 1, 1, 1,\n",
       "       0, 0, 1, 0, 1, 1, 0, 1, 1, 1, 1, 1, 0, 1, 0, 0, 0, 1, 0, 1, 1, 1,\n",
       "       0, 1, 1, 1, 1, 1, 0, 0, 0, 0, 1, 1, 0, 1, 0, 1, 0, 0, 0, 1, 1, 0,\n",
       "       0, 0, 0, 1, 1, 1, 0, 1, 1, 0, 1, 1, 0, 0, 0, 0, 0, 1, 0, 1, 1, 0,\n",
       "       1, 0, 1, 1, 0, 1, 1, 0, 0, 1, 1, 1, 0, 1, 0, 1, 0, 0, 0, 1, 0, 0],\n",
       "      dtype=int64)"
      ]
     },
     "execution_count": 280,
     "metadata": {},
     "output_type": "execute_result"
    }
   ],
   "source": [
    "pred_test"
   ]
  },
  {
   "cell_type": "code",
   "execution_count": 281,
   "id": "4c070290",
   "metadata": {},
   "outputs": [
    {
     "data": {
      "text/plain": [
       "<AxesSubplot:>"
      ]
     },
     "execution_count": 281,
     "metadata": {},
     "output_type": "execute_result"
    },
    {
     "data": {
      "image/png": "[encoded data removed]",
      "text/plain": [
       "<Figure size 432x288 with 2 Axes>"
      ]
     },
     "metadata": {
      "needs_background": "light"
     },
     "output_type": "display_data"
    }
   ],
   "source": [
    "cm = confusion_matrix(y_true = y_test, y_pred = pred_test, labels = [0, 1])\n",
    "df_cm = pd.DataFrame(cm, index = [i for i in ['True 0', 'True 1']], columns = [i for i in ['Pred 0', 'Pred 1']])\n",
    "sns.heatmap(df_cm, annot = True)"
   ]
  },
  {
   "cell_type": "code",
   "execution_count": 282,
   "id": "37d650d7",
   "metadata": {},
   "outputs": [
    {
     "name": "stdout",
     "output_type": "stream",
     "text": [
      "              precision    recall  f1-score   support\n",
      "\n",
      "           0       0.77      0.80      0.78       110\n",
      "           1       0.79      0.75      0.77       110\n",
      "\n",
      "    accuracy                           0.78       220\n",
      "   macro avg       0.78      0.78      0.78       220\n",
      "weighted avg       0.78      0.78      0.78       220\n",
      "\n"
     ]
    }
   ],
   "source": [
    "print(classification_report(y_true = y_test, y_pred = pred_test, labels = lr.classes_))"
   ]
  },
  {
   "cell_type": "markdown",
   "id": "8c8b2543",
   "metadata": {},
   "source": [
    "According to the classification report, the model has an average f1-score of about 0.78"
   ]
  },
  {
   "cell_type": "code",
   "execution_count": 283,
   "id": "76253970",
   "metadata": {},
   "outputs": [
    {
     "name": "stdout",
     "output_type": "stream",
     "text": [
      "Training accuracy: 0.7881548974943052\n"
     ]
    }
   ],
   "source": [
    "print('Training accuracy:',lr.score(X_train, y_train))"
   ]
  },
  {
   "cell_type": "code",
   "execution_count": 284,
   "id": "e4109269",
   "metadata": {},
   "outputs": [
    {
     "name": "stdout",
     "output_type": "stream",
     "text": [
      "Testing accuracy: 0.7772727272727272\n"
     ]
    }
   ],
   "source": [
    "print('Testing accuracy:',lr.score(X_test, y_test))"
   ]
  },
  {
   "cell_type": "markdown",
   "id": "6fb969bb",
   "metadata": {},
   "source": [
    "The model is fairly balanced."
   ]
  },
  {
   "cell_type": "code",
   "execution_count": 286,
   "id": "857b2172",
   "metadata": {},
   "outputs": [
    {
     "data": {
      "text/plain": [
       "{'lr': [0.7881548974943052, 0.7772727272727272, 0.78]}"
      ]
     },
     "execution_count": 286,
     "metadata": {},
     "output_type": "execute_result"
    }
   ],
   "source": [
    "o21_summary = {'lr': [lr.score(X_train, y_train), lr.score(X_test, y_test), 0.78]}\n",
    "o21_summary"
   ]
  },
  {
   "cell_type": "markdown",
   "id": "05c950cc",
   "metadata": {},
   "source": [
    "<i>SVM</i>"
   ]
  },
  {
   "cell_type": "code",
   "execution_count": 287,
   "id": "d3a5aa18",
   "metadata": {},
   "outputs": [],
   "source": [
    "svc = SVC(random_state = 1)\n",
    "svc_scores = cross_val_score(svc, X_train, y_train, cv = 3)"
   ]
  },
  {
   "cell_type": "code",
   "execution_count": 288,
   "id": "6794a06d",
   "metadata": {},
   "outputs": [
    {
     "data": {
      "text/plain": [
       "array([0.74744027, 0.79522184, 0.78767123])"
      ]
     },
     "execution_count": 288,
     "metadata": {},
     "output_type": "execute_result"
    }
   ],
   "source": [
    "svc_scores"
   ]
  },
  {
   "cell_type": "code",
   "execution_count": 289,
   "id": "6577c12a",
   "metadata": {},
   "outputs": [
    {
     "data": {
      "text/plain": [
       "0.7767777829725558"
      ]
     },
     "execution_count": 289,
     "metadata": {},
     "output_type": "execute_result"
    }
   ],
   "source": [
    "svc_scores.mean()"
   ]
  },
  {
   "cell_type": "markdown",
   "id": "ccd61c38",
   "metadata": {},
   "source": [
    "Average svc accuracy is about 78%."
   ]
  },
  {
   "cell_type": "code",
   "execution_count": 290,
   "id": "ee45707a",
   "metadata": {},
   "outputs": [
    {
     "data": {
      "text/plain": [
       "GridSearchCV(cv=3, estimator=SVC(random_state=1),\n",
       "             param_grid={'C': [0.8, 1, 1.2, 1.4],\n",
       "                         'kernel': ['linear', 'rbf', 'poly']})"
      ]
     },
     "execution_count": 290,
     "metadata": {},
     "output_type": "execute_result"
    }
   ],
   "source": [
    "params = {'C' : [0.8, 1, 1.2, 1.4], 'kernel' : ['linear', 'rbf', 'poly']}\n",
    "grid = GridSearchCV(SVC(random_state = 1), params, cv = 3)\n",
    "grid.fit(X_train, y_train)"
   ]
  },
  {
   "cell_type": "code",
   "execution_count": 291,
   "id": "24db081f",
   "metadata": {},
   "outputs": [
    {
     "data": {
      "text/plain": [
       "{'C': 0.8, 'kernel': 'rbf'}"
      ]
     },
     "execution_count": 291,
     "metadata": {},
     "output_type": "execute_result"
    }
   ],
   "source": [
    "grid.best_params_"
   ]
  },
  {
   "cell_type": "code",
   "execution_count": 130,
   "id": "1ad46a33",
   "metadata": {},
   "outputs": [],
   "source": [
    "svc_scores = cross_val_score(SVC(C = 0.8), X_train, y_train, cv = 3)"
   ]
  },
  {
   "cell_type": "code",
   "execution_count": 292,
   "id": "130792f1",
   "metadata": {},
   "outputs": [
    {
     "data": {
      "text/plain": [
       "array([0.74744027, 0.79522184, 0.78767123])"
      ]
     },
     "execution_count": 292,
     "metadata": {},
     "output_type": "execute_result"
    }
   ],
   "source": [
    "svc_scores"
   ]
  },
  {
   "cell_type": "code",
   "execution_count": 293,
   "id": "7cdd7ce5",
   "metadata": {},
   "outputs": [
    {
     "data": {
      "text/plain": [
       "0.7767777829725558"
      ]
     },
     "execution_count": 293,
     "metadata": {},
     "output_type": "execute_result"
    }
   ],
   "source": [
    "svc_scores.mean()"
   ]
  },
  {
   "cell_type": "markdown",
   "id": "afd79cf3",
   "metadata": {},
   "source": [
    "The average accuracy is still about 78%."
   ]
  },
  {
   "cell_type": "code",
   "execution_count": 294,
   "id": "fb2f04b9",
   "metadata": {},
   "outputs": [
    {
     "data": {
      "text/plain": [
       "SVC(C=0.8)"
      ]
     },
     "execution_count": 294,
     "metadata": {},
     "output_type": "execute_result"
    }
   ],
   "source": [
    "svc = SVC(C = 0.8)\n",
    "svc.fit(X_train, y_train)"
   ]
  },
  {
   "cell_type": "code",
   "execution_count": 295,
   "id": "fa82370d",
   "metadata": {},
   "outputs": [],
   "source": [
    "pred_test = svc.predict(X_test)"
   ]
  },
  {
   "cell_type": "code",
   "execution_count": 296,
   "id": "3d41e7a2",
   "metadata": {},
   "outputs": [
    {
     "data": {
      "text/plain": [
       "<AxesSubplot:>"
      ]
     },
     "execution_count": 296,
     "metadata": {},
     "output_type": "execute_result"
    },
    {
     "data": {
      "image/png": "[encoded data removed]",
      "text/plain": [
       "<Figure size 432x288 with 2 Axes>"
      ]
     },
     "metadata": {
      "needs_background": "light"
     },
     "output_type": "display_data"
    }
   ],
   "source": [
    "cm = confusion_matrix(y_true = y_test, y_pred = pred_test, labels = [0, 1])\n",
    "df_cm = pd.DataFrame(cm, index = [i for i in ['True 0', 'True 1']], columns = [i for i in ['Pred 0', 'Pred 1']])\n",
    "sns.heatmap(df_cm, annot = True)"
   ]
  },
  {
   "cell_type": "code",
   "execution_count": 297,
   "id": "ce7b9b7f",
   "metadata": {},
   "outputs": [
    {
     "name": "stdout",
     "output_type": "stream",
     "text": [
      "              precision    recall  f1-score   support\n",
      "\n",
      "           0       0.74      0.92      0.82       110\n",
      "           1       0.89      0.68      0.77       110\n",
      "\n",
      "    accuracy                           0.80       220\n",
      "   macro avg       0.82      0.80      0.80       220\n",
      "weighted avg       0.82      0.80      0.80       220\n",
      "\n"
     ]
    }
   ],
   "source": [
    "print(classification_report(y_true = y_test, y_pred = pred_test, labels = svc.classes_))"
   ]
  },
  {
   "cell_type": "markdown",
   "id": "5d1cbaed",
   "metadata": {},
   "source": [
    "The svc model has a higher mean accuracy score compared to that of logistic regression model. However, it predicts more false negatives compared to the logistic regression model."
   ]
  },
  {
   "cell_type": "markdown",
   "id": "dfb55190",
   "metadata": {},
   "source": [
    "The average f1 score of the svc model is about 80%."
   ]
  },
  {
   "cell_type": "code",
   "execution_count": 137,
   "id": "b8fa5903",
   "metadata": {},
   "outputs": [
    {
     "name": "stdout",
     "output_type": "stream",
     "text": [
      "Training accuracy: 0.7961275626423691\n"
     ]
    }
   ],
   "source": [
    "print('Training accuracy:',svc.score(X_train, y_train))"
   ]
  },
  {
   "cell_type": "code",
   "execution_count": 139,
   "id": "d43fadc6",
   "metadata": {},
   "outputs": [
    {
     "name": "stdout",
     "output_type": "stream",
     "text": [
      "Test accuracy: 0.8\n"
     ]
    }
   ],
   "source": [
    "print('Test accuracy:',svc.score(X_test, y_test))"
   ]
  },
  {
   "cell_type": "markdown",
   "id": "0b587b61",
   "metadata": {},
   "source": [
    "The test accuracy and training accuracy are almost same."
   ]
  },
  {
   "cell_type": "code",
   "execution_count": 299,
   "id": "796d7826",
   "metadata": {},
   "outputs": [
    {
     "data": {
      "text/plain": [
       "{'lr': [0.7881548974943052, 0.7772727272727272, 0.78],\n",
       " 'svm': [0.7961275626423691, 0.8, 0.8]}"
      ]
     },
     "execution_count": 299,
     "metadata": {},
     "output_type": "execute_result"
    }
   ],
   "source": [
    "o21_summary.update({'svm': [svc.score(X_train, y_train), svc.score(X_test, y_test), 0.80]})\n",
    "o21_summary"
   ]
  },
  {
   "cell_type": "markdown",
   "id": "59cc055e",
   "metadata": {},
   "source": [
    "<i>KNN</i>"
   ]
  },
  {
   "cell_type": "code",
   "execution_count": 300,
   "id": "1db9bfbc",
   "metadata": {},
   "outputs": [],
   "source": [
    "knn = KNeighborsClassifier()"
   ]
  },
  {
   "cell_type": "code",
   "execution_count": 301,
   "id": "38a987bd",
   "metadata": {},
   "outputs": [],
   "source": [
    "knn_scores = cross_val_score(knn, X_train, y_train, cv = 3)"
   ]
  },
  {
   "cell_type": "code",
   "execution_count": 302,
   "id": "125e4ed0",
   "metadata": {},
   "outputs": [
    {
     "data": {
      "text/plain": [
       "array([0.78498294, 0.79863481, 0.81506849])"
      ]
     },
     "execution_count": 302,
     "metadata": {},
     "output_type": "execute_result"
    }
   ],
   "source": [
    "knn_scores"
   ]
  },
  {
   "cell_type": "code",
   "execution_count": 303,
   "id": "1e3dcab6",
   "metadata": {},
   "outputs": [
    {
     "data": {
      "text/plain": [
       "0.7995620801969859"
      ]
     },
     "execution_count": 303,
     "metadata": {},
     "output_type": "execute_result"
    }
   ],
   "source": [
    "knn_scores.mean()"
   ]
  },
  {
   "cell_type": "markdown",
   "id": "06623268",
   "metadata": {},
   "source": [
    "The mean accuracy of the knn model is about 80%."
   ]
  },
  {
   "cell_type": "code",
   "execution_count": 304,
   "id": "720a1739",
   "metadata": {},
   "outputs": [
    {
     "data": {
      "text/plain": [
       "GridSearchCV(cv=3, estimator=KNeighborsClassifier(),\n",
       "             param_grid={'n_neighbors': [1, 2, 3, 4, 5, 6], 'p': [2, 3],\n",
       "                         'weights': ['uniform', 'distance']})"
      ]
     },
     "execution_count": 304,
     "metadata": {},
     "output_type": "execute_result"
    }
   ],
   "source": [
    "params = {'n_neighbors': [1,2,3,4,5,6], 'weights' : ['uniform', 'distance'], 'p' :[2,3]}\n",
    "grid = GridSearchCV(KNeighborsClassifier(), params, cv = 3)\n",
    "grid.fit(X_train, y_train)"
   ]
  },
  {
   "cell_type": "code",
   "execution_count": 305,
   "id": "c37a9b1e",
   "metadata": {},
   "outputs": [
    {
     "data": {
      "text/plain": [
       "{'n_neighbors': 5, 'p': 2, 'weights': 'uniform'}"
      ]
     },
     "execution_count": 305,
     "metadata": {},
     "output_type": "execute_result"
    }
   ],
   "source": [
    "grid.best_params_"
   ]
  },
  {
   "cell_type": "code",
   "execution_count": 306,
   "id": "61c916bd",
   "metadata": {},
   "outputs": [],
   "source": [
    "knn = KNeighborsClassifier(n_neighbors = 5, p = 2, weights = 'uniform')"
   ]
  },
  {
   "cell_type": "code",
   "execution_count": 307,
   "id": "c978437c",
   "metadata": {},
   "outputs": [],
   "source": [
    "knn_scores = cross_val_score(knn, X_train, y_train, cv = 3)"
   ]
  },
  {
   "cell_type": "code",
   "execution_count": 308,
   "id": "bdc8abb6",
   "metadata": {},
   "outputs": [
    {
     "data": {
      "text/plain": [
       "array([0.78498294, 0.79863481, 0.81506849])"
      ]
     },
     "execution_count": 308,
     "metadata": {},
     "output_type": "execute_result"
    }
   ],
   "source": [
    "knn_scores"
   ]
  },
  {
   "cell_type": "code",
   "execution_count": 309,
   "id": "b9a22766",
   "metadata": {},
   "outputs": [
    {
     "data": {
      "text/plain": [
       "0.7995620801969859"
      ]
     },
     "execution_count": 309,
     "metadata": {},
     "output_type": "execute_result"
    }
   ],
   "source": [
    "knn_scores.mean()"
   ]
  },
  {
   "cell_type": "markdown",
   "id": "da756d00",
   "metadata": {},
   "source": [
    "The mean accuracy of knn model is about 80%."
   ]
  },
  {
   "cell_type": "code",
   "execution_count": 310,
   "id": "4e96e2c2",
   "metadata": {},
   "outputs": [
    {
     "data": {
      "text/plain": [
       "KNeighborsClassifier()"
      ]
     },
     "execution_count": 310,
     "metadata": {},
     "output_type": "execute_result"
    }
   ],
   "source": [
    "knn.fit(X_train, y_train)"
   ]
  },
  {
   "cell_type": "code",
   "execution_count": 311,
   "id": "90c52faa",
   "metadata": {},
   "outputs": [
    {
     "data": {
      "text/plain": [
       "array([1, 1, 1, 1, 1, 1, 0, 0, 0, 0, 0, 0, 0, 0, 0, 1, 0, 1, 1, 0, 0, 1,\n",
       "       0, 0, 0, 1, 0, 0, 0, 0, 0, 1, 1, 1, 0, 0, 0, 1, 0, 0, 1, 1, 0, 0,\n",
       "       1, 0, 1, 0, 1, 1, 1, 0, 0, 1, 1, 0, 1, 0, 0, 0, 1, 0, 0, 1, 1, 1,\n",
       "       0, 0, 0, 0, 0, 0, 1, 0, 0, 1, 0, 1, 0, 0, 1, 0, 0, 1, 0, 0, 1, 0,\n",
       "       1, 1, 1, 0, 0, 0, 0, 0, 0, 1, 1, 1, 0, 0, 0, 0, 1, 1, 0, 1, 1, 0,\n",
       "       0, 0, 1, 0, 1, 1, 1, 1, 0, 1, 1, 1, 0, 0, 0, 0, 1, 1, 0, 1, 1, 1,\n",
       "       0, 0, 1, 1, 1, 1, 0, 1, 1, 1, 1, 1, 0, 0, 0, 0, 0, 1, 0, 0, 1, 0,\n",
       "       0, 1, 1, 1, 1, 1, 0, 0, 0, 0, 1, 1, 1, 1, 0, 1, 0, 0, 0, 0, 1, 0,\n",
       "       0, 1, 1, 0, 1, 1, 0, 1, 1, 0, 1, 1, 0, 1, 0, 1, 0, 0, 0, 0, 1, 1,\n",
       "       0, 0, 1, 1, 0, 1, 1, 0, 0, 1, 1, 1, 0, 1, 0, 0, 0, 1, 0, 0, 0, 0],\n",
       "      dtype=int64)"
      ]
     },
     "execution_count": 311,
     "metadata": {},
     "output_type": "execute_result"
    }
   ],
   "source": [
    "pred_test = knn.predict(X_test)\n",
    "pred_test"
   ]
  },
  {
   "cell_type": "code",
   "execution_count": 312,
   "id": "c9c07b28",
   "metadata": {},
   "outputs": [
    {
     "data": {
      "text/plain": [
       "<AxesSubplot:>"
      ]
     },
     "execution_count": 312,
     "metadata": {},
     "output_type": "execute_result"
    },
    {
     "data": {
      "image/png": "[encoded data removed]",
      "text/plain": [
       "<Figure size 432x288 with 2 Axes>"
      ]
     },
     "metadata": {
      "needs_background": "light"
     },
     "output_type": "display_data"
    }
   ],
   "source": [
    "cm = confusion_matrix(y_true = y_test, y_pred = pred_test, labels = [0, 1])\n",
    "df_cm = pd.DataFrame(cm, index = [i for i in ['True 0', 'True 1']], columns = [i for i in ['Pred 0', 'Pred 1']])\n",
    "sns.heatmap(df_cm, annot = True)"
   ]
  },
  {
   "cell_type": "code",
   "execution_count": 313,
   "id": "59586823",
   "metadata": {},
   "outputs": [
    {
     "name": "stdout",
     "output_type": "stream",
     "text": [
      "              precision    recall  f1-score   support\n",
      "\n",
      "           0       0.78      0.85      0.81       110\n",
      "           1       0.83      0.76      0.80       110\n",
      "\n",
      "    accuracy                           0.80       220\n",
      "   macro avg       0.81      0.80      0.80       220\n",
      "weighted avg       0.81      0.80      0.80       220\n",
      "\n"
     ]
    }
   ],
   "source": [
    "print(classification_report(y_true = y_test, y_pred = pred_test, labels = [0, 1]))"
   ]
  },
  {
   "cell_type": "markdown",
   "id": "17e32857",
   "metadata": {},
   "source": [
    "The average f1 score of knn model is about 80%."
   ]
  },
  {
   "cell_type": "code",
   "execution_count": 314,
   "id": "02cd5d49",
   "metadata": {},
   "outputs": [
    {
     "name": "stdout",
     "output_type": "stream",
     "text": [
      "Training accuracy: 0.856492027334852\n"
     ]
    }
   ],
   "source": [
    "print('Training accuracy:',knn.score(X_train, y_train))"
   ]
  },
  {
   "cell_type": "code",
   "execution_count": 315,
   "id": "94373655",
   "metadata": {},
   "outputs": [
    {
     "name": "stdout",
     "output_type": "stream",
     "text": [
      "Training accuracy: 0.8045454545454546\n"
     ]
    }
   ],
   "source": [
    "print('Training accuracy:',knn.score(X_test, y_test))"
   ]
  },
  {
   "cell_type": "markdown",
   "id": "fdad1254",
   "metadata": {},
   "source": [
    "This model is slightly overfit compared to other models."
   ]
  },
  {
   "cell_type": "code",
   "execution_count": 316,
   "id": "58a17ce4",
   "metadata": {},
   "outputs": [
    {
     "data": {
      "text/plain": [
       "{'lr': [0.7881548974943052, 0.7772727272727272, 0.78],\n",
       " 'svm': [0.7961275626423691, 0.8, 0.8],\n",
       " 'knn': [0.856492027334852, 0.8045454545454546, 0.8]}"
      ]
     },
     "execution_count": 316,
     "metadata": {},
     "output_type": "execute_result"
    }
   ],
   "source": [
    "o21_summary.update({'knn': [knn.score(X_train, y_train), knn.score(X_test, y_test), 0.80]})\n",
    "o21_summary"
   ]
  },
  {
   "cell_type": "markdown",
   "id": "1aec48a6",
   "metadata": {},
   "source": [
    "<i>GausianNB</i>"
   ]
  },
  {
   "cell_type": "code",
   "execution_count": 317,
   "id": "f42ad45d",
   "metadata": {},
   "outputs": [],
   "source": [
    "nb_scores = cross_val_score(GaussianNB(), X_train, y_train, cv = 3)"
   ]
  },
  {
   "cell_type": "code",
   "execution_count": 318,
   "id": "ba6b217d",
   "metadata": {},
   "outputs": [
    {
     "data": {
      "text/plain": [
       "array([0.75085324, 0.72354949, 0.78082192])"
      ]
     },
     "execution_count": 318,
     "metadata": {},
     "output_type": "execute_result"
    }
   ],
   "source": [
    "nb_scores"
   ]
  },
  {
   "cell_type": "code",
   "execution_count": 319,
   "id": "b1b03bcf",
   "metadata": {},
   "outputs": [
    {
     "data": {
      "text/plain": [
       "0.7517415493945485"
      ]
     },
     "execution_count": 319,
     "metadata": {},
     "output_type": "execute_result"
    }
   ],
   "source": [
    "nb_scores.mean()"
   ]
  },
  {
   "cell_type": "markdown",
   "id": "fd00a115",
   "metadata": {},
   "source": [
    "The average accuracy of this model is 75%."
   ]
  },
  {
   "cell_type": "code",
   "execution_count": 320,
   "id": "07af127a",
   "metadata": {},
   "outputs": [
    {
     "data": {
      "text/plain": [
       "GaussianNB()"
      ]
     },
     "execution_count": 320,
     "metadata": {},
     "output_type": "execute_result"
    }
   ],
   "source": [
    "nb = GaussianNB()\n",
    "nb.fit(X_train, y_train)"
   ]
  },
  {
   "cell_type": "code",
   "execution_count": 321,
   "id": "d30ab71d",
   "metadata": {},
   "outputs": [
    {
     "data": {
      "text/plain": [
       "array([1, 1, 1, 1, 1, 0, 0, 0, 0, 1, 0, 0, 0, 0, 1, 1, 0, 1, 0, 0, 0, 1,\n",
       "       0, 0, 0, 0, 0, 0, 1, 1, 0, 1, 1, 1, 0, 0, 0, 0, 0, 1, 1, 1, 0, 0,\n",
       "       0, 0, 1, 0, 1, 1, 1, 0, 0, 1, 0, 0, 1, 1, 1, 0, 1, 0, 0, 1, 1, 1,\n",
       "       0, 0, 0, 0, 0, 0, 1, 0, 0, 1, 0, 1, 0, 0, 0, 0, 0, 0, 0, 0, 1, 0,\n",
       "       1, 1, 0, 1, 0, 0, 0, 0, 0, 1, 1, 0, 0, 0, 1, 0, 1, 1, 1, 1, 1, 0,\n",
       "       0, 1, 1, 0, 1, 1, 1, 1, 0, 1, 1, 1, 0, 0, 0, 0, 1, 1, 0, 1, 1, 1,\n",
       "       0, 0, 1, 0, 1, 1, 0, 0, 1, 1, 1, 1, 0, 1, 0, 0, 0, 1, 0, 1, 1, 1,\n",
       "       0, 1, 1, 1, 1, 1, 0, 0, 0, 0, 1, 1, 0, 1, 0, 1, 0, 0, 0, 0, 1, 0,\n",
       "       0, 1, 0, 1, 1, 1, 1, 0, 1, 1, 1, 1, 0, 0, 0, 0, 0, 1, 0, 1, 1, 0,\n",
       "       0, 0, 1, 1, 0, 1, 0, 0, 0, 0, 1, 1, 0, 1, 0, 0, 0, 0, 0, 1, 0, 0],\n",
       "      dtype=int64)"
      ]
     },
     "execution_count": 321,
     "metadata": {},
     "output_type": "execute_result"
    }
   ],
   "source": [
    "pred_test = nb.predict(X_test)\n",
    "pred_test"
   ]
  },
  {
   "cell_type": "code",
   "execution_count": 322,
   "id": "9dfa5b5e",
   "metadata": {},
   "outputs": [
    {
     "data": {
      "text/plain": [
       "<AxesSubplot:>"
      ]
     },
     "execution_count": 322,
     "metadata": {},
     "output_type": "execute_result"
    },
    {
     "data": {
      "image/png": "[encoded data removed]",
      "text/plain": [
       "<Figure size 432x288 with 2 Axes>"
      ]
     },
     "metadata": {
      "needs_background": "light"
     },
     "output_type": "display_data"
    }
   ],
   "source": [
    "cm = confusion_matrix(y_true = y_test, y_pred = pred_test, labels = [0, 1])\n",
    "df_cm = pd.DataFrame(cm, index = [i for i in ['True 0', 'True 1']], columns = [i for i in ['Pred 0', 'Pred 1']])\n",
    "sns.heatmap(df_cm, annot = True)"
   ]
  },
  {
   "cell_type": "code",
   "execution_count": 323,
   "id": "12578244",
   "metadata": {},
   "outputs": [
    {
     "name": "stdout",
     "output_type": "stream",
     "text": [
      "              precision    recall  f1-score   support\n",
      "\n",
      "           0       0.77      0.84      0.80       110\n",
      "           1       0.82      0.75      0.78       110\n",
      "\n",
      "    accuracy                           0.79       220\n",
      "   macro avg       0.79      0.79      0.79       220\n",
      "weighted avg       0.79      0.79      0.79       220\n",
      "\n"
     ]
    }
   ],
   "source": [
    "print(classification_report(y_true = y_test, y_pred = pred_test, labels = [0, 1]))"
   ]
  },
  {
   "cell_type": "markdown",
   "id": "68b32990",
   "metadata": {},
   "source": [
    "The average f1 score of Naive Bayes model is about 79%."
   ]
  },
  {
   "cell_type": "code",
   "execution_count": 163,
   "id": "8da6d7f5",
   "metadata": {},
   "outputs": [
    {
     "name": "stdout",
     "output_type": "stream",
     "text": [
      "Training accuracy: 0.7665148063781321\n"
     ]
    }
   ],
   "source": [
    "print('Training accuracy:',nb.score(X_train, y_train))"
   ]
  },
  {
   "cell_type": "code",
   "execution_count": 165,
   "id": "58d973d6",
   "metadata": {},
   "outputs": [
    {
     "name": "stdout",
     "output_type": "stream",
     "text": [
      "Test accuracy: 0.7909090909090909\n"
     ]
    }
   ],
   "source": [
    "print('Test accuracy:',nb.score(X_test, y_test))"
   ]
  },
  {
   "cell_type": "markdown",
   "id": "69a3d0e7",
   "metadata": {},
   "source": [
    "This model performed better at test set than at train set."
   ]
  },
  {
   "cell_type": "code",
   "execution_count": 324,
   "id": "614273f6",
   "metadata": {},
   "outputs": [
    {
     "data": {
      "text/plain": [
       "{'lr': [0.7881548974943052, 0.7772727272727272, 0.78],\n",
       " 'svm': [0.7961275626423691, 0.8, 0.8],\n",
       " 'knn': [0.856492027334852, 0.8045454545454546, 0.8],\n",
       " 'nb': [0.7665148063781321, 0.7909090909090909, 0.79]}"
      ]
     },
     "execution_count": 324,
     "metadata": {},
     "output_type": "execute_result"
    }
   ],
   "source": [
    "o21_summary.update({'nb': [nb.score(X_train, y_train), nb.score(X_test, y_test), 0.79]})\n",
    "o21_summary"
   ]
  },
  {
   "cell_type": "markdown",
   "id": "6be3ddff",
   "metadata": {},
   "source": [
    "<i>Decision Tree Classifier</i>"
   ]
  },
  {
   "cell_type": "code",
   "execution_count": 325,
   "id": "64288e79",
   "metadata": {},
   "outputs": [],
   "source": [
    "dt_score = cross_val_score(DecisionTreeClassifier(random_state = 1), X_train, y_train, cv = 3)"
   ]
  },
  {
   "cell_type": "code",
   "execution_count": 326,
   "id": "9b834587",
   "metadata": {},
   "outputs": [
    {
     "data": {
      "text/plain": [
       "array([0.78156997, 0.79522184, 0.76369863])"
      ]
     },
     "execution_count": 326,
     "metadata": {},
     "output_type": "execute_result"
    }
   ],
   "source": [
    "dt_score"
   ]
  },
  {
   "cell_type": "code",
   "execution_count": 327,
   "id": "000a34f6",
   "metadata": {},
   "outputs": [
    {
     "data": {
      "text/plain": [
       "0.7801634796702355"
      ]
     },
     "execution_count": 327,
     "metadata": {},
     "output_type": "execute_result"
    }
   ],
   "source": [
    "dt_score.mean()"
   ]
  },
  {
   "cell_type": "markdown",
   "id": "35f9ac37",
   "metadata": {},
   "source": [
    "The average accuracy is about 78%."
   ]
  },
  {
   "cell_type": "code",
   "execution_count": 328,
   "id": "e0afcaf9",
   "metadata": {},
   "outputs": [
    {
     "data": {
      "text/plain": [
       "GridSearchCV(cv=3, estimator=DecisionTreeClassifier(random_state=1),\n",
       "             param_grid={'ccp_alpha': [0, 0.05, 0.1],\n",
       "                         'max_features': ['auto', 'sqrt', 'log2'],\n",
       "                         'min_samples_split': [2, 3]})"
      ]
     },
     "execution_count": 328,
     "metadata": {},
     "output_type": "execute_result"
    }
   ],
   "source": [
    "params = {'max_features' : ['auto', 'sqrt', 'log2'], 'ccp_alpha' : [0, 0.05, 0.1], 'min_samples_split' : [2,3]}\n",
    "grid = GridSearchCV(DecisionTreeClassifier(random_state = 1), params, cv = 3)\n",
    "grid.fit(X_train, y_train)"
   ]
  },
  {
   "cell_type": "code",
   "execution_count": 329,
   "id": "4ab75af8",
   "metadata": {},
   "outputs": [
    {
     "data": {
      "text/plain": [
       "{'ccp_alpha': 0, 'max_features': 'auto', 'min_samples_split': 2}"
      ]
     },
     "execution_count": 329,
     "metadata": {},
     "output_type": "execute_result"
    }
   ],
   "source": [
    "grid.best_params_"
   ]
  },
  {
   "cell_type": "code",
   "execution_count": 330,
   "id": "48708888",
   "metadata": {},
   "outputs": [
    {
     "data": {
      "text/plain": [
       "DecisionTreeClassifier(max_features='auto', random_state=1)"
      ]
     },
     "execution_count": 330,
     "metadata": {},
     "output_type": "execute_result"
    }
   ],
   "source": [
    "dt = DecisionTreeClassifier(random_state = 1, max_features = 'auto')\n",
    "dt.fit(X_train, y_train)"
   ]
  },
  {
   "cell_type": "code",
   "execution_count": 331,
   "id": "73670140",
   "metadata": {},
   "outputs": [
    {
     "data": {
      "text/plain": [
       "array([1, 1, 1, 1, 1, 1, 0, 0, 0, 0, 0, 0, 0, 1, 0, 1, 1, 0, 1, 0, 0, 1,\n",
       "       0, 1, 0, 1, 0, 0, 1, 1, 0, 1, 1, 1, 0, 0, 1, 1, 0, 1, 0, 1, 0, 0,\n",
       "       1, 0, 1, 0, 1, 1, 1, 0, 0, 1, 0, 0, 1, 0, 0, 0, 1, 0, 0, 1, 1, 1,\n",
       "       1, 1, 0, 0, 0, 0, 1, 0, 1, 1, 0, 1, 1, 1, 1, 0, 0, 1, 1, 0, 1, 0,\n",
       "       1, 1, 1, 0, 0, 0, 0, 0, 1, 0, 1, 1, 0, 0, 0, 0, 1, 1, 0, 0, 1, 0,\n",
       "       0, 0, 1, 0, 1, 1, 1, 1, 1, 1, 1, 1, 1, 0, 0, 0, 1, 1, 0, 0, 1, 1,\n",
       "       0, 0, 1, 1, 1, 1, 0, 1, 1, 1, 1, 1, 1, 1, 0, 0, 0, 1, 0, 0, 1, 0,\n",
       "       1, 0, 1, 1, 1, 0, 0, 0, 0, 0, 1, 1, 1, 1, 0, 0, 0, 0, 0, 0, 0, 0,\n",
       "       0, 1, 1, 1, 1, 1, 0, 0, 1, 1, 1, 1, 0, 0, 0, 1, 0, 1, 0, 1, 1, 1,\n",
       "       1, 0, 1, 1, 1, 1, 1, 0, 0, 1, 1, 1, 0, 1, 0, 1, 0, 1, 0, 1, 0, 0],\n",
       "      dtype=int64)"
      ]
     },
     "execution_count": 331,
     "metadata": {},
     "output_type": "execute_result"
    }
   ],
   "source": [
    "pred_test = dt.predict(X_test)\n",
    "pred_test"
   ]
  },
  {
   "cell_type": "code",
   "execution_count": 332,
   "id": "bc05c97c",
   "metadata": {},
   "outputs": [
    {
     "data": {
      "text/plain": [
       "<AxesSubplot:>"
      ]
     },
     "execution_count": 332,
     "metadata": {},
     "output_type": "execute_result"
    },
    {
     "data": {
      "image/png": "[encoded data removed]",
      "text/plain": [
       "<Figure size 432x288 with 2 Axes>"
      ]
     },
     "metadata": {
      "needs_background": "light"
     },
     "output_type": "display_data"
    }
   ],
   "source": [
    "cm = confusion_matrix(y_true = y_test, y_pred = pred_test, labels = [0, 1])\n",
    "df_cm = pd.DataFrame(cm, index = [i for i in ['True 0', 'True 1']], columns = [i for i in ['Pred 0', 'Pred 1']])\n",
    "sns.heatmap(df_cm, annot = True)"
   ]
  },
  {
   "cell_type": "code",
   "execution_count": 333,
   "id": "4f8f0b23",
   "metadata": {},
   "outputs": [
    {
     "name": "stdout",
     "output_type": "stream",
     "text": [
      "              precision    recall  f1-score   support\n",
      "\n",
      "           0       0.81      0.76      0.79       110\n",
      "           1       0.78      0.82      0.80       110\n",
      "\n",
      "    accuracy                           0.79       220\n",
      "   macro avg       0.79      0.79      0.79       220\n",
      "weighted avg       0.79      0.79      0.79       220\n",
      "\n"
     ]
    }
   ],
   "source": [
    "print(classification_report(y_true = y_test, y_pred = pred_test, labels = [0, 1]))"
   ]
  },
  {
   "cell_type": "markdown",
   "id": "48f61378",
   "metadata": {},
   "source": [
    "The average f1 score is about 79%."
   ]
  },
  {
   "cell_type": "code",
   "execution_count": 334,
   "id": "b38d2926",
   "metadata": {},
   "outputs": [
    {
     "name": "stdout",
     "output_type": "stream",
     "text": [
      "Training accuracy: 0.9817767653758542\n"
     ]
    }
   ],
   "source": [
    "print('Training accuracy:',dt.score(X_train, y_train))"
   ]
  },
  {
   "cell_type": "code",
   "execution_count": 335,
   "id": "dc6e0f32",
   "metadata": {},
   "outputs": [
    {
     "name": "stdout",
     "output_type": "stream",
     "text": [
      "Test accuracy: 0.7909090909090909\n"
     ]
    }
   ],
   "source": [
    "print('Test accuracy:',dt.score(X_test, y_test))"
   ]
  },
  {
   "cell_type": "markdown",
   "id": "b92dec46",
   "metadata": {},
   "source": [
    "This model is overfit."
   ]
  },
  {
   "cell_type": "code",
   "execution_count": 337,
   "id": "fe3a5f52",
   "metadata": {},
   "outputs": [
    {
     "data": {
      "text/plain": [
       "DecisionTreeClassifier(ccp_alpha=0.0011, random_state=1)"
      ]
     },
     "execution_count": 337,
     "metadata": {},
     "output_type": "execute_result"
    }
   ],
   "source": [
    "dt = DecisionTreeClassifier(random_state = 1, ccp_alpha = 0.0011)\n",
    "dt.fit(X_train, y_train)"
   ]
  },
  {
   "cell_type": "code",
   "execution_count": 338,
   "id": "8d5b9f23",
   "metadata": {},
   "outputs": [],
   "source": [
    "pred_test = dt.predict(X_test)"
   ]
  },
  {
   "cell_type": "code",
   "execution_count": 339,
   "id": "8a940935",
   "metadata": {},
   "outputs": [
    {
     "data": {
      "text/plain": [
       "<AxesSubplot:>"
      ]
     },
     "execution_count": 339,
     "metadata": {},
     "output_type": "execute_result"
    },
    {
     "data": {
      "image/png": "[encoded data removed]",
      "text/plain": [
       "<Figure size 432x288 with 2 Axes>"
      ]
     },
     "metadata": {
      "needs_background": "light"
     },
     "output_type": "display_data"
    }
   ],
   "source": [
    "cm = confusion_matrix(y_true = y_test, y_pred = pred_test, labels = [0, 1])\n",
    "df_cm = pd.DataFrame(cm, index = [i for i in ['True 0', 'True 1']], columns = [i for i in ['Pred 0', 'Pred 1']])\n",
    "sns.heatmap(df_cm, annot = True)"
   ]
  },
  {
   "cell_type": "code",
   "execution_count": 340,
   "id": "b4b05d81",
   "metadata": {},
   "outputs": [
    {
     "name": "stdout",
     "output_type": "stream",
     "text": [
      "              precision    recall  f1-score   support\n",
      "\n",
      "           0       0.84      0.75      0.79       110\n",
      "           1       0.78      0.85      0.81       110\n",
      "\n",
      "    accuracy                           0.80       220\n",
      "   macro avg       0.81      0.80      0.80       220\n",
      "weighted avg       0.81      0.80      0.80       220\n",
      "\n"
     ]
    }
   ],
   "source": [
    "print(classification_report(y_true = y_test, y_pred = pred_test, labels = [0, 1]))"
   ]
  },
  {
   "cell_type": "code",
   "execution_count": 341,
   "id": "467f1bc0",
   "metadata": {},
   "outputs": [
    {
     "name": "stdout",
     "output_type": "stream",
     "text": [
      "Training accuracy: 0.9498861047835991\n"
     ]
    }
   ],
   "source": [
    "print('Training accuracy:',dt.score(X_train, y_train))"
   ]
  },
  {
   "cell_type": "code",
   "execution_count": 342,
   "id": "73b51027",
   "metadata": {},
   "outputs": [
    {
     "name": "stdout",
     "output_type": "stream",
     "text": [
      "Test accuracy: 0.8045454545454546\n"
     ]
    }
   ],
   "source": [
    "print('Test accuracy:',dt.score(X_test, y_test))"
   ]
  },
  {
   "cell_type": "markdown",
   "id": "8aef21bf",
   "metadata": {},
   "source": [
    "The model is still overfit. Increasing pruning reduces train and test accuracies."
   ]
  },
  {
   "cell_type": "code",
   "execution_count": 343,
   "id": "49274022",
   "metadata": {},
   "outputs": [
    {
     "data": {
      "text/plain": [
       "{'lr': [0.7881548974943052, 0.7772727272727272, 0.78],\n",
       " 'svm': [0.7961275626423691, 0.8, 0.8],\n",
       " 'knn': [0.856492027334852, 0.8045454545454546, 0.8],\n",
       " 'nb': [0.7665148063781321, 0.7909090909090909, 0.79],\n",
       " 'dt': [0.9498861047835991, 0.8045454545454546, 0.8]}"
      ]
     },
     "execution_count": 343,
     "metadata": {},
     "output_type": "execute_result"
    }
   ],
   "source": [
    "o21_summary.update({'dt': [dt.score(X_train, y_train), dt.score(X_test, y_test), 0.80]})\n",
    "o21_summary"
   ]
  },
  {
   "cell_type": "markdown",
   "id": "7296ba94",
   "metadata": {},
   "source": [
    "<i>Random Forest</i>"
   ]
  },
  {
   "cell_type": "code",
   "execution_count": 344,
   "id": "690ddd36",
   "metadata": {},
   "outputs": [],
   "source": [
    "rf_scores = cross_val_score(RandomForestClassifier(), X_train, y_train, cv = 3)"
   ]
  },
  {
   "cell_type": "code",
   "execution_count": 345,
   "id": "00ba72eb",
   "metadata": {},
   "outputs": [
    {
     "data": {
      "text/plain": [
       "array([0.80887372, 0.79863481, 0.8390411 ])"
      ]
     },
     "execution_count": 345,
     "metadata": {},
     "output_type": "execute_result"
    }
   ],
   "source": [
    "rf_scores"
   ]
  },
  {
   "cell_type": "code",
   "execution_count": 346,
   "id": "d7e0ad16",
   "metadata": {},
   "outputs": [
    {
     "data": {
      "text/plain": [
       "0.8155165427712064"
      ]
     },
     "execution_count": 346,
     "metadata": {},
     "output_type": "execute_result"
    }
   ],
   "source": [
    "rf_scores.mean()"
   ]
  },
  {
   "cell_type": "markdown",
   "id": "a1009b73",
   "metadata": {},
   "source": [
    "Random Forest model has an average accuracy of about 81%. This is the highest average accuracy yet."
   ]
  },
  {
   "cell_type": "code",
   "execution_count": 347,
   "id": "64f61028",
   "metadata": {},
   "outputs": [
    {
     "data": {
      "text/plain": [
       "GridSearchCV(cv=3,\n",
       "             estimator=RandomForestClassifier(oob_score=True, random_state=1),\n",
       "             param_grid={'max_features': ['auto', 'sqrt', 'log2'],\n",
       "                         'n_estimators': [100, 250, 500]})"
      ]
     },
     "execution_count": 347,
     "metadata": {},
     "output_type": "execute_result"
    }
   ],
   "source": [
    "params = {'n_estimators' : [100, 250, 500], 'max_features' : ['auto', 'sqrt', 'log2']}\n",
    "grid = GridSearchCV(RandomForestClassifier(random_state = 1, oob_score = True), params, cv = 3)\n",
    "grid.fit(X_train, y_train)"
   ]
  },
  {
   "cell_type": "code",
   "execution_count": 348,
   "id": "9fc54ca3",
   "metadata": {},
   "outputs": [
    {
     "data": {
      "text/plain": [
       "{'max_features': 'auto', 'n_estimators': 500}"
      ]
     },
     "execution_count": 348,
     "metadata": {},
     "output_type": "execute_result"
    }
   ],
   "source": [
    "grid.best_params_"
   ]
  },
  {
   "cell_type": "code",
   "execution_count": 349,
   "id": "cd954b50",
   "metadata": {},
   "outputs": [
    {
     "data": {
      "text/plain": [
       "RandomForestClassifier(n_estimators=500, oob_score=True, random_state=1)"
      ]
     },
     "execution_count": 349,
     "metadata": {},
     "output_type": "execute_result"
    }
   ],
   "source": [
    "rf = RandomForestClassifier(random_state = 1, oob_score = True, n_estimators = 500)\n",
    "rf.fit(X_train, y_train)"
   ]
  },
  {
   "cell_type": "code",
   "execution_count": 350,
   "id": "48cb7f98",
   "metadata": {},
   "outputs": [
    {
     "data": {
      "text/plain": [
       "array([1, 1, 1, 1, 1, 1, 0, 0, 0, 0, 0, 0, 0, 0, 0, 1, 1, 1, 1, 0, 0, 1,\n",
       "       0, 1, 1, 1, 0, 0, 1, 1, 0, 1, 1, 1, 0, 0, 0, 1, 0, 1, 1, 1, 0, 0,\n",
       "       1, 0, 1, 0, 1, 1, 1, 0, 0, 1, 0, 0, 1, 1, 0, 0, 1, 0, 0, 1, 1, 1,\n",
       "       1, 1, 0, 0, 0, 0, 1, 0, 0, 1, 0, 1, 1, 1, 0, 0, 0, 1, 0, 0, 1, 0,\n",
       "       1, 1, 1, 0, 0, 0, 0, 0, 0, 1, 1, 1, 0, 0, 1, 1, 1, 1, 0, 1, 1, 0,\n",
       "       0, 0, 1, 0, 1, 1, 1, 1, 1, 1, 1, 1, 0, 0, 0, 0, 1, 1, 0, 0, 1, 1,\n",
       "       0, 0, 1, 0, 1, 1, 0, 1, 1, 1, 1, 1, 0, 1, 0, 0, 0, 1, 0, 0, 1, 0,\n",
       "       0, 0, 1, 1, 1, 1, 0, 0, 0, 1, 1, 1, 1, 1, 0, 1, 0, 0, 0, 0, 1, 0,\n",
       "       0, 1, 1, 1, 1, 1, 0, 0, 1, 0, 1, 1, 0, 1, 0, 1, 0, 1, 0, 1, 1, 1,\n",
       "       0, 0, 1, 1, 1, 1, 1, 0, 0, 1, 1, 1, 0, 1, 0, 0, 0, 1, 0, 0, 0, 0],\n",
       "      dtype=int64)"
      ]
     },
     "execution_count": 350,
     "metadata": {},
     "output_type": "execute_result"
    }
   ],
   "source": [
    "pred_test = rf.predict(X_test)\n",
    "pred_test"
   ]
  },
  {
   "cell_type": "code",
   "execution_count": 351,
   "id": "8efab0e3",
   "metadata": {},
   "outputs": [
    {
     "data": {
      "text/plain": [
       "<AxesSubplot:>"
      ]
     },
     "execution_count": 351,
     "metadata": {},
     "output_type": "execute_result"
    },
    {
     "data": {
      "image/png": "[encoded data removed]",
      "text/plain": [
       "<Figure size 432x288 with 2 Axes>"
      ]
     },
     "metadata": {
      "needs_background": "light"
     },
     "output_type": "display_data"
    }
   ],
   "source": [
    "cm = confusion_matrix(y_true = y_test, y_pred = pred_test, labels = [0, 1])\n",
    "df_cm = pd.DataFrame(cm, index = [i for i in ['True 0', 'True 1']], columns = [i for i in ['Pred 0', 'Pred 1']])\n",
    "sns.heatmap(df_cm, annot = True)"
   ]
  },
  {
   "cell_type": "code",
   "execution_count": 352,
   "id": "47ba9470",
   "metadata": {},
   "outputs": [
    {
     "name": "stdout",
     "output_type": "stream",
     "text": [
      "              precision    recall  f1-score   support\n",
      "\n",
      "           0       0.87      0.83      0.85       110\n",
      "           1       0.83      0.87      0.85       110\n",
      "\n",
      "    accuracy                           0.85       220\n",
      "   macro avg       0.85      0.85      0.85       220\n",
      "weighted avg       0.85      0.85      0.85       220\n",
      "\n"
     ]
    }
   ],
   "source": [
    "print(classification_report(y_true = y_test, y_pred = pred_test, labels = [0, 1]))"
   ]
  },
  {
   "cell_type": "markdown",
   "id": "cb32b2c0",
   "metadata": {},
   "source": [
    "This model has an average f1 score of 85%. "
   ]
  },
  {
   "cell_type": "code",
   "execution_count": 353,
   "id": "4b38c025",
   "metadata": {},
   "outputs": [
    {
     "name": "stdout",
     "output_type": "stream",
     "text": [
      "Training accuracy: 0.9817767653758542\n"
     ]
    }
   ],
   "source": [
    "print('Training accuracy:',rf.score(X_train, y_train))"
   ]
  },
  {
   "cell_type": "code",
   "execution_count": 354,
   "id": "09ca0551",
   "metadata": {},
   "outputs": [
    {
     "name": "stdout",
     "output_type": "stream",
     "text": [
      "Testing accuracy: 0.85\n"
     ]
    }
   ],
   "source": [
    "print('Testing accuracy:',rf.score(X_test, y_test))"
   ]
  },
  {
   "cell_type": "markdown",
   "id": "3e01e5c7",
   "metadata": {},
   "source": [
    "The model is overfit."
   ]
  },
  {
   "cell_type": "code",
   "execution_count": 355,
   "id": "462dd6d7",
   "metadata": {},
   "outputs": [
    {
     "data": {
      "text/plain": [
       "RandomForestClassifier(ccp_alpha=0.0024, n_estimators=500, oob_score=True,\n",
       "                       random_state=1)"
      ]
     },
     "execution_count": 355,
     "metadata": {},
     "output_type": "execute_result"
    }
   ],
   "source": [
    "rf = RandomForestClassifier(random_state = 1, oob_score = True, ccp_alpha = 0.0024, n_estimators = 500)\n",
    "rf.fit(X_train, y_train)"
   ]
  },
  {
   "cell_type": "code",
   "execution_count": 356,
   "id": "7b5fb85d",
   "metadata": {},
   "outputs": [
    {
     "name": "stdout",
     "output_type": "stream",
     "text": [
      "Training accuracy: 0.8997722095671982\n"
     ]
    }
   ],
   "source": [
    "print('Training accuracy:',rf.score(X_train, y_train))"
   ]
  },
  {
   "cell_type": "code",
   "execution_count": 357,
   "id": "67319e1e",
   "metadata": {},
   "outputs": [
    {
     "name": "stdout",
     "output_type": "stream",
     "text": [
      "Training accuracy: 0.8318181818181818\n"
     ]
    }
   ],
   "source": [
    "print('Training accuracy:',rf.score(X_test, y_test))"
   ]
  },
  {
   "cell_type": "code",
   "execution_count": 358,
   "id": "b6941203",
   "metadata": {},
   "outputs": [],
   "source": [
    "pred_test = rf.predict(X_test)"
   ]
  },
  {
   "cell_type": "code",
   "execution_count": 359,
   "id": "1f23a496",
   "metadata": {},
   "outputs": [
    {
     "name": "stdout",
     "output_type": "stream",
     "text": [
      "              precision    recall  f1-score   support\n",
      "\n",
      "           0       0.82      0.85      0.83       110\n",
      "           1       0.84      0.82      0.83       110\n",
      "\n",
      "    accuracy                           0.83       220\n",
      "   macro avg       0.83      0.83      0.83       220\n",
      "weighted avg       0.83      0.83      0.83       220\n",
      "\n"
     ]
    }
   ],
   "source": [
    "print(classification_report(y_true = y_test, y_pred = pred_test, labels = [0, 1]))"
   ]
  },
  {
   "cell_type": "markdown",
   "id": "5cb2f05f",
   "metadata": {},
   "source": [
    "The model after pruning is less overfit and has an average f1-score of 83%"
   ]
  },
  {
   "cell_type": "code",
   "execution_count": 360,
   "id": "cb0e4b4d",
   "metadata": {},
   "outputs": [
    {
     "data": {
      "text/plain": [
       "{'lr': [0.7881548974943052, 0.7772727272727272, 0.78],\n",
       " 'svm': [0.7961275626423691, 0.8, 0.8],\n",
       " 'knn': [0.856492027334852, 0.8045454545454546, 0.8],\n",
       " 'nb': [0.7665148063781321, 0.7909090909090909, 0.79],\n",
       " 'dt': [0.9498861047835991, 0.8045454545454546, 0.8],\n",
       " 'rf': [0.8997722095671982, 0.8318181818181818, 0.83]}"
      ]
     },
     "execution_count": 360,
     "metadata": {},
     "output_type": "execute_result"
    }
   ],
   "source": [
    "o21_summary.update({'rf': [rf.score(X_train, y_train), rf.score(X_test, y_test), 0.83]})\n",
    "o21_summary"
   ]
  },
  {
   "cell_type": "markdown",
   "id": "ab7a1447",
   "metadata": {},
   "source": [
    "<i>Gradient Boost<i>"
   ]
  },
  {
   "cell_type": "code",
   "execution_count": 361,
   "id": "b973f4df",
   "metadata": {},
   "outputs": [],
   "source": [
    "gb_score = cross_val_score(GradientBoostingClassifier(random_state = 1), X_train, y_train, cv = 3)"
   ]
  },
  {
   "cell_type": "code",
   "execution_count": 362,
   "id": "c2f05e58",
   "metadata": {},
   "outputs": [
    {
     "data": {
      "text/plain": [
       "array([0.81569966, 0.81228669, 0.80821918])"
      ]
     },
     "execution_count": 362,
     "metadata": {},
     "output_type": "execute_result"
    }
   ],
   "source": [
    "gb_score"
   ]
  },
  {
   "cell_type": "code",
   "execution_count": 363,
   "id": "d0ee7723",
   "metadata": {},
   "outputs": [
    {
     "data": {
      "text/plain": [
       "0.8120685087350196"
      ]
     },
     "execution_count": 363,
     "metadata": {},
     "output_type": "execute_result"
    }
   ],
   "source": [
    "gb_score.mean()"
   ]
  },
  {
   "cell_type": "markdown",
   "id": "8797b2b6",
   "metadata": {},
   "source": [
    "Average accuracy of the Gradient Boosting model is about 81%."
   ]
  },
  {
   "cell_type": "code",
   "execution_count": 364,
   "id": "8bcbd858",
   "metadata": {},
   "outputs": [
    {
     "data": {
      "text/plain": [
       "GridSearchCV(cv=3, estimator=GradientBoostingClassifier(random_state=1),\n",
       "             param_grid={'learning_rate': [0.1, 0.15, 0.2],\n",
       "                         'n_estimators': [100, 200, 500]})"
      ]
     },
     "execution_count": 364,
     "metadata": {},
     "output_type": "execute_result"
    }
   ],
   "source": [
    "params = {'learning_rate': [0.1, 0.15, 0.2], 'n_estimators' : [100, 200, 500]}\n",
    "grid = GridSearchCV(GradientBoostingClassifier(random_state = 1), params, cv = 3)\n",
    "grid.fit(X_train, y_train)"
   ]
  },
  {
   "cell_type": "code",
   "execution_count": 365,
   "id": "1b352cee",
   "metadata": {},
   "outputs": [
    {
     "data": {
      "text/plain": [
       "{'learning_rate': 0.1, 'n_estimators': 500}"
      ]
     },
     "execution_count": 365,
     "metadata": {},
     "output_type": "execute_result"
    }
   ],
   "source": [
    "grid.best_params_"
   ]
  },
  {
   "cell_type": "code",
   "execution_count": 366,
   "id": "984b7f69",
   "metadata": {},
   "outputs": [
    {
     "data": {
      "text/plain": [
       "GradientBoostingClassifier(n_estimators=500, random_state=1)"
      ]
     },
     "execution_count": 366,
     "metadata": {},
     "output_type": "execute_result"
    }
   ],
   "source": [
    "gb = GradientBoostingClassifier(random_state = 1, n_estimators = 500)\n",
    "gb.fit(X_train, y_train)"
   ]
  },
  {
   "cell_type": "code",
   "execution_count": 367,
   "id": "9eb2b6f4",
   "metadata": {},
   "outputs": [
    {
     "data": {
      "text/plain": [
       "array([1, 1, 1, 1, 1, 1, 0, 0, 0, 1, 0, 0, 0, 0, 0, 1, 0, 1, 1, 0, 0, 1,\n",
       "       0, 1, 0, 0, 0, 0, 1, 1, 0, 1, 1, 1, 0, 0, 0, 1, 0, 0, 1, 1, 0, 0,\n",
       "       1, 0, 1, 0, 1, 1, 1, 0, 0, 1, 0, 0, 1, 0, 0, 0, 1, 0, 0, 1, 1, 1,\n",
       "       1, 1, 0, 0, 0, 0, 1, 0, 0, 1, 0, 1, 1, 0, 1, 0, 0, 1, 0, 0, 1, 0,\n",
       "       1, 1, 1, 0, 0, 0, 0, 0, 0, 1, 1, 1, 0, 0, 1, 0, 1, 1, 0, 1, 1, 0,\n",
       "       0, 0, 1, 1, 1, 1, 1, 1, 1, 1, 1, 1, 0, 0, 0, 0, 1, 1, 0, 0, 1, 1,\n",
       "       0, 0, 1, 0, 1, 1, 0, 1, 1, 1, 1, 1, 0, 1, 0, 0, 0, 1, 0, 0, 1, 0,\n",
       "       0, 1, 1, 1, 1, 1, 0, 0, 0, 0, 1, 1, 1, 1, 0, 1, 0, 0, 0, 0, 0, 0,\n",
       "       0, 1, 1, 0, 1, 1, 0, 0, 1, 0, 1, 1, 0, 1, 0, 1, 0, 1, 0, 1, 1, 1,\n",
       "       0, 0, 1, 1, 0, 1, 1, 0, 0, 1, 1, 1, 0, 1, 0, 0, 0, 1, 0, 0, 0, 0],\n",
       "      dtype=int64)"
      ]
     },
     "execution_count": 367,
     "metadata": {},
     "output_type": "execute_result"
    }
   ],
   "source": [
    "pred_test = gb.predict(X_test)\n",
    "pred_test"
   ]
  },
  {
   "cell_type": "code",
   "execution_count": 368,
   "id": "20be0b21",
   "metadata": {},
   "outputs": [
    {
     "data": {
      "text/plain": [
       "<AxesSubplot:>"
      ]
     },
     "execution_count": 368,
     "metadata": {},
     "output_type": "execute_result"
    },
    {
     "data": {
      "image/png": "[encoded data removed]",
      "text/plain": [
       "<Figure size 432x288 with 2 Axes>"
      ]
     },
     "metadata": {
      "needs_background": "light"
     },
     "output_type": "display_data"
    }
   ],
   "source": [
    "cm = confusion_matrix(y_true = y_test, y_pred = pred_test, labels = [0, 1])\n",
    "df_cm = pd.DataFrame(cm, index = [i for i in ['True 0', 'True 1']], columns = [i for i in ['Pred 0', 'Pred 1']])\n",
    "sns.heatmap(df_cm, annot = True)"
   ]
  },
  {
   "cell_type": "code",
   "execution_count": 369,
   "id": "83c54bb6",
   "metadata": {},
   "outputs": [
    {
     "name": "stdout",
     "output_type": "stream",
     "text": [
      "              precision    recall  f1-score   support\n",
      "\n",
      "           0       0.86      0.87      0.86       110\n",
      "           1       0.87      0.85      0.86       110\n",
      "\n",
      "    accuracy                           0.86       220\n",
      "   macro avg       0.86      0.86      0.86       220\n",
      "weighted avg       0.86      0.86      0.86       220\n",
      "\n"
     ]
    }
   ],
   "source": [
    "print(classification_report(y_true = y_test, y_pred = pred_test, labels = [0, 1]))"
   ]
  },
  {
   "cell_type": "markdown",
   "id": "08d3971b",
   "metadata": {},
   "source": [
    "The gradient boosting model has an average f1 score of 86%."
   ]
  },
  {
   "cell_type": "code",
   "execution_count": 372,
   "id": "a1467119",
   "metadata": {},
   "outputs": [
    {
     "name": "stdout",
     "output_type": "stream",
     "text": [
      "Training accuracy: 0.9612756264236902\n"
     ]
    }
   ],
   "source": [
    "print('Training accuracy:',gb.score(X_train, y_train))"
   ]
  },
  {
   "cell_type": "code",
   "execution_count": 373,
   "id": "eeac37bb",
   "metadata": {},
   "outputs": [
    {
     "name": "stdout",
     "output_type": "stream",
     "text": [
      "Testing accuracy: 0.8636363636363636\n"
     ]
    }
   ],
   "source": [
    "print('Testing accuracy:',gb.score(X_test, y_test))"
   ]
  },
  {
   "cell_type": "code",
   "execution_count": 374,
   "id": "50661b7a",
   "metadata": {},
   "outputs": [
    {
     "data": {
      "text/plain": [
       "{'lr': [0.7881548974943052, 0.7772727272727272, 0.78],\n",
       " 'svm': [0.7961275626423691, 0.8, 0.8],\n",
       " 'knn': [0.856492027334852, 0.8045454545454546, 0.8],\n",
       " 'nb': [0.7665148063781321, 0.7909090909090909, 0.79],\n",
       " 'dt': [0.9498861047835991, 0.8045454545454546, 0.8],\n",
       " 'rf': [0.8997722095671982, 0.8318181818181818, 0.83],\n",
       " 'gb': [0.9612756264236902, 0.8636363636363636, 0.86]}"
      ]
     },
     "execution_count": 374,
     "metadata": {},
     "output_type": "execute_result"
    }
   ],
   "source": [
    "o21_summary.update({'gb': [gb.score(X_train, y_train), gb.score(X_test, y_test), 0.86]})\n",
    "o21_summary"
   ]
  },
  {
   "cell_type": "markdown",
   "id": "16f4e09b",
   "metadata": {},
   "source": [
    "<i>XGBoost Classifier</i>"
   ]
  },
  {
   "cell_type": "code",
   "execution_count": 375,
   "id": "1076c7bf",
   "metadata": {},
   "outputs": [
    {
     "data": {
      "text/plain": [
       "XGBClassifier(base_score=0.5, booster='gbtree', colsample_bylevel=1,\n",
       "              colsample_bynode=1, colsample_bytree=1, enable_categorical=False,\n",
       "              eval_metric='logloss', gamma=0, gpu_id=-1, importance_type=None,\n",
       "              interaction_constraints='', learning_rate=0.300000012,\n",
       "              max_delta_step=0, max_depth=6, min_child_weight=1, missing=nan,\n",
       "              monotone_constraints='()', n_estimators=100, n_jobs=12,\n",
       "              num_parallel_tree=1, predictor='auto', random_state=0,\n",
       "              reg_alpha=0, reg_lambda=1, scale_pos_weight=1, subsample=1,\n",
       "              tree_method='exact', use_label_encoder=False,\n",
       "              validate_parameters=1, verbosity=None)"
      ]
     },
     "execution_count": 375,
     "metadata": {},
     "output_type": "execute_result"
    }
   ],
   "source": [
    "xgb = XGBClassifier(use_label_encoder = False, eval_metric = 'logloss')\n",
    "xgb.fit(X_train, y_train)"
   ]
  },
  {
   "cell_type": "code",
   "execution_count": 376,
   "id": "031e3ec5",
   "metadata": {},
   "outputs": [
    {
     "data": {
      "text/plain": [
       "array([1, 1, 1, 1, 1, 1, 0, 0, 0, 0, 0, 0, 0, 0, 0, 1, 0, 1, 1, 0, 0, 1,\n",
       "       0, 1, 0, 1, 0, 0, 1, 1, 0, 1, 1, 1, 0, 0, 0, 1, 0, 1, 0, 1, 0, 0,\n",
       "       1, 0, 1, 0, 1, 1, 1, 0, 0, 1, 0, 0, 1, 1, 1, 0, 1, 0, 0, 1, 1, 1,\n",
       "       1, 1, 0, 0, 0, 0, 1, 0, 0, 1, 0, 1, 1, 1, 1, 0, 0, 1, 0, 0, 1, 0,\n",
       "       1, 1, 1, 0, 0, 0, 0, 0, 0, 1, 1, 1, 0, 0, 1, 0, 1, 1, 0, 1, 1, 0,\n",
       "       0, 0, 1, 0, 1, 1, 1, 1, 1, 1, 1, 1, 0, 0, 0, 0, 1, 1, 0, 0, 1, 1,\n",
       "       0, 0, 1, 0, 1, 1, 0, 1, 1, 1, 1, 1, 0, 1, 0, 0, 0, 1, 0, 0, 1, 0,\n",
       "       0, 0, 1, 1, 1, 1, 0, 0, 0, 0, 1, 1, 1, 1, 0, 1, 0, 0, 0, 0, 0, 0,\n",
       "       0, 1, 1, 1, 1, 1, 0, 0, 1, 0, 1, 1, 0, 1, 0, 1, 0, 1, 0, 1, 1, 1,\n",
       "       0, 0, 1, 1, 0, 1, 1, 0, 0, 1, 1, 1, 0, 1, 0, 0, 0, 1, 0, 0, 0, 0])"
      ]
     },
     "execution_count": 376,
     "metadata": {},
     "output_type": "execute_result"
    }
   ],
   "source": [
    "pred_test = xgb.predict(X_test)\n",
    "pred_test"
   ]
  },
  {
   "cell_type": "code",
   "execution_count": 377,
   "id": "7be086e9",
   "metadata": {},
   "outputs": [
    {
     "data": {
      "text/plain": [
       "<AxesSubplot:>"
      ]
     },
     "execution_count": 377,
     "metadata": {},
     "output_type": "execute_result"
    },
    {
     "data": {
      "image/png": "[encoded data removed]",
      "text/plain": [
       "<Figure size 432x288 with 2 Axes>"
      ]
     },
     "metadata": {
      "needs_background": "light"
     },
     "output_type": "display_data"
    }
   ],
   "source": [
    "cm = confusion_matrix(y_true = y_test, y_pred = pred_test, labels = [0, 1])\n",
    "df_cm = pd.DataFrame(cm, index = [i for i in ['True 0', 'True 1']], columns = [i for i in ['Pred 0', 'Pred 1']])\n",
    "sns.heatmap(df_cm, annot = True)"
   ]
  },
  {
   "cell_type": "code",
   "execution_count": 378,
   "id": "c94a0eea",
   "metadata": {},
   "outputs": [
    {
     "name": "stdout",
     "output_type": "stream",
     "text": [
      "              precision    recall  f1-score   support\n",
      "\n",
      "           0       0.87      0.87      0.87       110\n",
      "           1       0.87      0.87      0.87       110\n",
      "\n",
      "    accuracy                           0.87       220\n",
      "   macro avg       0.87      0.87      0.87       220\n",
      "weighted avg       0.87      0.87      0.87       220\n",
      "\n"
     ]
    }
   ],
   "source": [
    "print(classification_report(y_true = y_test, y_pred = pred_test, labels = [0, 1]))"
   ]
  },
  {
   "cell_type": "markdown",
   "id": "e9a4293c",
   "metadata": {},
   "source": [
    "The gradient boost algorith has an average f1-score of about 87%."
   ]
  },
  {
   "cell_type": "code",
   "execution_count": 379,
   "id": "1ead0184",
   "metadata": {},
   "outputs": [
    {
     "name": "stdout",
     "output_type": "stream",
     "text": [
      "Training accuracy: 0.9760820045558086\n"
     ]
    }
   ],
   "source": [
    "print('Training accuracy:',xgb.score(X_train, y_train))"
   ]
  },
  {
   "cell_type": "code",
   "execution_count": 380,
   "id": "73d80001",
   "metadata": {},
   "outputs": [
    {
     "name": "stdout",
     "output_type": "stream",
     "text": [
      "Testing accuracy: 0.8727272727272727\n"
     ]
    }
   ],
   "source": [
    "print('Testing accuracy:',xgb.score(X_test, y_test))"
   ]
  },
  {
   "cell_type": "markdown",
   "id": "e8e988c7",
   "metadata": {},
   "source": [
    "This model is overfit but has the highest testing accuracy yet."
   ]
  },
  {
   "cell_type": "code",
   "execution_count": 381,
   "id": "3ede7cd5",
   "metadata": {},
   "outputs": [
    {
     "data": {
      "text/plain": [
       "{'lr': [0.7881548974943052, 0.7772727272727272, 0.78],\n",
       " 'svm': [0.7961275626423691, 0.8, 0.8],\n",
       " 'knn': [0.856492027334852, 0.8045454545454546, 0.8],\n",
       " 'nb': [0.7665148063781321, 0.7909090909090909, 0.79],\n",
       " 'dt': [0.9498861047835991, 0.8045454545454546, 0.8],\n",
       " 'rf': [0.8997722095671982, 0.8318181818181818, 0.83],\n",
       " 'gb': [0.9612756264236902, 0.8636363636363636, 0.86],\n",
       " 'xgb': [0.9760820045558086, 0.8727272727272727, 0.87]}"
      ]
     },
     "execution_count": 381,
     "metadata": {},
     "output_type": "execute_result"
    }
   ],
   "source": [
    "o21_summary.update({'xgb': [xgb.score(X_train, y_train), xgb.score(X_test, y_test), 0.87]})\n",
    "o21_summary"
   ]
  },
  {
   "cell_type": "markdown",
   "id": "ae4bf5f9",
   "metadata": {},
   "source": [
    "<i>Neural Network</i>"
   ]
  },
  {
   "cell_type": "code",
   "execution_count": 251,
   "id": "a0c55bbc",
   "metadata": {},
   "outputs": [
    {
     "data": {
      "text/plain": [
       "(878, 9)"
      ]
     },
     "execution_count": 251,
     "metadata": {},
     "output_type": "execute_result"
    }
   ],
   "source": [
    "X_train.shape"
   ]
  },
  {
   "cell_type": "code",
   "execution_count": 382,
   "id": "ab5a95f6",
   "metadata": {},
   "outputs": [],
   "source": [
    "nn = Sequential()\n",
    "nn.add(Input(shape = (X_train.shape[1],)))\n",
    "nn.add(Dense(units = 200, activation = 'relu', ))\n",
    "nn.add(Dropout(0.4))\n",
    "nn.add(Dense(units = 200, activation = 'relu'))\n",
    "nn.add(Dropout(0.4))\n",
    "nn.add(Dense(units = 100, activation = 'relu'))\n",
    "nn.add(Dropout(0.4))\n",
    "nn.add(Dense(units = 100, activation = 'relu'))\n",
    "nn.add(Dropout(0.4))\n",
    "nn.add(Dense(units = 10, activation = 'relu'))\n",
    "nn.add(Dropout(0.4))\n",
    "nn.add(Dense(units = 1, activation = 'sigmoid'))\n",
    "nn.compile(optimizer = 'adam', loss = 'binary_crossentropy', metrics = ['accuracy'])"
   ]
  },
  {
   "cell_type": "code",
   "execution_count": 253,
   "id": "1dbcaebe",
   "metadata": {},
   "outputs": [
    {
     "name": "stdout",
     "output_type": "stream",
     "text": [
      "Model: \"sequential\"\n",
      "_________________________________________________________________\n",
      "Layer (type)                 Output Shape              Param #   \n",
      "=================================================================\n",
      "dense (Dense)                (None, 200)               2000      \n",
      "_________________________________________________________________\n",
      "dropout (Dropout)            (None, 200)               0         \n",
      "_________________________________________________________________\n",
      "dense_1 (Dense)              (None, 200)               40200     \n",
      "_________________________________________________________________\n",
      "dropout_1 (Dropout)          (None, 200)               0         \n",
      "_________________________________________________________________\n",
      "dense_2 (Dense)              (None, 100)               20100     \n",
      "_________________________________________________________________\n",
      "dropout_2 (Dropout)          (None, 100)               0         \n",
      "_________________________________________________________________\n",
      "dense_3 (Dense)              (None, 100)               10100     \n",
      "_________________________________________________________________\n",
      "dropout_3 (Dropout)          (None, 100)               0         \n",
      "_________________________________________________________________\n",
      "dense_4 (Dense)              (None, 10)                1010      \n",
      "_________________________________________________________________\n",
      "dropout_4 (Dropout)          (None, 10)                0         \n",
      "_________________________________________________________________\n",
      "dense_5 (Dense)              (None, 1)                 11        \n",
      "=================================================================\n",
      "Total params: 73,421\n",
      "Trainable params: 73,421\n",
      "Non-trainable params: 0\n",
      "_________________________________________________________________\n"
     ]
    }
   ],
   "source": [
    "nn.summary()"
   ]
  },
  {
   "cell_type": "code",
   "execution_count": 254,
   "id": "146b7a1f",
   "metadata": {},
   "outputs": [
    {
     "name": "stdout",
     "output_type": "stream",
     "text": [
      "Epoch 1/20\n",
      "22/22 [==============================] - 1s 11ms/step - loss: 0.6854 - accuracy: 0.5627 - val_loss: 0.6497 - val_accuracy: 0.7159\n",
      "Epoch 2/20\n",
      "22/22 [==============================] - 0s 5ms/step - loss: 0.6440 - accuracy: 0.6154 - val_loss: 0.5673 - val_accuracy: 0.7557\n",
      "Epoch 3/20\n",
      "22/22 [==============================] - 0s 5ms/step - loss: 0.5709 - accuracy: 0.7066 - val_loss: 0.4905 - val_accuracy: 0.7557\n",
      "Epoch 4/20\n",
      "22/22 [==============================] - 0s 5ms/step - loss: 0.5688 - accuracy: 0.7308 - val_loss: 0.5073 - val_accuracy: 0.7614\n",
      "Epoch 5/20\n",
      "22/22 [==============================] - 0s 5ms/step - loss: 0.5143 - accuracy: 0.7578 - val_loss: 0.4759 - val_accuracy: 0.7614\n",
      "Epoch 6/20\n",
      "22/22 [==============================] - 0s 5ms/step - loss: 0.5263 - accuracy: 0.7806 - val_loss: 0.4792 - val_accuracy: 0.7273\n",
      "Epoch 7/20\n",
      "22/22 [==============================] - 0s 5ms/step - loss: 0.5201 - accuracy: 0.7621 - val_loss: 0.4801 - val_accuracy: 0.7500\n",
      "Epoch 8/20\n",
      "22/22 [==============================] - 0s 5ms/step - loss: 0.5177 - accuracy: 0.7621 - val_loss: 0.4753 - val_accuracy: 0.7557\n",
      "Epoch 9/20\n",
      "22/22 [==============================] - 0s 5ms/step - loss: 0.5336 - accuracy: 0.7607 - val_loss: 0.4704 - val_accuracy: 0.7443\n",
      "Epoch 10/20\n",
      "22/22 [==============================] - 0s 5ms/step - loss: 0.5158 - accuracy: 0.7764 - val_loss: 0.4669 - val_accuracy: 0.7670\n",
      "Epoch 11/20\n",
      "22/22 [==============================] - 0s 6ms/step - loss: 0.4908 - accuracy: 0.7792 - val_loss: 0.4573 - val_accuracy: 0.7670\n",
      "Epoch 12/20\n",
      "22/22 [==============================] - 0s 5ms/step - loss: 0.5008 - accuracy: 0.7678 - val_loss: 0.4684 - val_accuracy: 0.7557\n",
      "Epoch 13/20\n",
      "22/22 [==============================] - 0s 5ms/step - loss: 0.4905 - accuracy: 0.7806 - val_loss: 0.4539 - val_accuracy: 0.7614\n",
      "Epoch 14/20\n",
      "22/22 [==============================] - 0s 5ms/step - loss: 0.4884 - accuracy: 0.7792 - val_loss: 0.4543 - val_accuracy: 0.7614\n",
      "Epoch 15/20\n",
      "22/22 [==============================] - 0s 5ms/step - loss: 0.4883 - accuracy: 0.7863 - val_loss: 0.4583 - val_accuracy: 0.7557\n",
      "Epoch 16/20\n",
      "22/22 [==============================] - 0s 5ms/step - loss: 0.5148 - accuracy: 0.7764 - val_loss: 0.4706 - val_accuracy: 0.7557\n",
      "Epoch 17/20\n",
      "22/22 [==============================] - 0s 5ms/step - loss: 0.4757 - accuracy: 0.7792 - val_loss: 0.4563 - val_accuracy: 0.7727\n",
      "Epoch 18/20\n",
      "22/22 [==============================] - 0s 5ms/step - loss: 0.5109 - accuracy: 0.7892 - val_loss: 0.4616 - val_accuracy: 0.7557\n",
      "Epoch 19/20\n",
      "22/22 [==============================] - 0s 5ms/step - loss: 0.4807 - accuracy: 0.7835 - val_loss: 0.4616 - val_accuracy: 0.7443\n",
      "Epoch 20/20\n",
      "22/22 [==============================] - 0s 5ms/step - loss: 0.4754 - accuracy: 0.7863 - val_loss: 0.4534 - val_accuracy: 0.7614\n"
     ]
    }
   ],
   "source": [
    "history = nn.fit(X_train, y_train, validation_split = 0.2, batch_size = 32, epochs = 20)"
   ]
  },
  {
   "cell_type": "code",
   "execution_count": 255,
   "id": "dc61d9e4",
   "metadata": {},
   "outputs": [],
   "source": [
    "pred_test = nn.predict(X_test)"
   ]
  },
  {
   "cell_type": "code",
   "execution_count": 256,
   "id": "90083cf9",
   "metadata": {},
   "outputs": [],
   "source": [
    "pred_test = [1 if (val > 0.5) else 0 for val in pred_test]"
   ]
  },
  {
   "cell_type": "code",
   "execution_count": 257,
   "id": "a6f97790",
   "metadata": {},
   "outputs": [
    {
     "data": {
      "text/plain": [
       "<AxesSubplot:>"
      ]
     },
     "execution_count": 257,
     "metadata": {},
     "output_type": "execute_result"
    },
    {
     "data": {
      "image/png": "[encoded data removed]",
      "text/plain": [
       "<Figure size 432x288 with 2 Axes>"
      ]
     },
     "metadata": {
      "needs_background": "light"
     },
     "output_type": "display_data"
    }
   ],
   "source": [
    "cm = confusion_matrix(y_true = y_test, y_pred = pred_test, labels = [0, 1])\n",
    "df_cm = pd.DataFrame(cm, index = [i for i in ['True 0', 'True 1']], columns = [i for i in ['Pred 0', 'Pred 1']])\n",
    "sns.heatmap(df_cm, annot = True)"
   ]
  },
  {
   "cell_type": "code",
   "execution_count": 258,
   "id": "5a622c40",
   "metadata": {},
   "outputs": [
    {
     "name": "stdout",
     "output_type": "stream",
     "text": [
      "              precision    recall  f1-score   support\n",
      "\n",
      "           0       0.72      0.91      0.80       110\n",
      "           1       0.88      0.65      0.74       110\n",
      "\n",
      "    accuracy                           0.78       220\n",
      "   macro avg       0.80      0.78      0.77       220\n",
      "weighted avg       0.80      0.78      0.77       220\n",
      "\n"
     ]
    }
   ],
   "source": [
    "print(classification_report(y_true = y_test, y_pred = pred_test, labels = [0, 1]))"
   ]
  },
  {
   "cell_type": "markdown",
   "id": "382b4455",
   "metadata": {},
   "source": [
    "The neural network model has an average f1-score of 77%."
   ]
  },
  {
   "cell_type": "markdown",
   "id": "04c092c7",
   "metadata": {},
   "source": [
    "Its training accuracy is 78% and validation accuracy is about 76%. "
   ]
  },
  {
   "cell_type": "code",
   "execution_count": 383,
   "id": "485d860e",
   "metadata": {},
   "outputs": [
    {
     "data": {
      "text/plain": [
       "{'lr': [0.7881548974943052, 0.7772727272727272, 0.78],\n",
       " 'svm': [0.7961275626423691, 0.8, 0.8],\n",
       " 'knn': [0.856492027334852, 0.8045454545454546, 0.8],\n",
       " 'nb': [0.7665148063781321, 0.7909090909090909, 0.79],\n",
       " 'dt': [0.9498861047835991, 0.8045454545454546, 0.8],\n",
       " 'rf': [0.8997722095671982, 0.8318181818181818, 0.83],\n",
       " 'gb': [0.9612756264236902, 0.8636363636363636, 0.86],\n",
       " 'xgb': [0.9760820045558086, 0.8727272727272727, 0.87],\n",
       " 'nn': [0.78, 0.77, 0.78]}"
      ]
     },
     "execution_count": 383,
     "metadata": {},
     "output_type": "execute_result"
    }
   ],
   "source": [
    "o21_summary.update({'nn': [0.78, 0.77, 0.78]})\n",
    "o21_summary"
   ]
  },
  {
   "cell_type": "markdown",
   "id": "b1830ba3",
   "metadata": {},
   "source": [
    "#### Conclusion for option 2 sub 1"
   ]
  },
  {
   "cell_type": "code",
   "execution_count": 384,
   "id": "2405afa6",
   "metadata": {},
   "outputs": [],
   "source": [
    "o21_df = pd.DataFrame.from_dict(o21_summary, orient = 'index', columns = ['Training accuracy', 'Testing accuracy', 'f1 score'])"
   ]
  },
  {
   "cell_type": "code",
   "execution_count": 385,
   "id": "102531ab",
   "metadata": {},
   "outputs": [
    {
     "data": {
      "text/html": [
       "<div>\n",
       "<style scoped>\n",
       "    .dataframe tbody tr th:only-of-type {\n",
       "        vertical-align: middle;\n",
       "    }\n",
       "\n",
       "    .dataframe tbody tr th {\n",
       "        vertical-align: top;\n",
       "    }\n",
       "\n",
       "    .dataframe thead th {\n",
       "        text-align: right;\n",
       "    }\n",
       "</style>\n",
       "<table border=\"1\" class=\"dataframe\">\n",
       "  <thead>\n",
       "    <tr style=\"text-align: right;\">\n",
       "      <th></th>\n",
       "      <th>Training accuracy</th>\n",
       "      <th>Testing accuracy</th>\n",
       "      <th>f1 score</th>\n",
       "    </tr>\n",
       "  </thead>\n",
       "  <tbody>\n",
       "    <tr>\n",
       "      <th>lr</th>\n",
       "      <td>0.79</td>\n",
       "      <td>0.78</td>\n",
       "      <td>0.78</td>\n",
       "    </tr>\n",
       "    <tr>\n",
       "      <th>svm</th>\n",
       "      <td>0.80</td>\n",
       "      <td>0.80</td>\n",
       "      <td>0.80</td>\n",
       "    </tr>\n",
       "    <tr>\n",
       "      <th>knn</th>\n",
       "      <td>0.86</td>\n",
       "      <td>0.80</td>\n",
       "      <td>0.80</td>\n",
       "    </tr>\n",
       "    <tr>\n",
       "      <th>nb</th>\n",
       "      <td>0.77</td>\n",
       "      <td>0.79</td>\n",
       "      <td>0.79</td>\n",
       "    </tr>\n",
       "    <tr>\n",
       "      <th>dt</th>\n",
       "      <td>0.95</td>\n",
       "      <td>0.80</td>\n",
       "      <td>0.80</td>\n",
       "    </tr>\n",
       "    <tr>\n",
       "      <th>rf</th>\n",
       "      <td>0.90</td>\n",
       "      <td>0.83</td>\n",
       "      <td>0.83</td>\n",
       "    </tr>\n",
       "    <tr>\n",
       "      <th>gb</th>\n",
       "      <td>0.96</td>\n",
       "      <td>0.86</td>\n",
       "      <td>0.86</td>\n",
       "    </tr>\n",
       "    <tr>\n",
       "      <th>xgb</th>\n",
       "      <td>0.98</td>\n",
       "      <td>0.87</td>\n",
       "      <td>0.87</td>\n",
       "    </tr>\n",
       "    <tr>\n",
       "      <th>nn</th>\n",
       "      <td>0.78</td>\n",
       "      <td>0.77</td>\n",
       "      <td>0.78</td>\n",
       "    </tr>\n",
       "  </tbody>\n",
       "</table>\n",
       "</div>"
      ],
      "text/plain": [
       "     Training accuracy  Testing accuracy  f1 score\n",
       "lr                0.79              0.78      0.78\n",
       "svm               0.80              0.80      0.80\n",
       "knn               0.86              0.80      0.80\n",
       "nb                0.77              0.79      0.79\n",
       "dt                0.95              0.80      0.80\n",
       "rf                0.90              0.83      0.83\n",
       "gb                0.96              0.86      0.86\n",
       "xgb               0.98              0.87      0.87\n",
       "nn                0.78              0.77      0.78"
      ]
     },
     "execution_count": 385,
     "metadata": {},
     "output_type": "execute_result"
    }
   ],
   "source": [
    "o21_df.apply(lambda x : round(x,2))"
   ]
  },
  {
   "cell_type": "markdown",
   "id": "7a740c36",
   "metadata": {},
   "source": [
    "Since the models with highest f1 score are all overfit, XGBoost model can be chosen as the final model. It has a high test accuracy and f1-score."
   ]
  },
  {
   "cell_type": "markdown",
   "id": "789cc409",
   "metadata": {},
   "source": [
    "### Model building with Option 2 Sub 2"
   ]
  },
  {
   "cell_type": "code",
   "execution_count": 105,
   "id": "29223fcd",
   "metadata": {},
   "outputs": [
    {
     "data": {
      "text/html": [
       "<div>\n",
       "<style scoped>\n",
       "    .dataframe tbody tr th:only-of-type {\n",
       "        vertical-align: middle;\n",
       "    }\n",
       "\n",
       "    .dataframe tbody tr th {\n",
       "        vertical-align: top;\n",
       "    }\n",
       "\n",
       "    .dataframe thead th {\n",
       "        text-align: right;\n",
       "    }\n",
       "</style>\n",
       "<table border=\"1\" class=\"dataframe\">\n",
       "  <thead>\n",
       "    <tr style=\"text-align: right;\">\n",
       "      <th></th>\n",
       "      <th>Survived</th>\n",
       "      <th>Pclass</th>\n",
       "      <th>Sex</th>\n",
       "      <th>Age</th>\n",
       "      <th>SibSp</th>\n",
       "      <th>Parch</th>\n",
       "      <th>Fare</th>\n",
       "      <th>Embarked</th>\n",
       "      <th>ticket_code</th>\n",
       "      <th>ticket_num</th>\n",
       "    </tr>\n",
       "  </thead>\n",
       "  <tbody>\n",
       "    <tr>\n",
       "      <th>0</th>\n",
       "      <td>0</td>\n",
       "      <td>3</td>\n",
       "      <td>male</td>\n",
       "      <td>22.0</td>\n",
       "      <td>1</td>\n",
       "      <td>0</td>\n",
       "      <td>7.2500</td>\n",
       "      <td>S</td>\n",
       "      <td>a5</td>\n",
       "      <td>21171.0</td>\n",
       "    </tr>\n",
       "    <tr>\n",
       "      <th>1</th>\n",
       "      <td>1</td>\n",
       "      <td>1</td>\n",
       "      <td>female</td>\n",
       "      <td>38.0</td>\n",
       "      <td>1</td>\n",
       "      <td>0</td>\n",
       "      <td>71.2833</td>\n",
       "      <td>C</td>\n",
       "      <td>pc</td>\n",
       "      <td>17599.0</td>\n",
       "    </tr>\n",
       "    <tr>\n",
       "      <th>2</th>\n",
       "      <td>1</td>\n",
       "      <td>3</td>\n",
       "      <td>female</td>\n",
       "      <td>26.0</td>\n",
       "      <td>0</td>\n",
       "      <td>0</td>\n",
       "      <td>7.9250</td>\n",
       "      <td>S</td>\n",
       "      <td>stono2</td>\n",
       "      <td>3101282.0</td>\n",
       "    </tr>\n",
       "    <tr>\n",
       "      <th>3</th>\n",
       "      <td>1</td>\n",
       "      <td>1</td>\n",
       "      <td>female</td>\n",
       "      <td>35.0</td>\n",
       "      <td>1</td>\n",
       "      <td>0</td>\n",
       "      <td>53.1000</td>\n",
       "      <td>S</td>\n",
       "      <td></td>\n",
       "      <td>113803.0</td>\n",
       "    </tr>\n",
       "    <tr>\n",
       "      <th>4</th>\n",
       "      <td>0</td>\n",
       "      <td>3</td>\n",
       "      <td>male</td>\n",
       "      <td>35.0</td>\n",
       "      <td>0</td>\n",
       "      <td>0</td>\n",
       "      <td>8.0500</td>\n",
       "      <td>S</td>\n",
       "      <td></td>\n",
       "      <td>373450.0</td>\n",
       "    </tr>\n",
       "  </tbody>\n",
       "</table>\n",
       "</div>"
      ],
      "text/plain": [
       "   Survived  Pclass     Sex   Age  SibSp  Parch     Fare Embarked ticket_code  \\\n",
       "0         0       3    male  22.0      1      0   7.2500        S          a5   \n",
       "1         1       1  female  38.0      1      0  71.2833        C          pc   \n",
       "2         1       3  female  26.0      0      0   7.9250        S      stono2   \n",
       "3         1       1  female  35.0      1      0  53.1000        S               \n",
       "4         0       3    male  35.0      0      0   8.0500        S               \n",
       "\n",
       "   ticket_num  \n",
       "0     21171.0  \n",
       "1     17599.0  \n",
       "2   3101282.0  \n",
       "3    113803.0  \n",
       "4    373450.0  "
      ]
     },
     "execution_count": 105,
     "metadata": {},
     "output_type": "execute_result"
    }
   ],
   "source": [
    "train3 = train.copy(deep = True)\n",
    "train3.head()"
   ]
  },
  {
   "cell_type": "code",
   "execution_count": 106,
   "id": "b50a5e43",
   "metadata": {},
   "outputs": [],
   "source": [
    "#replacing all missing ticket_num values by -1\n",
    "train3['ticket_num'].fillna(-1, inplace = True)"
   ]
  },
  {
   "cell_type": "code",
   "execution_count": 107,
   "id": "76bb957a",
   "metadata": {},
   "outputs": [
    {
     "data": {
      "text/plain": [
       "array(['a5', 'pc', 'stono2', '', 'pp', 'ca', 'scparis', 'sca4', 'a4',\n",
       "       'sp', 'soc', 'wc', 'sotonoq', 'wep', 'c', 'sop', 'fa', 'line',\n",
       "       'fcc', 'swpp', 'scow', 'ppp', 'sc', 'scah', 'as', 'scahbasle',\n",
       "       'sopp', 'fc', 'sotono2', 'casoton'], dtype=object)"
      ]
     },
     "execution_count": 107,
     "metadata": {},
     "output_type": "execute_result"
    }
   ],
   "source": [
    "train['ticket_code'].unique()"
   ]
  },
  {
   "cell_type": "code",
   "execution_count": 108,
   "id": "61bb217c",
   "metadata": {},
   "outputs": [],
   "source": [
    "#replacing all '' empty strings in ticket_code by 'no_code'\n",
    "train3['ticket_code'] = train3['ticket_code'].apply(lambda x : 'no_code' if (x == '') else x)"
   ]
  },
  {
   "cell_type": "code",
   "execution_count": 109,
   "id": "d95baf91",
   "metadata": {},
   "outputs": [
    {
     "data": {
      "text/plain": [
       "array(['a5', 'pc', 'stono2', 'no_code', 'pp', 'ca', 'scparis', 'sca4',\n",
       "       'a4', 'sp', 'soc', 'wc', 'sotonoq', 'wep', 'c', 'sop', 'fa',\n",
       "       'line', 'fcc', 'swpp', 'scow', 'ppp', 'sc', 'scah', 'as',\n",
       "       'scahbasle', 'sopp', 'fc', 'sotono2', 'casoton'], dtype=object)"
      ]
     },
     "execution_count": 109,
     "metadata": {},
     "output_type": "execute_result"
    }
   ],
   "source": [
    "train3['ticket_code'].unique()"
   ]
  },
  {
   "cell_type": "code",
   "execution_count": 110,
   "id": "a26e05e5",
   "metadata": {},
   "outputs": [],
   "source": [
    "#label all unique ticket_code by numbers\n",
    "le = LabelEncoder()\n",
    "train3['ticket_code'] = le.fit_transform(train3['ticket_code'])"
   ]
  },
  {
   "cell_type": "code",
   "execution_count": 111,
   "id": "f92cb8b0",
   "metadata": {},
   "outputs": [],
   "source": [
    "#impute missing values in Age\n",
    "train3['Age'].fillna(train3['Age'].median(), inplace = True)"
   ]
  },
  {
   "cell_type": "code",
   "execution_count": 112,
   "id": "96561c88",
   "metadata": {},
   "outputs": [],
   "source": [
    "train3.drop([61, 829], axis = 0, inplace = True)"
   ]
  },
  {
   "cell_type": "code",
   "execution_count": 113,
   "id": "bc936a0d",
   "metadata": {},
   "outputs": [
    {
     "name": "stdout",
     "output_type": "stream",
     "text": [
      "<class 'pandas.core.frame.DataFrame'>\n",
      "Int64Index: 889 entries, 0 to 890\n",
      "Data columns (total 10 columns):\n",
      " #   Column       Non-Null Count  Dtype  \n",
      "---  ------       --------------  -----  \n",
      " 0   Survived     889 non-null    int64  \n",
      " 1   Pclass       889 non-null    int64  \n",
      " 2   Sex          889 non-null    object \n",
      " 3   Age          889 non-null    float64\n",
      " 4   SibSp        889 non-null    int64  \n",
      " 5   Parch        889 non-null    int64  \n",
      " 6   Fare         889 non-null    float64\n",
      " 7   Embarked     889 non-null    object \n",
      " 8   ticket_code  889 non-null    int32  \n",
      " 9   ticket_num   889 non-null    float64\n",
      "dtypes: float64(3), int32(1), int64(4), object(2)\n",
      "memory usage: 72.9+ KB\n"
     ]
    }
   ],
   "source": [
    "train3.info()"
   ]
  },
  {
   "cell_type": "markdown",
   "id": "b69e404e",
   "metadata": {},
   "source": [
    "Convert 'Sex' and 'Embarked' columns to type category"
   ]
  },
  {
   "cell_type": "code",
   "execution_count": 114,
   "id": "4280f536",
   "metadata": {},
   "outputs": [],
   "source": [
    "train3['Sex'] = train3['Sex'].astype('category')\n",
    "train3['Embarked'] = train3['Embarked'].astype('category')"
   ]
  },
  {
   "cell_type": "code",
   "execution_count": 115,
   "id": "ad40e7d0",
   "metadata": {},
   "outputs": [],
   "source": [
    "train3['Age'] = train3['Age'].astype('int64')"
   ]
  },
  {
   "cell_type": "code",
   "execution_count": 116,
   "id": "23498864",
   "metadata": {},
   "outputs": [
    {
     "name": "stdout",
     "output_type": "stream",
     "text": [
      "<class 'pandas.core.frame.DataFrame'>\n",
      "Int64Index: 889 entries, 0 to 890\n",
      "Data columns (total 10 columns):\n",
      " #   Column       Non-Null Count  Dtype   \n",
      "---  ------       --------------  -----   \n",
      " 0   Survived     889 non-null    int64   \n",
      " 1   Pclass       889 non-null    int64   \n",
      " 2   Sex          889 non-null    category\n",
      " 3   Age          889 non-null    int64   \n",
      " 4   SibSp        889 non-null    int64   \n",
      " 5   Parch        889 non-null    int64   \n",
      " 6   Fare         889 non-null    float64 \n",
      " 7   Embarked     889 non-null    category\n",
      " 8   ticket_code  889 non-null    int32   \n",
      " 9   ticket_num   889 non-null    float64 \n",
      "dtypes: category(2), float64(2), int32(1), int64(5)\n",
      "memory usage: 61.0 KB\n"
     ]
    }
   ],
   "source": [
    "train3.info()"
   ]
  },
  {
   "cell_type": "code",
   "execution_count": 117,
   "id": "b42a7f3b",
   "metadata": {},
   "outputs": [],
   "source": [
    "train3 = pd.get_dummies(train3, columns = ['Sex', 'Embarked'])"
   ]
  },
  {
   "cell_type": "code",
   "execution_count": 118,
   "id": "17618333",
   "metadata": {},
   "outputs": [],
   "source": [
    "train3.drop(['Sex_male'], axis = 1, inplace = True) #Do not need this column as it adds no new information"
   ]
  },
  {
   "cell_type": "code",
   "execution_count": 119,
   "id": "e770c2c4",
   "metadata": {},
   "outputs": [
    {
     "data": {
      "text/html": [
       "<div>\n",
       "<style scoped>\n",
       "    .dataframe tbody tr th:only-of-type {\n",
       "        vertical-align: middle;\n",
       "    }\n",
       "\n",
       "    .dataframe tbody tr th {\n",
       "        vertical-align: top;\n",
       "    }\n",
       "\n",
       "    .dataframe thead th {\n",
       "        text-align: right;\n",
       "    }\n",
       "</style>\n",
       "<table border=\"1\" class=\"dataframe\">\n",
       "  <thead>\n",
       "    <tr style=\"text-align: right;\">\n",
       "      <th></th>\n",
       "      <th>Survived</th>\n",
       "      <th>Pclass</th>\n",
       "      <th>Age</th>\n",
       "      <th>SibSp</th>\n",
       "      <th>Parch</th>\n",
       "      <th>Fare</th>\n",
       "      <th>ticket_code</th>\n",
       "      <th>ticket_num</th>\n",
       "      <th>Sex_female</th>\n",
       "      <th>Embarked_C</th>\n",
       "      <th>Embarked_Q</th>\n",
       "      <th>Embarked_S</th>\n",
       "    </tr>\n",
       "  </thead>\n",
       "  <tbody>\n",
       "    <tr>\n",
       "      <th>0</th>\n",
       "      <td>0</td>\n",
       "      <td>3</td>\n",
       "      <td>22</td>\n",
       "      <td>1</td>\n",
       "      <td>0</td>\n",
       "      <td>7.2500</td>\n",
       "      <td>1</td>\n",
       "      <td>21171.0</td>\n",
       "      <td>0</td>\n",
       "      <td>0</td>\n",
       "      <td>0</td>\n",
       "      <td>1</td>\n",
       "    </tr>\n",
       "    <tr>\n",
       "      <th>1</th>\n",
       "      <td>1</td>\n",
       "      <td>1</td>\n",
       "      <td>38</td>\n",
       "      <td>1</td>\n",
       "      <td>0</td>\n",
       "      <td>71.2833</td>\n",
       "      <td>11</td>\n",
       "      <td>17599.0</td>\n",
       "      <td>1</td>\n",
       "      <td>1</td>\n",
       "      <td>0</td>\n",
       "      <td>0</td>\n",
       "    </tr>\n",
       "    <tr>\n",
       "      <th>2</th>\n",
       "      <td>1</td>\n",
       "      <td>3</td>\n",
       "      <td>26</td>\n",
       "      <td>0</td>\n",
       "      <td>0</td>\n",
       "      <td>7.9250</td>\n",
       "      <td>26</td>\n",
       "      <td>3101282.0</td>\n",
       "      <td>1</td>\n",
       "      <td>0</td>\n",
       "      <td>0</td>\n",
       "      <td>1</td>\n",
       "    </tr>\n",
       "    <tr>\n",
       "      <th>3</th>\n",
       "      <td>1</td>\n",
       "      <td>1</td>\n",
       "      <td>35</td>\n",
       "      <td>1</td>\n",
       "      <td>0</td>\n",
       "      <td>53.1000</td>\n",
       "      <td>10</td>\n",
       "      <td>113803.0</td>\n",
       "      <td>1</td>\n",
       "      <td>0</td>\n",
       "      <td>0</td>\n",
       "      <td>1</td>\n",
       "    </tr>\n",
       "    <tr>\n",
       "      <th>4</th>\n",
       "      <td>0</td>\n",
       "      <td>3</td>\n",
       "      <td>35</td>\n",
       "      <td>0</td>\n",
       "      <td>0</td>\n",
       "      <td>8.0500</td>\n",
       "      <td>10</td>\n",
       "      <td>373450.0</td>\n",
       "      <td>0</td>\n",
       "      <td>0</td>\n",
       "      <td>0</td>\n",
       "      <td>1</td>\n",
       "    </tr>\n",
       "  </tbody>\n",
       "</table>\n",
       "</div>"
      ],
      "text/plain": [
       "   Survived  Pclass  Age  SibSp  Parch     Fare  ticket_code  ticket_num  \\\n",
       "0         0       3   22      1      0   7.2500            1     21171.0   \n",
       "1         1       1   38      1      0  71.2833           11     17599.0   \n",
       "2         1       3   26      0      0   7.9250           26   3101282.0   \n",
       "3         1       1   35      1      0  53.1000           10    113803.0   \n",
       "4         0       3   35      0      0   8.0500           10    373450.0   \n",
       "\n",
       "   Sex_female  Embarked_C  Embarked_Q  Embarked_S  \n",
       "0           0           0           0           1  \n",
       "1           1           1           0           0  \n",
       "2           1           0           0           1  \n",
       "3           1           0           0           1  \n",
       "4           0           0           0           1  "
      ]
     },
     "execution_count": 119,
     "metadata": {},
     "output_type": "execute_result"
    }
   ],
   "source": [
    "train3.head()"
   ]
  },
  {
   "cell_type": "code",
   "execution_count": 120,
   "id": "92d5329c",
   "metadata": {},
   "outputs": [
    {
     "name": "stdout",
     "output_type": "stream",
     "text": [
      "<class 'pandas.core.frame.DataFrame'>\n",
      "Int64Index: 889 entries, 0 to 890\n",
      "Data columns (total 12 columns):\n",
      " #   Column       Non-Null Count  Dtype  \n",
      "---  ------       --------------  -----  \n",
      " 0   Survived     889 non-null    int64  \n",
      " 1   Pclass       889 non-null    int64  \n",
      " 2   Age          889 non-null    int64  \n",
      " 3   SibSp        889 non-null    int64  \n",
      " 4   Parch        889 non-null    int64  \n",
      " 5   Fare         889 non-null    float64\n",
      " 6   ticket_code  889 non-null    int32  \n",
      " 7   ticket_num   889 non-null    float64\n",
      " 8   Sex_female   889 non-null    uint8  \n",
      " 9   Embarked_C   889 non-null    uint8  \n",
      " 10  Embarked_Q   889 non-null    uint8  \n",
      " 11  Embarked_S   889 non-null    uint8  \n",
      "dtypes: float64(2), int32(1), int64(5), uint8(4)\n",
      "memory usage: 62.5 KB\n"
     ]
    }
   ],
   "source": [
    "train3.info()"
   ]
  },
  {
   "cell_type": "markdown",
   "id": "7a6f8510",
   "metadata": {},
   "source": [
    "Setting up train and test data:"
   ]
  },
  {
   "cell_type": "code",
   "execution_count": 121,
   "id": "a7687aef",
   "metadata": {},
   "outputs": [],
   "source": [
    "X = train3.drop(['Survived'], axis = 1)\n",
    "y = train3['Survived']"
   ]
  },
  {
   "cell_type": "code",
   "execution_count": 122,
   "id": "0272bf80",
   "metadata": {},
   "outputs": [
    {
     "data": {
      "text/plain": [
       "0    549\n",
       "1    340\n",
       "Name: Survived, dtype: int64"
      ]
     },
     "execution_count": 122,
     "metadata": {},
     "output_type": "execute_result"
    }
   ],
   "source": [
    "y.value_counts()"
   ]
  },
  {
   "cell_type": "markdown",
   "id": "ba5bddf2",
   "metadata": {},
   "source": [
    "Undersampling will wipe off almost half of the data. Oversampling must be used. "
   ]
  },
  {
   "cell_type": "code",
   "execution_count": 123,
   "id": "916ca2fb",
   "metadata": {},
   "outputs": [],
   "source": [
    "#trying SMOTE oversampling\n",
    "over_sampler = SMOTE(random_state = 1)\n",
    "X_resampled, y_resampled  = over_sampler.fit_resample(X, y)"
   ]
  },
  {
   "cell_type": "code",
   "execution_count": 124,
   "id": "5054ad7c",
   "metadata": {},
   "outputs": [
    {
     "data": {
      "text/plain": [
       "((1098, 11), (1098,))"
      ]
     },
     "execution_count": 124,
     "metadata": {},
     "output_type": "execute_result"
    }
   ],
   "source": [
    "X_resampled.shape, y_resampled.shape"
   ]
  },
  {
   "cell_type": "code",
   "execution_count": 125,
   "id": "eb3d2e93",
   "metadata": {},
   "outputs": [
    {
     "data": {
      "text/plain": [
       "0    549\n",
       "1    549\n",
       "Name: Survived, dtype: int64"
      ]
     },
     "execution_count": 125,
     "metadata": {},
     "output_type": "execute_result"
    }
   ],
   "source": [
    "y_resampled.value_counts()"
   ]
  },
  {
   "cell_type": "code",
   "execution_count": 126,
   "id": "8f83c961",
   "metadata": {},
   "outputs": [],
   "source": [
    "scaler = MinMaxScaler()\n",
    "X_resampled = scaler.fit_transform(X_resampled)"
   ]
  },
  {
   "cell_type": "code",
   "execution_count": 127,
   "id": "b561b38c",
   "metadata": {},
   "outputs": [
    {
     "data": {
      "text/plain": [
       "array([1.        , 0.275     , 0.125     , 0.        , 0.01415106,\n",
       "       0.03448276, 0.00682677, 0.        , 0.        , 0.        ,\n",
       "       1.        ])"
      ]
     },
     "execution_count": 127,
     "metadata": {},
     "output_type": "execute_result"
    }
   ],
   "source": [
    "X_resampled[0]"
   ]
  },
  {
   "cell_type": "code",
   "execution_count": 128,
   "id": "128b86a3",
   "metadata": {},
   "outputs": [],
   "source": [
    "X_train, X_test, y_train, y_test = train_test_split(X_resampled, y_resampled, test_size = 0.2, random_state = 1, stratify = y_resampled)"
   ]
  },
  {
   "cell_type": "code",
   "execution_count": 129,
   "id": "59690206",
   "metadata": {},
   "outputs": [
    {
     "data": {
      "text/plain": [
       "((878, 11), (220, 11), (878,), (220,))"
      ]
     },
     "execution_count": 129,
     "metadata": {},
     "output_type": "execute_result"
    }
   ],
   "source": [
    "X_train.shape, X_test.shape, y_train.shape, y_test.shape"
   ]
  },
  {
   "cell_type": "markdown",
   "id": "831974d6",
   "metadata": {},
   "source": [
    "Algorithms to try:<br>\n",
    "-Logistic Regression <br>\n",
    "-SVM <br>\n",
    "-KNN <br>\n",
    "-Naive-Bayes<br>\n",
    "-Decision Tree Classifier <br>\n",
    "-Random Forest Classifier <br>\n",
    "-Gradient Boost classifier <br>\n",
    "-XGBoost<br>\n",
    "-NN\n"
   ]
  },
  {
   "cell_type": "markdown",
   "id": "357b22c4",
   "metadata": {},
   "source": [
    "<i>Logistic Regression:</i>"
   ]
  },
  {
   "cell_type": "code",
   "execution_count": 130,
   "id": "73b16101",
   "metadata": {},
   "outputs": [],
   "source": [
    "lr = LogisticRegression(random_state = 1, solver = 'liblinear') \n",
    "lr_scores = cross_val_score(lr, X_train, y_train, cv = 3)"
   ]
  },
  {
   "cell_type": "code",
   "execution_count": 131,
   "id": "7782730b",
   "metadata": {},
   "outputs": [
    {
     "data": {
      "text/plain": [
       "array([0.778157  , 0.76109215, 0.80479452])"
      ]
     },
     "execution_count": 131,
     "metadata": {},
     "output_type": "execute_result"
    }
   ],
   "source": [
    "lr_scores"
   ]
  },
  {
   "cell_type": "code",
   "execution_count": 132,
   "id": "bbd40512",
   "metadata": {},
   "outputs": [
    {
     "data": {
      "text/plain": [
       "0.7813478891018747"
      ]
     },
     "execution_count": 132,
     "metadata": {},
     "output_type": "execute_result"
    }
   ],
   "source": [
    "lr_scores.mean()"
   ]
  },
  {
   "cell_type": "markdown",
   "id": "23324d7a",
   "metadata": {},
   "source": [
    "The logistic regression model has an average accuracy of about 78%."
   ]
  },
  {
   "cell_type": "code",
   "execution_count": 133,
   "id": "c9328469",
   "metadata": {},
   "outputs": [],
   "source": [
    "lr.fit(X_train, y_train) \n",
    "pred_test = lr.predict(X_test)"
   ]
  },
  {
   "cell_type": "code",
   "execution_count": 134,
   "id": "a67d800b",
   "metadata": {},
   "outputs": [
    {
     "data": {
      "text/plain": [
       "array([1, 1, 1, 1, 1, 0, 0, 0, 0, 1, 0, 0, 0, 0, 0, 1, 0, 1, 0, 0, 0, 1,\n",
       "       0, 0, 0, 1, 0, 0, 1, 1, 0, 1, 1, 1, 0, 0, 0, 1, 0, 1, 1, 1, 0, 0,\n",
       "       0, 0, 1, 0, 1, 1, 1, 0, 0, 1, 0, 0, 1, 1, 1, 0, 1, 0, 0, 0, 1, 0,\n",
       "       0, 0, 0, 0, 0, 0, 1, 0, 0, 1, 0, 1, 0, 0, 0, 0, 0, 0, 0, 0, 0, 0,\n",
       "       1, 1, 0, 1, 0, 0, 0, 0, 0, 1, 1, 1, 0, 0, 1, 0, 1, 1, 1, 1, 1, 0,\n",
       "       1, 0, 1, 0, 1, 1, 1, 1, 1, 0, 1, 1, 0, 1, 1, 0, 1, 1, 0, 1, 1, 1,\n",
       "       0, 0, 1, 0, 1, 1, 0, 1, 1, 1, 1, 1, 0, 1, 0, 0, 0, 1, 0, 1, 1, 1,\n",
       "       0, 1, 1, 1, 1, 1, 0, 0, 0, 0, 0, 1, 1, 1, 0, 1, 0, 0, 0, 0, 1, 0,\n",
       "       0, 0, 0, 1, 0, 1, 0, 1, 1, 0, 1, 1, 0, 0, 0, 1, 0, 1, 0, 1, 1, 0,\n",
       "       1, 0, 1, 1, 0, 1, 1, 0, 0, 1, 1, 1, 0, 0, 0, 1, 0, 0, 0, 1, 0, 0],\n",
       "      dtype=int64)"
      ]
     },
     "execution_count": 134,
     "metadata": {},
     "output_type": "execute_result"
    }
   ],
   "source": [
    "pred_test"
   ]
  },
  {
   "cell_type": "code",
   "execution_count": 135,
   "id": "cbecaa73",
   "metadata": {},
   "outputs": [
    {
     "data": {
      "text/plain": [
       "<AxesSubplot:>"
      ]
     },
     "execution_count": 135,
     "metadata": {},
     "output_type": "execute_result"
    },
    {
     "data": {
      "image/png": "[encoded data removed]",
      "text/plain": [
       "<Figure size 432x288 with 2 Axes>"
      ]
     },
     "metadata": {
      "needs_background": "light"
     },
     "output_type": "display_data"
    }
   ],
   "source": [
    "cm = confusion_matrix(y_true = y_test, y_pred = pred_test, labels = [0, 1])\n",
    "df_cm = pd.DataFrame(cm, index = [i for i in ['True 0', 'True 1']], columns = [i for i in ['Pred 0', 'Pred 1']])\n",
    "sns.heatmap(df_cm, annot = True)"
   ]
  },
  {
   "cell_type": "code",
   "execution_count": 136,
   "id": "6dfd95b2",
   "metadata": {},
   "outputs": [
    {
     "name": "stdout",
     "output_type": "stream",
     "text": [
      "              precision    recall  f1-score   support\n",
      "\n",
      "           0       0.76      0.81      0.78       110\n",
      "           1       0.80      0.75      0.77       110\n",
      "\n",
      "    accuracy                           0.78       220\n",
      "   macro avg       0.78      0.78      0.78       220\n",
      "weighted avg       0.78      0.78      0.78       220\n",
      "\n"
     ]
    }
   ],
   "source": [
    "print(classification_report(y_true = y_test, y_pred = pred_test, labels = lr.classes_))"
   ]
  },
  {
   "cell_type": "markdown",
   "id": "ea50ef8b",
   "metadata": {},
   "source": [
    "According to the classification report, the model has an average f1-score of about 0.78"
   ]
  },
  {
   "cell_type": "code",
   "execution_count": 137,
   "id": "1a59b9c7",
   "metadata": {},
   "outputs": [
    {
     "name": "stdout",
     "output_type": "stream",
     "text": [
      "Training accuracy: 0.785876993166287\n"
     ]
    }
   ],
   "source": [
    "print('Training accuracy:',lr.score(X_train, y_train))"
   ]
  },
  {
   "cell_type": "code",
   "execution_count": 138,
   "id": "eec062c3",
   "metadata": {},
   "outputs": [
    {
     "name": "stdout",
     "output_type": "stream",
     "text": [
      "Testing accuracy: 0.7772727272727272\n"
     ]
    }
   ],
   "source": [
    "print('Testing accuracy:',lr.score(X_test, y_test))"
   ]
  },
  {
   "cell_type": "markdown",
   "id": "dcb027bc",
   "metadata": {},
   "source": [
    "The model is fairly balanced."
   ]
  },
  {
   "cell_type": "code",
   "execution_count": 139,
   "id": "fdc20998",
   "metadata": {},
   "outputs": [
    {
     "data": {
      "text/plain": [
       "{'lr': [0.785876993166287, 0.7772727272727272, 0.78]}"
      ]
     },
     "execution_count": 139,
     "metadata": {},
     "output_type": "execute_result"
    }
   ],
   "source": [
    "o22_summary = {'lr' : [lr.score(X_train, y_train), lr.score(X_test, y_test), 0.78]}\n",
    "o22_summary"
   ]
  },
  {
   "cell_type": "markdown",
   "id": "d9b8690f",
   "metadata": {},
   "source": [
    "<i>SVM</i>"
   ]
  },
  {
   "cell_type": "code",
   "execution_count": 140,
   "id": "b998079b",
   "metadata": {},
   "outputs": [],
   "source": [
    "svc = SVC(random_state = 1)\n",
    "svc_scores = cross_val_score(svc, X_train, y_train, cv = 3)"
   ]
  },
  {
   "cell_type": "code",
   "execution_count": 141,
   "id": "981fcfa7",
   "metadata": {},
   "outputs": [
    {
     "data": {
      "text/plain": [
       "array([0.778157  , 0.76791809, 0.79452055])"
      ]
     },
     "execution_count": 141,
     "metadata": {},
     "output_type": "execute_result"
    }
   ],
   "source": [
    "svc_scores"
   ]
  },
  {
   "cell_type": "code",
   "execution_count": 142,
   "id": "4d0724e7",
   "metadata": {},
   "outputs": [
    {
     "data": {
      "text/plain": [
       "0.780198544423146"
      ]
     },
     "execution_count": 142,
     "metadata": {},
     "output_type": "execute_result"
    }
   ],
   "source": [
    "svc_scores.mean()"
   ]
  },
  {
   "cell_type": "markdown",
   "id": "acacc891",
   "metadata": {},
   "source": [
    "Average svc accuracy is about 78%."
   ]
  },
  {
   "cell_type": "code",
   "execution_count": 154,
   "id": "f4c9a7b7",
   "metadata": {},
   "outputs": [
    {
     "data": {
      "text/plain": [
       "GridSearchCV(cv=3, estimator=SVC(random_state=1),\n",
       "             param_grid={'C': [0.8, 1, 1.2, 1.4], 'degree': [3, 5, 7],\n",
       "                         'kernel': ['linear', 'rbf', 'poly']})"
      ]
     },
     "execution_count": 154,
     "metadata": {},
     "output_type": "execute_result"
    }
   ],
   "source": [
    "params = {'C' : [0.8, 1, 1.2, 1.4], 'kernel' : ['linear', 'rbf', 'poly'], 'degree': [3, 5, 7]}\n",
    "grid = GridSearchCV(SVC(random_state = 1), params, cv = 3)\n",
    "grid.fit(X_train, y_train)"
   ]
  },
  {
   "cell_type": "code",
   "execution_count": 155,
   "id": "1855f59b",
   "metadata": {},
   "outputs": [
    {
     "data": {
      "text/plain": [
       "{'C': 1, 'degree': 7, 'kernel': 'poly'}"
      ]
     },
     "execution_count": 155,
     "metadata": {},
     "output_type": "execute_result"
    }
   ],
   "source": [
    "grid.best_params_"
   ]
  },
  {
   "cell_type": "code",
   "execution_count": 156,
   "id": "47b2acb1",
   "metadata": {},
   "outputs": [],
   "source": [
    "svc_scores = cross_val_score(SVC(C = 0.8, kernel = 'poly', degree = 7), X_train, y_train, cv = 3)"
   ]
  },
  {
   "cell_type": "code",
   "execution_count": 157,
   "id": "7fda14cb",
   "metadata": {},
   "outputs": [
    {
     "data": {
      "text/plain": [
       "array([0.80204778, 0.76791809, 0.80136986])"
      ]
     },
     "execution_count": 157,
     "metadata": {},
     "output_type": "execute_result"
    }
   ],
   "source": [
    "svc_scores"
   ]
  },
  {
   "cell_type": "code",
   "execution_count": 158,
   "id": "3081ec44",
   "metadata": {},
   "outputs": [
    {
     "data": {
      "text/plain": [
       "0.7904452444402886"
      ]
     },
     "execution_count": 158,
     "metadata": {},
     "output_type": "execute_result"
    }
   ],
   "source": [
    "svc_scores.mean()"
   ]
  },
  {
   "cell_type": "markdown",
   "id": "7f4f4fb0",
   "metadata": {},
   "source": [
    "The average accuracy is still about 79%."
   ]
  },
  {
   "cell_type": "code",
   "execution_count": 159,
   "id": "7bcbdb93",
   "metadata": {},
   "outputs": [
    {
     "data": {
      "text/plain": [
       "SVC(C=0.8, degree=11, kernel='poly')"
      ]
     },
     "execution_count": 159,
     "metadata": {},
     "output_type": "execute_result"
    }
   ],
   "source": [
    "svc = SVC(C = 0.8, kernel = 'poly', degree = 11)\n",
    "svc.fit(X_train, y_train)"
   ]
  },
  {
   "cell_type": "code",
   "execution_count": 160,
   "id": "b08d88b4",
   "metadata": {},
   "outputs": [],
   "source": [
    "pred_test = svc.predict(X_test)"
   ]
  },
  {
   "cell_type": "code",
   "execution_count": 161,
   "id": "32045cd9",
   "metadata": {},
   "outputs": [
    {
     "data": {
      "text/plain": [
       "<AxesSubplot:>"
      ]
     },
     "execution_count": 161,
     "metadata": {},
     "output_type": "execute_result"
    },
    {
     "data": {
      "image/png": "[encoded data removed]",
      "text/plain": [
       "<Figure size 432x288 with 2 Axes>"
      ]
     },
     "metadata": {
      "needs_background": "light"
     },
     "output_type": "display_data"
    }
   ],
   "source": [
    "cm = confusion_matrix(y_true = y_test, y_pred = pred_test, labels = [0, 1])\n",
    "df_cm = pd.DataFrame(cm, index = [i for i in ['True 0', 'True 1']], columns = [i for i in ['Pred 0', 'Pred 1']])\n",
    "sns.heatmap(df_cm, annot = True)"
   ]
  },
  {
   "cell_type": "code",
   "execution_count": 162,
   "id": "92c07a28",
   "metadata": {},
   "outputs": [
    {
     "name": "stdout",
     "output_type": "stream",
     "text": [
      "              precision    recall  f1-score   support\n",
      "\n",
      "           0       0.74      0.80      0.77       110\n",
      "           1       0.78      0.72      0.75       110\n",
      "\n",
      "    accuracy                           0.76       220\n",
      "   macro avg       0.76      0.76      0.76       220\n",
      "weighted avg       0.76      0.76      0.76       220\n",
      "\n"
     ]
    }
   ],
   "source": [
    "print(classification_report(y_true = y_test, y_pred = pred_test, labels = svc.classes_))"
   ]
  },
  {
   "cell_type": "markdown",
   "id": "e15377db",
   "metadata": {},
   "source": [
    "The average f1 score of the svc model is about 76%."
   ]
  },
  {
   "cell_type": "code",
   "execution_count": 163,
   "id": "a43d3fc6",
   "metadata": {},
   "outputs": [
    {
     "name": "stdout",
     "output_type": "stream",
     "text": [
      "Training accuracy: 0.8701594533029613\n"
     ]
    }
   ],
   "source": [
    "print('Training accuracy:',svc.score(X_train, y_train))"
   ]
  },
  {
   "cell_type": "code",
   "execution_count": 164,
   "id": "89783e0b",
   "metadata": {},
   "outputs": [
    {
     "name": "stdout",
     "output_type": "stream",
     "text": [
      "Test accuracy: 0.759090909090909\n"
     ]
    }
   ],
   "source": [
    "print('Test accuracy:',svc.score(X_test, y_test))"
   ]
  },
  {
   "cell_type": "markdown",
   "id": "0768298c",
   "metadata": {},
   "source": [
    "The model is overfit."
   ]
  },
  {
   "cell_type": "code",
   "execution_count": 165,
   "id": "b482d8c4",
   "metadata": {},
   "outputs": [
    {
     "data": {
      "text/plain": [
       "{'lr': [0.785876993166287, 0.7772727272727272, 0.78],\n",
       " 'svm': [0.8701594533029613, 0.759090909090909, 0.76]}"
      ]
     },
     "execution_count": 165,
     "metadata": {},
     "output_type": "execute_result"
    }
   ],
   "source": [
    "o22_summary.update({'svm' : [svc.score(X_train, y_train), svc.score(X_test, y_test), 0.76]})\n",
    "o22_summary"
   ]
  },
  {
   "cell_type": "markdown",
   "id": "934f1248",
   "metadata": {},
   "source": [
    "<i>KNN</i>"
   ]
  },
  {
   "cell_type": "code",
   "execution_count": 166,
   "id": "b80bd42a",
   "metadata": {},
   "outputs": [],
   "source": [
    "knn = KNeighborsClassifier()"
   ]
  },
  {
   "cell_type": "code",
   "execution_count": 167,
   "id": "8128a334",
   "metadata": {},
   "outputs": [],
   "source": [
    "knn_scores = cross_val_score(knn, X_train, y_train, cv = 3)"
   ]
  },
  {
   "cell_type": "code",
   "execution_count": 168,
   "id": "c2c10345",
   "metadata": {},
   "outputs": [
    {
     "data": {
      "text/plain": [
       "array([0.79180887, 0.7883959 , 0.7739726 ])"
      ]
     },
     "execution_count": 168,
     "metadata": {},
     "output_type": "execute_result"
    }
   ],
   "source": [
    "knn_scores"
   ]
  },
  {
   "cell_type": "code",
   "execution_count": 169,
   "id": "549363d7",
   "metadata": {},
   "outputs": [
    {
     "data": {
      "text/plain": [
       "0.7847257936322408"
      ]
     },
     "execution_count": 169,
     "metadata": {},
     "output_type": "execute_result"
    }
   ],
   "source": [
    "knn_scores.mean()"
   ]
  },
  {
   "cell_type": "markdown",
   "id": "e55985d3",
   "metadata": {},
   "source": [
    "The mean accuracy of the knn model is about 78%."
   ]
  },
  {
   "cell_type": "code",
   "execution_count": 170,
   "id": "4cd00e77",
   "metadata": {},
   "outputs": [
    {
     "data": {
      "text/plain": [
       "GridSearchCV(cv=3, estimator=KNeighborsClassifier(),\n",
       "             param_grid={'n_neighbors': [1, 2, 3, 4, 5, 6], 'p': [2, 3],\n",
       "                         'weights': ['uniform', 'distance']})"
      ]
     },
     "execution_count": 170,
     "metadata": {},
     "output_type": "execute_result"
    }
   ],
   "source": [
    "params = {'n_neighbors': [1,2,3,4,5,6], 'weights' : ['uniform', 'distance'], 'p' :[2,3]}\n",
    "grid = GridSearchCV(KNeighborsClassifier(), params, cv = 3)\n",
    "grid.fit(X_train, y_train)"
   ]
  },
  {
   "cell_type": "code",
   "execution_count": 171,
   "id": "9808afce",
   "metadata": {},
   "outputs": [
    {
     "data": {
      "text/plain": [
       "{'n_neighbors': 5, 'p': 2, 'weights': 'distance'}"
      ]
     },
     "execution_count": 171,
     "metadata": {},
     "output_type": "execute_result"
    }
   ],
   "source": [
    "grid.best_params_"
   ]
  },
  {
   "cell_type": "code",
   "execution_count": 172,
   "id": "995866bd",
   "metadata": {},
   "outputs": [],
   "source": [
    "knn = KNeighborsClassifier(n_neighbors = 5, p = 2, weights = 'distance')"
   ]
  },
  {
   "cell_type": "code",
   "execution_count": 173,
   "id": "2891aa20",
   "metadata": {},
   "outputs": [],
   "source": [
    "knn_scores = cross_val_score(knn, X_train, y_train, cv = 3)"
   ]
  },
  {
   "cell_type": "code",
   "execution_count": 174,
   "id": "7f6dd473",
   "metadata": {},
   "outputs": [
    {
     "data": {
      "text/plain": [
       "array([0.79522184, 0.778157  , 0.78082192])"
      ]
     },
     "execution_count": 174,
     "metadata": {},
     "output_type": "execute_result"
    }
   ],
   "source": [
    "knn_scores"
   ]
  },
  {
   "cell_type": "code",
   "execution_count": 175,
   "id": "f540dbb0",
   "metadata": {},
   "outputs": [
    {
     "data": {
      "text/plain": [
       "0.7847335857995543"
      ]
     },
     "execution_count": 175,
     "metadata": {},
     "output_type": "execute_result"
    }
   ],
   "source": [
    "knn_scores.mean()"
   ]
  },
  {
   "cell_type": "markdown",
   "id": "e814d1b3",
   "metadata": {},
   "source": [
    "The mean accuracy of knn model is about 78%."
   ]
  },
  {
   "cell_type": "code",
   "execution_count": 176,
   "id": "20eafd64",
   "metadata": {},
   "outputs": [
    {
     "data": {
      "text/plain": [
       "KNeighborsClassifier(weights='distance')"
      ]
     },
     "execution_count": 176,
     "metadata": {},
     "output_type": "execute_result"
    }
   ],
   "source": [
    "knn.fit(X_train, y_train)"
   ]
  },
  {
   "cell_type": "code",
   "execution_count": 177,
   "id": "68bd9092",
   "metadata": {},
   "outputs": [
    {
     "data": {
      "text/plain": [
       "array([1, 1, 1, 1, 1, 1, 1, 0, 0, 1, 1, 0, 0, 0, 0, 1, 0, 1, 0, 0, 0, 1,\n",
       "       0, 1, 0, 1, 0, 0, 0, 1, 0, 1, 1, 1, 1, 0, 1, 1, 0, 1, 0, 1, 0, 0,\n",
       "       1, 0, 1, 0, 1, 1, 1, 0, 0, 1, 1, 0, 1, 0, 1, 0, 1, 0, 0, 1, 0, 1,\n",
       "       0, 0, 0, 0, 0, 0, 1, 0, 0, 1, 0, 0, 1, 0, 0, 0, 0, 1, 0, 0, 0, 0,\n",
       "       1, 1, 1, 0, 0, 0, 0, 0, 0, 1, 1, 1, 0, 0, 0, 0, 1, 1, 0, 1, 1, 0,\n",
       "       0, 0, 1, 0, 1, 1, 1, 1, 0, 1, 1, 1, 0, 0, 0, 0, 1, 1, 0, 0, 1, 1,\n",
       "       0, 0, 0, 1, 1, 1, 0, 1, 1, 1, 1, 1, 0, 0, 0, 0, 0, 1, 0, 0, 1, 0,\n",
       "       1, 0, 1, 1, 1, 1, 0, 0, 0, 0, 0, 1, 1, 1, 0, 1, 0, 0, 1, 0, 1, 0,\n",
       "       0, 1, 1, 1, 0, 1, 0, 1, 1, 1, 1, 1, 0, 0, 0, 1, 0, 0, 0, 0, 1, 1,\n",
       "       0, 0, 1, 1, 1, 1, 0, 0, 0, 1, 1, 1, 0, 0, 0, 0, 0, 1, 0, 0, 0, 0],\n",
       "      dtype=int64)"
      ]
     },
     "execution_count": 177,
     "metadata": {},
     "output_type": "execute_result"
    }
   ],
   "source": [
    "pred_test = knn.predict(X_test)\n",
    "pred_test"
   ]
  },
  {
   "cell_type": "code",
   "execution_count": 178,
   "id": "41ca9896",
   "metadata": {},
   "outputs": [
    {
     "data": {
      "text/plain": [
       "<AxesSubplot:>"
      ]
     },
     "execution_count": 178,
     "metadata": {},
     "output_type": "execute_result"
    },
    {
     "data": {
      "image/png": "[encoded data removed]",
      "text/plain": [
       "<Figure size 432x288 with 2 Axes>"
      ]
     },
     "metadata": {
      "needs_background": "light"
     },
     "output_type": "display_data"
    }
   ],
   "source": [
    "cm = confusion_matrix(y_true = y_test, y_pred = pred_test, labels = [0, 1])\n",
    "df_cm = pd.DataFrame(cm, index = [i for i in ['True 0', 'True 1']], columns = [i for i in ['Pred 0', 'Pred 1']])\n",
    "sns.heatmap(df_cm, annot = True)"
   ]
  },
  {
   "cell_type": "code",
   "execution_count": 179,
   "id": "b020eec0",
   "metadata": {},
   "outputs": [
    {
     "name": "stdout",
     "output_type": "stream",
     "text": [
      "              precision    recall  f1-score   support\n",
      "\n",
      "           0       0.76      0.82      0.79       110\n",
      "           1       0.80      0.75      0.77       110\n",
      "\n",
      "    accuracy                           0.78       220\n",
      "   macro avg       0.78      0.78      0.78       220\n",
      "weighted avg       0.78      0.78      0.78       220\n",
      "\n"
     ]
    }
   ],
   "source": [
    "print(classification_report(y_true = y_test, y_pred = pred_test, labels = [0, 1]))"
   ]
  },
  {
   "cell_type": "markdown",
   "id": "74387325",
   "metadata": {},
   "source": [
    "The average f1 score of knn model is about 80%."
   ]
  },
  {
   "cell_type": "code",
   "execution_count": 180,
   "id": "6db7300e",
   "metadata": {},
   "outputs": [
    {
     "name": "stdout",
     "output_type": "stream",
     "text": [
      "Training accuracy: 0.9977220956719818\n"
     ]
    }
   ],
   "source": [
    "print('Training accuracy:',knn.score(X_train, y_train))"
   ]
  },
  {
   "cell_type": "code",
   "execution_count": 181,
   "id": "83cb6317",
   "metadata": {},
   "outputs": [
    {
     "name": "stdout",
     "output_type": "stream",
     "text": [
      "Training accuracy: 0.7818181818181819\n"
     ]
    }
   ],
   "source": [
    "print('Training accuracy:',knn.score(X_test, y_test))"
   ]
  },
  {
   "cell_type": "markdown",
   "id": "562c0b86",
   "metadata": {},
   "source": [
    "This model is overfit."
   ]
  },
  {
   "cell_type": "code",
   "execution_count": 183,
   "id": "3c67644a",
   "metadata": {},
   "outputs": [
    {
     "data": {
      "text/plain": [
       "{'lr': [0.785876993166287, 0.7772727272727272, 0.78],\n",
       " 'svm': [0.8701594533029613, 0.759090909090909, 0.76],\n",
       " 'knn': [0.9977220956719818, 0.7818181818181819, 0.78]}"
      ]
     },
     "execution_count": 183,
     "metadata": {},
     "output_type": "execute_result"
    }
   ],
   "source": [
    "o22_summary.update({'knn' : [knn.score(X_train, y_train), knn.score(X_test, y_test), 0.78]})\n",
    "o22_summary"
   ]
  },
  {
   "cell_type": "markdown",
   "id": "052cc9a3",
   "metadata": {},
   "source": [
    "<i>GausianNB</i>"
   ]
  },
  {
   "cell_type": "code",
   "execution_count": 184,
   "id": "8cdbd551",
   "metadata": {},
   "outputs": [],
   "source": [
    "nb_scores = cross_val_score(GaussianNB(), X_train, y_train, cv = 3)"
   ]
  },
  {
   "cell_type": "code",
   "execution_count": 185,
   "id": "d70db903",
   "metadata": {},
   "outputs": [
    {
     "data": {
      "text/plain": [
       "array([0.72696246, 0.71331058, 0.7739726 ])"
      ]
     },
     "execution_count": 185,
     "metadata": {},
     "output_type": "execute_result"
    }
   ],
   "source": [
    "nb_scores"
   ]
  },
  {
   "cell_type": "code",
   "execution_count": 186,
   "id": "82596799",
   "metadata": {},
   "outputs": [
    {
     "data": {
      "text/plain": [
       "0.7380818800941293"
      ]
     },
     "execution_count": 186,
     "metadata": {},
     "output_type": "execute_result"
    }
   ],
   "source": [
    "nb_scores.mean()"
   ]
  },
  {
   "cell_type": "markdown",
   "id": "63820aac",
   "metadata": {},
   "source": [
    "The average accuracy of this model is 73%."
   ]
  },
  {
   "cell_type": "code",
   "execution_count": 187,
   "id": "246e1192",
   "metadata": {},
   "outputs": [
    {
     "data": {
      "text/plain": [
       "GaussianNB()"
      ]
     },
     "execution_count": 187,
     "metadata": {},
     "output_type": "execute_result"
    }
   ],
   "source": [
    "nb = GaussianNB()\n",
    "nb.fit(X_train, y_train)"
   ]
  },
  {
   "cell_type": "code",
   "execution_count": 188,
   "id": "22eeecc2",
   "metadata": {},
   "outputs": [
    {
     "data": {
      "text/plain": [
       "array([1, 1, 1, 1, 1, 1, 0, 0, 0, 1, 0, 0, 0, 0, 0, 1, 1, 1, 1, 0, 0, 1,\n",
       "       0, 0, 0, 1, 0, 0, 1, 1, 0, 1, 1, 1, 0, 0, 0, 1, 0, 1, 0, 1, 0, 1,\n",
       "       0, 0, 1, 0, 1, 1, 1, 0, 0, 1, 1, 0, 1, 1, 1, 0, 1, 0, 0, 0, 1, 1,\n",
       "       0, 1, 0, 0, 0, 0, 1, 0, 0, 1, 0, 1, 0, 0, 1, 0, 1, 1, 0, 0, 0, 0,\n",
       "       1, 1, 0, 1, 0, 1, 0, 0, 0, 1, 1, 0, 0, 0, 1, 0, 1, 1, 1, 1, 1, 0,\n",
       "       0, 0, 1, 0, 1, 1, 1, 1, 1, 1, 1, 1, 0, 1, 0, 0, 1, 1, 0, 1, 1, 1,\n",
       "       0, 0, 1, 0, 1, 1, 0, 0, 1, 1, 1, 1, 0, 1, 0, 0, 0, 1, 0, 1, 1, 1,\n",
       "       0, 1, 1, 1, 1, 1, 0, 1, 0, 0, 0, 1, 1, 1, 0, 1, 0, 0, 0, 0, 1, 0,\n",
       "       0, 1, 0, 0, 0, 1, 1, 1, 1, 1, 1, 1, 0, 0, 0, 1, 0, 1, 0, 1, 1, 1,\n",
       "       0, 0, 1, 1, 0, 1, 1, 0, 0, 0, 1, 1, 0, 0, 0, 0, 0, 1, 0, 1, 0, 0],\n",
       "      dtype=int64)"
      ]
     },
     "execution_count": 188,
     "metadata": {},
     "output_type": "execute_result"
    }
   ],
   "source": [
    "pred_test = nb.predict(X_test)\n",
    "pred_test"
   ]
  },
  {
   "cell_type": "code",
   "execution_count": 189,
   "id": "9265ffb5",
   "metadata": {},
   "outputs": [
    {
     "data": {
      "text/plain": [
       "<AxesSubplot:>"
      ]
     },
     "execution_count": 189,
     "metadata": {},
     "output_type": "execute_result"
    },
    {
     "data": {
      "image/png": "[encoded data removed]",
      "text/plain": [
       "<Figure size 432x288 with 2 Axes>"
      ]
     },
     "metadata": {
      "needs_background": "light"
     },
     "output_type": "display_data"
    }
   ],
   "source": [
    "cm = confusion_matrix(y_true = y_test, y_pred = pred_test, labels = [0, 1])\n",
    "df_cm = pd.DataFrame(cm, index = [i for i in ['True 0', 'True 1']], columns = [i for i in ['Pred 0', 'Pred 1']])\n",
    "sns.heatmap(df_cm, annot = True)"
   ]
  },
  {
   "cell_type": "code",
   "execution_count": 190,
   "id": "1dbfcb2e",
   "metadata": {},
   "outputs": [
    {
     "name": "stdout",
     "output_type": "stream",
     "text": [
      "              precision    recall  f1-score   support\n",
      "\n",
      "           0       0.78      0.76      0.77       110\n",
      "           1       0.77      0.78      0.77       110\n",
      "\n",
      "    accuracy                           0.77       220\n",
      "   macro avg       0.77      0.77      0.77       220\n",
      "weighted avg       0.77      0.77      0.77       220\n",
      "\n"
     ]
    }
   ],
   "source": [
    "print(classification_report(y_true = y_test, y_pred = pred_test, labels = [0, 1]))"
   ]
  },
  {
   "cell_type": "markdown",
   "id": "939fef38",
   "metadata": {},
   "source": [
    "The average f1 score of Naive Bayes model is about 77%."
   ]
  },
  {
   "cell_type": "code",
   "execution_count": 191,
   "id": "3c9642f8",
   "metadata": {},
   "outputs": [
    {
     "name": "stdout",
     "output_type": "stream",
     "text": [
      "Training accuracy: 0.7403189066059226\n"
     ]
    }
   ],
   "source": [
    "print('Training accuracy:',nb.score(X_train, y_train))"
   ]
  },
  {
   "cell_type": "code",
   "execution_count": 192,
   "id": "ca9c3c45",
   "metadata": {},
   "outputs": [
    {
     "name": "stdout",
     "output_type": "stream",
     "text": [
      "Test accuracy: 0.7727272727272727\n"
     ]
    }
   ],
   "source": [
    "print('Test accuracy:',nb.score(X_test, y_test))"
   ]
  },
  {
   "cell_type": "markdown",
   "id": "a5349d64",
   "metadata": {},
   "source": [
    "This model performed better at test set than at train set."
   ]
  },
  {
   "cell_type": "code",
   "execution_count": 193,
   "id": "bfd90445",
   "metadata": {},
   "outputs": [
    {
     "data": {
      "text/plain": [
       "{'lr': [0.785876993166287, 0.7772727272727272, 0.78],\n",
       " 'svm': [0.8701594533029613, 0.759090909090909, 0.76],\n",
       " 'knn': [0.9977220956719818, 0.7818181818181819, 0.78],\n",
       " 'nb': [0.7403189066059226, 0.7727272727272727, 0.77]}"
      ]
     },
     "execution_count": 193,
     "metadata": {},
     "output_type": "execute_result"
    }
   ],
   "source": [
    "o22_summary.update({'nb' : [nb.score(X_train, y_train), nb.score(X_test, y_test), 0.77]})\n",
    "o22_summary"
   ]
  },
  {
   "cell_type": "markdown",
   "id": "cb01343f",
   "metadata": {},
   "source": [
    "<i>Decision Tree Classifier</i>"
   ]
  },
  {
   "cell_type": "code",
   "execution_count": 194,
   "id": "c021c384",
   "metadata": {},
   "outputs": [],
   "source": [
    "dt_score = cross_val_score(DecisionTreeClassifier(random_state = 1), X_train, y_train, cv = 3)"
   ]
  },
  {
   "cell_type": "code",
   "execution_count": 195,
   "id": "9c1ed6f5",
   "metadata": {},
   "outputs": [
    {
     "data": {
      "text/plain": [
       "array([0.74744027, 0.78498294, 0.78424658])"
      ]
     },
     "execution_count": 195,
     "metadata": {},
     "output_type": "execute_result"
    }
   ],
   "source": [
    "dt_score"
   ]
  },
  {
   "cell_type": "code",
   "execution_count": 196,
   "id": "d03c4adc",
   "metadata": {},
   "outputs": [
    {
     "data": {
      "text/plain": [
       "0.772223261177864"
      ]
     },
     "execution_count": 196,
     "metadata": {},
     "output_type": "execute_result"
    }
   ],
   "source": [
    "dt_score.mean()"
   ]
  },
  {
   "cell_type": "markdown",
   "id": "288fe219",
   "metadata": {},
   "source": [
    "The average accuracy is about 77%."
   ]
  },
  {
   "cell_type": "code",
   "execution_count": 197,
   "id": "d05ec163",
   "metadata": {},
   "outputs": [
    {
     "data": {
      "text/plain": [
       "GridSearchCV(cv=3, estimator=DecisionTreeClassifier(random_state=1),\n",
       "             param_grid={'ccp_alpha': [0, 0.05, 0.1],\n",
       "                         'max_features': ['auto', 'sqrt', 'log2'],\n",
       "                         'min_samples_split': [2, 3]})"
      ]
     },
     "execution_count": 197,
     "metadata": {},
     "output_type": "execute_result"
    }
   ],
   "source": [
    "params = {'max_features' : ['auto', 'sqrt', 'log2'], 'ccp_alpha' : [0, 0.05, 0.1], 'min_samples_split' : [2,3]}\n",
    "grid = GridSearchCV(DecisionTreeClassifier(random_state = 1), params, cv = 3)\n",
    "grid.fit(X_train, y_train)"
   ]
  },
  {
   "cell_type": "code",
   "execution_count": 198,
   "id": "3fb5d500",
   "metadata": {},
   "outputs": [
    {
     "data": {
      "text/plain": [
       "{'ccp_alpha': 0, 'max_features': 'auto', 'min_samples_split': 2}"
      ]
     },
     "execution_count": 198,
     "metadata": {},
     "output_type": "execute_result"
    }
   ],
   "source": [
    "grid.best_params_"
   ]
  },
  {
   "cell_type": "code",
   "execution_count": 199,
   "id": "f793a39e",
   "metadata": {},
   "outputs": [
    {
     "data": {
      "text/plain": [
       "DecisionTreeClassifier(max_features='auto', random_state=1)"
      ]
     },
     "execution_count": 199,
     "metadata": {},
     "output_type": "execute_result"
    }
   ],
   "source": [
    "dt = DecisionTreeClassifier(random_state = 1, max_features = 'auto')\n",
    "dt.fit(X_train, y_train)"
   ]
  },
  {
   "cell_type": "code",
   "execution_count": 200,
   "id": "c4e1786c",
   "metadata": {},
   "outputs": [
    {
     "data": {
      "text/plain": [
       "array([1, 1, 1, 1, 1, 0, 0, 0, 0, 0, 1, 0, 0, 0, 0, 1, 0, 1, 0, 0, 0, 1,\n",
       "       0, 1, 0, 1, 0, 0, 0, 1, 0, 1, 0, 1, 0, 0, 0, 1, 0, 1, 0, 1, 1, 0,\n",
       "       1, 0, 1, 0, 1, 1, 1, 0, 0, 1, 0, 0, 1, 1, 1, 0, 1, 1, 0, 1, 0, 0,\n",
       "       1, 1, 0, 0, 0, 0, 1, 0, 0, 1, 1, 0, 1, 0, 1, 0, 0, 1, 0, 0, 0, 0,\n",
       "       1, 1, 1, 1, 0, 0, 0, 0, 0, 1, 1, 1, 1, 1, 1, 0, 1, 1, 0, 1, 1, 0,\n",
       "       0, 0, 1, 0, 1, 1, 1, 1, 0, 1, 1, 1, 0, 0, 0, 0, 1, 1, 0, 0, 1, 1,\n",
       "       0, 0, 1, 1, 1, 1, 0, 1, 1, 1, 1, 1, 1, 1, 0, 0, 0, 1, 0, 0, 1, 0,\n",
       "       0, 0, 1, 1, 1, 0, 1, 0, 0, 0, 0, 1, 1, 1, 0, 1, 0, 0, 1, 0, 1, 0,\n",
       "       1, 0, 1, 1, 0, 1, 1, 0, 1, 1, 1, 1, 0, 1, 0, 1, 0, 1, 0, 0, 1, 0,\n",
       "       0, 0, 1, 1, 0, 1, 0, 0, 0, 0, 1, 1, 1, 0, 0, 0, 0, 1, 0, 0, 0, 0],\n",
       "      dtype=int64)"
      ]
     },
     "execution_count": 200,
     "metadata": {},
     "output_type": "execute_result"
    }
   ],
   "source": [
    "pred_test = dt.predict(X_test)\n",
    "pred_test"
   ]
  },
  {
   "cell_type": "code",
   "execution_count": 201,
   "id": "a046b2cb",
   "metadata": {},
   "outputs": [
    {
     "data": {
      "text/plain": [
       "<AxesSubplot:>"
      ]
     },
     "execution_count": 201,
     "metadata": {},
     "output_type": "execute_result"
    },
    {
     "data": {
      "image/png": "[encoded data removed]",
      "text/plain": [
       "<Figure size 432x288 with 2 Axes>"
      ]
     },
     "metadata": {
      "needs_background": "light"
     },
     "output_type": "display_data"
    }
   ],
   "source": [
    "cm = confusion_matrix(y_true = y_test, y_pred = pred_test, labels = [0, 1])\n",
    "df_cm = pd.DataFrame(cm, index = [i for i in ['True 0', 'True 1']], columns = [i for i in ['Pred 0', 'Pred 1']])\n",
    "sns.heatmap(df_cm, annot = True)"
   ]
  },
  {
   "cell_type": "code",
   "execution_count": 202,
   "id": "dbdb37aa",
   "metadata": {},
   "outputs": [
    {
     "name": "stdout",
     "output_type": "stream",
     "text": [
      "              precision    recall  f1-score   support\n",
      "\n",
      "           0       0.76      0.78      0.77       110\n",
      "           1       0.78      0.75      0.76       110\n",
      "\n",
      "    accuracy                           0.77       220\n",
      "   macro avg       0.77      0.77      0.77       220\n",
      "weighted avg       0.77      0.77      0.77       220\n",
      "\n"
     ]
    }
   ],
   "source": [
    "print(classification_report(y_true = y_test, y_pred = pred_test, labels = [0, 1]))"
   ]
  },
  {
   "cell_type": "markdown",
   "id": "14006889",
   "metadata": {},
   "source": [
    "The average f1 score is about 77%."
   ]
  },
  {
   "cell_type": "code",
   "execution_count": 203,
   "id": "6a3df3af",
   "metadata": {},
   "outputs": [
    {
     "name": "stdout",
     "output_type": "stream",
     "text": [
      "Training accuracy: 0.9977220956719818\n"
     ]
    }
   ],
   "source": [
    "print('Training accuracy:',dt.score(X_train, y_train))"
   ]
  },
  {
   "cell_type": "code",
   "execution_count": 204,
   "id": "a7d27295",
   "metadata": {},
   "outputs": [
    {
     "name": "stdout",
     "output_type": "stream",
     "text": [
      "Test accuracy: 0.7681818181818182\n"
     ]
    }
   ],
   "source": [
    "print('Test accuracy:',dt.score(X_test, y_test))"
   ]
  },
  {
   "cell_type": "markdown",
   "id": "9db8e4b4",
   "metadata": {},
   "source": [
    "This model is overfit."
   ]
  },
  {
   "cell_type": "code",
   "execution_count": 205,
   "id": "d71b9ada",
   "metadata": {},
   "outputs": [
    {
     "data": {
      "text/plain": [
       "DecisionTreeClassifier(ccp_alpha=0.0011, random_state=1)"
      ]
     },
     "execution_count": 205,
     "metadata": {},
     "output_type": "execute_result"
    }
   ],
   "source": [
    "dt = DecisionTreeClassifier(random_state = 1, ccp_alpha = 0.0011)\n",
    "dt.fit(X_train, y_train)"
   ]
  },
  {
   "cell_type": "code",
   "execution_count": 206,
   "id": "d22f830d",
   "metadata": {},
   "outputs": [],
   "source": [
    "pred_test = dt.predict(X_test)"
   ]
  },
  {
   "cell_type": "code",
   "execution_count": 207,
   "id": "0cd11e25",
   "metadata": {},
   "outputs": [
    {
     "data": {
      "text/plain": [
       "<AxesSubplot:>"
      ]
     },
     "execution_count": 207,
     "metadata": {},
     "output_type": "execute_result"
    },
    {
     "data": {
      "image/png": "[encoded data removed]",
      "text/plain": [
       "<Figure size 432x288 with 2 Axes>"
      ]
     },
     "metadata": {
      "needs_background": "light"
     },
     "output_type": "display_data"
    }
   ],
   "source": [
    "cm = confusion_matrix(y_true = y_test, y_pred = pred_test, labels = [0, 1])\n",
    "df_cm = pd.DataFrame(cm, index = [i for i in ['True 0', 'True 1']], columns = [i for i in ['Pred 0', 'Pred 1']])\n",
    "sns.heatmap(df_cm, annot = True)"
   ]
  },
  {
   "cell_type": "code",
   "execution_count": 208,
   "id": "770a0acd",
   "metadata": {},
   "outputs": [
    {
     "name": "stdout",
     "output_type": "stream",
     "text": [
      "              precision    recall  f1-score   support\n",
      "\n",
      "           0       0.76      0.79      0.77       110\n",
      "           1       0.78      0.75      0.76       110\n",
      "\n",
      "    accuracy                           0.77       220\n",
      "   macro avg       0.77      0.77      0.77       220\n",
      "weighted avg       0.77      0.77      0.77       220\n",
      "\n"
     ]
    }
   ],
   "source": [
    "print(classification_report(y_true = y_test, y_pred = pred_test, labels = [0, 1]))"
   ]
  },
  {
   "cell_type": "code",
   "execution_count": 209,
   "id": "cc113dc3",
   "metadata": {},
   "outputs": [
    {
     "name": "stdout",
     "output_type": "stream",
     "text": [
      "Training accuracy: 0.9646924829157175\n"
     ]
    }
   ],
   "source": [
    "print('Training accuracy:',dt.score(X_train, y_train))"
   ]
  },
  {
   "cell_type": "code",
   "execution_count": 210,
   "id": "90fd9062",
   "metadata": {},
   "outputs": [
    {
     "name": "stdout",
     "output_type": "stream",
     "text": [
      "Test accuracy: 0.7681818181818182\n"
     ]
    }
   ],
   "source": [
    "print('Test accuracy:',dt.score(X_test, y_test))"
   ]
  },
  {
   "cell_type": "markdown",
   "id": "398e499a",
   "metadata": {},
   "source": [
    "The model is still overfit. Increasing pruning reduces train and test accuracies."
   ]
  },
  {
   "cell_type": "code",
   "execution_count": 211,
   "id": "4d48fb06",
   "metadata": {},
   "outputs": [
    {
     "data": {
      "text/plain": [
       "{'lr': [0.785876993166287, 0.7772727272727272, 0.78],\n",
       " 'svm': [0.8701594533029613, 0.759090909090909, 0.76],\n",
       " 'knn': [0.9977220956719818, 0.7818181818181819, 0.78],\n",
       " 'nb': [0.7403189066059226, 0.7727272727272727, 0.77],\n",
       " 'dt': [0.9646924829157175, 0.7681818181818182, 0.77]}"
      ]
     },
     "execution_count": 211,
     "metadata": {},
     "output_type": "execute_result"
    }
   ],
   "source": [
    "o22_summary.update({'dt' : [dt.score(X_train, y_train), dt.score(X_test, y_test), 0.77]})\n",
    "o22_summary"
   ]
  },
  {
   "cell_type": "markdown",
   "id": "0199faf4",
   "metadata": {},
   "source": [
    "<i>Random Forest</i>"
   ]
  },
  {
   "cell_type": "code",
   "execution_count": 212,
   "id": "0c55f09d",
   "metadata": {},
   "outputs": [],
   "source": [
    "rf_scores = cross_val_score(RandomForestClassifier(), X_train, y_train, cv = 3)"
   ]
  },
  {
   "cell_type": "code",
   "execution_count": 213,
   "id": "523d0190",
   "metadata": {},
   "outputs": [
    {
     "data": {
      "text/plain": [
       "array([0.80887372, 0.81228669, 0.81849315])"
      ]
     },
     "execution_count": 213,
     "metadata": {},
     "output_type": "execute_result"
    }
   ],
   "source": [
    "rf_scores"
   ]
  },
  {
   "cell_type": "code",
   "execution_count": 214,
   "id": "211c2ebc",
   "metadata": {},
   "outputs": [
    {
     "data": {
      "text/plain": [
       "0.8132178534137484"
      ]
     },
     "execution_count": 214,
     "metadata": {},
     "output_type": "execute_result"
    }
   ],
   "source": [
    "rf_scores.mean()"
   ]
  },
  {
   "cell_type": "markdown",
   "id": "e94c3658",
   "metadata": {},
   "source": [
    "Random Forest model has an average accuracy of about 81%. This is the highest average accuracy yet."
   ]
  },
  {
   "cell_type": "code",
   "execution_count": 215,
   "id": "7232eb8e",
   "metadata": {},
   "outputs": [
    {
     "data": {
      "text/plain": [
       "GridSearchCV(cv=3,\n",
       "             estimator=RandomForestClassifier(oob_score=True, random_state=1),\n",
       "             param_grid={'max_features': ['auto', 'sqrt', 'log2'],\n",
       "                         'n_estimators': [100, 250, 500]})"
      ]
     },
     "execution_count": 215,
     "metadata": {},
     "output_type": "execute_result"
    }
   ],
   "source": [
    "params = {'n_estimators' : [100, 250, 500], 'max_features' : ['auto', 'sqrt', 'log2']}\n",
    "grid = GridSearchCV(RandomForestClassifier(random_state = 1, oob_score = True), params, cv = 3)\n",
    "grid.fit(X_train, y_train)"
   ]
  },
  {
   "cell_type": "code",
   "execution_count": 216,
   "id": "34a5c756",
   "metadata": {},
   "outputs": [
    {
     "data": {
      "text/plain": [
       "{'max_features': 'auto', 'n_estimators': 500}"
      ]
     },
     "execution_count": 216,
     "metadata": {},
     "output_type": "execute_result"
    }
   ],
   "source": [
    "grid.best_params_"
   ]
  },
  {
   "cell_type": "code",
   "execution_count": 217,
   "id": "f084426a",
   "metadata": {},
   "outputs": [
    {
     "data": {
      "text/plain": [
       "RandomForestClassifier(n_estimators=500, oob_score=True, random_state=1)"
      ]
     },
     "execution_count": 217,
     "metadata": {},
     "output_type": "execute_result"
    }
   ],
   "source": [
    "rf = RandomForestClassifier(random_state = 1, oob_score = True, n_estimators = 500)\n",
    "rf.fit(X_train, y_train)"
   ]
  },
  {
   "cell_type": "code",
   "execution_count": 218,
   "id": "31c3dc8c",
   "metadata": {},
   "outputs": [
    {
     "data": {
      "text/plain": [
       "array([1, 1, 1, 1, 1, 1, 0, 0, 0, 1, 1, 0, 0, 0, 0, 1, 0, 1, 1, 0, 0, 1,\n",
       "       0, 1, 0, 1, 0, 0, 0, 1, 0, 1, 1, 1, 0, 0, 0, 1, 0, 0, 0, 1, 0, 0,\n",
       "       1, 0, 1, 0, 1, 1, 1, 0, 0, 1, 0, 0, 1, 0, 1, 0, 1, 0, 0, 1, 1, 0,\n",
       "       0, 1, 0, 0, 0, 0, 1, 0, 0, 1, 0, 1, 0, 0, 0, 0, 0, 1, 0, 0, 1, 0,\n",
       "       1, 1, 1, 1, 0, 0, 0, 0, 0, 1, 1, 1, 0, 0, 1, 0, 1, 1, 0, 1, 1, 0,\n",
       "       0, 0, 1, 0, 1, 1, 1, 1, 0, 1, 1, 1, 0, 0, 0, 0, 1, 1, 0, 0, 1, 1,\n",
       "       0, 0, 1, 0, 1, 1, 0, 1, 1, 1, 1, 1, 0, 0, 0, 0, 0, 1, 0, 0, 1, 0,\n",
       "       0, 0, 1, 1, 1, 1, 0, 0, 0, 0, 1, 1, 0, 1, 0, 1, 0, 0, 0, 0, 1, 0,\n",
       "       1, 0, 1, 1, 1, 1, 0, 0, 1, 1, 1, 1, 0, 1, 0, 1, 0, 1, 0, 0, 1, 0,\n",
       "       0, 0, 1, 1, 0, 1, 0, 0, 0, 1, 1, 1, 0, 0, 0, 0, 0, 1, 0, 1, 0, 0],\n",
       "      dtype=int64)"
      ]
     },
     "execution_count": 218,
     "metadata": {},
     "output_type": "execute_result"
    }
   ],
   "source": [
    "pred_test = rf.predict(X_test)\n",
    "pred_test"
   ]
  },
  {
   "cell_type": "code",
   "execution_count": 219,
   "id": "2bb2f376",
   "metadata": {},
   "outputs": [
    {
     "data": {
      "text/plain": [
       "<AxesSubplot:>"
      ]
     },
     "execution_count": 219,
     "metadata": {},
     "output_type": "execute_result"
    },
    {
     "data": {
      "image/png": "[encoded data removed]",
      "text/plain": [
       "<Figure size 432x288 with 2 Axes>"
      ]
     },
     "metadata": {
      "needs_background": "light"
     },
     "output_type": "display_data"
    }
   ],
   "source": [
    "cm = confusion_matrix(y_true = y_test, y_pred = pred_test, labels = [0, 1])\n",
    "df_cm = pd.DataFrame(cm, index = [i for i in ['True 0', 'True 1']], columns = [i for i in ['Pred 0', 'Pred 1']])\n",
    "sns.heatmap(df_cm, annot = True)"
   ]
  },
  {
   "cell_type": "code",
   "execution_count": 220,
   "id": "1bec31ba",
   "metadata": {},
   "outputs": [
    {
     "name": "stdout",
     "output_type": "stream",
     "text": [
      "              precision    recall  f1-score   support\n",
      "\n",
      "           0       0.82      0.88      0.85       110\n",
      "           1       0.87      0.80      0.83       110\n",
      "\n",
      "    accuracy                           0.84       220\n",
      "   macro avg       0.84      0.84      0.84       220\n",
      "weighted avg       0.84      0.84      0.84       220\n",
      "\n"
     ]
    }
   ],
   "source": [
    "print(classification_report(y_true = y_test, y_pred = pred_test, labels = [0, 1]))"
   ]
  },
  {
   "cell_type": "markdown",
   "id": "ce513599",
   "metadata": {},
   "source": [
    "This model has an average f1 score of 84%. "
   ]
  },
  {
   "cell_type": "code",
   "execution_count": 221,
   "id": "8412b4fa",
   "metadata": {},
   "outputs": [
    {
     "name": "stdout",
     "output_type": "stream",
     "text": [
      "Training accuracy: 0.9977220956719818\n"
     ]
    }
   ],
   "source": [
    "print('Training accuracy:',rf.score(X_train, y_train))"
   ]
  },
  {
   "cell_type": "code",
   "execution_count": 222,
   "id": "98a9c8ac",
   "metadata": {},
   "outputs": [
    {
     "name": "stdout",
     "output_type": "stream",
     "text": [
      "Testing accuracy: 0.8409090909090909\n"
     ]
    }
   ],
   "source": [
    "print('Testing accuracy:',rf.score(X_test, y_test))"
   ]
  },
  {
   "cell_type": "markdown",
   "id": "b8b78c25",
   "metadata": {},
   "source": [
    "The model is overfit."
   ]
  },
  {
   "cell_type": "code",
   "execution_count": 223,
   "id": "3c20f6c6",
   "metadata": {},
   "outputs": [
    {
     "data": {
      "text/plain": [
       "RandomForestClassifier(ccp_alpha=0.0024, n_estimators=500, oob_score=True,\n",
       "                       random_state=1)"
      ]
     },
     "execution_count": 223,
     "metadata": {},
     "output_type": "execute_result"
    }
   ],
   "source": [
    "rf = rf = RandomForestClassifier(random_state = 1, oob_score = True, ccp_alpha = 0.0024, n_estimators = 500)\n",
    "rf.fit(X_train, y_train)"
   ]
  },
  {
   "cell_type": "code",
   "execution_count": 224,
   "id": "d41dc270",
   "metadata": {},
   "outputs": [
    {
     "name": "stdout",
     "output_type": "stream",
     "text": [
      "Training accuracy: 0.9179954441913439\n"
     ]
    }
   ],
   "source": [
    "print('Training accuracy:',rf.score(X_train, y_train))"
   ]
  },
  {
   "cell_type": "code",
   "execution_count": 225,
   "id": "67b03973",
   "metadata": {},
   "outputs": [
    {
     "name": "stdout",
     "output_type": "stream",
     "text": [
      "Training accuracy: 0.8090909090909091\n"
     ]
    }
   ],
   "source": [
    "print('Training accuracy:',rf.score(X_test, y_test))"
   ]
  },
  {
   "cell_type": "code",
   "execution_count": 226,
   "id": "a22ba94d",
   "metadata": {},
   "outputs": [],
   "source": [
    "pred_test = rf.predict(X_test)"
   ]
  },
  {
   "cell_type": "code",
   "execution_count": 227,
   "id": "109906ef",
   "metadata": {},
   "outputs": [
    {
     "name": "stdout",
     "output_type": "stream",
     "text": [
      "              precision    recall  f1-score   support\n",
      "\n",
      "           0       0.77      0.88      0.82       110\n",
      "           1       0.86      0.74      0.79       110\n",
      "\n",
      "    accuracy                           0.81       220\n",
      "   macro avg       0.82      0.81      0.81       220\n",
      "weighted avg       0.82      0.81      0.81       220\n",
      "\n"
     ]
    }
   ],
   "source": [
    "print(classification_report(y_true = y_test, y_pred = pred_test, labels = [0, 1]))"
   ]
  },
  {
   "cell_type": "markdown",
   "id": "a90ca63a",
   "metadata": {},
   "source": [
    "The model after pruning is less overfit and has an average f1-score of 81%"
   ]
  },
  {
   "cell_type": "code",
   "execution_count": 228,
   "id": "b20efaf5",
   "metadata": {},
   "outputs": [
    {
     "data": {
      "text/plain": [
       "{'lr': [0.785876993166287, 0.7772727272727272, 0.78],\n",
       " 'svm': [0.8701594533029613, 0.759090909090909, 0.76],\n",
       " 'knn': [0.9977220956719818, 0.7818181818181819, 0.78],\n",
       " 'nb': [0.7403189066059226, 0.7727272727272727, 0.77],\n",
       " 'dt': [0.9646924829157175, 0.7681818181818182, 0.77],\n",
       " 'rf': [0.9179954441913439, 0.8090909090909091, 0.81]}"
      ]
     },
     "execution_count": 228,
     "metadata": {},
     "output_type": "execute_result"
    }
   ],
   "source": [
    "o22_summary.update({'rf' : [rf.score(X_train, y_train), rf.score(X_test, y_test), 0.81]})\n",
    "o22_summary"
   ]
  },
  {
   "cell_type": "markdown",
   "id": "184fddf8",
   "metadata": {},
   "source": [
    "<i>Gradient Boost<i>"
   ]
  },
  {
   "cell_type": "code",
   "execution_count": 229,
   "id": "73498110",
   "metadata": {},
   "outputs": [],
   "source": [
    "gb_score = cross_val_score(GradientBoostingClassifier(random_state = 1), X_train, y_train, cv = 3)"
   ]
  },
  {
   "cell_type": "code",
   "execution_count": 230,
   "id": "b297a16c",
   "metadata": {},
   "outputs": [
    {
     "data": {
      "text/plain": [
       "array([0.8225256 , 0.80546075, 0.81506849])"
      ]
     },
     "execution_count": 230,
     "metadata": {},
     "output_type": "execute_result"
    }
   ],
   "source": [
    "gb_score"
   ]
  },
  {
   "cell_type": "code",
   "execution_count": 231,
   "id": "bc81fb8d",
   "metadata": {},
   "outputs": [
    {
     "data": {
      "text/plain": [
       "0.8143516137578506"
      ]
     },
     "execution_count": 231,
     "metadata": {},
     "output_type": "execute_result"
    }
   ],
   "source": [
    "gb_score.mean()"
   ]
  },
  {
   "cell_type": "markdown",
   "id": "e901b018",
   "metadata": {},
   "source": [
    "Average accuracy of the Gradient Boosting model is about 81%."
   ]
  },
  {
   "cell_type": "code",
   "execution_count": 232,
   "id": "64e34f19",
   "metadata": {},
   "outputs": [
    {
     "data": {
      "text/plain": [
       "GridSearchCV(cv=3, estimator=GradientBoostingClassifier(random_state=1),\n",
       "             param_grid={'learning_rate': [0.1, 0.15, 0.2],\n",
       "                         'n_estimators': [100, 200, 500]})"
      ]
     },
     "execution_count": 232,
     "metadata": {},
     "output_type": "execute_result"
    }
   ],
   "source": [
    "params = {'learning_rate': [0.1, 0.15, 0.2], 'n_estimators' : [100, 200, 500]}\n",
    "grid = GridSearchCV(GradientBoostingClassifier(random_state = 1), params, cv = 3)\n",
    "grid.fit(X_train, y_train)"
   ]
  },
  {
   "cell_type": "code",
   "execution_count": 233,
   "id": "83a0f7f9",
   "metadata": {},
   "outputs": [
    {
     "data": {
      "text/plain": [
       "{'learning_rate': 0.2, 'n_estimators': 100}"
      ]
     },
     "execution_count": 233,
     "metadata": {},
     "output_type": "execute_result"
    }
   ],
   "source": [
    "grid.best_params_"
   ]
  },
  {
   "cell_type": "code",
   "execution_count": 234,
   "id": "dfa27624",
   "metadata": {},
   "outputs": [
    {
     "data": {
      "text/plain": [
       "GradientBoostingClassifier(learning_rate=0.2, n_estimators=500, random_state=1)"
      ]
     },
     "execution_count": 234,
     "metadata": {},
     "output_type": "execute_result"
    }
   ],
   "source": [
    "gb = GradientBoostingClassifier(random_state = 1, n_estimators = 500, learning_rate = 0.2)\n",
    "gb.fit(X_train, y_train)"
   ]
  },
  {
   "cell_type": "code",
   "execution_count": 235,
   "id": "a8c8cb57",
   "metadata": {},
   "outputs": [
    {
     "data": {
      "text/plain": [
       "array([1, 1, 1, 1, 1, 1, 0, 0, 0, 1, 0, 0, 0, 0, 0, 1, 0, 1, 1, 0, 0, 1,\n",
       "       0, 1, 0, 1, 0, 0, 0, 1, 0, 1, 1, 1, 0, 0, 0, 1, 0, 0, 0, 1, 1, 0,\n",
       "       1, 0, 1, 0, 1, 1, 1, 0, 0, 1, 0, 0, 1, 0, 1, 0, 1, 0, 0, 1, 1, 0,\n",
       "       0, 1, 0, 0, 0, 0, 1, 0, 0, 1, 1, 1, 1, 0, 1, 0, 0, 1, 0, 0, 1, 0,\n",
       "       1, 1, 1, 0, 0, 0, 1, 0, 0, 1, 1, 1, 1, 0, 1, 0, 1, 1, 0, 1, 1, 0,\n",
       "       0, 0, 1, 0, 1, 1, 1, 1, 1, 0, 0, 1, 0, 0, 0, 0, 1, 1, 1, 0, 1, 1,\n",
       "       0, 0, 1, 0, 1, 1, 0, 1, 1, 1, 1, 1, 0, 1, 0, 0, 0, 1, 0, 0, 1, 0,\n",
       "       0, 1, 1, 1, 1, 1, 0, 0, 0, 0, 1, 1, 0, 1, 0, 1, 0, 0, 0, 0, 1, 0,\n",
       "       0, 1, 1, 1, 1, 1, 0, 0, 1, 1, 1, 1, 0, 1, 0, 1, 0, 1, 0, 0, 1, 0,\n",
       "       0, 0, 1, 1, 0, 1, 0, 0, 0, 1, 1, 1, 0, 0, 0, 0, 0, 1, 0, 0, 0, 0],\n",
       "      dtype=int64)"
      ]
     },
     "execution_count": 235,
     "metadata": {},
     "output_type": "execute_result"
    }
   ],
   "source": [
    "pred_test = gb.predict(X_test)\n",
    "pred_test"
   ]
  },
  {
   "cell_type": "code",
   "execution_count": 236,
   "id": "a1f32f57",
   "metadata": {},
   "outputs": [
    {
     "data": {
      "text/plain": [
       "<AxesSubplot:>"
      ]
     },
     "execution_count": 236,
     "metadata": {},
     "output_type": "execute_result"
    },
    {
     "data": {
      "image/png": "[encoded data removed]",
      "text/plain": [
       "<Figure size 432x288 with 2 Axes>"
      ]
     },
     "metadata": {
      "needs_background": "light"
     },
     "output_type": "display_data"
    }
   ],
   "source": [
    "cm = confusion_matrix(y_true = y_test, y_pred = pred_test, labels = [0, 1])\n",
    "df_cm = pd.DataFrame(cm, index = [i for i in ['True 0', 'True 1']], columns = [i for i in ['Pred 0', 'Pred 1']])\n",
    "sns.heatmap(df_cm, annot = True)"
   ]
  },
  {
   "cell_type": "code",
   "execution_count": 237,
   "id": "8a7ace47",
   "metadata": {},
   "outputs": [
    {
     "name": "stdout",
     "output_type": "stream",
     "text": [
      "              precision    recall  f1-score   support\n",
      "\n",
      "           0       0.82      0.85      0.84       110\n",
      "           1       0.85      0.82      0.83       110\n",
      "\n",
      "    accuracy                           0.84       220\n",
      "   macro avg       0.84      0.84      0.84       220\n",
      "weighted avg       0.84      0.84      0.84       220\n",
      "\n"
     ]
    }
   ],
   "source": [
    "print(classification_report(y_true = y_test, y_pred = pred_test, labels = [0, 1]))"
   ]
  },
  {
   "cell_type": "markdown",
   "id": "77d9ddf7",
   "metadata": {},
   "source": [
    "The gradient boosting model has an average f1 score of 84%."
   ]
  },
  {
   "cell_type": "code",
   "execution_count": 241,
   "id": "d494aa5a",
   "metadata": {},
   "outputs": [
    {
     "name": "stdout",
     "output_type": "stream",
     "text": [
      "Training accuracy: 0.9977220956719818\n"
     ]
    }
   ],
   "source": [
    "print('Training accuracy:',gb.score(X_train, y_train))"
   ]
  },
  {
   "cell_type": "code",
   "execution_count": 242,
   "id": "dbf5b72e",
   "metadata": {},
   "outputs": [
    {
     "name": "stdout",
     "output_type": "stream",
     "text": [
      "Testing accuracy: 0.8363636363636363\n"
     ]
    }
   ],
   "source": [
    "print('Testing accuracy:',gb.score(X_test, y_test))"
   ]
  },
  {
   "cell_type": "markdown",
   "id": "dcd2b709",
   "metadata": {},
   "source": [
    "This model has higher f1 score than random forest model but has similar training and testing accuracies."
   ]
  },
  {
   "cell_type": "code",
   "execution_count": 240,
   "id": "ec1c5646",
   "metadata": {},
   "outputs": [
    {
     "data": {
      "text/plain": [
       "{'lr': [0.785876993166287, 0.7772727272727272, 0.78],\n",
       " 'svm': [0.8701594533029613, 0.759090909090909, 0.76],\n",
       " 'knn': [0.9977220956719818, 0.7818181818181819, 0.78],\n",
       " 'nb': [0.7403189066059226, 0.7727272727272727, 0.77],\n",
       " 'dt': [0.9646924829157175, 0.7681818181818182, 0.77],\n",
       " 'rf': [0.9179954441913439, 0.8090909090909091, 0.81],\n",
       " 'gb': [0.9977220956719818, 0.8363636363636363, 0.84]}"
      ]
     },
     "execution_count": 240,
     "metadata": {},
     "output_type": "execute_result"
    }
   ],
   "source": [
    "o22_summary.update({'gb' : [gb.score(X_train, y_train), gb.score(X_test, y_test), 0.84]})\n",
    "o22_summary"
   ]
  },
  {
   "cell_type": "markdown",
   "id": "27a34d7b",
   "metadata": {},
   "source": [
    "<i>XGBoost Classifier</i>"
   ]
  },
  {
   "cell_type": "code",
   "execution_count": 243,
   "id": "b561cb80",
   "metadata": {},
   "outputs": [
    {
     "data": {
      "text/plain": [
       "XGBClassifier(base_score=0.5, booster='gbtree', colsample_bylevel=1,\n",
       "              colsample_bynode=1, colsample_bytree=1, enable_categorical=False,\n",
       "              eval_metric='logloss', gamma=0, gpu_id=-1, importance_type=None,\n",
       "              interaction_constraints='', learning_rate=0.300000012,\n",
       "              max_delta_step=0, max_depth=6, min_child_weight=1, missing=nan,\n",
       "              monotone_constraints='()', n_estimators=100, n_jobs=12,\n",
       "              num_parallel_tree=1, predictor='auto', random_state=0,\n",
       "              reg_alpha=0, reg_lambda=1, scale_pos_weight=1, subsample=1,\n",
       "              tree_method='exact', use_label_encoder=False,\n",
       "              validate_parameters=1, verbosity=None)"
      ]
     },
     "execution_count": 243,
     "metadata": {},
     "output_type": "execute_result"
    }
   ],
   "source": [
    "xgb = XGBClassifier(use_label_encoder = False, eval_metric = 'logloss')\n",
    "xgb.fit(X_train, y_train)"
   ]
  },
  {
   "cell_type": "code",
   "execution_count": 244,
   "id": "dce7c0ba",
   "metadata": {},
   "outputs": [
    {
     "data": {
      "text/plain": [
       "array([1, 1, 1, 1, 1, 1, 0, 0, 0, 0, 0, 0, 0, 0, 0, 1, 0, 1, 1, 0, 0, 1,\n",
       "       0, 1, 0, 1, 0, 0, 0, 1, 0, 1, 0, 1, 0, 0, 0, 1, 0, 0, 1, 1, 0, 0,\n",
       "       1, 0, 1, 0, 1, 1, 1, 0, 0, 1, 0, 0, 1, 0, 1, 0, 1, 0, 0, 1, 1, 0,\n",
       "       0, 1, 1, 0, 0, 0, 1, 1, 0, 1, 1, 1, 1, 0, 0, 0, 0, 1, 0, 0, 1, 0,\n",
       "       1, 1, 1, 0, 0, 0, 0, 0, 0, 1, 1, 1, 0, 0, 1, 0, 1, 1, 0, 1, 1, 0,\n",
       "       0, 0, 1, 0, 1, 1, 1, 0, 1, 1, 1, 1, 0, 0, 0, 0, 1, 1, 0, 0, 1, 1,\n",
       "       0, 0, 1, 0, 1, 1, 0, 1, 1, 1, 1, 1, 0, 1, 0, 0, 0, 1, 0, 0, 1, 0,\n",
       "       0, 0, 1, 1, 1, 1, 0, 0, 0, 0, 1, 1, 0, 1, 0, 1, 0, 0, 0, 0, 0, 0,\n",
       "       0, 1, 1, 1, 1, 1, 0, 0, 1, 1, 1, 1, 0, 1, 0, 1, 0, 1, 0, 0, 1, 0,\n",
       "       0, 0, 1, 1, 0, 1, 0, 0, 0, 1, 1, 1, 0, 0, 0, 0, 0, 1, 0, 0, 0, 0])"
      ]
     },
     "execution_count": 244,
     "metadata": {},
     "output_type": "execute_result"
    }
   ],
   "source": [
    "pred_test = xgb.predict(X_test)\n",
    "pred_test"
   ]
  },
  {
   "cell_type": "code",
   "execution_count": 245,
   "id": "af12b319",
   "metadata": {},
   "outputs": [
    {
     "data": {
      "text/plain": [
       "<AxesSubplot:>"
      ]
     },
     "execution_count": 245,
     "metadata": {},
     "output_type": "execute_result"
    },
    {
     "data": {
      "image/png": "[encoded data removed]",
      "text/plain": [
       "<Figure size 432x288 with 2 Axes>"
      ]
     },
     "metadata": {
      "needs_background": "light"
     },
     "output_type": "display_data"
    }
   ],
   "source": [
    "cm = confusion_matrix(y_true = y_test, y_pred = pred_test, labels = [0, 1])\n",
    "df_cm = pd.DataFrame(cm, index = [i for i in ['True 0', 'True 1']], columns = [i for i in ['Pred 0', 'Pred 1']])\n",
    "sns.heatmap(df_cm, annot = True)"
   ]
  },
  {
   "cell_type": "code",
   "execution_count": 246,
   "id": "64c9324f",
   "metadata": {},
   "outputs": [
    {
     "name": "stdout",
     "output_type": "stream",
     "text": [
      "              precision    recall  f1-score   support\n",
      "\n",
      "           0       0.81      0.87      0.84       110\n",
      "           1       0.86      0.79      0.82       110\n",
      "\n",
      "    accuracy                           0.83       220\n",
      "   macro avg       0.83      0.83      0.83       220\n",
      "weighted avg       0.83      0.83      0.83       220\n",
      "\n"
     ]
    }
   ],
   "source": [
    "print(classification_report(y_true = y_test, y_pred = pred_test, labels = [0, 1]))"
   ]
  },
  {
   "cell_type": "markdown",
   "id": "7b6587b2",
   "metadata": {},
   "source": [
    "The gradient boost algorith has an average f1-score of about 83%."
   ]
  },
  {
   "cell_type": "code",
   "execution_count": 247,
   "id": "d40e5821",
   "metadata": {},
   "outputs": [
    {
     "name": "stdout",
     "output_type": "stream",
     "text": [
      "Training accuracy: 0.9954441913439636\n"
     ]
    }
   ],
   "source": [
    "print('Training accuracy:',xgb.score(X_train, y_train))"
   ]
  },
  {
   "cell_type": "code",
   "execution_count": 248,
   "id": "a42d2e78",
   "metadata": {},
   "outputs": [
    {
     "name": "stdout",
     "output_type": "stream",
     "text": [
      "Testing accuracy: 0.8318181818181818\n"
     ]
    }
   ],
   "source": [
    "print('Testing accuracy:',xgb.score(X_test, y_test))"
   ]
  },
  {
   "cell_type": "markdown",
   "id": "ee7f1d8c",
   "metadata": {},
   "source": [
    "This model is overfit but has the highest testing accuracy yet."
   ]
  },
  {
   "cell_type": "code",
   "execution_count": 249,
   "id": "6949e615",
   "metadata": {},
   "outputs": [
    {
     "data": {
      "text/plain": [
       "{'lr': [0.785876993166287, 0.7772727272727272, 0.78],\n",
       " 'svm': [0.8701594533029613, 0.759090909090909, 0.76],\n",
       " 'knn': [0.9977220956719818, 0.7818181818181819, 0.78],\n",
       " 'nb': [0.7403189066059226, 0.7727272727272727, 0.77],\n",
       " 'dt': [0.9646924829157175, 0.7681818181818182, 0.77],\n",
       " 'rf': [0.9179954441913439, 0.8090909090909091, 0.81],\n",
       " 'gb': [0.9977220956719818, 0.8363636363636363, 0.84],\n",
       " 'xgb': [0.9954441913439636, 0.8318181818181818, 0.83]}"
      ]
     },
     "execution_count": 249,
     "metadata": {},
     "output_type": "execute_result"
    }
   ],
   "source": [
    "o22_summary.update({'xgb' : [xgb.score(X_train, y_train), xgb.score(X_test, y_test), 0.83]})\n",
    "o22_summary"
   ]
  },
  {
   "cell_type": "markdown",
   "id": "93c1ee83",
   "metadata": {},
   "source": [
    "<i>Neural Network</i>"
   ]
  },
  {
   "cell_type": "code",
   "execution_count": 250,
   "id": "f968e91e",
   "metadata": {},
   "outputs": [
    {
     "data": {
      "text/plain": [
       "(878, 11)"
      ]
     },
     "execution_count": 250,
     "metadata": {},
     "output_type": "execute_result"
    }
   ],
   "source": [
    "X_train.shape"
   ]
  },
  {
   "cell_type": "code",
   "execution_count": 251,
   "id": "83bf1796",
   "metadata": {},
   "outputs": [],
   "source": [
    "nn = Sequential()\n",
    "nn.add(Input(shape = (X_train.shape[1],)))\n",
    "nn.add(Dense(units = 200, activation = 'relu', ))\n",
    "nn.add(Dropout(0.4))\n",
    "nn.add(Dense(units = 200, activation = 'relu'))\n",
    "nn.add(Dropout(0.4))\n",
    "nn.add(Dense(units = 100, activation = 'relu'))\n",
    "nn.add(Dropout(0.4))\n",
    "nn.add(Dense(units = 100, activation = 'relu'))\n",
    "nn.add(Dropout(0.4))\n",
    "nn.add(Dense(units = 10, activation = 'relu'))\n",
    "nn.add(Dropout(0.4))\n",
    "nn.add(Dense(units = 1, activation = 'sigmoid'))\n",
    "nn.compile(optimizer = 'adam', loss = 'binary_crossentropy', metrics = ['accuracy'])"
   ]
  },
  {
   "cell_type": "code",
   "execution_count": 252,
   "id": "4a17c9f4",
   "metadata": {},
   "outputs": [
    {
     "name": "stdout",
     "output_type": "stream",
     "text": [
      "Model: \"sequential\"\n",
      "_________________________________________________________________\n",
      "Layer (type)                 Output Shape              Param #   \n",
      "=================================================================\n",
      "dense (Dense)                (None, 200)               2400      \n",
      "_________________________________________________________________\n",
      "dropout (Dropout)            (None, 200)               0         \n",
      "_________________________________________________________________\n",
      "dense_1 (Dense)              (None, 200)               40200     \n",
      "_________________________________________________________________\n",
      "dropout_1 (Dropout)          (None, 200)               0         \n",
      "_________________________________________________________________\n",
      "dense_2 (Dense)              (None, 100)               20100     \n",
      "_________________________________________________________________\n",
      "dropout_2 (Dropout)          (None, 100)               0         \n",
      "_________________________________________________________________\n",
      "dense_3 (Dense)              (None, 100)               10100     \n",
      "_________________________________________________________________\n",
      "dropout_3 (Dropout)          (None, 100)               0         \n",
      "_________________________________________________________________\n",
      "dense_4 (Dense)              (None, 10)                1010      \n",
      "_________________________________________________________________\n",
      "dropout_4 (Dropout)          (None, 10)                0         \n",
      "_________________________________________________________________\n",
      "dense_5 (Dense)              (None, 1)                 11        \n",
      "=================================================================\n",
      "Total params: 73,821\n",
      "Trainable params: 73,821\n",
      "Non-trainable params: 0\n",
      "_________________________________________________________________\n"
     ]
    }
   ],
   "source": [
    "nn.summary()"
   ]
  },
  {
   "cell_type": "code",
   "execution_count": 259,
   "id": "33274e26",
   "metadata": {},
   "outputs": [
    {
     "name": "stdout",
     "output_type": "stream",
     "text": [
      "Epoch 1/100\n",
      "6/6 [==============================] - 0s 15ms/step - loss: 0.4238 - accuracy: 0.8148 - val_loss: 0.4377 - val_accuracy: 0.8125\n",
      "Epoch 2/100\n",
      "6/6 [==============================] - 0s 10ms/step - loss: 0.4392 - accuracy: 0.8148 - val_loss: 0.4384 - val_accuracy: 0.8068\n",
      "Epoch 3/100\n",
      "6/6 [==============================] - 0s 11ms/step - loss: 0.3923 - accuracy: 0.8219 - val_loss: 0.4383 - val_accuracy: 0.8125\n",
      "Epoch 4/100\n",
      "6/6 [==============================] - 0s 10ms/step - loss: 0.4021 - accuracy: 0.8162 - val_loss: 0.4374 - val_accuracy: 0.8125\n",
      "Epoch 5/100\n",
      "6/6 [==============================] - 0s 10ms/step - loss: 0.4009 - accuracy: 0.8319 - val_loss: 0.4352 - val_accuracy: 0.8125\n",
      "Epoch 6/100\n",
      "6/6 [==============================] - 0s 10ms/step - loss: 0.4296 - accuracy: 0.8362 - val_loss: 0.4390 - val_accuracy: 0.8125\n",
      "Epoch 7/100\n",
      "6/6 [==============================] - 0s 11ms/step - loss: 0.3839 - accuracy: 0.8291 - val_loss: 0.4388 - val_accuracy: 0.8125\n",
      "Epoch 8/100\n",
      "6/6 [==============================] - 0s 10ms/step - loss: 0.4143 - accuracy: 0.8305 - val_loss: 0.4355 - val_accuracy: 0.8068\n",
      "Epoch 9/100\n",
      "6/6 [==============================] - 0s 10ms/step - loss: 0.4067 - accuracy: 0.8191 - val_loss: 0.4370 - val_accuracy: 0.8182\n",
      "Epoch 10/100\n",
      "6/6 [==============================] - 0s 10ms/step - loss: 0.4069 - accuracy: 0.8234 - val_loss: 0.4340 - val_accuracy: 0.8182\n",
      "Epoch 11/100\n",
      "6/6 [==============================] - 0s 10ms/step - loss: 0.3965 - accuracy: 0.8162 - val_loss: 0.4376 - val_accuracy: 0.8068\n",
      "Epoch 12/100\n",
      "6/6 [==============================] - 0s 10ms/step - loss: 0.4160 - accuracy: 0.8248 - val_loss: 0.4369 - val_accuracy: 0.8068\n",
      "Epoch 13/100\n",
      "6/6 [==============================] - 0s 11ms/step - loss: 0.3995 - accuracy: 0.8433 - val_loss: 0.4308 - val_accuracy: 0.8182\n",
      "Epoch 14/100\n",
      "6/6 [==============================] - 0s 11ms/step - loss: 0.4067 - accuracy: 0.8262 - val_loss: 0.4309 - val_accuracy: 0.8239\n",
      "Epoch 15/100\n",
      "6/6 [==============================] - 0s 11ms/step - loss: 0.4200 - accuracy: 0.8205 - val_loss: 0.4280 - val_accuracy: 0.8239\n",
      "Epoch 16/100\n",
      "6/6 [==============================] - 0s 11ms/step - loss: 0.4041 - accuracy: 0.8333 - val_loss: 0.4320 - val_accuracy: 0.8182\n",
      "Epoch 17/100\n",
      "6/6 [==============================] - 0s 10ms/step - loss: 0.4014 - accuracy: 0.8248 - val_loss: 0.4389 - val_accuracy: 0.8182\n",
      "Epoch 18/100\n",
      "6/6 [==============================] - 0s 10ms/step - loss: 0.4124 - accuracy: 0.8219 - val_loss: 0.4371 - val_accuracy: 0.8182\n",
      "Epoch 19/100\n",
      "6/6 [==============================] - 0s 10ms/step - loss: 0.3923 - accuracy: 0.8305 - val_loss: 0.4385 - val_accuracy: 0.8182\n",
      "Epoch 20/100\n",
      "6/6 [==============================] - 0s 10ms/step - loss: 0.4033 - accuracy: 0.8148 - val_loss: 0.4393 - val_accuracy: 0.8182\n",
      "Epoch 21/100\n",
      "6/6 [==============================] - 0s 10ms/step - loss: 0.4060 - accuracy: 0.8205 - val_loss: 0.4362 - val_accuracy: 0.8182\n",
      "Epoch 22/100\n",
      "6/6 [==============================] - 0s 10ms/step - loss: 0.4010 - accuracy: 0.8191 - val_loss: 0.4355 - val_accuracy: 0.8182\n",
      "Epoch 23/100\n",
      "6/6 [==============================] - 0s 10ms/step - loss: 0.4152 - accuracy: 0.8162 - val_loss: 0.4391 - val_accuracy: 0.8068\n",
      "Epoch 24/100\n",
      "6/6 [==============================] - 0s 11ms/step - loss: 0.4021 - accuracy: 0.8248 - val_loss: 0.4375 - val_accuracy: 0.8011\n",
      "Epoch 25/100\n",
      "6/6 [==============================] - 0s 11ms/step - loss: 0.3919 - accuracy: 0.8276 - val_loss: 0.4345 - val_accuracy: 0.8239\n",
      "Epoch 26/100\n",
      "6/6 [==============================] - 0s 11ms/step - loss: 0.4026 - accuracy: 0.8077 - val_loss: 0.4354 - val_accuracy: 0.8182\n",
      "Epoch 27/100\n",
      "6/6 [==============================] - 0s 11ms/step - loss: 0.3950 - accuracy: 0.8333 - val_loss: 0.4348 - val_accuracy: 0.8182\n",
      "Epoch 28/100\n",
      "6/6 [==============================] - 0s 11ms/step - loss: 0.4165 - accuracy: 0.8205 - val_loss: 0.4371 - val_accuracy: 0.8125\n",
      "Epoch 29/100\n",
      "6/6 [==============================] - 0s 9ms/step - loss: 0.3950 - accuracy: 0.8362 - val_loss: 0.4374 - val_accuracy: 0.8182\n",
      "Epoch 30/100\n",
      "6/6 [==============================] - 0s 11ms/step - loss: 0.3867 - accuracy: 0.8234 - val_loss: 0.4368 - val_accuracy: 0.8182\n",
      "Epoch 31/100\n",
      "6/6 [==============================] - 0s 10ms/step - loss: 0.3911 - accuracy: 0.8476 - val_loss: 0.4377 - val_accuracy: 0.8182\n",
      "Epoch 32/100\n",
      "6/6 [==============================] - 0s 9ms/step - loss: 0.4094 - accuracy: 0.8091 - val_loss: 0.4425 - val_accuracy: 0.8182\n",
      "Epoch 33/100\n",
      "6/6 [==============================] - 0s 10ms/step - loss: 0.3929 - accuracy: 0.8305 - val_loss: 0.4373 - val_accuracy: 0.8182\n",
      "Epoch 34/100\n",
      "6/6 [==============================] - 0s 11ms/step - loss: 0.3932 - accuracy: 0.8319 - val_loss: 0.4333 - val_accuracy: 0.8182\n",
      "Epoch 35/100\n",
      "6/6 [==============================] - 0s 11ms/step - loss: 0.3763 - accuracy: 0.8362 - val_loss: 0.4290 - val_accuracy: 0.8182\n",
      "Epoch 36/100\n",
      "6/6 [==============================] - 0s 11ms/step - loss: 0.3993 - accuracy: 0.8262 - val_loss: 0.4253 - val_accuracy: 0.8239\n",
      "Epoch 37/100\n",
      "6/6 [==============================] - 0s 11ms/step - loss: 0.4032 - accuracy: 0.8319 - val_loss: 0.4331 - val_accuracy: 0.8239\n",
      "Epoch 38/100\n",
      "6/6 [==============================] - 0s 11ms/step - loss: 0.3984 - accuracy: 0.8191 - val_loss: 0.4403 - val_accuracy: 0.8182\n",
      "Epoch 39/100\n",
      "6/6 [==============================] - 0s 11ms/step - loss: 0.4026 - accuracy: 0.8262 - val_loss: 0.4430 - val_accuracy: 0.8239\n",
      "Epoch 40/100\n",
      "6/6 [==============================] - 0s 11ms/step - loss: 0.3845 - accuracy: 0.8305 - val_loss: 0.4432 - val_accuracy: 0.8295\n",
      "Epoch 41/100\n",
      "6/6 [==============================] - 0s 11ms/step - loss: 0.3877 - accuracy: 0.8248 - val_loss: 0.4402 - val_accuracy: 0.8182\n",
      "Epoch 42/100\n",
      "6/6 [==============================] - 0s 11ms/step - loss: 0.3886 - accuracy: 0.8262 - val_loss: 0.4371 - val_accuracy: 0.8182\n",
      "Epoch 43/100\n",
      "6/6 [==============================] - 0s 11ms/step - loss: 0.3903 - accuracy: 0.8390 - val_loss: 0.4328 - val_accuracy: 0.8295\n",
      "Epoch 44/100\n",
      "6/6 [==============================] - 0s 11ms/step - loss: 0.3910 - accuracy: 0.8276 - val_loss: 0.4338 - val_accuracy: 0.8182\n",
      "Epoch 45/100\n",
      "6/6 [==============================] - 0s 11ms/step - loss: 0.3963 - accuracy: 0.8234 - val_loss: 0.4429 - val_accuracy: 0.8239\n",
      "Epoch 46/100\n",
      "6/6 [==============================] - 0s 11ms/step - loss: 0.3894 - accuracy: 0.8291 - val_loss: 0.4406 - val_accuracy: 0.8239\n",
      "Epoch 47/100\n",
      "6/6 [==============================] - 0s 11ms/step - loss: 0.3657 - accuracy: 0.8248 - val_loss: 0.4344 - val_accuracy: 0.8295\n",
      "Epoch 48/100\n",
      "6/6 [==============================] - 0s 11ms/step - loss: 0.3856 - accuracy: 0.8291 - val_loss: 0.4364 - val_accuracy: 0.8239\n",
      "Epoch 49/100\n",
      "6/6 [==============================] - 0s 11ms/step - loss: 0.4029 - accuracy: 0.8305 - val_loss: 0.4383 - val_accuracy: 0.8295\n",
      "Epoch 50/100\n",
      "6/6 [==============================] - 0s 11ms/step - loss: 0.4004 - accuracy: 0.8433 - val_loss: 0.4405 - val_accuracy: 0.8182\n",
      "Epoch 51/100\n",
      "6/6 [==============================] - 0s 10ms/step - loss: 0.3836 - accuracy: 0.8248 - val_loss: 0.4469 - val_accuracy: 0.8182\n",
      "Epoch 52/100\n",
      "6/6 [==============================] - 0s 10ms/step - loss: 0.3788 - accuracy: 0.8191 - val_loss: 0.4515 - val_accuracy: 0.8182\n",
      "Epoch 53/100\n",
      "6/6 [==============================] - 0s 11ms/step - loss: 0.3817 - accuracy: 0.8262 - val_loss: 0.4525 - val_accuracy: 0.8182\n",
      "Epoch 54/100\n",
      "6/6 [==============================] - 0s 11ms/step - loss: 0.4061 - accuracy: 0.8219 - val_loss: 0.4546 - val_accuracy: 0.8182\n",
      "Epoch 55/100\n",
      "6/6 [==============================] - 0s 12ms/step - loss: 0.3891 - accuracy: 0.8276 - val_loss: 0.4615 - val_accuracy: 0.8182\n",
      "Epoch 56/100\n",
      "6/6 [==============================] - 0s 11ms/step - loss: 0.3810 - accuracy: 0.8419 - val_loss: 0.4588 - val_accuracy: 0.8239\n",
      "Epoch 57/100\n",
      "6/6 [==============================] - 0s 11ms/step - loss: 0.3926 - accuracy: 0.8262 - val_loss: 0.4559 - val_accuracy: 0.8182\n",
      "Epoch 58/100\n",
      "6/6 [==============================] - 0s 11ms/step - loss: 0.3909 - accuracy: 0.8305 - val_loss: 0.4551 - val_accuracy: 0.8239\n",
      "Epoch 59/100\n"
     ]
    },
    {
     "name": "stdout",
     "output_type": "stream",
     "text": [
      "6/6 [==============================] - 0s 11ms/step - loss: 0.3732 - accuracy: 0.8305 - val_loss: 0.4558 - val_accuracy: 0.8239\n",
      "Epoch 60/100\n",
      "6/6 [==============================] - 0s 11ms/step - loss: 0.3810 - accuracy: 0.8348 - val_loss: 0.4579 - val_accuracy: 0.8295\n",
      "Epoch 61/100\n",
      "6/6 [==============================] - 0s 11ms/step - loss: 0.3816 - accuracy: 0.8433 - val_loss: 0.4545 - val_accuracy: 0.8239\n",
      "Epoch 62/100\n",
      "6/6 [==============================] - 0s 10ms/step - loss: 0.3743 - accuracy: 0.8390 - val_loss: 0.4564 - val_accuracy: 0.8182\n",
      "Epoch 63/100\n",
      "6/6 [==============================] - 0s 11ms/step - loss: 0.3841 - accuracy: 0.8333 - val_loss: 0.4554 - val_accuracy: 0.8182\n",
      "Epoch 64/100\n",
      "6/6 [==============================] - 0s 10ms/step - loss: 0.3794 - accuracy: 0.8205 - val_loss: 0.4512 - val_accuracy: 0.8182\n",
      "Epoch 65/100\n",
      "6/6 [==============================] - 0s 10ms/step - loss: 0.3725 - accuracy: 0.8276 - val_loss: 0.4475 - val_accuracy: 0.8295\n",
      "Epoch 66/100\n",
      "6/6 [==============================] - 0s 10ms/step - loss: 0.3808 - accuracy: 0.8319 - val_loss: 0.4471 - val_accuracy: 0.8295\n",
      "Epoch 67/100\n",
      "6/6 [==============================] - 0s 10ms/step - loss: 0.3828 - accuracy: 0.8305 - val_loss: 0.4515 - val_accuracy: 0.8068\n",
      "Epoch 68/100\n",
      "6/6 [==============================] - 0s 11ms/step - loss: 0.3839 - accuracy: 0.8305 - val_loss: 0.4520 - val_accuracy: 0.8352\n",
      "Epoch 69/100\n",
      "6/6 [==============================] - 0s 10ms/step - loss: 0.3831 - accuracy: 0.8319 - val_loss: 0.4602 - val_accuracy: 0.8352\n",
      "Epoch 70/100\n",
      "6/6 [==============================] - 0s 11ms/step - loss: 0.3807 - accuracy: 0.8205 - val_loss: 0.4624 - val_accuracy: 0.8239\n",
      "Epoch 71/100\n",
      "6/6 [==============================] - 0s 10ms/step - loss: 0.3779 - accuracy: 0.8319 - val_loss: 0.4600 - val_accuracy: 0.8182\n",
      "Epoch 72/100\n",
      "6/6 [==============================] - 0s 10ms/step - loss: 0.3950 - accuracy: 0.8319 - val_loss: 0.4563 - val_accuracy: 0.8182\n",
      "Epoch 73/100\n",
      "6/6 [==============================] - 0s 11ms/step - loss: 0.3998 - accuracy: 0.8291 - val_loss: 0.4578 - val_accuracy: 0.8295\n",
      "Epoch 74/100\n",
      "6/6 [==============================] - 0s 10ms/step - loss: 0.3825 - accuracy: 0.8291 - val_loss: 0.4551 - val_accuracy: 0.8295\n",
      "Epoch 75/100\n",
      "6/6 [==============================] - 0s 10ms/step - loss: 0.3717 - accuracy: 0.8177 - val_loss: 0.4546 - val_accuracy: 0.8295\n",
      "Epoch 76/100\n",
      "6/6 [==============================] - 0s 11ms/step - loss: 0.3873 - accuracy: 0.8291 - val_loss: 0.4553 - val_accuracy: 0.8182\n",
      "Epoch 77/100\n",
      "6/6 [==============================] - 0s 9ms/step - loss: 0.3795 - accuracy: 0.8462 - val_loss: 0.4545 - val_accuracy: 0.8125\n",
      "Epoch 78/100\n",
      "6/6 [==============================] - 0s 10ms/step - loss: 0.3765 - accuracy: 0.8319 - val_loss: 0.4553 - val_accuracy: 0.8182\n",
      "Epoch 79/100\n",
      "6/6 [==============================] - 0s 10ms/step - loss: 0.3749 - accuracy: 0.8376 - val_loss: 0.4579 - val_accuracy: 0.8125\n",
      "Epoch 80/100\n",
      "6/6 [==============================] - 0s 10ms/step - loss: 0.3900 - accuracy: 0.8405 - val_loss: 0.4615 - val_accuracy: 0.8182\n",
      "Epoch 81/100\n",
      "6/6 [==============================] - 0s 10ms/step - loss: 0.3859 - accuracy: 0.8376 - val_loss: 0.4627 - val_accuracy: 0.8239\n",
      "Epoch 82/100\n",
      "6/6 [==============================] - 0s 10ms/step - loss: 0.3868 - accuracy: 0.8333 - val_loss: 0.4590 - val_accuracy: 0.8182\n",
      "Epoch 83/100\n",
      "6/6 [==============================] - 0s 11ms/step - loss: 0.3743 - accuracy: 0.8305 - val_loss: 0.4574 - val_accuracy: 0.8239\n",
      "Epoch 84/100\n",
      "6/6 [==============================] - 0s 10ms/step - loss: 0.3998 - accuracy: 0.8319 - val_loss: 0.4600 - val_accuracy: 0.8239\n",
      "Epoch 85/100\n",
      "6/6 [==============================] - 0s 10ms/step - loss: 0.3725 - accuracy: 0.8376 - val_loss: 0.4602 - val_accuracy: 0.8182\n",
      "Epoch 86/100\n",
      "6/6 [==============================] - 0s 9ms/step - loss: 0.3646 - accuracy: 0.8319 - val_loss: 0.4579 - val_accuracy: 0.8239\n",
      "Epoch 87/100\n",
      "6/6 [==============================] - 0s 10ms/step - loss: 0.3592 - accuracy: 0.8462 - val_loss: 0.4622 - val_accuracy: 0.8239\n",
      "Epoch 88/100\n",
      "6/6 [==============================] - 0s 10ms/step - loss: 0.3501 - accuracy: 0.8248 - val_loss: 0.4742 - val_accuracy: 0.8239\n",
      "Epoch 89/100\n",
      "6/6 [==============================] - 0s 11ms/step - loss: 0.3654 - accuracy: 0.8362 - val_loss: 0.4789 - val_accuracy: 0.8295\n",
      "Epoch 90/100\n",
      "6/6 [==============================] - 0s 10ms/step - loss: 0.3815 - accuracy: 0.8177 - val_loss: 0.4726 - val_accuracy: 0.8239\n",
      "Epoch 91/100\n",
      "6/6 [==============================] - 0s 10ms/step - loss: 0.3832 - accuracy: 0.8333 - val_loss: 0.4605 - val_accuracy: 0.8295\n",
      "Epoch 92/100\n",
      "6/6 [==============================] - 0s 10ms/step - loss: 0.3835 - accuracy: 0.8319 - val_loss: 0.4632 - val_accuracy: 0.8125\n",
      "Epoch 93/100\n",
      "6/6 [==============================] - 0s 10ms/step - loss: 0.3838 - accuracy: 0.8262 - val_loss: 0.4579 - val_accuracy: 0.8182\n",
      "Epoch 94/100\n",
      "6/6 [==============================] - 0s 11ms/step - loss: 0.3696 - accuracy: 0.8390 - val_loss: 0.4585 - val_accuracy: 0.8182\n",
      "Epoch 95/100\n",
      "6/6 [==============================] - 0s 10ms/step - loss: 0.3574 - accuracy: 0.8476 - val_loss: 0.4652 - val_accuracy: 0.8239\n",
      "Epoch 96/100\n",
      "6/6 [==============================] - 0s 11ms/step - loss: 0.3785 - accuracy: 0.8177 - val_loss: 0.4679 - val_accuracy: 0.8239\n",
      "Epoch 97/100\n",
      "6/6 [==============================] - 0s 11ms/step - loss: 0.3891 - accuracy: 0.8248 - val_loss: 0.4672 - val_accuracy: 0.8125\n",
      "Epoch 98/100\n",
      "6/6 [==============================] - 0s 10ms/step - loss: 0.3466 - accuracy: 0.8390 - val_loss: 0.4678 - val_accuracy: 0.8182\n",
      "Epoch 99/100\n",
      "6/6 [==============================] - 0s 10ms/step - loss: 0.3825 - accuracy: 0.8276 - val_loss: 0.4707 - val_accuracy: 0.8239\n",
      "Epoch 100/100\n",
      "6/6 [==============================] - 0s 10ms/step - loss: 0.3748 - accuracy: 0.8219 - val_loss: 0.4674 - val_accuracy: 0.8239\n"
     ]
    }
   ],
   "source": [
    "history = nn.fit(X_train, y_train, validation_split = 0.2, batch_size = 128, epochs = 100)"
   ]
  },
  {
   "cell_type": "code",
   "execution_count": 260,
   "id": "0fd17f61",
   "metadata": {},
   "outputs": [],
   "source": [
    "pred_test = nn.predict(X_test)"
   ]
  },
  {
   "cell_type": "code",
   "execution_count": 261,
   "id": "aeb7554a",
   "metadata": {},
   "outputs": [],
   "source": [
    "pred_test = [1 if (val > 0.5) else 0 for val in pred_test]"
   ]
  },
  {
   "cell_type": "code",
   "execution_count": 262,
   "id": "4fd1eb9c",
   "metadata": {},
   "outputs": [
    {
     "data": {
      "text/plain": [
       "<AxesSubplot:>"
      ]
     },
     "execution_count": 262,
     "metadata": {},
     "output_type": "execute_result"
    },
    {
     "data": {
      "image/png": "[encoded data removed]",
      "text/plain": [
       "<Figure size 432x288 with 2 Axes>"
      ]
     },
     "metadata": {
      "needs_background": "light"
     },
     "output_type": "display_data"
    }
   ],
   "source": [
    "cm = confusion_matrix(y_true = y_test, y_pred = pred_test, labels = [0, 1])\n",
    "df_cm = pd.DataFrame(cm, index = [i for i in ['True 0', 'True 1']], columns = [i for i in ['Pred 0', 'Pred 1']])\n",
    "sns.heatmap(df_cm, annot = True)"
   ]
  },
  {
   "cell_type": "code",
   "execution_count": 257,
   "id": "8d9895b4",
   "metadata": {},
   "outputs": [
    {
     "name": "stdout",
     "output_type": "stream",
     "text": [
      "              precision    recall  f1-score   support\n",
      "\n",
      "           0       0.70      0.90      0.79       110\n",
      "           1       0.86      0.62      0.72       110\n",
      "\n",
      "    accuracy                           0.76       220\n",
      "   macro avg       0.78      0.76      0.75       220\n",
      "weighted avg       0.78      0.76      0.75       220\n",
      "\n"
     ]
    }
   ],
   "source": [
    "print(classification_report(y_true = y_test, y_pred = pred_test, labels = [0, 1]))"
   ]
  },
  {
   "cell_type": "markdown",
   "id": "bcd2ba68",
   "metadata": {},
   "source": [
    "The neural network model has an average f1-score of 76%."
   ]
  },
  {
   "cell_type": "markdown",
   "id": "4e3e18c0",
   "metadata": {},
   "source": [
    "Its training accuracy is 82% and validation accuracy is about 82%. "
   ]
  },
  {
   "cell_type": "code",
   "execution_count": 264,
   "id": "10d332f7",
   "metadata": {},
   "outputs": [
    {
     "data": {
      "text/plain": [
       "{'lr': [0.785876993166287, 0.7772727272727272, 0.78],\n",
       " 'svm': [0.8701594533029613, 0.759090909090909, 0.76],\n",
       " 'knn': [0.9977220956719818, 0.7818181818181819, 0.78],\n",
       " 'nb': [0.7403189066059226, 0.7727272727272727, 0.77],\n",
       " 'dt': [0.9646924829157175, 0.7681818181818182, 0.77],\n",
       " 'rf': [0.9179954441913439, 0.8090909090909091, 0.81],\n",
       " 'gb': [0.9977220956719818, 0.8363636363636363, 0.84],\n",
       " 'xgb': [0.9954441913439636, 0.8318181818181818, 0.83],\n",
       " 'nn': [0.82, 0.82, 0.76]}"
      ]
     },
     "execution_count": 264,
     "metadata": {},
     "output_type": "execute_result"
    }
   ],
   "source": [
    "o22_summary.update({'nn' : [0.82, 0.82, 0.76]})\n",
    "o22_summary"
   ]
  },
  {
   "cell_type": "markdown",
   "id": "5279249c",
   "metadata": {},
   "source": [
    "#### Conclusion for option 2 Sub 2"
   ]
  },
  {
   "cell_type": "code",
   "execution_count": 265,
   "id": "2ef061e7",
   "metadata": {},
   "outputs": [],
   "source": [
    "o22_df = pd.DataFrame.from_dict(o22_summary, orient = 'index', columns = ['Training accuracy', 'Testing accuracy', 'f1 score'])"
   ]
  },
  {
   "cell_type": "code",
   "execution_count": 266,
   "id": "6f3f889b",
   "metadata": {},
   "outputs": [
    {
     "data": {
      "text/html": [
       "<div>\n",
       "<style scoped>\n",
       "    .dataframe tbody tr th:only-of-type {\n",
       "        vertical-align: middle;\n",
       "    }\n",
       "\n",
       "    .dataframe tbody tr th {\n",
       "        vertical-align: top;\n",
       "    }\n",
       "\n",
       "    .dataframe thead th {\n",
       "        text-align: right;\n",
       "    }\n",
       "</style>\n",
       "<table border=\"1\" class=\"dataframe\">\n",
       "  <thead>\n",
       "    <tr style=\"text-align: right;\">\n",
       "      <th></th>\n",
       "      <th>Training accuracy</th>\n",
       "      <th>Testing accuracy</th>\n",
       "      <th>f1 score</th>\n",
       "    </tr>\n",
       "  </thead>\n",
       "  <tbody>\n",
       "    <tr>\n",
       "      <th>lr</th>\n",
       "      <td>0.79</td>\n",
       "      <td>0.78</td>\n",
       "      <td>0.78</td>\n",
       "    </tr>\n",
       "    <tr>\n",
       "      <th>svm</th>\n",
       "      <td>0.87</td>\n",
       "      <td>0.76</td>\n",
       "      <td>0.76</td>\n",
       "    </tr>\n",
       "    <tr>\n",
       "      <th>knn</th>\n",
       "      <td>1.00</td>\n",
       "      <td>0.78</td>\n",
       "      <td>0.78</td>\n",
       "    </tr>\n",
       "    <tr>\n",
       "      <th>nb</th>\n",
       "      <td>0.74</td>\n",
       "      <td>0.77</td>\n",
       "      <td>0.77</td>\n",
       "    </tr>\n",
       "    <tr>\n",
       "      <th>dt</th>\n",
       "      <td>0.96</td>\n",
       "      <td>0.77</td>\n",
       "      <td>0.77</td>\n",
       "    </tr>\n",
       "    <tr>\n",
       "      <th>rf</th>\n",
       "      <td>0.92</td>\n",
       "      <td>0.81</td>\n",
       "      <td>0.81</td>\n",
       "    </tr>\n",
       "    <tr>\n",
       "      <th>gb</th>\n",
       "      <td>1.00</td>\n",
       "      <td>0.84</td>\n",
       "      <td>0.84</td>\n",
       "    </tr>\n",
       "    <tr>\n",
       "      <th>xgb</th>\n",
       "      <td>1.00</td>\n",
       "      <td>0.83</td>\n",
       "      <td>0.83</td>\n",
       "    </tr>\n",
       "    <tr>\n",
       "      <th>nn</th>\n",
       "      <td>0.82</td>\n",
       "      <td>0.82</td>\n",
       "      <td>0.76</td>\n",
       "    </tr>\n",
       "  </tbody>\n",
       "</table>\n",
       "</div>"
      ],
      "text/plain": [
       "     Training accuracy  Testing accuracy  f1 score\n",
       "lr                0.79              0.78      0.78\n",
       "svm               0.87              0.76      0.76\n",
       "knn               1.00              0.78      0.78\n",
       "nb                0.74              0.77      0.77\n",
       "dt                0.96              0.77      0.77\n",
       "rf                0.92              0.81      0.81\n",
       "gb                1.00              0.84      0.84\n",
       "xgb               1.00              0.83      0.83\n",
       "nn                0.82              0.82      0.76"
      ]
     },
     "execution_count": 266,
     "metadata": {},
     "output_type": "execute_result"
    }
   ],
   "source": [
    "o22_df.apply(lambda x : round(x,2))"
   ]
  },
  {
   "cell_type": "markdown",
   "id": "c473da43",
   "metadata": {},
   "source": [
    "Both Gradinet Boost and XGBoost models have high f1-scores and testing scores. However, they are overfit. Random Forest model is less accurate but is also less overfit. It has a high f1 score of 0.81 and testing accuracy of 81%. Thus it is the best model in this scenario. "
   ]
  },
  {
   "cell_type": "markdown",
   "id": "cf5b8c6a",
   "metadata": {},
   "source": [
    "## Best way to deal with titanic data"
   ]
  },
  {
   "cell_type": "markdown",
   "id": "9d4fdac2",
   "metadata": {},
   "source": [
    "The best f1 score and model balance was in option 2 sub 1 where ticket data was ignored in its entirety and age missing values were imputed. Although in the EDA, ticket_code seemed to suggest a connection to survival, it was no reflected in the models built. (Or that the data need to be handled better to extract more information.)  "
   ]
  },
  {
   "cell_type": "markdown",
   "id": "e3037edb",
   "metadata": {},
   "source": [
    "With more time at hand, more feature combinations could be tried to come up with better survival models. "
   ]
  },
  {
   "cell_type": "markdown",
   "id": "bcd4f0da",
   "metadata": {},
   "source": [
    "### Conclusion"
   ]
  },
  {
   "cell_type": "markdown",
   "id": "4aba15fe",
   "metadata": {},
   "source": [
    "-Remove cabin and ticket data along with other unnecessary columns. <br>\n",
    "-Impute missing age values by median <br>\n",
    "-Use XGBoost to get survival prediction"
   ]
  },
  {
   "cell_type": "code",
   "execution_count": null,
   "id": "519cdbcf",
   "metadata": {},
   "outputs": [],
   "source": []
  }
 ],
 "metadata": {
  "kernelspec": {
   "display_name": "Python 3 (ipykernel)",
   "language": "python",
   "name": "python3"
  },
  "language_info": {
   "codemirror_mode": {
    "name": "ipython",
    "version": 3
   },
   "file_extension": ".py",
   "mimetype": "text/x-python",
   "name": "python",
   "nbconvert_exporter": "python",
   "pygments_lexer": "ipython3",
   "version": "3.8.12"
  }
 },
 "nbformat": 4,
 "nbformat_minor": 5
}
